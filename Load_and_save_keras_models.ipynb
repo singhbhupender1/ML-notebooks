{
  "nbformat": 4,
  "nbformat_minor": 0,
  "metadata": {
    "colab": {
      "name": "Load and save keras models.ipynb",
      "provenance": [],
      "authorship_tag": "ABX9TyPxpb72oE3er4P1DnS+nPAO",
      "include_colab_link": true
    },
    "kernelspec": {
      "name": "python3",
      "display_name": "Python 3"
    }
  },
  "cells": [
    {
      "cell_type": "markdown",
      "metadata": {
        "id": "view-in-github",
        "colab_type": "text"
      },
      "source": [
        "<a href=\"https://colab.research.google.com/github/singhbhupender1/ML-notebooks/blob/master/Load_and_save_keras_models.ipynb\" target=\"_parent\"><img src=\"https://colab.research.google.com/assets/colab-badge.svg\" alt=\"Open In Colab\"/></a>"
      ]
    },
    {
      "cell_type": "markdown",
      "metadata": {
        "id": "pcBFxczcLhsC",
        "colab_type": "text"
      },
      "source": [
        "##Save Your Neural Network Model to JSON\n",
        "\n",
        "**Keras provides the ability to describe any model using JSON format with a to_json() function. This can be saved to file and later loaded via the model_from_json() function that will create a new model from the JSON specification.**\n",
        "\n",
        "**The weights are saved directly from the model using the save_weights() function and later loaded using the symmetrical load_weights() function.**\n",
        "\n",
        "**The example below trains and evaluates a simple model on the Pima Indians dataset. The model is then converted to JSON format and written to model.json in the local directory. The network weights are written to model.h5 in the local directory.**\n",
        "\n",
        "**The model and weight data is loaded from the saved files and a new model is created. It is important to compile the loaded model before it is used. This is so that predictions made using the model can use the appropriate efficient computation from the Keras backend.**\n",
        "\n",
        "**The model is evaluated in the same way printing the same evaluation score.**"
      ]
    },
    {
      "cell_type": "code",
      "metadata": {
        "id": "z5pBQ4NALKnv",
        "colab_type": "code",
        "colab": {
          "base_uri": "https://localhost:8080/",
          "height": 84
        },
        "outputId": "8cadb2e2-061e-4b3d-97b5-8832818ec10f"
      },
      "source": [
        "#MLP for Pima Indians Dataset Serialize to JSON and HDF5\n",
        "from keras.models import Sequential\n",
        "from keras.layers import Dense\n",
        "from keras.models import model_from_json\n",
        "import numpy\n",
        "import os\n",
        "from urllib.request import urlopen\n",
        "#fix random seed for reproducibility\n",
        "numpy.random.seed(7)\n",
        "#load Pima indians dataset\n",
        "url = 'https://raw.githubusercontent.com/jbrownlee/Datasets/master/pima-indians-diabetes.data.csv'\n",
        "dataset = numpy.loadtxt(urlopen(url), delimiter=',')\n",
        "#split into input(X) and output (Y) variables\n",
        "X = dataset[:, 0:8]\n",
        "Y = dataset[:,8]\n",
        "#create model\n",
        "model = Sequential()\n",
        "model.add(Dense(12, input_dim=8, activation= 'relu'))\n",
        "model.add(Dense(8, activation='relu'))\n",
        "model.add(Dense(1, activation='sigmoid'))\n",
        "#compile model\n",
        "model.compile(loss='binary_crossentropy', optimizer='adam', metrics=['accuracy'])\n",
        "#fit the model\n",
        "model.fit(X, Y, epochs=150, batch_size=10, verbose=0)\n",
        "#evaluate the model\n",
        "scores = model.evaluate(X, Y, verbose=0)\n",
        "print('%s: %.2f%%' % (model.metrics_names[1], scores[1]*100))\n",
        "\n",
        "#serialize model to json\n",
        "model_json = model.to_json()\n",
        "with open('model.json', 'w') as json_file:\n",
        "  json_file.write(model_json)\n",
        "#serialize weights to HDF5\n",
        "model.save_weights('model.h5')\n",
        "print(\"saved model to disk\")\n",
        "\n",
        "#later...\n",
        "\n",
        "#load json and create model\n",
        "json_file = open('model.json', 'r')\n",
        "loaded_model_json = json_file.read()\n",
        "json_file.close()\n",
        "loaded_model = model_from_json(loaded_model_json)\n",
        "#load weights into a new model\n",
        "loaded_model.load_weights('model.h5')\n",
        "print('loaded model from disk')\n",
        "\n",
        "#evaluate loaded model on test data\n",
        "loaded_model.compile(loss='binary_crossentropy', optimizer='rmsprop', metrics=['accuracy'])\n",
        "score = loaded_model.evaluate(X, Y, verbose=0)\n",
        "print('%s : %.2f%%' % (loaded_model.metrics_names[1], score[1] * 100))"
      ],
      "execution_count": 2,
      "outputs": [
        {
          "output_type": "stream",
          "text": [
            "acc: 79.04%\n",
            "saved model to disk\n",
            "loaded model from disk\n",
            "acc : 79.04%\n"
          ],
          "name": "stdout"
        }
      ]
    },
    {
      "cell_type": "markdown",
      "metadata": {
        "id": "ZCuvn0cxT1yQ",
        "colab_type": "text"
      },
      "source": [
        "##Save Your Neural Network Model to YAML"
      ]
    },
    {
      "cell_type": "code",
      "metadata": {
        "id": "TNzyQSNOSwnC",
        "colab_type": "code",
        "colab": {
          "base_uri": "https://localhost:8080/",
          "height": 70
        },
        "outputId": "3274554f-14a7-4ef8-89e9-503452a89fef"
      },
      "source": [
        "!pip install -U PyYAML\n",
        "import yaml\n",
        "yaml.__version__"
      ],
      "execution_count": 1,
      "outputs": [
        {
          "output_type": "stream",
          "text": [
            "Requirement already up-to-date: PyYAML in /usr/local/lib/python3.6/dist-packages (5.3)\n"
          ],
          "name": "stdout"
        },
        {
          "output_type": "execute_result",
          "data": {
            "text/plain": [
              "'5.3'"
            ]
          },
          "metadata": {
            "tags": []
          },
          "execution_count": 1
        }
      ]
    },
    {
      "cell_type": "markdown",
      "metadata": {
        "id": "x-lkA819UDl6",
        "colab_type": "text"
      },
      "source": [
        "**In this example, the model is described using YAML, saved to file model.yaml and later loaded into a new model via the model_from_yaml() function.**\n",
        "\n",
        "**Weights are handled in the same way as above in HDF5 format as model.h5.**"
      ]
    },
    {
      "cell_type": "code",
      "metadata": {
        "id": "khuveJ4aT-dU",
        "colab_type": "code",
        "colab": {
          "base_uri": "https://localhost:8080/",
          "height": 670
        },
        "outputId": "4b25d41a-5e72-40de-f822-819cc6e62229"
      },
      "source": [
        "from keras.models import Sequential\n",
        "from keras.layers import Dense\n",
        "from keras.models import model_from_yaml\n",
        "import numpy\n",
        "import os\n",
        "from urllib.request import urlopen  \n",
        "#fix random seed for reproducability\n",
        "seed = 7\n",
        "numpy.random.seed(seed)\n",
        "#load pima indians dataset\n",
        "url = 'https://raw.githubusercontent.com/jbrownlee/Datasets/master/pima-indians-diabetes.data.csv'\n",
        "dataset = numpy.loadtxt(urlopen(url), delimiter=',')\n",
        "#split into input(X) and output(Y) variables\n",
        "X = dataset[:, 0:8]\n",
        "Y = dataset[:, 8]\n",
        "#create model\n",
        "model = Sequential()\n",
        "model.add(Dense(12, input_dim=8, activation='relu'))\n",
        "model.add(Dense(8, activation='relu'))\n",
        "model.add(Dense(1, activation='sigmoid'))\n",
        "#compile model\n",
        "model.compile(loss='binary_crossentropy', optimizer='adam', metrics=['accuracy'])\n",
        "#fit the model\n",
        "history = model.fit(X, Y, epochs=150, batch_size=10, verbose=0)\n",
        "\n",
        "#evaluate the model\n",
        "scores = model.evaluate(X, Y, verbose=0)\n",
        "print('%s: %.2f%%' % (model.metrics_names[1], scores[1]* 100))\n",
        "\n",
        "#serialize model to YAML\n",
        "model_yaml = model.to_yaml()\n",
        "with open('model.yaml', 'w') as yaml_file:\n",
        "  yaml_file.write(model_yaml)\n",
        "#serialize weights to HDF5\n",
        "model.save_weights('model.h5')\n",
        "print('saved model to disk')\n",
        "\n",
        "#later..\n",
        "\n",
        "#load YAML and create model\n",
        "yaml_file =open('model.yaml', 'r')\n",
        "loaded_model_yaml = yaml_file.read()\n",
        "yaml_file.close()\n",
        "loaded_model = model_from_yaml(loaded_model_yaml)\n",
        "#load weights into new model\n",
        "loaded_model.load_weights('model.h5')\n",
        "print('loaded model to disk')\n",
        "\n",
        "#evaluate loaded model on test data\n",
        "loaded_model.compile(loss='binary_crossentropy', optimizer='rmsprop', metrics=['accuracy'])\n",
        "score = loaded_model.evaluate(X, Y, verbose=0)\n",
        "print('%s: %.2f%%' % (loaded_model.metrics_names[1], score[1]* 100))\n"
      ],
      "execution_count": 2,
      "outputs": [
        {
          "output_type": "stream",
          "text": [
            "Using TensorFlow backend.\n"
          ],
          "name": "stderr"
        },
        {
          "output_type": "display_data",
          "data": {
            "text/html": [
              "<p style=\"color: red;\">\n",
              "The default version of TensorFlow in Colab will soon switch to TensorFlow 2.x.<br>\n",
              "We recommend you <a href=\"https://www.tensorflow.org/guide/migrate\" target=\"_blank\">upgrade</a> now \n",
              "or ensure your notebook will continue to use TensorFlow 1.x via the <code>%tensorflow_version 1.x</code> magic:\n",
              "<a href=\"https://colab.research.google.com/notebooks/tensorflow_version.ipynb\" target=\"_blank\">more info</a>.</p>\n"
            ],
            "text/plain": [
              "<IPython.core.display.HTML object>"
            ]
          },
          "metadata": {
            "tags": []
          }
        },
        {
          "output_type": "stream",
          "text": [
            "WARNING:tensorflow:From /usr/local/lib/python3.6/dist-packages/keras/backend/tensorflow_backend.py:66: The name tf.get_default_graph is deprecated. Please use tf.compat.v1.get_default_graph instead.\n",
            "\n",
            "WARNING:tensorflow:From /usr/local/lib/python3.6/dist-packages/keras/backend/tensorflow_backend.py:541: The name tf.placeholder is deprecated. Please use tf.compat.v1.placeholder instead.\n",
            "\n",
            "WARNING:tensorflow:From /usr/local/lib/python3.6/dist-packages/keras/backend/tensorflow_backend.py:4432: The name tf.random_uniform is deprecated. Please use tf.random.uniform instead.\n",
            "\n",
            "WARNING:tensorflow:From /usr/local/lib/python3.6/dist-packages/keras/optimizers.py:793: The name tf.train.Optimizer is deprecated. Please use tf.compat.v1.train.Optimizer instead.\n",
            "\n",
            "WARNING:tensorflow:From /usr/local/lib/python3.6/dist-packages/keras/backend/tensorflow_backend.py:3657: The name tf.log is deprecated. Please use tf.math.log instead.\n",
            "\n",
            "WARNING:tensorflow:From /usr/local/lib/python3.6/dist-packages/tensorflow_core/python/ops/nn_impl.py:183: where (from tensorflow.python.ops.array_ops) is deprecated and will be removed in a future version.\n",
            "Instructions for updating:\n",
            "Use tf.where in 2.0, which has the same broadcast rule as np.where\n",
            "WARNING:tensorflow:From /usr/local/lib/python3.6/dist-packages/keras/backend/tensorflow_backend.py:1033: The name tf.assign_add is deprecated. Please use tf.compat.v1.assign_add instead.\n",
            "\n",
            "WARNING:tensorflow:From /usr/local/lib/python3.6/dist-packages/keras/backend/tensorflow_backend.py:1020: The name tf.assign is deprecated. Please use tf.compat.v1.assign instead.\n",
            "\n",
            "WARNING:tensorflow:From /usr/local/lib/python3.6/dist-packages/keras/backend/tensorflow_backend.py:3005: The name tf.Session is deprecated. Please use tf.compat.v1.Session instead.\n",
            "\n",
            "WARNING:tensorflow:From /usr/local/lib/python3.6/dist-packages/keras/backend/tensorflow_backend.py:190: The name tf.get_default_session is deprecated. Please use tf.compat.v1.get_default_session instead.\n",
            "\n",
            "WARNING:tensorflow:From /usr/local/lib/python3.6/dist-packages/keras/backend/tensorflow_backend.py:197: The name tf.ConfigProto is deprecated. Please use tf.compat.v1.ConfigProto instead.\n",
            "\n",
            "WARNING:tensorflow:From /usr/local/lib/python3.6/dist-packages/keras/backend/tensorflow_backend.py:207: The name tf.global_variables is deprecated. Please use tf.compat.v1.global_variables instead.\n",
            "\n",
            "WARNING:tensorflow:From /usr/local/lib/python3.6/dist-packages/keras/backend/tensorflow_backend.py:216: The name tf.is_variable_initialized is deprecated. Please use tf.compat.v1.is_variable_initialized instead.\n",
            "\n",
            "WARNING:tensorflow:From /usr/local/lib/python3.6/dist-packages/keras/backend/tensorflow_backend.py:223: The name tf.variables_initializer is deprecated. Please use tf.compat.v1.variables_initializer instead.\n",
            "\n",
            "acc: 78.78%\n",
            "saved model to disk\n",
            "loaded model to disk\n",
            "acc: 78.78%\n"
          ],
          "name": "stdout"
        }
      ]
    },
    {
      "cell_type": "markdown",
      "metadata": {
        "id": "OfJLBGLCh1EJ",
        "colab_type": "text"
      },
      "source": [
        "##Save Model Weights and Architecture Together(prefferd way)\n",
        "\n",
        "**Keras also supports a simpler interface to save both the model weights and model architecture together into a single H5 file.**\n",
        "\n",
        "**Saving the model in this way includes everything we need to know about the model, including:**\n",
        "\n",
        "Model weights.\n",
        "\n",
        "Model architecture.\n",
        "\n",
        "Model compilation details (loss and metrics).\n",
        "\n",
        "Model optimizer state."
      ]
    },
    {
      "cell_type": "markdown",
      "metadata": {
        "id": "UqwpkOHyiK-r",
        "colab_type": "text"
      },
      "source": [
        "##How to Save a Keras Model\n",
        "\n",
        "**You can save your model by calling the save() function on the model and specifying the filename.**"
      ]
    },
    {
      "cell_type": "code",
      "metadata": {
        "id": "B9utJLP_h2Ax",
        "colab_type": "code",
        "colab": {
          "base_uri": "https://localhost:8080/",
          "height": 50
        },
        "outputId": "2c2e7183-57b1-4188-d021-c57adbe29967"
      },
      "source": [
        "from numpy import loadtxt\n",
        "from keras.models import Sequential\n",
        "from keras.layers import Dense\n",
        "from urllib.request import urlopen\n",
        "#load the dataset\n",
        "url = 'https://raw.githubusercontent.com/jbrownlee/Datasets/master/pima-indians-diabetes.data.csv'\n",
        "dataset = loadtxt(urlopen(url), delimiter=',')\n",
        "#split into input(X) and output(Y) varibles\n",
        "X = dataset[:, 0:8]\n",
        "Y = dataset[:, 8]\n",
        "#define model\n",
        "model = Sequential()\n",
        "model.add(Dense(12, input_dim=8, activation='relu'))\n",
        "model.add(Dense(8, activation='relu'))\n",
        "model.add(Dense(1, activation='sigmoid'))\n",
        "#compile model\n",
        "model.compile(loss='binary_crossentropy', optimizer='adam', metrics=['accuracy'])\n",
        "#fir the model\n",
        "model.fit(X, Y, epochs=150, batch_size=10, verbose=0)\n",
        "#evalute the model\n",
        "scores = model.evaluate(X, Y, verbose=0)\n",
        "print('%s: %.2f%%' % (model.metrics_names[1], scores[1] * 100))\n",
        "#save model and architectue to a single file\n",
        "model.save('model.h5')\n",
        "print('saved model to file')"
      ],
      "execution_count": 8,
      "outputs": [
        {
          "output_type": "stream",
          "text": [
            "acc: 78.52%\n",
            "saved model to file\n"
          ],
          "name": "stdout"
        }
      ]
    },
    {
      "cell_type": "markdown",
      "metadata": {
        "id": "lQ7L-AEElyKY",
        "colab_type": "text"
      },
      "source": [
        "##How to Load a Keras Model\n",
        "**Your saved model can then be loaded later by calling the load_model() function and passing the filename. The function returns the model with the same architecture and weights.**\n",
        "\n",
        "**In this case, we load the model, summarize the architecture and evaluate it on the same dataset to confirm the weights and architecture are the same.**"
      ]
    },
    {
      "cell_type": "code",
      "metadata": {
        "id": "CDtlBMuplERJ",
        "colab_type": "code",
        "colab": {
          "base_uri": "https://localhost:8080/",
          "height": 269
        },
        "outputId": "0b10ce93-2a0b-49f5-9a7d-1288acef5ca9"
      },
      "source": [
        "#load and evaluate a saved model\n",
        "from numpy import loadtxt\n",
        "from keras.models import load_model\n",
        "from urllib.request import urlopen\n",
        "\n",
        "\n",
        "#load model\n",
        "model = load_model('model.h5')\n",
        "#summerixe model\n",
        "model.summary()\n",
        "#load the dataset\n",
        "url = 'https://raw.githubusercontent.com/jbrownlee/Datasets/master/pima-indians-diabetes.data.csv'\n",
        "dataset = loadtxt(urlopen(url), delimiter=',')\n",
        "#split into input(x) and output(y) varibles\n",
        "X = dataset[: , 0:8]\n",
        "Y = dataset[:, 8]\n",
        "#evalute the model\n",
        "score = model.evaluate(X, Y, verbose=0)\n",
        "print('%s: %.2f%%' %(model.metrics_names[1], scores[1] * 100))"
      ],
      "execution_count": 10,
      "outputs": [
        {
          "output_type": "stream",
          "text": [
            "Model: \"sequential_5\"\n",
            "_________________________________________________________________\n",
            "Layer (type)                 Output Shape              Param #   \n",
            "=================================================================\n",
            "dense_10 (Dense)             (None, 12)                108       \n",
            "_________________________________________________________________\n",
            "dense_11 (Dense)             (None, 8)                 104       \n",
            "_________________________________________________________________\n",
            "dense_12 (Dense)             (None, 1)                 9         \n",
            "=================================================================\n",
            "Total params: 221\n",
            "Trainable params: 221\n",
            "Non-trainable params: 0\n",
            "_________________________________________________________________\n",
            "acc: 78.52%\n"
          ],
          "name": "stdout"
        }
      ]
    },
    {
      "cell_type": "code",
      "metadata": {
        "id": "NXBYFKs7nJAd",
        "colab_type": "code",
        "colab": {}
      },
      "source": [
        ""
      ],
      "execution_count": 0,
      "outputs": []
    }
  ]
}