{
  "nbformat": 4,
  "nbformat_minor": 0,
  "metadata": {
    "colab": {
      "name": "How to use Batch Normalization in DL model.ipynb",
      "provenance": [],
      "authorship_tag": "ABX9TyOFBx5hsBY5dT+T+OjsqDG9",
      "include_colab_link": true
    },
    "kernelspec": {
      "name": "python3",
      "display_name": "Python 3"
    }
  },
  "cells": [
    {
      "cell_type": "markdown",
      "metadata": {
        "id": "view-in-github",
        "colab_type": "text"
      },
      "source": [
        "<a href=\"https://colab.research.google.com/github/singhbhupender1/ML-notebooks/blob/master/How_to_use_Batch_Normalization_in_DL_model.ipynb\" target=\"_parent\"><img src=\"https://colab.research.google.com/assets/colab-badge.svg\" alt=\"Open In Colab\"/></a>"
      ]
    },
    {
      "cell_type": "markdown",
      "metadata": {
        "id": "8ac5B1PzN1it",
        "colab_type": "text"
      },
      "source": [
        "##Binary Classification Problem"
      ]
    },
    {
      "cell_type": "markdown",
      "metadata": {
        "id": "rRpWqMlNOK73",
        "colab_type": "text"
      },
      "source": [
        "**It is called the two circles problem because the problem is comprised of points that when plotted, show two concentric circles, one for each class. As such, this is an example of a binary classification problem. The problem has two inputs that can be interpreted as x and y coordinates on a graph. Each point belongs to either the inner or outer circle.**\n",
        "\n",
        "**The make_circles() function in the scikit-learn library allows you to generate samples from the two circles problem. The “n_samples” argument allows you to specify the number of samples to generate, divided evenly between the two classes. The “noise” argument allows you to specify how much random statistical noise is added to the inputs or coordinates of each point, making the classification task more challenging. The “random_state” argument specifies the seed for the pseudorandom number generator, ensuring that the same samples are generated each time the code is run.**\n",
        "\n",
        "**The example below generates 1,000 samples, with 0.1 statistical noise and a seed of 1.**"
      ]
    },
    {
      "cell_type": "markdown",
      "metadata": {
        "id": "GtB3hnGSOvJA",
        "colab_type": "text"
      },
      "source": [
        "\n",
        "\n",
        "```\n",
        "# generate 2d classification dataset\n",
        "X, y = make_circles(n_samples=1000, noise=0.1, random_state=1)\n",
        "```\n",
        "\n"
      ]
    },
    {
      "cell_type": "markdown",
      "metadata": {
        "id": "DOJuc8nIO4uc",
        "colab_type": "text"
      },
      "source": [
        "**Once generated, we can create a plot of the dataset to get an idea of how challenging the classification task is.**\n",
        "\n",
        "**The example below generates samples and plots them, coloring each point according to the class, where points belonging to class 0 (outer circle) are colored blue and points that belong to class 1 (inner circle) are colored orange.**"
      ]
    },
    {
      "cell_type": "markdown",
      "metadata": {
        "id": "EDntHG_pQarw",
        "colab_type": "text"
      },
      "source": [
        "\n",
        "\n",
        "```\n",
        "# Example of generating samples from the two circle problem\n",
        "from sklearn.datasets import make_circles\n",
        "from matplotlib import pyplot\n",
        "from numpy import where\n",
        "# generate 2d classification dataset\n",
        "X, y = make_circles(n_samples=1000, noise=0.1, random_state=1)\n",
        "# scatter plot, dots colored by class value\n",
        "for i in range(2):\n",
        "\tsamples_ix = where(y == i)\n",
        "\tpyplot.scatter(X[samples_ix, 0], X[samples_ix, 1])\n",
        "pyplot.show()\n",
        "```\n",
        "\n"
      ]
    },
    {
      "cell_type": "code",
      "metadata": {
        "id": "eHLWtJjj07P_",
        "colab_type": "code",
        "colab": {
          "base_uri": "https://localhost:8080/",
          "height": 743
        },
        "outputId": "57760cf3-3059-41e9-b595-7e7ff27e3703"
      },
      "source": [
        "!pip install --upgrade tensorflow==1.14"
      ],
      "execution_count": 3,
      "outputs": [
        {
          "output_type": "stream",
          "text": [
            "Collecting tensorflow==1.14\n",
            "\u001b[?25l  Downloading https://files.pythonhosted.org/packages/de/f0/96fb2e0412ae9692dbf400e5b04432885f677ad6241c088ccc5fe7724d69/tensorflow-1.14.0-cp36-cp36m-manylinux1_x86_64.whl (109.2MB)\n",
            "\u001b[K     |████████████████████████████████| 109.2MB 77kB/s \n",
            "\u001b[?25hRequirement already satisfied, skipping upgrade: wheel>=0.26 in /usr/local/lib/python3.6/dist-packages (from tensorflow==1.14) (0.33.6)\n",
            "Requirement already satisfied, skipping upgrade: google-pasta>=0.1.6 in /usr/local/lib/python3.6/dist-packages (from tensorflow==1.14) (0.1.8)\n",
            "Requirement already satisfied, skipping upgrade: astor>=0.6.0 in /usr/local/lib/python3.6/dist-packages (from tensorflow==1.14) (0.8.1)\n",
            "Requirement already satisfied, skipping upgrade: numpy<2.0,>=1.14.5 in /usr/local/lib/python3.6/dist-packages (from tensorflow==1.14) (1.17.5)\n",
            "Requirement already satisfied, skipping upgrade: termcolor>=1.1.0 in /usr/local/lib/python3.6/dist-packages (from tensorflow==1.14) (1.1.0)\n",
            "Collecting tensorboard<1.15.0,>=1.14.0\n",
            "\u001b[?25l  Downloading https://files.pythonhosted.org/packages/91/2d/2ed263449a078cd9c8a9ba50ebd50123adf1f8cfbea1492f9084169b89d9/tensorboard-1.14.0-py3-none-any.whl (3.1MB)\n",
            "\u001b[K     |████████████████████████████████| 3.2MB 42.4MB/s \n",
            "\u001b[?25hRequirement already satisfied, skipping upgrade: wrapt>=1.11.1 in /usr/local/lib/python3.6/dist-packages (from tensorflow==1.14) (1.11.2)\n",
            "Requirement already satisfied, skipping upgrade: six>=1.10.0 in /usr/local/lib/python3.6/dist-packages (from tensorflow==1.14) (1.12.0)\n",
            "Collecting tensorflow-estimator<1.15.0rc0,>=1.14.0rc0\n",
            "\u001b[?25l  Downloading https://files.pythonhosted.org/packages/3c/d5/21860a5b11caf0678fbc8319341b0ae21a07156911132e0e71bffed0510d/tensorflow_estimator-1.14.0-py2.py3-none-any.whl (488kB)\n",
            "\u001b[K     |████████████████████████████████| 491kB 44.0MB/s \n",
            "\u001b[?25hRequirement already satisfied, skipping upgrade: protobuf>=3.6.1 in /usr/local/lib/python3.6/dist-packages (from tensorflow==1.14) (3.10.0)\n",
            "Requirement already satisfied, skipping upgrade: absl-py>=0.7.0 in /usr/local/lib/python3.6/dist-packages (from tensorflow==1.14) (0.9.0)\n",
            "Requirement already satisfied, skipping upgrade: grpcio>=1.8.6 in /usr/local/lib/python3.6/dist-packages (from tensorflow==1.14) (1.15.0)\n",
            "Requirement already satisfied, skipping upgrade: keras-applications>=1.0.6 in /usr/local/lib/python3.6/dist-packages (from tensorflow==1.14) (1.0.8)\n",
            "Requirement already satisfied, skipping upgrade: gast>=0.2.0 in /usr/local/lib/python3.6/dist-packages (from tensorflow==1.14) (0.2.2)\n",
            "Requirement already satisfied, skipping upgrade: keras-preprocessing>=1.0.5 in /usr/local/lib/python3.6/dist-packages (from tensorflow==1.14) (1.1.0)\n",
            "Requirement already satisfied, skipping upgrade: setuptools>=41.0.0 in /usr/local/lib/python3.6/dist-packages (from tensorboard<1.15.0,>=1.14.0->tensorflow==1.14) (42.0.2)\n",
            "Requirement already satisfied, skipping upgrade: werkzeug>=0.11.15 in /usr/local/lib/python3.6/dist-packages (from tensorboard<1.15.0,>=1.14.0->tensorflow==1.14) (0.16.0)\n",
            "Requirement already satisfied, skipping upgrade: markdown>=2.6.8 in /usr/local/lib/python3.6/dist-packages (from tensorboard<1.15.0,>=1.14.0->tensorflow==1.14) (3.1.1)\n",
            "Requirement already satisfied, skipping upgrade: h5py in /usr/local/lib/python3.6/dist-packages (from keras-applications>=1.0.6->tensorflow==1.14) (2.8.0)\n",
            "Installing collected packages: tensorboard, tensorflow-estimator, tensorflow\n",
            "  Found existing installation: tensorboard 2.0.2\n",
            "    Uninstalling tensorboard-2.0.2:\n",
            "      Successfully uninstalled tensorboard-2.0.2\n",
            "  Found existing installation: tensorflow-estimator 2.0.1\n",
            "    Uninstalling tensorflow-estimator-2.0.1:\n",
            "      Successfully uninstalled tensorflow-estimator-2.0.1\n",
            "  Found existing installation: tensorflow 2.0.0\n",
            "    Uninstalling tensorflow-2.0.0:\n",
            "      Successfully uninstalled tensorflow-2.0.0\n",
            "Successfully installed tensorboard-1.14.0 tensorflow-1.14.0 tensorflow-estimator-1.14.0\n"
          ],
          "name": "stdout"
        },
        {
          "output_type": "display_data",
          "data": {
            "application/vnd.colab-display-data+json": {
              "pip_warning": {
                "packages": [
                  "tensorboard",
                  "tensorflow",
                  "tensorflow_estimator"
                ]
              }
            }
          },
          "metadata": {
            "tags": []
          }
        }
      ]
    },
    {
      "cell_type": "markdown",
      "metadata": {
        "id": "50RcOMQ_TGD_",
        "colab_type": "text"
      },
      "source": [
        "##BatchNormalization in Keras\n",
        "**Keras provides support for batch normalization via the BatchNormalization layer.**\n",
        "\n",
        "**The layer will transform inputs so that they are standardized, meaning that they will have a mean of zero and a standard deviation of one.**\n",
        "\n",
        "**During training, the layer will keep track of statistics for each input variable and use them to standardize the data.**\n",
        "\n",
        "**Further, the standardized output can be scaled using the learned parameters of Beta and Gamma that define the new mean and standard deviation for the output of the transform. The layer can be configured to control whether these additional parameters will be used or not via the “center” and “scale” attributes respectively. By default, they are enabled.**\n",
        "\n",
        "**The statistics used to perform the standardization, e.g. the mean and standard deviation of each variable, are updated for each mini batch and a running average is maintained.**\n",
        "\n",
        "**A “momentum” argument allows you to control how much of the statistics from the previous mini batch to include when the update is calculated. By default, this is kept high with a value of 0.99. This can be set to 0.0 to only use statistics from the current mini-batch, as described in the original paper.**"
      ]
    },
    {
      "cell_type": "markdown",
      "metadata": {
        "id": "iGCf-WQZTZ8H",
        "colab_type": "text"
      },
      "source": [
        "\n",
        "\n",
        "```\n",
        "bn = BatchNormalization(momentum=0.0)\n",
        "```\n",
        "**At the end of training, the mean and standard deviation statistics in the layer at that time will be used to standardize inputs when the model is used to make a prediction.**\n",
        "\n",
        "**The default configuration estimating mean and standard deviation across all mini batches is probably sensible.**\n",
        "\n"
      ]
    },
    {
      "cell_type": "markdown",
      "metadata": {
        "id": "IA85wXj8XLKt",
        "colab_type": "text"
      },
      "source": [
        "##BatchNormalization in Models\n",
        "**Batch normalization can be used at most points in a model and with most types of deep learning neural networks.**\n",
        "\n",
        "###Input and Hidden Layer Inputs\n",
        "**The BatchNormalization layer can be added to your model to standardize raw input variables or the outputs of a hidden layer.**\n",
        "\n",
        "**Batch normalization is not recommended as an alternative to proper data preparation for your model.**\n",
        "\n",
        "**Nevertheless, when used to standardize the raw input variables, the layer must specify the input_shape argument; for example:**\n",
        "\n",
        "\n",
        "\n",
        "```\n",
        "...\n",
        "model = Sequential\n",
        "model.add(BatchNormalization(input_shape=(2,)))\n",
        "...\n",
        "```\n",
        "**When used to standardize the outputs of a hidden layer, the layer can be added to the model just like any other layer.**\n",
        "\n",
        "\n",
        "\n",
        "```\n",
        "...\n",
        "model = Sequential\n",
        "...\n",
        "model.add(BatchNormalization())\n",
        "...\n",
        "```\n",
        "\n",
        "\n",
        "\n"
      ]
    },
    {
      "cell_type": "markdown",
      "metadata": {
        "id": "429MGJjxXrtu",
        "colab_type": "text"
      },
      "source": [
        "##Use Before or After the Activation Function\n",
        "**The BatchNormalization normalization layer can be used to standardize inputs before or after the activation function of the previous layer.**\n",
        "\n",
        "**The original paper that introduced the method suggests adding batch normalization before the activation function of the previous layer, for example:**\n",
        "\n",
        "\n",
        "\n",
        "```\n",
        "...\n",
        "model = Sequential\n",
        "model.add(Dense(32))\n",
        "model.add(BatchNormalization())\n",
        "model.add(Activation('relu'))\n",
        "...\n",
        "\n",
        "```\n",
        "\n",
        "\n"
      ]
    },
    {
      "cell_type": "markdown",
      "metadata": {
        "id": "ddm5H-EPX3qJ",
        "colab_type": "text"
      },
      "source": [
        "**Some reported experiments suggest better performance when adding the batch normalization layer after the activation function of the previous layer; for example:**\n",
        "\n",
        "\n",
        "\n",
        "```\n",
        "...\n",
        "model = Sequential\n",
        "model.add(Dense(32, activation='relu'))\n",
        "model.add(BatchNormalization())\n",
        "...\n",
        "```\n",
        "\n"
      ]
    },
    {
      "cell_type": "markdown",
      "metadata": {
        "id": "NZqWSBrIYRuH",
        "colab_type": "text"
      },
      "source": [
        "##Use Before or After the Activation Function\n",
        "**The BatchNormalization normalization layer can be used to standardize inputs before or after the activation function of the previous layer.**\n",
        "\n",
        "**The original paper that introduced the method suggests adding batch normalization before the activation function of the previous layer, for example:**\n",
        "\n",
        "\n",
        "\n",
        "```\n",
        "...\n",
        "model = Sequential\n",
        "model.add(Dense(32))\n",
        "model.add(BatchNormalization())\n",
        "model.add(Activation('relu'))\n",
        "...\n",
        "```\n",
        "\n",
        "**Some reported experiments suggest better performance when adding the batch normalization layer after the activation function of the previous layer; for example:**\n",
        "\n",
        "\n",
        "\n",
        "```\n",
        "...\n",
        "model = Sequential\n",
        "model.add(Dense(32, activation='relu'))\n",
        "model.add(BatchNormalization())\n",
        "...\n",
        "```\n",
        "\n",
        "\n",
        "\n"
      ]
    },
    {
      "cell_type": "markdown",
      "metadata": {
        "id": "ABXpkk3RY5YB",
        "colab_type": "text"
      },
      "source": [
        "##MLP Batch Normalization\n",
        "\n",
        "\n",
        "\n",
        "```\n",
        "# example of batch normalization for an mlp\n",
        "from keras.layers import Dense\n",
        "from keras.layers import BatchNormalization\n",
        "...\n",
        "model.add(Dense(32, activation='relu'))\n",
        "model.add(BatchNormalization())\n",
        "model.add(Dense(1))\n",
        "...\n",
        "```\n",
        "##CNN Batch Normalization\n",
        "\n",
        "**The example below adds batch normalization after the activation function between a convolutional and max pooling layers.**\n",
        "\n",
        "```\n",
        "# example of batch normalization for an cnn\n",
        "from keras.layers import Dense\n",
        "from keras.layers import Conv2D\n",
        "from keras.layers import MaxPooling2D\n",
        "from keras.layers import BatchNormalization\n",
        "...\n",
        "model.add(Conv2D(32, (3,3), activation='relu'))\n",
        "model.add(Conv2D(32, (3,3), activation='relu'))\n",
        "model.add(BatchNormalization())\n",
        "model.add(MaxPooling2D())\n",
        "model.add(Dense(1))\n",
        "...\n",
        "```\n",
        "\n",
        "\n",
        "\n"
      ]
    },
    {
      "cell_type": "markdown",
      "metadata": {
        "id": "TPs8zlMCfsmY",
        "colab_type": "text"
      },
      "source": [
        "##RNN Batch Normalization\n",
        "**The example below adds batch normalization after the activation function between an LSTM and Dense hidden layers.**\n",
        "\n",
        "\n",
        "\n",
        "```\n",
        "# example of batch normalization for a lstm\n",
        "from keras.layers import Dense\n",
        "from keras.layers import LSTM\n",
        "from keras.layers import BatchNormalization\n",
        "...\n",
        "model.add(LSTM(32))\n",
        "model.add(BatchNormalization())\n",
        "model.add(Dense(1))\n",
        "...\n",
        "```\n",
        "\n",
        "\n"
      ]
    },
    {
      "cell_type": "markdown",
      "metadata": {
        "id": "urLwpxHWg2Mo",
        "colab_type": "text"
      },
      "source": [
        "##BatchNormalization Case Study\n",
        "\n",
        "###Binary Classification Problem\n",
        "\n",
        "**We will use a standard binary classification problem that defines two two-dimensional concentric circles of observations, one circle for each class.**\n",
        "\n",
        "**Each observation has two input variables with the same scale and a class output value of either 0 or 1. This dataset is called the “circles” dataset because of the shape of the observations in each class when plotted.**\n",
        "\n",
        "**We can use the make_circles() function to generate observations from this problem. We will add noise to the data and seed the random number generator so that the same samples are generated each time the code is run.**"
      ]
    },
    {
      "cell_type": "markdown",
      "metadata": {
        "id": "zFs6vAtUhHXF",
        "colab_type": "text"
      },
      "source": [
        "\n",
        "\n",
        "```\n",
        "# generate 2d classification dataset\n",
        "X, y = make_circles(n_samples=1000, noise=0.1, random_state=1)\n",
        "```\n",
        "\n",
        "**We can plot the dataset where the two variables are taken as x and y coordinates on a graph and the class value is taken as the color of the observation.**\n",
        "\n",
        "**The complete example of generating the dataset and plotting it is listed below.**\n",
        "\n"
      ]
    },
    {
      "cell_type": "code",
      "metadata": {
        "id": "VQ9PqjNSSrpn",
        "colab_type": "code",
        "colab": {
          "base_uri": "https://localhost:8080/",
          "height": 265
        },
        "outputId": "a0ba82f5-1924-4566-b039-e5f947ff3a04"
      },
      "source": [
        "# scatter plot of the circles dataset with points colored by class\n",
        "from sklearn.datasets import make_circles\n",
        "from numpy import where\n",
        "from matplotlib import pyplot\n",
        "# generate circles\n",
        "X, y = make_circles(n_samples=1000, noise=0.1, random_state=1)\n",
        "# select indices of points with each class label\n",
        "for i in range(2):\n",
        "\tsamples_ix = where(y == i)\n",
        "\tpyplot.scatter(X[samples_ix, 0], X[samples_ix, 1], label=str(i))\n",
        "pyplot.legend()\n",
        "pyplot.show()"
      ],
      "execution_count": 1,
      "outputs": [
        {
          "output_type": "display_data",
          "data": {
            "image/png": "[encoded data removed]",
            "text/plain": [
              "<Figure size 432x288 with 1 Axes>"
            ]
          },
          "metadata": {
            "tags": []
          }
        }
      ]
    },
    {
      "cell_type": "markdown",
      "metadata": {
        "id": "wcT15YsNhd0Q",
        "colab_type": "text"
      },
      "source": [
        "**We can see the noise in the dispersal of the points making the circles less obvious.**\n",
        "\n",
        "##Multilayer Perceptron Model\n",
        "**We can develop a Multilayer Perceptron model, or MLP, as a baseline for this problem.**\n",
        "\n",
        "**First, we will split the 1,000 generated samples into a train and test dataset, with 500 examples in each. This will provide a sufficiently large sample for the model to learn from and an equally sized (fair) evaluation of its performance.**\n",
        "\n",
        "\n",
        "\n",
        "```\n",
        "# split into train and test\n",
        "n_train = 500\n",
        "trainX, testX = X[:n_train, :], X[n_train:, :]\n",
        "trainy, testy = y[:n_train], y[n_train:]\n",
        "```\n",
        "**We will define a simple MLP model. The network must have two inputs in the visible layer for the two variables in the dataset.**\n",
        "\n",
        "**The model will have a single hidden layer with 50 nodes, chosen arbitrarily, and use the rectified linear activation function (ReLU) and the He random weight initialization method. The output layer will be a single node with the sigmoid activation function, capable of predicting a 0 for the outer circle and a 1 for the inner circle of the problem.**\n",
        "\n",
        "**The model will be trained using stochastic gradient descent with a modest learning rate of 0.01 and a large momentum of 0.9, and the optimization will be directed using the binary cross entropy loss function.**\n",
        "\n",
        "\n",
        "\n",
        "\n",
        "```\n",
        "# define model\n",
        "model = Sequential()\n",
        "model.add(Dense(50, input_dim=2, activation='relu', kernel_initializer='he_uniform'))\n",
        "model.add(Dense(1, activation='sigmoid'))\n",
        "opt = SGD(lr=0.01, momentum=0.9)\n",
        "model.compile(loss='binary_crossentropy', optimizer=opt, metrics=['accuracy'])\n",
        "```\n",
        "\n",
        "**Once defined, the model can be fit on the training dataset.**\n",
        "\n",
        "**We will use the holdout test dataset as a validation dataset and evaluate its performance at the end of each training epoch. The model will be fit for 100 epochs, chosen after a little trial and error.**\n",
        "\n"
      ]
    },
    {
      "cell_type": "markdown",
      "metadata": {
        "id": "tlSFBsjuirYg",
        "colab_type": "text"
      },
      "source": [
        "\n",
        "\n",
        "```\n",
        "# fit model\n",
        "history = model.fit(trainX, trainy, validation_data=(testX, testy), epochs=100, verbose=0)\n",
        "```\n",
        "\n",
        "**At the end of the run, the model is evaluated on the train and test dataset and the accuracy is reported.**\n",
        "\n",
        "\n",
        "\n",
        "\n",
        "```\n",
        "# evaluate the model\n",
        "_, train_acc = model.evaluate(trainX, trainy, verbose=0)\n",
        "_, test_acc = model.evaluate(testX, testy, verbose=0)\n",
        "print('Train: %.3f, Test: %.3f' % (train_acc, test_acc))\n",
        "```\n",
        "\n",
        "**Finally, line plots are created showing model accuracy on the train and test sets at the end of each training epoch providing learning curves.**\n",
        "\n",
        "**This plot of learning curves is useful as it gives an idea of how quickly and how well the model has learned the problem.**\n",
        "\n",
        "\n",
        "\n",
        "```\n",
        "# plot history\n",
        "pyplot.plot(history.history['accuracy'], label='train')\n",
        "pyplot.plot(history.history['val_accuracy'], label='test')\n",
        "pyplot.legend()\n",
        "pyplot.show()\n",
        "```\n",
        "\n",
        "\n",
        "\n"
      ]
    },
    {
      "cell_type": "code",
      "metadata": {
        "id": "f_ssyvSehf1K",
        "colab_type": "code",
        "colab": {
          "base_uri": "https://localhost:8080/",
          "height": 282
        },
        "outputId": "09265b36-7745-4527-9971-0fb7aa6a5a18"
      },
      "source": [
        "# mlp for the two circles problem\n",
        "from sklearn.datasets import make_circles\n",
        "from keras.models import Sequential\n",
        "from keras.layers import Dense\n",
        "from keras.optimizers import SGD\n",
        "from matplotlib import pyplot\n",
        "# generate 2d classification dataset\n",
        "X, y = make_circles(n_samples=1000, noise=0.1, random_state=1)\n",
        "# split into train and test\n",
        "n_train = 500\n",
        "trainX, testX = X[:n_train, :], X[n_train:, :]\n",
        "trainy, testy = y[:n_train], y[n_train:]\n",
        "# define model\n",
        "model = Sequential()\n",
        "model.add(Dense(50, input_dim=2, activation='relu', kernel_initializer='he_uniform'))\n",
        "model.add(Dense(1, activation='sigmoid'))\n",
        "opt = SGD(lr=0.01, momentum=0.9)\n",
        "model.compile(loss='binary_crossentropy', optimizer=opt, metrics=['accuracy'])\n",
        "# fit model\n",
        "history = model.fit(trainX, trainy, validation_data=(testX, testy), epochs=100, verbose=0)\n",
        "# evaluate the model\n",
        "_, train_acc = model.evaluate(trainX, trainy, verbose=0)\n",
        "_, test_acc = model.evaluate(testX, testy, verbose=0)\n",
        "print('Train: %.3f, Test: %.3f' % (train_acc, test_acc))\n",
        "# plot history\n",
        "pyplot.plot(history.history['acc'], label='train')\n",
        "pyplot.plot(history.history['val_acc'], label='test')\n",
        "pyplot.legend()\n",
        "pyplot.show()"
      ],
      "execution_count": 3,
      "outputs": [
        {
          "output_type": "stream",
          "text": [
            "Train: 0.834, Test: 0.838\n"
          ],
          "name": "stdout"
        },
        {
          "output_type": "display_data",
          "data": {
            "image/png": "[encoded data removed]",
            "text/plain": [
              "<Figure size 432x288 with 1 Axes>"
            ]
          },
          "metadata": {
            "tags": []
          }
        }
      ]
    },
    {
      "cell_type": "markdown",
      "metadata": {
        "id": "-doGXDKZj1nq",
        "colab_type": "text"
      },
      "source": [
        "**Running the example fits the model and evaluates it on the train and test sets.**\n",
        "\n",
        "**Your specific results may vary given the stochastic nature of the learning algorithm. Consider re-running the example a number of times.**\n",
        "\n",
        "**In this case, we can see that the model achieved an accuracy of about 84% on the holdout dataset and achieved comparable performance on both the train and test sets, given the same size and similar composition of both datasets.**\n",
        "\n",
        "**A graph is created showing line plots of the classification accuracy on the train (blue) and test (orange) datasets.**\n",
        "\n",
        "**The plot shows comparable performance of the model on both datasets during the training process. We can see that performance leaps up over the first 30-to-40 epochs to above 80% accuracy then is slowly refined.**"
      ]
    },
    {
      "cell_type": "markdown",
      "metadata": {
        "id": "HiokFuG1ivpr",
        "colab_type": "text"
      },
      "source": [
        "##MLP With Batch Normalization\n",
        "**The model introduced in the previous section can be updated to add batch normalization.**\n",
        "\n",
        "**The expectation is that the addition of batch normalization would accelerate the training process, offering similar or better classification accuracy of the model in fewer training epochs. Batch normalization is also reported as providing a modest form of regularization, meaning that it may also offer a small reduction in generalization error demonstrated by a small increase in classification accuracy on the holdout test dataset.**\n",
        "\n",
        "**A new BatchNormalization layer can be added to the model after the hidden layer before the output layer. Specifically, after the activation function of the prior hidden layer.**"
      ]
    },
    {
      "cell_type": "code",
      "metadata": {
        "id": "jI47zv7gkw-4",
        "colab_type": "code",
        "colab": {
          "base_uri": "https://localhost:8080/",
          "height": 282
        },
        "outputId": "dc265e6e-4f29-4348-8133-47e43b90a45b"
      },
      "source": [
        "# mlp for the two circles problem with batchnorm after activation function\n",
        "from sklearn.datasets import make_circles\n",
        "from keras.models import Sequential\n",
        "from keras.layers import Dense\n",
        "from keras.layers import BatchNormalization\n",
        "from keras.optimizers import SGD\n",
        "from matplotlib import pyplot\n",
        "# generate 2d classification dataset\n",
        "X, y = make_circles(n_samples=1000, noise=0.1, random_state=1)\n",
        "# split into train and test\n",
        "n_train = 500\n",
        "trainX, testX = X[:n_train, :], X[n_train:, :]\n",
        "trainy, testy = y[:n_train], y[n_train:]\n",
        "# define model\n",
        "model = Sequential()\n",
        "model.add(Dense(50, input_dim=2, activation='relu', kernel_initializer='he_uniform'))\n",
        "model.add(BatchNormalization())\n",
        "model.add(Dense(1, activation='sigmoid'))\n",
        "opt = SGD(lr=0.01, momentum=0.9)\n",
        "model.compile(loss='binary_crossentropy', optimizer=opt, metrics=['accuracy'])\n",
        "# fit model\n",
        "history = model.fit(trainX, trainy, validation_data=(testX, testy), epochs=100, verbose=0)\n",
        "# evaluate the model\n",
        "_, train_acc = model.evaluate(trainX, trainy, verbose=0)\n",
        "_, test_acc = model.evaluate(testX, testy, verbose=0)\n",
        "print('Train: %.3f, Test: %.3f' % (train_acc, test_acc))\n",
        "# plot history\n",
        "pyplot.plot(history.history['acc'], label='train')\n",
        "pyplot.plot(history.history['val_acc'], label='test')\n",
        "pyplot.legend()\n",
        "pyplot.show()"
      ],
      "execution_count": 5,
      "outputs": [
        {
          "output_type": "stream",
          "text": [
            "Train: 0.836, Test: 0.830\n"
          ],
          "name": "stdout"
        },
        {
          "output_type": "display_data",
          "data": {
            "image/png": "[encoded data removed]",
            "text/plain": [
              "<Figure size 432x288 with 1 Axes>"
            ]
          },
          "metadata": {
            "tags": []
          }
        }
      ]
    },
    {
      "cell_type": "markdown",
      "metadata": {
        "id": "5x5Hq9KKl4Iy",
        "colab_type": "text"
      },
      "source": [
        "**In this case, we can see that the model has learned the problem faster than the model in the previous section without batch normalization.**\n",
        "**Specifically, we can see that classification accuracy on the train and test datasets leaps above 80% within the first 20 epochs, as opposed to 30-to-40 epochs in the model without batch normalization.**\n",
        "\n",
        "**The plot also shows the effect of batch normalization during training. We can see lower performance on the training dataset than the test dataset: scores on the training dataset that are lower than the performance of the model at the end of the training run. This is likely the effect of the input collected and updated each mini-batch.**"
      ]
    },
    {
      "cell_type": "code",
      "metadata": {
        "id": "7EjfwJY9l-8l",
        "colab_type": "code",
        "colab": {}
      },
      "source": [
        ""
      ],
      "execution_count": 0,
      "outputs": []
    }
  ]
}