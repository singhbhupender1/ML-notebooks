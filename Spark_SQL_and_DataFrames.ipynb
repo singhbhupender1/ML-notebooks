{
  "nbformat": 4,
  "nbformat_minor": 0,
  "metadata": {
    "colab": {
      "name": "Spark SQL and DataFrames.ipynb",
      "provenance": [],
      "authorship_tag": "ABX9TyPrsc6LMTsTbrQaTTHoby1H",
      "include_colab_link": true
    },
    "kernelspec": {
      "name": "python3",
      "display_name": "Python 3"
    }
  },
  "cells": [
    {
      "cell_type": "markdown",
      "metadata": {
        "id": "view-in-github",
        "colab_type": "text"
      },
      "source": [
        "<a href=\"https://colab.research.google.com/github/singhbhupender1/ML-notebooks/blob/master/Spark_SQL_and_DataFrames.ipynb\" target=\"_parent\"><img src=\"https://colab.research.google.com/assets/colab-badge.svg\" alt=\"Open In Colab\"/></a>"
      ]
    },
    {
      "cell_type": "code",
      "metadata": {
        "id": "kUOGW8Rr-grh",
        "colab_type": "code",
        "colab": {
          "base_uri": "https://localhost:8080/",
          "height": 238
        },
        "outputId": "5fedc890-1301-4f0b-bab4-225b67a4606c"
      },
      "source": [
        "!apt-get install openjdk-8-jdk-headless -qq > /dev/null\n",
        "!wget https://archive.apache.org/dist/spark/spark-2.3.1/spark-2.3.1-bin-hadoop2.7.tgz\n",
        "!tar xf spark-2.3.1-bin-hadoop2.7.tgz\n",
        "!pip install -q findspark\n",
        "!ls"
      ],
      "execution_count": 1,
      "outputs": [
        {
          "output_type": "stream",
          "text": [
            "--2020-06-01 22:22:17--  https://archive.apache.org/dist/spark/spark-2.3.1/spark-2.3.1-bin-hadoop2.7.tgz\n",
            "Resolving archive.apache.org (archive.apache.org)... 138.201.131.134, 2a01:4f8:172:2ec5::2\n",
            "Connecting to archive.apache.org (archive.apache.org)|138.201.131.134|:443... connected.\n",
            "HTTP request sent, awaiting response... 200 OK\n",
            "Length: 225883783 (215M) [application/x-gzip]\n",
            "Saving to: ‘spark-2.3.1-bin-hadoop2.7.tgz’\n",
            "\n",
            "spark-2.3.1-bin-had 100%[===================>] 215.42M  25.2MB/s    in 9.4s    \n",
            "\n",
            "2020-06-01 22:22:27 (22.9 MB/s) - ‘spark-2.3.1-bin-hadoop2.7.tgz’ saved [225883783/225883783]\n",
            "\n",
            "sample_data  spark-2.3.1-bin-hadoop2.7\tspark-2.3.1-bin-hadoop2.7.tgz\n"
          ],
          "name": "stdout"
        }
      ]
    },
    {
      "cell_type": "code",
      "metadata": {
        "id": "AKaGl6Ee-iju",
        "colab_type": "code",
        "colab": {
          "base_uri": "https://localhost:8080/",
          "height": 67
        },
        "outputId": "c954cdfb-28df-42f9-f567-31442404db40"
      },
      "source": [
        " #!java -version\n"
      ],
      "execution_count": 2,
      "outputs": [
        {
          "output_type": "stream",
          "text": [
            "openjdk version \"11.0.7\" 2020-04-14\n",
            "OpenJDK Runtime Environment (build 11.0.7+10-post-Ubuntu-2ubuntu218.04)\n",
            "OpenJDK 64-Bit Server VM (build 11.0.7+10-post-Ubuntu-2ubuntu218.04, mixed mode, sharing)\n"
          ],
          "name": "stdout"
        }
      ]
    },
    {
      "cell_type": "code",
      "metadata": {
        "id": "7CdXVCcG-vmp",
        "colab_type": "code",
        "colab": {
          "base_uri": "https://localhost:8080/",
          "height": 205
        },
        "outputId": "a9f2bc93-f490-4575-fc26-e79ae1119222"
      },
      "source": [
        " ! update-alternatives --config java\n"
      ],
      "execution_count": 3,
      "outputs": [
        {
          "output_type": "stream",
          "text": [
            "There are 2 choices for the alternative java (providing /usr/bin/java).\n",
            "\n",
            "  Selection    Path                                            Priority   Status\n",
            "------------------------------------------------------------\n",
            "* 0            /usr/lib/jvm/java-11-openjdk-amd64/bin/java      1111      auto mode\n",
            "  1            /usr/lib/jvm/java-11-openjdk-amd64/bin/java      1111      manual mode\n",
            "  2            /usr/lib/jvm/java-8-openjdk-amd64/jre/bin/java   1081      manual mode\n",
            "\n",
            "Press <enter> to keep the current choice[*], or type selection number: 2\n",
            "update-alternatives: using /usr/lib/jvm/java-8-openjdk-amd64/jre/bin/java to provide /usr/bin/java (java) in manual mode\n"
          ],
          "name": "stdout"
        }
      ]
    },
    {
      "cell_type": "code",
      "metadata": {
        "id": "86kcvNee-2fn",
        "colab_type": "code",
        "colab": {}
      },
      "source": [
        "import os\n",
        "os.environ[\"JAVA_HOME\"] = \"/usr/lib/jvm/java-8-openjdk-amd64\"\n",
        "os.environ[\"SPARK_HOME\"] = \"/content/spark-2.3.1-bin-hadoop2.7\""
      ],
      "execution_count": 0,
      "outputs": []
    },
    {
      "cell_type": "code",
      "metadata": {
        "id": "loGkY_Eu-4x0",
        "colab_type": "code",
        "colab": {
          "base_uri": "https://localhost:8080/",
          "height": 239
        },
        "outputId": "34875aee-fbaa-4835-dfee-e0f221fc8df2"
      },
      "source": [
        "import findspark\n",
        "findspark.init()\n",
        "\n",
        "from pyspark import SparkContext\n",
        "from pyspark import SparkConf\n",
        "from pyspark.sql import SQLContext\n",
        "from pyspark.sql import SparkSession\n",
        "from csv import reader\n",
        "import pandas as pd\n",
        "\n",
        "conf = SparkConf().setMaster(\"local[*]\").setAppName('pyspark')\n",
        "sc = SparkContext(conf=conf)"
      ],
      "execution_count": 11,
      "outputs": [
        {
          "output_type": "error",
          "ename": "ValueError",
          "evalue": "ignored",
          "traceback": [
            "\u001b[0;31m---------------------------------------------------------------------------\u001b[0m",
            "\u001b[0;31mValueError\u001b[0m                                Traceback (most recent call last)",
            "\u001b[0;32m<ipython-input-11-fa33b11d9e44>\u001b[0m in \u001b[0;36m<module>\u001b[0;34m()\u001b[0m\n\u001b[1;32m     10\u001b[0m \u001b[0;34m\u001b[0m\u001b[0m\n\u001b[1;32m     11\u001b[0m \u001b[0mconf\u001b[0m \u001b[0;34m=\u001b[0m \u001b[0mSparkConf\u001b[0m\u001b[0;34m(\u001b[0m\u001b[0;34m)\u001b[0m\u001b[0;34m.\u001b[0m\u001b[0msetMaster\u001b[0m\u001b[0;34m(\u001b[0m\u001b[0;34m\"local[*]\"\u001b[0m\u001b[0;34m)\u001b[0m\u001b[0;34m.\u001b[0m\u001b[0msetAppName\u001b[0m\u001b[0;34m(\u001b[0m\u001b[0;34m'pyspark'\u001b[0m\u001b[0;34m)\u001b[0m\u001b[0;34m\u001b[0m\u001b[0;34m\u001b[0m\u001b[0m\n\u001b[0;32m---> 12\u001b[0;31m \u001b[0msc\u001b[0m \u001b[0;34m=\u001b[0m \u001b[0mSparkContext\u001b[0m\u001b[0;34m(\u001b[0m\u001b[0mconf\u001b[0m\u001b[0;34m=\u001b[0m\u001b[0mconf\u001b[0m\u001b[0;34m)\u001b[0m\u001b[0;34m\u001b[0m\u001b[0;34m\u001b[0m\u001b[0m\n\u001b[0m",
            "\u001b[0;32m/content/spark-2.3.1-bin-hadoop2.7/python/pyspark/context.py\u001b[0m in \u001b[0;36m__init__\u001b[0;34m(self, master, appName, sparkHome, pyFiles, environment, batchSize, serializer, conf, gateway, jsc, profiler_cls)\u001b[0m\n\u001b[1;32m    113\u001b[0m         \"\"\"\n\u001b[1;32m    114\u001b[0m         \u001b[0mself\u001b[0m\u001b[0;34m.\u001b[0m\u001b[0m_callsite\u001b[0m \u001b[0;34m=\u001b[0m \u001b[0mfirst_spark_call\u001b[0m\u001b[0;34m(\u001b[0m\u001b[0;34m)\u001b[0m \u001b[0;32mor\u001b[0m \u001b[0mCallSite\u001b[0m\u001b[0;34m(\u001b[0m\u001b[0;32mNone\u001b[0m\u001b[0;34m,\u001b[0m \u001b[0;32mNone\u001b[0m\u001b[0;34m,\u001b[0m \u001b[0;32mNone\u001b[0m\u001b[0;34m)\u001b[0m\u001b[0;34m\u001b[0m\u001b[0;34m\u001b[0m\u001b[0m\n\u001b[0;32m--> 115\u001b[0;31m         \u001b[0mSparkContext\u001b[0m\u001b[0;34m.\u001b[0m\u001b[0m_ensure_initialized\u001b[0m\u001b[0;34m(\u001b[0m\u001b[0mself\u001b[0m\u001b[0;34m,\u001b[0m \u001b[0mgateway\u001b[0m\u001b[0;34m=\u001b[0m\u001b[0mgateway\u001b[0m\u001b[0;34m,\u001b[0m \u001b[0mconf\u001b[0m\u001b[0;34m=\u001b[0m\u001b[0mconf\u001b[0m\u001b[0;34m)\u001b[0m\u001b[0;34m\u001b[0m\u001b[0;34m\u001b[0m\u001b[0m\n\u001b[0m\u001b[1;32m    116\u001b[0m         \u001b[0;32mtry\u001b[0m\u001b[0;34m:\u001b[0m\u001b[0;34m\u001b[0m\u001b[0;34m\u001b[0m\u001b[0m\n\u001b[1;32m    117\u001b[0m             self._do_init(master, appName, sparkHome, pyFiles, environment, batchSize, serializer,\n",
            "\u001b[0;32m/content/spark-2.3.1-bin-hadoop2.7/python/pyspark/context.py\u001b[0m in \u001b[0;36m_ensure_initialized\u001b[0;34m(cls, instance, gateway, conf)\u001b[0m\n\u001b[1;32m    306\u001b[0m                         \u001b[0;34m\" created by %s at %s:%s \"\u001b[0m\u001b[0;34m\u001b[0m\u001b[0;34m\u001b[0m\u001b[0m\n\u001b[1;32m    307\u001b[0m                         % (currentAppName, currentMaster,\n\u001b[0;32m--> 308\u001b[0;31m                             callsite.function, callsite.file, callsite.linenum))\n\u001b[0m\u001b[1;32m    309\u001b[0m                 \u001b[0;32melse\u001b[0m\u001b[0;34m:\u001b[0m\u001b[0;34m\u001b[0m\u001b[0;34m\u001b[0m\u001b[0m\n\u001b[1;32m    310\u001b[0m                     \u001b[0mSparkContext\u001b[0m\u001b[0;34m.\u001b[0m\u001b[0m_active_spark_context\u001b[0m \u001b[0;34m=\u001b[0m \u001b[0minstance\u001b[0m\u001b[0;34m\u001b[0m\u001b[0;34m\u001b[0m\u001b[0m\n",
            "\u001b[0;31mValueError\u001b[0m: Cannot run multiple SparkContexts at once; existing SparkContext(app=pyspark, master=local[*]) created by __init__ at <ipython-input-8-fd677720489a>:11 "
          ]
        }
      ]
    },
    {
      "cell_type": "code",
      "metadata": {
        "id": "Is8LgkxECNU2",
        "colab_type": "code",
        "colab": {}
      },
      "source": [
        "from pyspark.sql import SparkSession\n",
        "spark = SparkSession.builder.getOrCreate()"
      ],
      "execution_count": 0,
      "outputs": []
    },
    {
      "cell_type": "code",
      "metadata": {
        "id": "ApUc54VbDpXS",
        "colab_type": "code",
        "colab": {
          "base_uri": "https://localhost:8080/",
          "height": 214
        },
        "outputId": "41e62e74-c9be-45fb-e4a4-f0dd676c947c"
      },
      "source": [
        "spark"
      ],
      "execution_count": 14,
      "outputs": [
        {
          "output_type": "execute_result",
          "data": {
            "text/html": [
              "\n",
              "            <div>\n",
              "                <p><b>SparkSession - in-memory</b></p>\n",
              "                \n",
              "        <div>\n",
              "            <p><b>SparkContext</b></p>\n",
              "\n",
              "            <p><a href=\"http://c68402236150:4040\">Spark UI</a></p>\n",
              "\n",
              "            <dl>\n",
              "              <dt>Version</dt>\n",
              "                <dd><code>v2.3.1</code></dd>\n",
              "              <dt>Master</dt>\n",
              "                <dd><code>local[*]</code></dd>\n",
              "              <dt>AppName</dt>\n",
              "                <dd><code>pyspark</code></dd>\n",
              "            </dl>\n",
              "        </div>\n",
              "        \n",
              "            </div>\n",
              "        "
            ],
            "text/plain": [
              "<pyspark.sql.session.SparkSession at 0x7f13acf8da90>"
            ]
          },
          "metadata": {
            "tags": []
          },
          "execution_count": 14
        }
      ]
    },
    {
      "cell_type": "code",
      "metadata": {
        "id": "N-Yika0K_Ny_",
        "colab_type": "code",
        "colab": {}
      },
      "source": [
        "data_path = '/data'"
      ],
      "execution_count": 0,
      "outputs": []
    },
    {
      "cell_type": "code",
      "metadata": {
        "id": "dnaGfOr_Bdl1",
        "colab_type": "code",
        "colab": {}
      },
      "source": [
        "file_path = \"./location_temp.csv\"\n",
        "df1 = spark.read.format(\"csv\").option(\"header\", \"true\").load(file_path)"
      ],
      "execution_count": 0,
      "outputs": []
    },
    {
      "cell_type": "code",
      "metadata": {
        "id": "XY72wWG9BfU1",
        "colab_type": "code",
        "colab": {
          "base_uri": "https://localhost:8080/",
          "height": 185
        },
        "outputId": "2870c8e7-7a98-483d-9b35-aa7c7bd87360"
      },
      "source": [
        "df1.head(10)"
      ],
      "execution_count": 17,
      "outputs": [
        {
          "output_type": "execute_result",
          "data": {
            "text/plain": [
              "[Row(event_date='03/04/2019 19:48:06', location_id='loc0', temp_celcius='29'),\n",
              " Row(event_date='03/04/2019 19:53:06', location_id='loc0', temp_celcius='27'),\n",
              " Row(event_date='03/04/2019 19:58:06', location_id='loc0', temp_celcius='28'),\n",
              " Row(event_date='03/04/2019 20:03:06', location_id='loc0', temp_celcius='30'),\n",
              " Row(event_date='03/04/2019 20:08:06', location_id='loc0', temp_celcius='27'),\n",
              " Row(event_date='03/04/2019 20:13:06', location_id='loc0', temp_celcius='27'),\n",
              " Row(event_date='03/04/2019 20:18:06', location_id='loc0', temp_celcius='27'),\n",
              " Row(event_date='03/04/2019 20:23:06', location_id='loc0', temp_celcius='29'),\n",
              " Row(event_date='03/04/2019 20:28:06', location_id='loc0', temp_celcius='32'),\n",
              " Row(event_date='03/04/2019 20:33:06', location_id='loc0', temp_celcius='35')]"
            ]
          },
          "metadata": {
            "tags": []
          },
          "execution_count": 17
        }
      ]
    },
    {
      "cell_type": "code",
      "metadata": {
        "id": "fYH6fCrcBhLN",
        "colab_type": "code",
        "colab": {
          "base_uri": "https://localhost:8080/",
          "height": 454
        },
        "outputId": "0a04ea02-8db0-47f9-bdb5-904d1db5ede7"
      },
      "source": [
        "df1.show()"
      ],
      "execution_count": 18,
      "outputs": [
        {
          "output_type": "stream",
          "text": [
            "+-------------------+-----------+------------+\n",
            "|         event_date|location_id|temp_celcius|\n",
            "+-------------------+-----------+------------+\n",
            "|03/04/2019 19:48:06|       loc0|          29|\n",
            "|03/04/2019 19:53:06|       loc0|          27|\n",
            "|03/04/2019 19:58:06|       loc0|          28|\n",
            "|03/04/2019 20:03:06|       loc0|          30|\n",
            "|03/04/2019 20:08:06|       loc0|          27|\n",
            "|03/04/2019 20:13:06|       loc0|          27|\n",
            "|03/04/2019 20:18:06|       loc0|          27|\n",
            "|03/04/2019 20:23:06|       loc0|          29|\n",
            "|03/04/2019 20:28:06|       loc0|          32|\n",
            "|03/04/2019 20:33:06|       loc0|          35|\n",
            "|03/04/2019 20:38:06|       loc0|          32|\n",
            "|03/04/2019 20:43:06|       loc0|          28|\n",
            "|03/04/2019 20:48:06|       loc0|          28|\n",
            "|03/04/2019 20:53:06|       loc0|          32|\n",
            "|03/04/2019 20:58:06|       loc0|          34|\n",
            "|03/04/2019 21:03:06|       loc0|          33|\n",
            "|03/04/2019 21:08:06|       loc0|          27|\n",
            "|03/04/2019 21:13:06|       loc0|          28|\n",
            "|03/04/2019 21:18:06|       loc0|          33|\n",
            "|03/04/2019 21:23:06|       loc0|          28|\n",
            "+-------------------+-----------+------------+\n",
            "only showing top 20 rows\n",
            "\n"
          ],
          "name": "stdout"
        }
      ]
    },
    {
      "cell_type": "code",
      "metadata": {
        "id": "Ri_6jzaWBkpU",
        "colab_type": "code",
        "colab": {
          "base_uri": "https://localhost:8080/",
          "height": 34
        },
        "outputId": "534417e9-b8f4-4046-9499-61fdd41877fb"
      },
      "source": [
        "df1.count()"
      ],
      "execution_count": 19,
      "outputs": [
        {
          "output_type": "execute_result",
          "data": {
            "text/plain": [
              "500000"
            ]
          },
          "metadata": {
            "tags": []
          },
          "execution_count": 19
        }
      ]
    },
    {
      "cell_type": "code",
      "metadata": {
        "id": "ffkIH0XTBmog",
        "colab_type": "code",
        "colab": {}
      },
      "source": [
        "file_path_no_header = \"./utilization.csv\"\n",
        "df2 = spark.read.format(\"csv\").option(\"header\", \"false\").option(\"inferSchema\",\"true\").load(file_path_no_header)"
      ],
      "execution_count": 0,
      "outputs": []
    },
    {
      "cell_type": "code",
      "metadata": {
        "id": "CcJVKQLYBpHi",
        "colab_type": "code",
        "colab": {
          "base_uri": "https://localhost:8080/",
          "height": 34
        },
        "outputId": "0dbfa70b-65cf-49c0-fc56-530b299727a5"
      },
      "source": [
        "df2.count()"
      ],
      "execution_count": 21,
      "outputs": [
        {
          "output_type": "execute_result",
          "data": {
            "text/plain": [
              "500000"
            ]
          },
          "metadata": {
            "tags": []
          },
          "execution_count": 21
        }
      ]
    },
    {
      "cell_type": "code",
      "metadata": {
        "id": "Tiw-xOdJBqtD",
        "colab_type": "code",
        "colab": {
          "base_uri": "https://localhost:8080/",
          "height": 185
        },
        "outputId": "2ebfd900-be36-47fa-d690-274e27adce6f"
      },
      "source": [
        "df2.head(10)"
      ],
      "execution_count": 22,
      "outputs": [
        {
          "output_type": "execute_result",
          "data": {
            "text/plain": [
              "[Row(_c0='03/05/2019 08:06:14', _c1=100, _c2=0.57, _c3=0.51, _c4=47),\n",
              " Row(_c0='03/05/2019 08:11:14', _c1=100, _c2=0.47, _c3=0.62, _c4=43),\n",
              " Row(_c0='03/05/2019 08:16:14', _c1=100, _c2=0.56, _c3=0.57, _c4=62),\n",
              " Row(_c0='03/05/2019 08:21:14', _c1=100, _c2=0.57, _c3=0.56, _c4=50),\n",
              " Row(_c0='03/05/2019 08:26:14', _c1=100, _c2=0.35, _c3=0.46, _c4=43),\n",
              " Row(_c0='03/05/2019 08:31:14', _c1=100, _c2=0.41, _c3=0.58, _c4=48),\n",
              " Row(_c0='03/05/2019 08:36:14', _c1=100, _c2=0.57, _c3=0.35, _c4=58),\n",
              " Row(_c0='03/05/2019 08:41:14', _c1=100, _c2=0.41, _c3=0.4, _c4=58),\n",
              " Row(_c0='03/05/2019 08:46:14', _c1=100, _c2=0.53, _c3=0.35, _c4=62),\n",
              " Row(_c0='03/05/2019 08:51:14', _c1=100, _c2=0.51, _c3=0.6, _c4=45)]"
            ]
          },
          "metadata": {
            "tags": []
          },
          "execution_count": 22
        }
      ]
    },
    {
      "cell_type": "code",
      "metadata": {
        "id": "4j39g73oBsyv",
        "colab_type": "code",
        "colab": {}
      },
      "source": [
        "df2 = df2.withColumnRenamed(\"_c0\", \"event_datetime\") \\\n",
        "        .withColumnRenamed (\"_c1\", \"server_id\")       \\\n",
        "        .withColumnRenamed(\"_c2\", \"cpu_utilization\")  \\\n",
        "        .withColumnRenamed(\"_c3\", \"free_memory\")      \\\n",
        "        .withColumnRenamed(\"_c4\", \"session_count\")"
      ],
      "execution_count": 0,
      "outputs": []
    },
    {
      "cell_type": "code",
      "metadata": {
        "id": "2x2zL-kjBvYa",
        "colab_type": "code",
        "colab": {
          "base_uri": "https://localhost:8080/",
          "height": 205
        },
        "outputId": "6b78b69b-b1d8-4c8e-9417-2d1b902b9405"
      },
      "source": [
        "df2.head(10)"
      ],
      "execution_count": 27,
      "outputs": [
        {
          "output_type": "execute_result",
          "data": {
            "text/plain": [
              "[Row(event_datetime='03/05/2019 08:06:14', server_id=100, cpu_utilization=0.57, free_memory=0.51, session_count=47),\n",
              " Row(event_datetime='03/05/2019 08:11:14', server_id=100, cpu_utilization=0.47, free_memory=0.62, session_count=43),\n",
              " Row(event_datetime='03/05/2019 08:16:14', server_id=100, cpu_utilization=0.56, free_memory=0.57, session_count=62),\n",
              " Row(event_datetime='03/05/2019 08:21:14', server_id=100, cpu_utilization=0.57, free_memory=0.56, session_count=50),\n",
              " Row(event_datetime='03/05/2019 08:26:14', server_id=100, cpu_utilization=0.35, free_memory=0.46, session_count=43),\n",
              " Row(event_datetime='03/05/2019 08:31:14', server_id=100, cpu_utilization=0.41, free_memory=0.58, session_count=48),\n",
              " Row(event_datetime='03/05/2019 08:36:14', server_id=100, cpu_utilization=0.57, free_memory=0.35, session_count=58),\n",
              " Row(event_datetime='03/05/2019 08:41:14', server_id=100, cpu_utilization=0.41, free_memory=0.4, session_count=58),\n",
              " Row(event_datetime='03/05/2019 08:46:14', server_id=100, cpu_utilization=0.53, free_memory=0.35, session_count=62),\n",
              " Row(event_datetime='03/05/2019 08:51:14', server_id=100, cpu_utilization=0.51, free_memory=0.6, session_count=45)]"
            ]
          },
          "metadata": {
            "tags": []
          },
          "execution_count": 27
        }
      ]
    },
    {
      "cell_type": "code",
      "metadata": {
        "id": "2NrFd8C_BwcY",
        "colab_type": "code",
        "colab": {
          "base_uri": "https://localhost:8080/",
          "height": 454
        },
        "outputId": "51df0ebf-3650-4813-cf5b-160662f5f4c2"
      },
      "source": [
        "df2.show()"
      ],
      "execution_count": 26,
      "outputs": [
        {
          "output_type": "stream",
          "text": [
            "+-------------------+---------+---------------+-----------+-------------+\n",
            "|     event_datetime|server_id|cpu_utilization|free_memory|session_count|\n",
            "+-------------------+---------+---------------+-----------+-------------+\n",
            "|03/05/2019 08:06:14|      100|           0.57|       0.51|           47|\n",
            "|03/05/2019 08:11:14|      100|           0.47|       0.62|           43|\n",
            "|03/05/2019 08:16:14|      100|           0.56|       0.57|           62|\n",
            "|03/05/2019 08:21:14|      100|           0.57|       0.56|           50|\n",
            "|03/05/2019 08:26:14|      100|           0.35|       0.46|           43|\n",
            "|03/05/2019 08:31:14|      100|           0.41|       0.58|           48|\n",
            "|03/05/2019 08:36:14|      100|           0.57|       0.35|           58|\n",
            "|03/05/2019 08:41:14|      100|           0.41|        0.4|           58|\n",
            "|03/05/2019 08:46:14|      100|           0.53|       0.35|           62|\n",
            "|03/05/2019 08:51:14|      100|           0.51|        0.6|           45|\n",
            "|03/05/2019 08:56:14|      100|           0.32|       0.37|           47|\n",
            "|03/05/2019 09:01:14|      100|           0.62|       0.59|           60|\n",
            "|03/05/2019 09:06:14|      100|           0.66|       0.72|           57|\n",
            "|03/05/2019 09:11:14|      100|           0.54|       0.54|           44|\n",
            "|03/05/2019 09:16:14|      100|           0.29|        0.4|           47|\n",
            "|03/05/2019 09:21:14|      100|           0.43|       0.68|           66|\n",
            "|03/05/2019 09:26:14|      100|           0.49|       0.66|           65|\n",
            "|03/05/2019 09:31:14|      100|           0.64|       0.55|           66|\n",
            "|03/05/2019 09:36:14|      100|           0.42|        0.6|           42|\n",
            "|03/05/2019 09:41:14|      100|           0.55|       0.59|           63|\n",
            "+-------------------+---------+---------------+-----------+-------------+\n",
            "only showing top 20 rows\n",
            "\n"
          ],
          "name": "stdout"
        }
      ]
    },
    {
      "cell_type": "code",
      "metadata": {
        "id": "3iOov65ZBzD3",
        "colab_type": "code",
        "colab": {}
      },
      "source": [
        "json_df1_path =  \"./location_temp.json\"\n",
        "df1.write.json(json_df1_path)"
      ],
      "execution_count": 0,
      "outputs": []
    },
    {
      "cell_type": "code",
      "metadata": {
        "id": "_E0J_Eh1B1CN",
        "colab_type": "code",
        "colab": {}
      },
      "source": [
        "json_df2_path = \"./utilization.json\"\n",
        "df2.write.json(json_df2_path)"
      ],
      "execution_count": 0,
      "outputs": []
    },
    {
      "cell_type": "code",
      "metadata": {
        "id": "AhVqpVqRVVwW",
        "colab_type": "code",
        "colab": {}
      },
      "source": [
        "json_df1_path = \"./location_temp.json\"\n",
        "df1 = spark.read.format(\"json\").load(json_df1_path)"
      ],
      "execution_count": 0,
      "outputs": []
    },
    {
      "cell_type": "code",
      "metadata": {
        "id": "h1OXf3oHdZjP",
        "colab_type": "code",
        "colab": {}
      },
      "source": [
        "json_df2_path = \"./utilization.json\"\n",
        "df2 = spark.read.format(\"json\").load(json_df2_path)"
      ],
      "execution_count": 0,
      "outputs": []
    },
    {
      "cell_type": "code",
      "metadata": {
        "id": "yhAGRlTjd5E2",
        "colab_type": "code",
        "colab": {
          "base_uri": "https://localhost:8080/",
          "height": 34
        },
        "outputId": "accf2046-b449-494b-8816-cfcb5a91f03a"
      },
      "source": [
        "df1.count()"
      ],
      "execution_count": 33,
      "outputs": [
        {
          "output_type": "execute_result",
          "data": {
            "text/plain": [
              "500000"
            ]
          },
          "metadata": {
            "tags": []
          },
          "execution_count": 33
        }
      ]
    },
    {
      "cell_type": "code",
      "metadata": {
        "id": "uhiTt5bpd6Mj",
        "colab_type": "code",
        "colab": {
          "base_uri": "https://localhost:8080/",
          "height": 185
        },
        "outputId": "1dd97d9e-c14a-4f72-e51f-97628e2d3f95"
      },
      "source": [
        "df1.head(10)"
      ],
      "execution_count": 35,
      "outputs": [
        {
          "output_type": "execute_result",
          "data": {
            "text/plain": [
              "[Row(event_date='03/04/2019 19:48:06', location_id='loc0', temp_celcius='29'),\n",
              " Row(event_date='03/04/2019 19:53:06', location_id='loc0', temp_celcius='27'),\n",
              " Row(event_date='03/04/2019 19:58:06', location_id='loc0', temp_celcius='28'),\n",
              " Row(event_date='03/04/2019 20:03:06', location_id='loc0', temp_celcius='30'),\n",
              " Row(event_date='03/04/2019 20:08:06', location_id='loc0', temp_celcius='27'),\n",
              " Row(event_date='03/04/2019 20:13:06', location_id='loc0', temp_celcius='27'),\n",
              " Row(event_date='03/04/2019 20:18:06', location_id='loc0', temp_celcius='27'),\n",
              " Row(event_date='03/04/2019 20:23:06', location_id='loc0', temp_celcius='29'),\n",
              " Row(event_date='03/04/2019 20:28:06', location_id='loc0', temp_celcius='32'),\n",
              " Row(event_date='03/04/2019 20:33:06', location_id='loc0', temp_celcius='35')]"
            ]
          },
          "metadata": {
            "tags": []
          },
          "execution_count": 35
        }
      ]
    },
    {
      "cell_type": "code",
      "metadata": {
        "id": "YGYfUW4Md8LT",
        "colab_type": "code",
        "colab": {
          "base_uri": "https://localhost:8080/",
          "height": 67
        },
        "outputId": "5abe798a-caf8-423d-f91a-5aaaac57bf1d"
      },
      "source": [
        "!ls ."
      ],
      "execution_count": 36,
      "outputs": [
        {
          "output_type": "stream",
          "text": [
            "location_temp.csv   server_name.csv\t\t   spark-warehouse\n",
            "location_temp.json  spark-2.3.1-bin-hadoop2.7\t   utilization.csv\n",
            "sample_data\t    spark-2.3.1-bin-hadoop2.7.tgz  utilization.json\n"
          ],
          "name": "stdout"
        }
      ]
    },
    {
      "cell_type": "code",
      "metadata": {
        "id": "xRTNQEzSeDhX",
        "colab_type": "code",
        "colab": {
          "base_uri": "https://localhost:8080/",
          "height": 454
        },
        "outputId": "8e350c4c-3450-4f37-bfd3-05ff9da0fc7a"
      },
      "source": [
        "df1.show()"
      ],
      "execution_count": 37,
      "outputs": [
        {
          "output_type": "stream",
          "text": [
            "+-------------------+-----------+------------+\n",
            "|         event_date|location_id|temp_celcius|\n",
            "+-------------------+-----------+------------+\n",
            "|03/04/2019 19:48:06|       loc0|          29|\n",
            "|03/04/2019 19:53:06|       loc0|          27|\n",
            "|03/04/2019 19:58:06|       loc0|          28|\n",
            "|03/04/2019 20:03:06|       loc0|          30|\n",
            "|03/04/2019 20:08:06|       loc0|          27|\n",
            "|03/04/2019 20:13:06|       loc0|          27|\n",
            "|03/04/2019 20:18:06|       loc0|          27|\n",
            "|03/04/2019 20:23:06|       loc0|          29|\n",
            "|03/04/2019 20:28:06|       loc0|          32|\n",
            "|03/04/2019 20:33:06|       loc0|          35|\n",
            "|03/04/2019 20:38:06|       loc0|          32|\n",
            "|03/04/2019 20:43:06|       loc0|          28|\n",
            "|03/04/2019 20:48:06|       loc0|          28|\n",
            "|03/04/2019 20:53:06|       loc0|          32|\n",
            "|03/04/2019 20:58:06|       loc0|          34|\n",
            "|03/04/2019 21:03:06|       loc0|          33|\n",
            "|03/04/2019 21:08:06|       loc0|          27|\n",
            "|03/04/2019 21:13:06|       loc0|          28|\n",
            "|03/04/2019 21:18:06|       loc0|          33|\n",
            "|03/04/2019 21:23:06|       loc0|          28|\n",
            "+-------------------+-----------+------------+\n",
            "only showing top 20 rows\n",
            "\n"
          ],
          "name": "stdout"
        }
      ]
    },
    {
      "cell_type": "code",
      "metadata": {
        "id": "9KwNEcAfeQdx",
        "colab_type": "code",
        "colab": {
          "base_uri": "https://localhost:8080/",
          "height": 454
        },
        "outputId": "5810c8db-87ce-4d11-ea26-1fbdb677d10c"
      },
      "source": [
        "df2.show()"
      ],
      "execution_count": 38,
      "outputs": [
        {
          "output_type": "stream",
          "text": [
            "+---------------+-------------------+-----------+---------+-------------+\n",
            "|cpu_utilization|     event_datetime|free_memory|server_id|session_count|\n",
            "+---------------+-------------------+-----------+---------+-------------+\n",
            "|           0.57|03/05/2019 08:06:14|       0.51|      100|           47|\n",
            "|           0.47|03/05/2019 08:11:14|       0.62|      100|           43|\n",
            "|           0.56|03/05/2019 08:16:14|       0.57|      100|           62|\n",
            "|           0.57|03/05/2019 08:21:14|       0.56|      100|           50|\n",
            "|           0.35|03/05/2019 08:26:14|       0.46|      100|           43|\n",
            "|           0.41|03/05/2019 08:31:14|       0.58|      100|           48|\n",
            "|           0.57|03/05/2019 08:36:14|       0.35|      100|           58|\n",
            "|           0.41|03/05/2019 08:41:14|        0.4|      100|           58|\n",
            "|           0.53|03/05/2019 08:46:14|       0.35|      100|           62|\n",
            "|           0.51|03/05/2019 08:51:14|        0.6|      100|           45|\n",
            "|           0.32|03/05/2019 08:56:14|       0.37|      100|           47|\n",
            "|           0.62|03/05/2019 09:01:14|       0.59|      100|           60|\n",
            "|           0.66|03/05/2019 09:06:14|       0.72|      100|           57|\n",
            "|           0.54|03/05/2019 09:11:14|       0.54|      100|           44|\n",
            "|           0.29|03/05/2019 09:16:14|        0.4|      100|           47|\n",
            "|           0.43|03/05/2019 09:21:14|       0.68|      100|           66|\n",
            "|           0.49|03/05/2019 09:26:14|       0.66|      100|           65|\n",
            "|           0.64|03/05/2019 09:31:14|       0.55|      100|           66|\n",
            "|           0.42|03/05/2019 09:36:14|        0.6|      100|           42|\n",
            "|           0.55|03/05/2019 09:41:14|       0.59|      100|           63|\n",
            "+---------------+-------------------+-----------+---------+-------------+\n",
            "only showing top 20 rows\n",
            "\n"
          ],
          "name": "stdout"
        }
      ]
    },
    {
      "cell_type": "code",
      "metadata": {
        "id": "TY_sMqDoeTQY",
        "colab_type": "code",
        "colab": {
          "base_uri": "https://localhost:8080/",
          "height": 34
        },
        "outputId": "e84a8840-31f8-4b77-9e7a-89ce29f88477"
      },
      "source": [
        "df1.describe()"
      ],
      "execution_count": 39,
      "outputs": [
        {
          "output_type": "execute_result",
          "data": {
            "text/plain": [
              "DataFrame[summary: string, event_date: string, location_id: string, temp_celcius: string]"
            ]
          },
          "metadata": {
            "tags": []
          },
          "execution_count": 39
        }
      ]
    },
    {
      "cell_type": "code",
      "metadata": {
        "id": "px6ktlhyeXZf",
        "colab_type": "code",
        "colab": {
          "base_uri": "https://localhost:8080/",
          "height": 286
        },
        "outputId": "f3a21afe-7f89-4de8-f675-1819c7452eee"
      },
      "source": [
        "df2.show(10)"
      ],
      "execution_count": 40,
      "outputs": [
        {
          "output_type": "stream",
          "text": [
            "+---------------+-------------------+-----------+---------+-------------+\n",
            "|cpu_utilization|     event_datetime|free_memory|server_id|session_count|\n",
            "+---------------+-------------------+-----------+---------+-------------+\n",
            "|           0.57|03/05/2019 08:06:14|       0.51|      100|           47|\n",
            "|           0.47|03/05/2019 08:11:14|       0.62|      100|           43|\n",
            "|           0.56|03/05/2019 08:16:14|       0.57|      100|           62|\n",
            "|           0.57|03/05/2019 08:21:14|       0.56|      100|           50|\n",
            "|           0.35|03/05/2019 08:26:14|       0.46|      100|           43|\n",
            "|           0.41|03/05/2019 08:31:14|       0.58|      100|           48|\n",
            "|           0.57|03/05/2019 08:36:14|       0.35|      100|           58|\n",
            "|           0.41|03/05/2019 08:41:14|        0.4|      100|           58|\n",
            "|           0.53|03/05/2019 08:46:14|       0.35|      100|           62|\n",
            "|           0.51|03/05/2019 08:51:14|        0.6|      100|           45|\n",
            "+---------------+-------------------+-----------+---------+-------------+\n",
            "only showing top 10 rows\n",
            "\n"
          ],
          "name": "stdout"
        }
      ]
    },
    {
      "cell_type": "code",
      "metadata": {
        "id": "wJPYnJ72ej72",
        "colab_type": "code",
        "colab": {}
      },
      "source": [
        "df2_sample = df2.sample(False, fraction=0.1)"
      ],
      "execution_count": 0,
      "outputs": []
    },
    {
      "cell_type": "code",
      "metadata": {
        "id": "GZ9Yo5Tjeynp",
        "colab_type": "code",
        "colab": {
          "base_uri": "https://localhost:8080/",
          "height": 454
        },
        "outputId": "8387f6c0-d192-4848-dce6-02c2698bd7a0"
      },
      "source": [
        "df2_sample.show()"
      ],
      "execution_count": 42,
      "outputs": [
        {
          "output_type": "stream",
          "text": [
            "+---------------+-------------------+-----------+---------+-------------+\n",
            "|cpu_utilization|     event_datetime|free_memory|server_id|session_count|\n",
            "+---------------+-------------------+-----------+---------+-------------+\n",
            "|           0.39|03/05/2019 11:36:14|       0.54|      100|           70|\n",
            "|           0.64|03/05/2019 11:56:14|       0.62|      100|           68|\n",
            "|            0.5|03/05/2019 12:16:14|        0.5|      100|           51|\n",
            "|            0.5|03/05/2019 12:41:14|       0.38|      100|           44|\n",
            "|           0.41|03/05/2019 13:51:14|       0.59|      100|           67|\n",
            "|            0.6|03/05/2019 15:46:14|       0.56|      100|           38|\n",
            "|           0.34|03/05/2019 17:26:14|       0.61|      100|           52|\n",
            "|            0.4|03/05/2019 17:51:14|       0.51|      100|           53|\n",
            "|           0.63|03/05/2019 18:11:14|       0.59|      100|           67|\n",
            "|           0.52|03/05/2019 18:56:14|       0.66|      100|           47|\n",
            "|           0.61|03/05/2019 19:01:14|       0.45|      100|           38|\n",
            "|           0.41|03/05/2019 19:06:14|        0.4|      100|           59|\n",
            "|           0.49|03/05/2019 19:41:14|       0.37|      100|           55|\n",
            "|           0.57|03/05/2019 19:56:14|       0.36|      100|           43|\n",
            "|           0.53|03/05/2019 20:26:14|       0.41|      100|           46|\n",
            "|           0.29|03/05/2019 21:01:14|        0.5|      100|           58|\n",
            "|           0.45|03/05/2019 21:26:14|       0.47|      100|           71|\n",
            "|           0.43|03/06/2019 00:21:14|       0.63|      100|           53|\n",
            "|           0.59|03/06/2019 00:36:14|       0.39|      100|           62|\n",
            "|           0.54|03/06/2019 01:06:14|       0.58|      100|           68|\n",
            "+---------------+-------------------+-----------+---------+-------------+\n",
            "only showing top 20 rows\n",
            "\n"
          ],
          "name": "stdout"
        }
      ]
    },
    {
      "cell_type": "code",
      "metadata": {
        "id": "RpHxsHi6e1bY",
        "colab_type": "code",
        "colab": {}
      },
      "source": [
        "df2_sort = df2_sample.sort('event_datetime')"
      ],
      "execution_count": 0,
      "outputs": []
    },
    {
      "cell_type": "code",
      "metadata": {
        "id": "YEdk0Nm9fEbm",
        "colab_type": "code",
        "colab": {
          "base_uri": "https://localhost:8080/",
          "height": 286
        },
        "outputId": "c5964539-3fdb-4fc3-b53d-262eae3ec63a"
      },
      "source": [
        "df2_sort.show(10)"
      ],
      "execution_count": 44,
      "outputs": [
        {
          "output_type": "stream",
          "text": [
            "+---------------+-------------------+-----------+---------+-------------+\n",
            "|cpu_utilization|     event_datetime|free_memory|server_id|session_count|\n",
            "+---------------+-------------------+-----------+---------+-------------+\n",
            "|           0.52|03/05/2019 08:07:06|       0.49|      130|           77|\n",
            "|           0.81|03/05/2019 08:07:12|       0.15|      133|           78|\n",
            "|            0.8|03/05/2019 08:07:35|       0.21|      145|           94|\n",
            "|           0.71|03/05/2019 08:07:37|       0.35|      146|           75|\n",
            "|           0.32|03/05/2019 08:11:24|       0.56|      106|           59|\n",
            "|           0.78|03/05/2019 08:11:34|       0.14|      112|           83|\n",
            "|           0.63|03/05/2019 08:11:56|       0.34|      125|           72|\n",
            "|           0.65|03/05/2019 08:11:58|       0.12|      126|           83|\n",
            "|           0.55|03/05/2019 08:16:38|        0.6|      114|           61|\n",
            "|           0.75|03/05/2019 08:16:45|       0.23|      118|           82|\n",
            "+---------------+-------------------+-----------+---------+-------------+\n",
            "only showing top 10 rows\n",
            "\n"
          ],
          "name": "stdout"
        }
      ]
    },
    {
      "cell_type": "code",
      "metadata": {
        "id": "XBfi1csYfGtE",
        "colab_type": "code",
        "colab": {
          "base_uri": "https://localhost:8080/",
          "height": 205
        },
        "outputId": "32176e27-4974-4dc7-a910-c11fd9f1c067"
      },
      "source": [
        "df2.describe().show()"
      ],
      "execution_count": 45,
      "outputs": [
        {
          "output_type": "stream",
          "text": [
            "+-------+-------------------+-------------------+-------------------+-----------------+------------------+\n",
            "|summary|    cpu_utilization|     event_datetime|        free_memory|        server_id|     session_count|\n",
            "+-------+-------------------+-------------------+-------------------+-----------------+------------------+\n",
            "|  count|             500000|             500000|             500000|           500000|            500000|\n",
            "|   mean| 0.6205177399999506|               null|0.37912809999999125|            124.5|          69.59616|\n",
            "| stddev|0.15875173872913045|               null|0.15830931278376167|14.43088412055242|14.850676696352812|\n",
            "|    min|               0.22|03/05/2019 08:06:14|                0.0|              100|                32|\n",
            "|    max|                1.0|04/09/2019 01:22:46|               0.78|              149|               105|\n",
            "+-------+-------------------+-------------------+-------------------+-----------------+------------------+\n",
            "\n"
          ],
          "name": "stdout"
        }
      ]
    },
    {
      "cell_type": "code",
      "metadata": {
        "id": "tLjvwzyQfQCs",
        "colab_type": "code",
        "colab": {
          "base_uri": "https://localhost:8080/",
          "height": 1000
        },
        "outputId": "ebbe5eef-9307-4a1f-d687-b7a6b12d2297"
      },
      "source": [
        "dir(df2)"
      ],
      "execution_count": 47,
      "outputs": [
        {
          "output_type": "execute_result",
          "data": {
            "text/plain": [
              "['__class__',\n",
              " '__delattr__',\n",
              " '__dict__',\n",
              " '__dir__',\n",
              " '__doc__',\n",
              " '__eq__',\n",
              " '__format__',\n",
              " '__ge__',\n",
              " '__getattr__',\n",
              " '__getattribute__',\n",
              " '__getitem__',\n",
              " '__gt__',\n",
              " '__hash__',\n",
              " '__init__',\n",
              " '__init_subclass__',\n",
              " '__le__',\n",
              " '__lt__',\n",
              " '__module__',\n",
              " '__ne__',\n",
              " '__new__',\n",
              " '__reduce__',\n",
              " '__reduce_ex__',\n",
              " '__repr__',\n",
              " '__setattr__',\n",
              " '__sizeof__',\n",
              " '__str__',\n",
              " '__subclasshook__',\n",
              " '__weakref__',\n",
              " '_collectAsArrow',\n",
              " '_jcols',\n",
              " '_jdf',\n",
              " '_jmap',\n",
              " '_jseq',\n",
              " '_lazy_rdd',\n",
              " '_sc',\n",
              " '_schema',\n",
              " '_sort_cols',\n",
              " 'agg',\n",
              " 'alias',\n",
              " 'approxQuantile',\n",
              " 'cache',\n",
              " 'checkpoint',\n",
              " 'coalesce',\n",
              " 'colRegex',\n",
              " 'collect',\n",
              " 'columns',\n",
              " 'corr',\n",
              " 'count',\n",
              " 'cov',\n",
              " 'createGlobalTempView',\n",
              " 'createOrReplaceGlobalTempView',\n",
              " 'createOrReplaceTempView',\n",
              " 'createTempView',\n",
              " 'crossJoin',\n",
              " 'crosstab',\n",
              " 'cube',\n",
              " 'describe',\n",
              " 'distinct',\n",
              " 'drop',\n",
              " 'dropDuplicates',\n",
              " 'drop_duplicates',\n",
              " 'dropna',\n",
              " 'dtypes',\n",
              " 'explain',\n",
              " 'fillna',\n",
              " 'filter',\n",
              " 'first',\n",
              " 'foreach',\n",
              " 'foreachPartition',\n",
              " 'freqItems',\n",
              " 'groupBy',\n",
              " 'groupby',\n",
              " 'head',\n",
              " 'hint',\n",
              " 'intersect',\n",
              " 'isLocal',\n",
              " 'isStreaming',\n",
              " 'is_cached',\n",
              " 'join',\n",
              " 'limit',\n",
              " 'localCheckpoint',\n",
              " 'na',\n",
              " 'orderBy',\n",
              " 'persist',\n",
              " 'printSchema',\n",
              " 'randomSplit',\n",
              " 'rdd',\n",
              " 'registerTempTable',\n",
              " 'repartition',\n",
              " 'replace',\n",
              " 'rollup',\n",
              " 'sample',\n",
              " 'sampleBy',\n",
              " 'schema',\n",
              " 'select',\n",
              " 'selectExpr',\n",
              " 'show',\n",
              " 'sort',\n",
              " 'sortWithinPartitions',\n",
              " 'sql_ctx',\n",
              " 'stat',\n",
              " 'storageLevel',\n",
              " 'subtract',\n",
              " 'summary',\n",
              " 'take',\n",
              " 'toDF',\n",
              " 'toJSON',\n",
              " 'toLocalIterator',\n",
              " 'toPandas',\n",
              " 'union',\n",
              " 'unionAll',\n",
              " 'unionByName',\n",
              " 'unpersist',\n",
              " 'where',\n",
              " 'withColumn',\n",
              " 'withColumnRenamed',\n",
              " 'withWatermark',\n",
              " 'write',\n",
              " 'writeStream']"
            ]
          },
          "metadata": {
            "tags": []
          },
          "execution_count": 47
        }
      ]
    },
    {
      "cell_type": "code",
      "metadata": {
        "id": "mG-KJvawgHWw",
        "colab_type": "code",
        "colab": {
          "base_uri": "https://localhost:8080/",
          "height": 101
        },
        "outputId": "23e07fd4-e7f4-48a0-c2d3-54c60cce2a41"
      },
      "source": [
        "df2.columns"
      ],
      "execution_count": 53,
      "outputs": [
        {
          "output_type": "execute_result",
          "data": {
            "text/plain": [
              "['cpu_utilization',\n",
              " 'event_datetime',\n",
              " 'free_memory',\n",
              " 'server_id',\n",
              " 'session_count']"
            ]
          },
          "metadata": {
            "tags": []
          },
          "execution_count": 53
        }
      ]
    },
    {
      "cell_type": "code",
      "metadata": {
        "id": "O7bp9OykgPWL",
        "colab_type": "code",
        "colab": {}
      },
      "source": [
        "from pyspark.sql import SparkSession"
      ],
      "execution_count": 0,
      "outputs": []
    },
    {
      "cell_type": "code",
      "metadata": {
        "id": "TEYoOb_3hRIA",
        "colab_type": "code",
        "colab": {}
      },
      "source": [
        "spark = SparkSession.builder.getOrCreate()"
      ],
      "execution_count": 0,
      "outputs": []
    },
    {
      "cell_type": "code",
      "metadata": {
        "id": "JOfEORNhhYLg",
        "colab_type": "code",
        "colab": {}
      },
      "source": [
        "file_path = './location_temp.csv'"
      ],
      "execution_count": 0,
      "outputs": []
    },
    {
      "cell_type": "code",
      "metadata": {
        "id": "xUZIHlTehej2",
        "colab_type": "code",
        "colab": {}
      },
      "source": [
        "df1 = spark.read.format('csv').option('header', 'true').load(file_path)"
      ],
      "execution_count": 0,
      "outputs": []
    },
    {
      "cell_type": "code",
      "metadata": {
        "id": "hHoZ7StMhwG9",
        "colab_type": "code",
        "colab": {
          "base_uri": "https://localhost:8080/",
          "height": 286
        },
        "outputId": "ccaa78df-dfe4-4c74-e161-853dfa01d46c"
      },
      "source": [
        "df1.show(10)"
      ],
      "execution_count": 58,
      "outputs": [
        {
          "output_type": "stream",
          "text": [
            "+-------------------+-----------+------------+\n",
            "|         event_date|location_id|temp_celcius|\n",
            "+-------------------+-----------+------------+\n",
            "|03/04/2019 19:48:06|       loc0|          29|\n",
            "|03/04/2019 19:53:06|       loc0|          27|\n",
            "|03/04/2019 19:58:06|       loc0|          28|\n",
            "|03/04/2019 20:03:06|       loc0|          30|\n",
            "|03/04/2019 20:08:06|       loc0|          27|\n",
            "|03/04/2019 20:13:06|       loc0|          27|\n",
            "|03/04/2019 20:18:06|       loc0|          27|\n",
            "|03/04/2019 20:23:06|       loc0|          29|\n",
            "|03/04/2019 20:28:06|       loc0|          32|\n",
            "|03/04/2019 20:33:06|       loc0|          35|\n",
            "+-------------------+-----------+------------+\n",
            "only showing top 10 rows\n",
            "\n"
          ],
          "name": "stdout"
        }
      ]
    },
    {
      "cell_type": "code",
      "metadata": {
        "id": "11zB3yPphyQW",
        "colab_type": "code",
        "colab": {
          "base_uri": "https://localhost:8080/",
          "height": 454
        },
        "outputId": "ab807b3d-fcad-4b75-cc6d-5df7a15b977a"
      },
      "source": [
        "df1.filter(df1['location_id'] == 'loc0').show()"
      ],
      "execution_count": 59,
      "outputs": [
        {
          "output_type": "stream",
          "text": [
            "+-------------------+-----------+------------+\n",
            "|         event_date|location_id|temp_celcius|\n",
            "+-------------------+-----------+------------+\n",
            "|03/04/2019 19:48:06|       loc0|          29|\n",
            "|03/04/2019 19:53:06|       loc0|          27|\n",
            "|03/04/2019 19:58:06|       loc0|          28|\n",
            "|03/04/2019 20:03:06|       loc0|          30|\n",
            "|03/04/2019 20:08:06|       loc0|          27|\n",
            "|03/04/2019 20:13:06|       loc0|          27|\n",
            "|03/04/2019 20:18:06|       loc0|          27|\n",
            "|03/04/2019 20:23:06|       loc0|          29|\n",
            "|03/04/2019 20:28:06|       loc0|          32|\n",
            "|03/04/2019 20:33:06|       loc0|          35|\n",
            "|03/04/2019 20:38:06|       loc0|          32|\n",
            "|03/04/2019 20:43:06|       loc0|          28|\n",
            "|03/04/2019 20:48:06|       loc0|          28|\n",
            "|03/04/2019 20:53:06|       loc0|          32|\n",
            "|03/04/2019 20:58:06|       loc0|          34|\n",
            "|03/04/2019 21:03:06|       loc0|          33|\n",
            "|03/04/2019 21:08:06|       loc0|          27|\n",
            "|03/04/2019 21:13:06|       loc0|          28|\n",
            "|03/04/2019 21:18:06|       loc0|          33|\n",
            "|03/04/2019 21:23:06|       loc0|          28|\n",
            "+-------------------+-----------+------------+\n",
            "only showing top 20 rows\n",
            "\n"
          ],
          "name": "stdout"
        }
      ]
    },
    {
      "cell_type": "code",
      "metadata": {
        "id": "m2NBTWqEiCZF",
        "colab_type": "code",
        "colab": {
          "base_uri": "https://localhost:8080/",
          "height": 34
        },
        "outputId": "fbce2d62-e68f-485d-b27e-d48439c209a9"
      },
      "source": [
        "df1.filter(df1['location_id'] == 'loc0').count()"
      ],
      "execution_count": 60,
      "outputs": [
        {
          "output_type": "execute_result",
          "data": {
            "text/plain": [
              "1000"
            ]
          },
          "metadata": {
            "tags": []
          },
          "execution_count": 60
        }
      ]
    },
    {
      "cell_type": "code",
      "metadata": {
        "id": "6YHuO9aIiLcI",
        "colab_type": "code",
        "colab": {
          "base_uri": "https://localhost:8080/",
          "height": 34
        },
        "outputId": "2e9f0c1b-d3d4-40e2-dcbd-fc6e003d3784"
      },
      "source": [
        "df1.filter(df1['location_id'] == 'loc1').count()"
      ],
      "execution_count": 61,
      "outputs": [
        {
          "output_type": "execute_result",
          "data": {
            "text/plain": [
              "1000"
            ]
          },
          "metadata": {
            "tags": []
          },
          "execution_count": 61
        }
      ]
    },
    {
      "cell_type": "code",
      "metadata": {
        "id": "yqNokkueiRjk",
        "colab_type": "code",
        "colab": {
          "base_uri": "https://localhost:8080/",
          "height": 454
        },
        "outputId": "67264c40-d994-401b-95ee-33dee1cb1c99"
      },
      "source": [
        "df1.filter(df1['location_id'] == 'loc1').show()"
      ],
      "execution_count": 62,
      "outputs": [
        {
          "output_type": "stream",
          "text": [
            "+-------------------+-----------+------------+\n",
            "|         event_date|location_id|temp_celcius|\n",
            "+-------------------+-----------+------------+\n",
            "|03/04/2019 19:48:06|       loc1|          31|\n",
            "|03/04/2019 19:53:06|       loc1|          26|\n",
            "|03/04/2019 19:58:06|       loc1|          31|\n",
            "|03/04/2019 20:03:06|       loc1|          26|\n",
            "|03/04/2019 20:08:06|       loc1|          28|\n",
            "|03/04/2019 20:13:06|       loc1|          27|\n",
            "|03/04/2019 20:18:06|       loc1|          30|\n",
            "|03/04/2019 20:23:06|       loc1|          28|\n",
            "|03/04/2019 20:28:06|       loc1|          28|\n",
            "|03/04/2019 20:33:06|       loc1|          27|\n",
            "|03/04/2019 20:38:06|       loc1|          30|\n",
            "|03/04/2019 20:43:06|       loc1|          32|\n",
            "|03/04/2019 20:48:06|       loc1|          26|\n",
            "|03/04/2019 20:53:06|       loc1|          30|\n",
            "|03/04/2019 20:58:06|       loc1|          26|\n",
            "|03/04/2019 21:03:06|       loc1|          28|\n",
            "|03/04/2019 21:08:06|       loc1|          27|\n",
            "|03/04/2019 21:13:06|       loc1|          28|\n",
            "|03/04/2019 21:18:06|       loc1|          27|\n",
            "|03/04/2019 21:23:06|       loc1|          26|\n",
            "+-------------------+-----------+------------+\n",
            "only showing top 20 rows\n",
            "\n"
          ],
          "name": "stdout"
        }
      ]
    },
    {
      "cell_type": "code",
      "metadata": {
        "id": "ATqNORTiiVSL",
        "colab_type": "code",
        "colab": {}
      },
      "source": [
        "from pyspark.sql import SparkSession\n",
        "spark = SparkSession.builder.getOrCreate()"
      ],
      "execution_count": 0,
      "outputs": []
    },
    {
      "cell_type": "code",
      "metadata": {
        "id": "WCMKaqaDizW7",
        "colab_type": "code",
        "colab": {}
      },
      "source": [
        "file_path = './location_temp.csv'\n",
        "df1 = spark.read.format('csv').option('header', 'true').load(file_path)"
      ],
      "execution_count": 0,
      "outputs": []
    },
    {
      "cell_type": "code",
      "metadata": {
        "id": "-b7mIp_Vje--",
        "colab_type": "code",
        "colab": {
          "base_uri": "https://localhost:8080/",
          "height": 286
        },
        "outputId": "34f67ff6-1a11-407b-a97e-025875c754fa"
      },
      "source": [
        "df1.show(10)"
      ],
      "execution_count": 65,
      "outputs": [
        {
          "output_type": "stream",
          "text": [
            "+-------------------+-----------+------------+\n",
            "|         event_date|location_id|temp_celcius|\n",
            "+-------------------+-----------+------------+\n",
            "|03/04/2019 19:48:06|       loc0|          29|\n",
            "|03/04/2019 19:53:06|       loc0|          27|\n",
            "|03/04/2019 19:58:06|       loc0|          28|\n",
            "|03/04/2019 20:03:06|       loc0|          30|\n",
            "|03/04/2019 20:08:06|       loc0|          27|\n",
            "|03/04/2019 20:13:06|       loc0|          27|\n",
            "|03/04/2019 20:18:06|       loc0|          27|\n",
            "|03/04/2019 20:23:06|       loc0|          29|\n",
            "|03/04/2019 20:28:06|       loc0|          32|\n",
            "|03/04/2019 20:33:06|       loc0|          35|\n",
            "+-------------------+-----------+------------+\n",
            "only showing top 10 rows\n",
            "\n"
          ],
          "name": "stdout"
        }
      ]
    },
    {
      "cell_type": "code",
      "metadata": {
        "id": "Kho9O1BLjiJE",
        "colab_type": "code",
        "colab": {
          "base_uri": "https://localhost:8080/",
          "height": 454
        },
        "outputId": "a4aa19c4-8414-4313-c7c3-ca50786716f2"
      },
      "source": [
        "df1.groupby('location_id').count().show()"
      ],
      "execution_count": 66,
      "outputs": [
        {
          "output_type": "stream",
          "text": [
            "+-----------+-----+\n",
            "|location_id|count|\n",
            "+-----------+-----+\n",
            "|     loc196| 1000|\n",
            "|     loc226| 1000|\n",
            "|     loc463| 1000|\n",
            "|     loc150| 1000|\n",
            "|     loc292| 1000|\n",
            "|     loc311| 1000|\n",
            "|      loc22| 1000|\n",
            "|     loc351| 1000|\n",
            "|     loc370| 1000|\n",
            "|     loc419| 1000|\n",
            "|      loc31| 1000|\n",
            "|     loc305| 1000|\n",
            "|      loc82| 1000|\n",
            "|      loc90| 1000|\n",
            "|     loc118| 1000|\n",
            "|     loc195| 1000|\n",
            "|     loc208| 1000|\n",
            "|      loc39| 1000|\n",
            "|      loc75| 1000|\n",
            "|     loc228| 1000|\n",
            "+-----------+-----+\n",
            "only showing top 20 rows\n",
            "\n"
          ],
          "name": "stdout"
        }
      ]
    },
    {
      "cell_type": "code",
      "metadata": {
        "id": "AKTbht8VkWri",
        "colab_type": "code",
        "colab": {
          "base_uri": "https://localhost:8080/",
          "height": 454
        },
        "outputId": "ef0a2e7f-4ac6-425e-a65c-c2a4e8f17810"
      },
      "source": [
        "df1.orderBy('location_id').show()"
      ],
      "execution_count": 68,
      "outputs": [
        {
          "output_type": "stream",
          "text": [
            "+-------------------+-----------+------------+\n",
            "|         event_date|location_id|temp_celcius|\n",
            "+-------------------+-----------+------------+\n",
            "|03/04/2019 21:23:06|       loc0|          28|\n",
            "|03/04/2019 20:43:06|       loc0|          28|\n",
            "|03/04/2019 21:18:06|       loc0|          33|\n",
            "|03/04/2019 20:18:06|       loc0|          27|\n",
            "|03/04/2019 20:38:06|       loc0|          32|\n",
            "|03/04/2019 20:58:06|       loc0|          34|\n",
            "|03/04/2019 21:13:06|       loc0|          28|\n",
            "|03/04/2019 19:58:06|       loc0|          28|\n",
            "|03/04/2019 20:13:06|       loc0|          27|\n",
            "|03/04/2019 20:28:06|       loc0|          32|\n",
            "|03/04/2019 20:33:06|       loc0|          35|\n",
            "|03/04/2019 20:48:06|       loc0|          28|\n",
            "|03/04/2019 20:53:06|       loc0|          32|\n",
            "|03/04/2019 21:03:06|       loc0|          33|\n",
            "|03/04/2019 21:08:06|       loc0|          27|\n",
            "|03/04/2019 19:48:06|       loc0|          29|\n",
            "|03/04/2019 19:53:06|       loc0|          27|\n",
            "|03/04/2019 20:03:06|       loc0|          30|\n",
            "|03/04/2019 20:08:06|       loc0|          27|\n",
            "|03/04/2019 20:23:06|       loc0|          29|\n",
            "+-------------------+-----------+------------+\n",
            "only showing top 20 rows\n",
            "\n"
          ],
          "name": "stdout"
        }
      ]
    },
    {
      "cell_type": "code",
      "metadata": {
        "id": "vE3OeWhEkdhP",
        "colab_type": "code",
        "colab": {
          "base_uri": "https://localhost:8080/",
          "height": 454
        },
        "outputId": "23485725-6020-465c-84c6-390f571b51d6"
      },
      "source": [
        "df1.groupby('location_id').agg({'temp_celcius': 'mean'}).show()"
      ],
      "execution_count": 69,
      "outputs": [
        {
          "output_type": "stream",
          "text": [
            "+-----------+-----------------+\n",
            "|location_id|avg(temp_celcius)|\n",
            "+-----------+-----------------+\n",
            "|     loc196|           29.225|\n",
            "|     loc226|           25.306|\n",
            "|     loc463|           23.317|\n",
            "|     loc150|           32.188|\n",
            "|     loc292|           29.159|\n",
            "|     loc311|           24.308|\n",
            "|      loc22|           28.251|\n",
            "|     loc351|           28.194|\n",
            "|     loc370|            29.14|\n",
            "|     loc419|           29.141|\n",
            "|      loc31|           25.196|\n",
            "|     loc305|           27.314|\n",
            "|      loc82|           27.355|\n",
            "|      loc90|           23.216|\n",
            "|     loc118|           24.219|\n",
            "|     loc195|            27.25|\n",
            "|     loc208|           26.206|\n",
            "|      loc39|           25.199|\n",
            "|      loc75|           23.209|\n",
            "|     loc228|           27.295|\n",
            "+-----------+-----------------+\n",
            "only showing top 20 rows\n",
            "\n"
          ],
          "name": "stdout"
        }
      ]
    },
    {
      "cell_type": "code",
      "metadata": {
        "id": "jReXgsupk7hW",
        "colab_type": "code",
        "colab": {
          "base_uri": "https://localhost:8080/",
          "height": 454
        },
        "outputId": "ed502f5d-1c8a-4153-e1fb-2148e649a87e"
      },
      "source": [
        "df1.groupby('location_id').agg({'temp_celcius': 'max'}).show()"
      ],
      "execution_count": 70,
      "outputs": [
        {
          "output_type": "stream",
          "text": [
            "+-----------+-----------------+\n",
            "|location_id|max(temp_celcius)|\n",
            "+-----------+-----------------+\n",
            "|     loc196|               36|\n",
            "|     loc226|               32|\n",
            "|     loc463|               30|\n",
            "|     loc150|               39|\n",
            "|     loc292|               36|\n",
            "|     loc311|               31|\n",
            "|      loc22|               35|\n",
            "|     loc351|               35|\n",
            "|     loc370|               36|\n",
            "|     loc419|               36|\n",
            "|     loc305|               34|\n",
            "|      loc31|               32|\n",
            "|     loc118|               31|\n",
            "|     loc195|               34|\n",
            "|     loc208|               33|\n",
            "|      loc82|               34|\n",
            "|      loc90|               30|\n",
            "|     loc228|               34|\n",
            "|      loc39|               32|\n",
            "|      loc75|               30|\n",
            "+-----------+-----------------+\n",
            "only showing top 20 rows\n",
            "\n"
          ],
          "name": "stdout"
        }
      ]
    },
    {
      "cell_type": "code",
      "metadata": {
        "id": "uSIJXCd0lCaM",
        "colab_type": "code",
        "colab": {}
      },
      "source": [
        "from pyspark.sql import SparkSession\n",
        "spark = SparkSession.builder.getOrCreate()"
      ],
      "execution_count": 0,
      "outputs": []
    },
    {
      "cell_type": "code",
      "metadata": {
        "id": "zziVB_oQldNC",
        "colab_type": "code",
        "colab": {}
      },
      "source": [
        "file_path = './location_temp.csv'\n",
        "df1 = spark.read.format('csv').option('header', 'true').load(file_path)"
      ],
      "execution_count": 0,
      "outputs": []
    },
    {
      "cell_type": "code",
      "metadata": {
        "id": "XoTkYMIZluLx",
        "colab_type": "code",
        "colab": {
          "base_uri": "https://localhost:8080/",
          "height": 286
        },
        "outputId": "8cea5c7e-57fe-4cdd-b58f-73e5a652bc6e"
      },
      "source": [
        "df1.show(10)"
      ],
      "execution_count": 75,
      "outputs": [
        {
          "output_type": "stream",
          "text": [
            "+-------------------+-----------+------------+\n",
            "|         event_date|location_id|temp_celcius|\n",
            "+-------------------+-----------+------------+\n",
            "|03/04/2019 19:48:06|       loc0|          29|\n",
            "|03/04/2019 19:53:06|       loc0|          27|\n",
            "|03/04/2019 19:58:06|       loc0|          28|\n",
            "|03/04/2019 20:03:06|       loc0|          30|\n",
            "|03/04/2019 20:08:06|       loc0|          27|\n",
            "|03/04/2019 20:13:06|       loc0|          27|\n",
            "|03/04/2019 20:18:06|       loc0|          27|\n",
            "|03/04/2019 20:23:06|       loc0|          29|\n",
            "|03/04/2019 20:28:06|       loc0|          32|\n",
            "|03/04/2019 20:33:06|       loc0|          35|\n",
            "+-------------------+-----------+------------+\n",
            "only showing top 10 rows\n",
            "\n"
          ],
          "name": "stdout"
        }
      ]
    },
    {
      "cell_type": "code",
      "metadata": {
        "id": "y-JrA9yclyLr",
        "colab_type": "code",
        "colab": {
          "base_uri": "https://localhost:8080/",
          "height": 34
        },
        "outputId": "5f006e1c-2f2d-49b0-9eef-2337d34fd45d"
      },
      "source": [
        "df1.count()"
      ],
      "execution_count": 76,
      "outputs": [
        {
          "output_type": "execute_result",
          "data": {
            "text/plain": [
              "500000"
            ]
          },
          "metadata": {
            "tags": []
          },
          "execution_count": 76
        }
      ]
    },
    {
      "cell_type": "code",
      "metadata": {
        "id": "hVAbeGOFrwXM",
        "colab_type": "code",
        "colab": {}
      },
      "source": [
        "df1_s1 = df1.sample(fraction=0.1, withReplacement=False)"
      ],
      "execution_count": 0,
      "outputs": []
    },
    {
      "cell_type": "code",
      "metadata": {
        "id": "K6TwNdhlr8YA",
        "colab_type": "code",
        "colab": {
          "base_uri": "https://localhost:8080/",
          "height": 34
        },
        "outputId": "dfedbfdd-3596-4de8-b461-8ddaa9a99082"
      },
      "source": [
        "df1_s1.count()"
      ],
      "execution_count": 81,
      "outputs": [
        {
          "output_type": "execute_result",
          "data": {
            "text/plain": [
              "49977"
            ]
          },
          "metadata": {
            "tags": []
          },
          "execution_count": 81
        }
      ]
    },
    {
      "cell_type": "code",
      "metadata": {
        "id": "I8UGoJE9r-oP",
        "colab_type": "code",
        "colab": {
          "base_uri": "https://localhost:8080/",
          "height": 454
        },
        "outputId": "d0bd0b66-7e45-4cfd-ebe5-1a68a22d81e6"
      },
      "source": [
        "df1_s1.groupby('location_id').agg({'temp_celcius': 'mean'}).show()"
      ],
      "execution_count": 82,
      "outputs": [
        {
          "output_type": "stream",
          "text": [
            "+-----------+------------------+\n",
            "|location_id| avg(temp_celcius)|\n",
            "+-----------+------------------+\n",
            "|     loc196|29.261682242990656|\n",
            "|     loc226|24.882882882882882|\n",
            "|     loc463| 23.51063829787234|\n",
            "|     loc150| 32.12871287128713|\n",
            "|     loc292|28.795454545454547|\n",
            "|     loc311| 24.35514018691589|\n",
            "|      loc22|28.338983050847457|\n",
            "|     loc351| 28.20408163265306|\n",
            "|     loc370|29.206521739130434|\n",
            "|     loc419|29.321739130434782|\n",
            "|      loc31|25.316831683168317|\n",
            "|     loc305|27.242990654205606|\n",
            "|      loc82|27.376344086021504|\n",
            "|      loc90|23.166666666666668|\n",
            "|     loc118|24.433962264150942|\n",
            "|     loc195|             27.25|\n",
            "|     loc208|26.037735849056602|\n",
            "|      loc39|25.128712871287128|\n",
            "|      loc75|23.300970873786408|\n",
            "|     loc228|27.517857142857142|\n",
            "+-----------+------------------+\n",
            "only showing top 20 rows\n",
            "\n"
          ],
          "name": "stdout"
        }
      ]
    },
    {
      "cell_type": "code",
      "metadata": {
        "id": "OENld-cosU7d",
        "colab_type": "code",
        "colab": {
          "base_uri": "https://localhost:8080/",
          "height": 454
        },
        "outputId": "67ce0e41-d238-4916-cf9d-4fc0d6077916"
      },
      "source": [
        "df1_s1.groupby('location_id').agg({'temp_celcius': 'mean'}).orderBy('location_id').show()"
      ],
      "execution_count": 83,
      "outputs": [
        {
          "output_type": "stream",
          "text": [
            "+-----------+------------------+\n",
            "|location_id| avg(temp_celcius)|\n",
            "+-----------+------------------+\n",
            "|       loc0|29.083333333333332|\n",
            "|       loc1| 28.15841584158416|\n",
            "|      loc10|  25.0989010989011|\n",
            "|     loc100|             26.66|\n",
            "|     loc101| 25.30952380952381|\n",
            "|     loc102| 30.51219512195122|\n",
            "|     loc103|25.194690265486727|\n",
            "|     loc104|25.894736842105264|\n",
            "|     loc105| 26.38679245283019|\n",
            "|     loc106|  27.0873786407767|\n",
            "|     loc107| 32.94285714285714|\n",
            "|     loc108|  32.4639175257732|\n",
            "|     loc109|23.916666666666668|\n",
            "|      loc11|25.180851063829788|\n",
            "|     loc110|              26.0|\n",
            "|     loc111| 31.77227722772277|\n",
            "|     loc112| 33.40677966101695|\n",
            "|     loc113| 30.60576923076923|\n",
            "|     loc114| 29.24778761061947|\n",
            "|     loc115| 23.16190476190476|\n",
            "+-----------+------------------+\n",
            "only showing top 20 rows\n",
            "\n"
          ],
          "name": "stdout"
        }
      ]
    },
    {
      "cell_type": "code",
      "metadata": {
        "id": "YIInTukqsjOH",
        "colab_type": "code",
        "colab": {
          "base_uri": "https://localhost:8080/",
          "height": 286
        },
        "outputId": "f6fc6bb8-8e5d-4766-e49e-2ab0d3386915"
      },
      "source": [
        "df1.groupby('location_id').agg({'temp_celcius': 'mean'}).orderBy('location_id').show(10)"
      ],
      "execution_count": 84,
      "outputs": [
        {
          "output_type": "stream",
          "text": [
            "+-----------+-----------------+\n",
            "|location_id|avg(temp_celcius)|\n",
            "+-----------+-----------------+\n",
            "|       loc0|           29.176|\n",
            "|       loc1|           28.246|\n",
            "|      loc10|           25.337|\n",
            "|     loc100|           27.297|\n",
            "|     loc101|           25.317|\n",
            "|     loc102|           30.327|\n",
            "|     loc103|           25.341|\n",
            "|     loc104|           26.204|\n",
            "|     loc105|           26.217|\n",
            "|     loc106|           27.201|\n",
            "+-----------+-----------------+\n",
            "only showing top 10 rows\n",
            "\n"
          ],
          "name": "stdout"
        }
      ]
    },
    {
      "cell_type": "code",
      "metadata": {
        "id": "yP0rrytRtAdJ",
        "colab_type": "code",
        "colab": {}
      },
      "source": [
        "from pyspark.sql import SparkSession\n",
        "spark = SparkSession.builder.getOrCreate()\n"
      ],
      "execution_count": 0,
      "outputs": []
    },
    {
      "cell_type": "code",
      "metadata": {
        "id": "SWL0ALrWuojJ",
        "colab_type": "code",
        "colab": {}
      },
      "source": [
        "file_path = './location_temp.csv'\n",
        "df1 = spark.read.format('csv').option('header', 'true').load(file_path)"
      ],
      "execution_count": 0,
      "outputs": []
    },
    {
      "cell_type": "code",
      "metadata": {
        "id": "dXOHfx76wDtP",
        "colab_type": "code",
        "colab": {
          "base_uri": "https://localhost:8080/",
          "height": 286
        },
        "outputId": "d6929f11-b559-4c8f-805d-0eb907852dd2"
      },
      "source": [
        "df1.show(10)"
      ],
      "execution_count": 90,
      "outputs": [
        {
          "output_type": "stream",
          "text": [
            "+-------------------+-----------+------------+\n",
            "|         event_date|location_id|temp_celcius|\n",
            "+-------------------+-----------+------------+\n",
            "|03/04/2019 19:48:06|       loc0|          29|\n",
            "|03/04/2019 19:53:06|       loc0|          27|\n",
            "|03/04/2019 19:58:06|       loc0|          28|\n",
            "|03/04/2019 20:03:06|       loc0|          30|\n",
            "|03/04/2019 20:08:06|       loc0|          27|\n",
            "|03/04/2019 20:13:06|       loc0|          27|\n",
            "|03/04/2019 20:18:06|       loc0|          27|\n",
            "|03/04/2019 20:23:06|       loc0|          29|\n",
            "|03/04/2019 20:28:06|       loc0|          32|\n",
            "|03/04/2019 20:33:06|       loc0|          35|\n",
            "+-------------------+-----------+------------+\n",
            "only showing top 10 rows\n",
            "\n"
          ],
          "name": "stdout"
        }
      ]
    },
    {
      "cell_type": "code",
      "metadata": {
        "id": "_y8fFVXMwHd2",
        "colab_type": "code",
        "colab": {}
      },
      "source": [
        "df1.write.csv('df1.csv')"
      ],
      "execution_count": 0,
      "outputs": []
    },
    {
      "cell_type": "code",
      "metadata": {
        "id": "CjbAXsxKwNtK",
        "colab_type": "code",
        "colab": {
          "base_uri": "https://localhost:8080/",
          "height": 50
        },
        "outputId": "387eb69d-f3ac-4cf7-a697-38492054df96"
      },
      "source": [
        "!ls df1.csv"
      ],
      "execution_count": 92,
      "outputs": [
        {
          "output_type": "stream",
          "text": [
            "part-00000-e464737a-cf89-4879-92cf-9c393f61569b-c000.csv  _SUCCESS\n",
            "part-00001-e464737a-cf89-4879-92cf-9c393f61569b-c000.csv\n"
          ],
          "name": "stdout"
        }
      ]
    },
    {
      "cell_type": "code",
      "metadata": {
        "id": "bQqHcZIRwUnp",
        "colab_type": "code",
        "colab": {
          "base_uri": "https://localhost:8080/",
          "height": 185
        },
        "outputId": "ca313b4c-8f39-426c-cf7e-2c956c1f68e2"
      },
      "source": [
        "! head df1.csv/part-00000-e464737a-cf89-4879-92cf-9c393f61569b-c000.csv"
      ],
      "execution_count": 93,
      "outputs": [
        {
          "output_type": "stream",
          "text": [
            "03/04/2019 19:48:06,loc0,29\n",
            "03/04/2019 19:53:06,loc0,27\n",
            "03/04/2019 19:58:06,loc0,28\n",
            "03/04/2019 20:03:06,loc0,30\n",
            "03/04/2019 20:08:06,loc0,27\n",
            "03/04/2019 20:13:06,loc0,27\n",
            "03/04/2019 20:18:06,loc0,27\n",
            "03/04/2019 20:23:06,loc0,29\n",
            "03/04/2019 20:28:06,loc0,32\n",
            "03/04/2019 20:33:06,loc0,35\n"
          ],
          "name": "stdout"
        }
      ]
    },
    {
      "cell_type": "code",
      "metadata": {
        "id": "_KcJvkX2wuIh",
        "colab_type": "code",
        "colab": {}
      },
      "source": [
        "df1.write.json('df1.json')"
      ],
      "execution_count": 0,
      "outputs": []
    },
    {
      "cell_type": "code",
      "metadata": {
        "id": "kF9LakDsw1d9",
        "colab_type": "code",
        "colab": {
          "base_uri": "https://localhost:8080/",
          "height": 50
        },
        "outputId": "e8bec903-dd83-4ab5-ab40-71eeb682ab83"
      },
      "source": [
        "!ls df1.json"
      ],
      "execution_count": 95,
      "outputs": [
        {
          "output_type": "stream",
          "text": [
            "part-00000-0d58c38f-69ef-4429-bb5f-7073eb1b5bba-c000.json  _SUCCESS\n",
            "part-00001-0d58c38f-69ef-4429-bb5f-7073eb1b5bba-c000.json\n"
          ],
          "name": "stdout"
        }
      ]
    },
    {
      "cell_type": "code",
      "metadata": {
        "id": "wWEEWEj2w487",
        "colab_type": "code",
        "colab": {
          "base_uri": "https://localhost:8080/",
          "height": 185
        },
        "outputId": "1fd754e2-f158-4eda-dc8a-b82906dd84c3"
      },
      "source": [
        "! head df1.json/part-00000-0d58c38f-69ef-4429-bb5f-7073eb1b5bba-c000.json"
      ],
      "execution_count": 96,
      "outputs": [
        {
          "output_type": "stream",
          "text": [
            "{\"event_date\":\"03/04/2019 19:48:06\",\"location_id\":\"loc0\",\"temp_celcius\":\"29\"}\n",
            "{\"event_date\":\"03/04/2019 19:53:06\",\"location_id\":\"loc0\",\"temp_celcius\":\"27\"}\n",
            "{\"event_date\":\"03/04/2019 19:58:06\",\"location_id\":\"loc0\",\"temp_celcius\":\"28\"}\n",
            "{\"event_date\":\"03/04/2019 20:03:06\",\"location_id\":\"loc0\",\"temp_celcius\":\"30\"}\n",
            "{\"event_date\":\"03/04/2019 20:08:06\",\"location_id\":\"loc0\",\"temp_celcius\":\"27\"}\n",
            "{\"event_date\":\"03/04/2019 20:13:06\",\"location_id\":\"loc0\",\"temp_celcius\":\"27\"}\n",
            "{\"event_date\":\"03/04/2019 20:18:06\",\"location_id\":\"loc0\",\"temp_celcius\":\"27\"}\n",
            "{\"event_date\":\"03/04/2019 20:23:06\",\"location_id\":\"loc0\",\"temp_celcius\":\"29\"}\n",
            "{\"event_date\":\"03/04/2019 20:28:06\",\"location_id\":\"loc0\",\"temp_celcius\":\"32\"}\n",
            "{\"event_date\":\"03/04/2019 20:33:06\",\"location_id\":\"loc0\",\"temp_celcius\":\"35\"}\n"
          ],
          "name": "stdout"
        }
      ]
    },
    {
      "cell_type": "code",
      "metadata": {
        "id": "gYXeb4Z8w_vT",
        "colab_type": "code",
        "colab": {}
      },
      "source": [
        "from pyspark.sql import SparkSession\n"
      ],
      "execution_count": 0,
      "outputs": []
    },
    {
      "cell_type": "code",
      "metadata": {
        "id": "p76U6EvN0UlG",
        "colab_type": "code",
        "colab": {}
      },
      "source": [
        "spark = SparkSession \\\n",
        "    .builder \\\n",
        "    .appName('Spark SQL Query DataFrame') \\\n",
        "    .getOrCreate()"
      ],
      "execution_count": 0,
      "outputs": []
    },
    {
      "cell_type": "code",
      "metadata": {
        "id": "cjXyCYKh0mbr",
        "colab_type": "code",
        "colab": {}
      },
      "source": [
        "file_path = './utilization.json'\n",
        "df = spark.read.format('json').load(file_path)"
      ],
      "execution_count": 0,
      "outputs": []
    },
    {
      "cell_type": "code",
      "metadata": {
        "id": "_29zR0c001nX",
        "colab_type": "code",
        "colab": {
          "base_uri": "https://localhost:8080/",
          "height": 286
        },
        "outputId": "642c4b6b-2fbb-41be-942c-0bea53f0fc24"
      },
      "source": [
        "df.show(10)"
      ],
      "execution_count": 100,
      "outputs": [
        {
          "output_type": "stream",
          "text": [
            "+---------------+-------------------+-----------+---------+-------------+\n",
            "|cpu_utilization|     event_datetime|free_memory|server_id|session_count|\n",
            "+---------------+-------------------+-----------+---------+-------------+\n",
            "|           0.57|03/05/2019 08:06:14|       0.51|      100|           47|\n",
            "|           0.47|03/05/2019 08:11:14|       0.62|      100|           43|\n",
            "|           0.56|03/05/2019 08:16:14|       0.57|      100|           62|\n",
            "|           0.57|03/05/2019 08:21:14|       0.56|      100|           50|\n",
            "|           0.35|03/05/2019 08:26:14|       0.46|      100|           43|\n",
            "|           0.41|03/05/2019 08:31:14|       0.58|      100|           48|\n",
            "|           0.57|03/05/2019 08:36:14|       0.35|      100|           58|\n",
            "|           0.41|03/05/2019 08:41:14|        0.4|      100|           58|\n",
            "|           0.53|03/05/2019 08:46:14|       0.35|      100|           62|\n",
            "|           0.51|03/05/2019 08:51:14|        0.6|      100|           45|\n",
            "+---------------+-------------------+-----------+---------+-------------+\n",
            "only showing top 10 rows\n",
            "\n"
          ],
          "name": "stdout"
        }
      ]
    },
    {
      "cell_type": "code",
      "metadata": {
        "id": "79gpCNYa0-v5",
        "colab_type": "code",
        "colab": {
          "base_uri": "https://localhost:8080/",
          "height": 34
        },
        "outputId": "0e3ae1b8-9989-4fcb-c3e4-29a1416fa3f4"
      },
      "source": [
        "df.count()"
      ],
      "execution_count": 101,
      "outputs": [
        {
          "output_type": "execute_result",
          "data": {
            "text/plain": [
              "500000"
            ]
          },
          "metadata": {
            "tags": []
          },
          "execution_count": 101
        }
      ]
    },
    {
      "cell_type": "code",
      "metadata": {
        "id": "2ZwPuBBb1KSS",
        "colab_type": "code",
        "colab": {}
      },
      "source": [
        "df.createOrReplaceTempView('utilization')"
      ],
      "execution_count": 0,
      "outputs": []
    },
    {
      "cell_type": "code",
      "metadata": {
        "id": "w8bmkkRZ1SQh",
        "colab_type": "code",
        "colab": {}
      },
      "source": [
        "df_sql = spark.sql('SELECT * FROM utilization LIMIT 10')"
      ],
      "execution_count": 0,
      "outputs": []
    },
    {
      "cell_type": "code",
      "metadata": {
        "id": "JtmKuMe-1n-8",
        "colab_type": "code",
        "colab": {
          "base_uri": "https://localhost:8080/",
          "height": 269
        },
        "outputId": "2ed999bb-8b43-44e9-a374-c3183cbedf3e"
      },
      "source": [
        "df_sql.show()"
      ],
      "execution_count": 109,
      "outputs": [
        {
          "output_type": "stream",
          "text": [
            "+---------+-------------+\n",
            "|server_id|session_count|\n",
            "+---------+-------------+\n",
            "|      100|           47|\n",
            "|      100|           43|\n",
            "|      100|           62|\n",
            "|      100|           50|\n",
            "|      100|           43|\n",
            "|      100|           48|\n",
            "|      100|           58|\n",
            "|      100|           58|\n",
            "|      100|           62|\n",
            "|      100|           45|\n",
            "+---------+-------------+\n",
            "\n"
          ],
          "name": "stdout"
        }
      ]
    },
    {
      "cell_type": "code",
      "metadata": {
        "id": "hH6K3iZi1yWq",
        "colab_type": "code",
        "colab": {
          "base_uri": "https://localhost:8080/",
          "height": 34
        },
        "outputId": "3cba60ca-95aa-4f63-d5fd-be1f5a606e73"
      },
      "source": [
        "df_sql.count()"
      ],
      "execution_count": 105,
      "outputs": [
        {
          "output_type": "execute_result",
          "data": {
            "text/plain": [
              "10"
            ]
          },
          "metadata": {
            "tags": []
          },
          "execution_count": 105
        }
      ]
    },
    {
      "cell_type": "code",
      "metadata": {
        "id": "9ZcJtjCb2G96",
        "colab_type": "code",
        "colab": {}
      },
      "source": [
        "df_sql = spark.sql('SELECT server_id, session_count FROM utilization LIMIT 10')"
      ],
      "execution_count": 0,
      "outputs": []
    },
    {
      "cell_type": "code",
      "metadata": {
        "id": "bxH_xt072XIr",
        "colab_type": "code",
        "colab": {
          "base_uri": "https://localhost:8080/",
          "height": 269
        },
        "outputId": "14048f84-20bf-4b65-8f30-c0fc1b040e20"
      },
      "source": [
        "df_sql.show()"
      ],
      "execution_count": 110,
      "outputs": [
        {
          "output_type": "stream",
          "text": [
            "+---------+-------------+\n",
            "|server_id|session_count|\n",
            "+---------+-------------+\n",
            "|      100|           47|\n",
            "|      100|           43|\n",
            "|      100|           62|\n",
            "|      100|           50|\n",
            "|      100|           43|\n",
            "|      100|           48|\n",
            "|      100|           58|\n",
            "|      100|           58|\n",
            "|      100|           62|\n",
            "|      100|           45|\n",
            "+---------+-------------+\n",
            "\n"
          ],
          "name": "stdout"
        }
      ]
    },
    {
      "cell_type": "code",
      "metadata": {
        "id": "INsr6rUq2YcV",
        "colab_type": "code",
        "colab": {
          "base_uri": "https://localhost:8080/",
          "height": 454
        },
        "outputId": "eb4e464d-a1bd-4de7-b36b-04d807baf653"
      },
      "source": [
        "df_sql = spark.sql(\"SELECT server_id AS sid, session_count AS sc FROM utilization\")\n",
        "df_sql.show()"
      ],
      "execution_count": 111,
      "outputs": [
        {
          "output_type": "stream",
          "text": [
            "+---+---+\n",
            "|sid| sc|\n",
            "+---+---+\n",
            "|100| 47|\n",
            "|100| 43|\n",
            "|100| 62|\n",
            "|100| 50|\n",
            "|100| 43|\n",
            "|100| 48|\n",
            "|100| 58|\n",
            "|100| 58|\n",
            "|100| 62|\n",
            "|100| 45|\n",
            "|100| 47|\n",
            "|100| 60|\n",
            "|100| 57|\n",
            "|100| 44|\n",
            "|100| 47|\n",
            "|100| 66|\n",
            "|100| 65|\n",
            "|100| 66|\n",
            "|100| 42|\n",
            "|100| 63|\n",
            "+---+---+\n",
            "only showing top 20 rows\n",
            "\n"
          ],
          "name": "stdout"
        }
      ]
    },
    {
      "cell_type": "code",
      "metadata": {
        "id": "iBUWfgTIIM3e",
        "colab_type": "code",
        "colab": {}
      },
      "source": [
        "df.createOrReplaceTempView('utilization')"
      ],
      "execution_count": 0,
      "outputs": []
    },
    {
      "cell_type": "code",
      "metadata": {
        "id": "9hAzmZc8Ifnm",
        "colab_type": "code",
        "colab": {
          "base_uri": "https://localhost:8080/",
          "height": 454
        },
        "outputId": "1c855aed-f5af-43a2-addf-5f6e9bdd9625"
      },
      "source": [
        "df_sql = spark.sql(\"SELECT * FROM utilization WHERE server_id = 120\")\n",
        "df_sql.show()"
      ],
      "execution_count": 114,
      "outputs": [
        {
          "output_type": "stream",
          "text": [
            "+---------------+-------------------+-----------+---------+-------------+\n",
            "|cpu_utilization|     event_datetime|free_memory|server_id|session_count|\n",
            "+---------------+-------------------+-----------+---------+-------------+\n",
            "|           0.66|03/05/2019 08:06:48|       0.31|      120|           54|\n",
            "|           0.58|03/05/2019 08:11:48|       0.38|      120|           64|\n",
            "|           0.55|03/05/2019 08:16:48|       0.61|      120|           54|\n",
            "|            0.7|03/05/2019 08:21:48|       0.35|      120|           80|\n",
            "|            0.6|03/05/2019 08:26:48|       0.39|      120|           71|\n",
            "|           0.53|03/05/2019 08:31:48|       0.35|      120|           49|\n",
            "|           0.73|03/05/2019 08:36:48|       0.42|      120|           73|\n",
            "|           0.41|03/05/2019 08:41:48|        0.6|      120|           72|\n",
            "|           0.62|03/05/2019 08:46:48|       0.57|      120|           57|\n",
            "|           0.67|03/05/2019 08:51:48|       0.44|      120|           78|\n",
            "|           0.67|03/05/2019 08:56:48|       0.38|      120|           73|\n",
            "|           0.39|03/05/2019 09:01:48|       0.47|      120|           58|\n",
            "|            0.5|03/05/2019 09:06:48|       0.29|      120|           78|\n",
            "|           0.38|03/05/2019 09:11:48|       0.38|      120|           56|\n",
            "|           0.53|03/05/2019 09:16:48|       0.38|      120|           47|\n",
            "|           0.74|03/05/2019 09:21:48|       0.25|      120|           69|\n",
            "|           0.53|03/05/2019 09:26:48|       0.57|      120|           73|\n",
            "|           0.54|03/05/2019 09:31:48|       0.64|      120|           65|\n",
            "|            0.7|03/05/2019 09:36:48|       0.52|      120|           55|\n",
            "|           0.54|03/05/2019 09:41:48|       0.27|      120|           74|\n",
            "+---------------+-------------------+-----------+---------+-------------+\n",
            "only showing top 20 rows\n",
            "\n"
          ],
          "name": "stdout"
        }
      ]
    },
    {
      "cell_type": "code",
      "metadata": {
        "id": "pR1ku_hmIs7-",
        "colab_type": "code",
        "colab": {
          "base_uri": "https://localhost:8080/",
          "height": 34
        },
        "outputId": "d74e2983-21c2-4909-8166-ccbf99ea5fd8"
      },
      "source": [
        "df_sql.count()"
      ],
      "execution_count": 115,
      "outputs": [
        {
          "output_type": "execute_result",
          "data": {
            "text/plain": [
              "10000"
            ]
          },
          "metadata": {
            "tags": []
          },
          "execution_count": 115
        }
      ]
    },
    {
      "cell_type": "code",
      "metadata": {
        "id": "QmUxlQ7BJA3g",
        "colab_type": "code",
        "colab": {
          "base_uri": "https://localhost:8080/",
          "height": 454
        },
        "outputId": "4ee14600-0c0c-4380-a00b-e5fc1fce9925"
      },
      "source": [
        "df_sql = spark.sql(\"SELECT server_id, session_count FROM utilization WHERE session_count > 70\")\n",
        "df_sql.show()"
      ],
      "execution_count": 116,
      "outputs": [
        {
          "output_type": "stream",
          "text": [
            "+---------+-------------+\n",
            "|server_id|session_count|\n",
            "+---------+-------------+\n",
            "|      100|           71|\n",
            "|      100|           71|\n",
            "|      100|           71|\n",
            "|      100|           71|\n",
            "|      100|           72|\n",
            "|      100|           72|\n",
            "|      100|           71|\n",
            "|      100|           71|\n",
            "|      100|           71|\n",
            "|      100|           72|\n",
            "|      100|           71|\n",
            "|      100|           72|\n",
            "|      100|           71|\n",
            "|      100|           71|\n",
            "|      100|           72|\n",
            "|      100|           71|\n",
            "|      100|           72|\n",
            "|      100|           72|\n",
            "|      100|           71|\n",
            "|      100|           71|\n",
            "+---------+-------------+\n",
            "only showing top 20 rows\n",
            "\n"
          ],
          "name": "stdout"
        }
      ]
    },
    {
      "cell_type": "code",
      "metadata": {
        "id": "TaydEGmrJPXA",
        "colab_type": "code",
        "colab": {
          "base_uri": "https://localhost:8080/",
          "height": 34
        },
        "outputId": "7bb8cc63-feac-4f81-a8b3-b850fe0cc049"
      },
      "source": [
        "df_sql.count()"
      ],
      "execution_count": 117,
      "outputs": [
        {
          "output_type": "execute_result",
          "data": {
            "text/plain": [
              "239659"
            ]
          },
          "metadata": {
            "tags": []
          },
          "execution_count": 117
        }
      ]
    },
    {
      "cell_type": "code",
      "metadata": {
        "id": "w44ng8XyJSWw",
        "colab_type": "code",
        "colab": {}
      },
      "source": [
        "df_sql = spark.sql(\"SELECT server_id, session_count FROM utilization WHERE session_count > 70 AND server_id = 120\")"
      ],
      "execution_count": 0,
      "outputs": []
    },
    {
      "cell_type": "code",
      "metadata": {
        "id": "5uoOQj4AJgZP",
        "colab_type": "code",
        "colab": {
          "base_uri": "https://localhost:8080/",
          "height": 454
        },
        "outputId": "ae1480b0-20fb-4654-d133-faa6885caeba"
      },
      "source": [
        "df_sql.show()"
      ],
      "execution_count": 119,
      "outputs": [
        {
          "output_type": "stream",
          "text": [
            "+---------+-------------+\n",
            "|server_id|session_count|\n",
            "+---------+-------------+\n",
            "|      120|           80|\n",
            "|      120|           71|\n",
            "|      120|           73|\n",
            "|      120|           72|\n",
            "|      120|           78|\n",
            "|      120|           73|\n",
            "|      120|           78|\n",
            "|      120|           73|\n",
            "|      120|           74|\n",
            "|      120|           78|\n",
            "|      120|           75|\n",
            "|      120|           75|\n",
            "|      120|           73|\n",
            "|      120|           79|\n",
            "|      120|           72|\n",
            "|      120|           77|\n",
            "|      120|           75|\n",
            "|      120|           72|\n",
            "|      120|           79|\n",
            "|      120|           75|\n",
            "+---------+-------------+\n",
            "only showing top 20 rows\n",
            "\n"
          ],
          "name": "stdout"
        }
      ]
    },
    {
      "cell_type": "code",
      "metadata": {
        "id": "ea5OYyc5JiIX",
        "colab_type": "code",
        "colab": {
          "base_uri": "https://localhost:8080/",
          "height": 34
        },
        "outputId": "33ac95b5-c807-499d-8592-d5630192cbb7"
      },
      "source": [
        "df_sql.count()"
      ],
      "execution_count": 120,
      "outputs": [
        {
          "output_type": "execute_result",
          "data": {
            "text/plain": [
              "2733"
            ]
          },
          "metadata": {
            "tags": []
          },
          "execution_count": 120
        }
      ]
    },
    {
      "cell_type": "code",
      "metadata": {
        "id": "4_br5LgnJkRU",
        "colab_type": "code",
        "colab": {
          "base_uri": "https://localhost:8080/",
          "height": 454
        },
        "outputId": "753fb383-7138-440f-e54a-7d87894e131e"
      },
      "source": [
        "df_sql = spark.sql(\"SELECT server_id, session_count \\\n",
        "                    FROM utilization \\\n",
        "                    WHERE session_count > 70 AND server_id = 120 \\\n",
        "                    ORDER BY session_count DESC\")\n",
        "df_sql.show()"
      ],
      "execution_count": 122,
      "outputs": [
        {
          "output_type": "stream",
          "text": [
            "+---------+-------------+\n",
            "|server_id|session_count|\n",
            "+---------+-------------+\n",
            "|      120|           80|\n",
            "|      120|           80|\n",
            "|      120|           80|\n",
            "|      120|           80|\n",
            "|      120|           80|\n",
            "|      120|           80|\n",
            "|      120|           80|\n",
            "|      120|           80|\n",
            "|      120|           80|\n",
            "|      120|           80|\n",
            "|      120|           80|\n",
            "|      120|           80|\n",
            "|      120|           80|\n",
            "|      120|           80|\n",
            "|      120|           80|\n",
            "|      120|           80|\n",
            "|      120|           80|\n",
            "|      120|           80|\n",
            "|      120|           80|\n",
            "|      120|           80|\n",
            "+---------+-------------+\n",
            "only showing top 20 rows\n",
            "\n"
          ],
          "name": "stdout"
        }
      ]
    },
    {
      "cell_type": "code",
      "metadata": {
        "id": "aaLgtwdAKAbK",
        "colab_type": "code",
        "colab": {}
      },
      "source": [
        "from pyspark.sql import SparkSession\n"
      ],
      "execution_count": 0,
      "outputs": []
    },
    {
      "cell_type": "code",
      "metadata": {
        "id": "rnz94N3GP0vL",
        "colab_type": "code",
        "colab": {}
      },
      "source": [
        "spark = SparkSession \\\n",
        "        .builder \\\n",
        "        .appName(\"Spark SQL quesry Dataframe\") \\\n",
        "        .getOrCreate()"
      ],
      "execution_count": 0,
      "outputs": []
    },
    {
      "cell_type": "code",
      "metadata": {
        "id": "ggBvNalCQCT2",
        "colab_type": "code",
        "colab": {}
      },
      "source": [
        "data_path = './utilization.json'\n",
        "df = spark.read.format('json').load(data_path)"
      ],
      "execution_count": 0,
      "outputs": []
    },
    {
      "cell_type": "code",
      "metadata": {
        "id": "y0QlYgO1QPJd",
        "colab_type": "code",
        "colab": {
          "base_uri": "https://localhost:8080/",
          "height": 454
        },
        "outputId": "0fd0658a-1117-472f-b3e6-db481d44ef84"
      },
      "source": [
        "df.show()"
      ],
      "execution_count": 127,
      "outputs": [
        {
          "output_type": "stream",
          "text": [
            "+---------------+-------------------+-----------+---------+-------------+\n",
            "|cpu_utilization|     event_datetime|free_memory|server_id|session_count|\n",
            "+---------------+-------------------+-----------+---------+-------------+\n",
            "|           0.57|03/05/2019 08:06:14|       0.51|      100|           47|\n",
            "|           0.47|03/05/2019 08:11:14|       0.62|      100|           43|\n",
            "|           0.56|03/05/2019 08:16:14|       0.57|      100|           62|\n",
            "|           0.57|03/05/2019 08:21:14|       0.56|      100|           50|\n",
            "|           0.35|03/05/2019 08:26:14|       0.46|      100|           43|\n",
            "|           0.41|03/05/2019 08:31:14|       0.58|      100|           48|\n",
            "|           0.57|03/05/2019 08:36:14|       0.35|      100|           58|\n",
            "|           0.41|03/05/2019 08:41:14|        0.4|      100|           58|\n",
            "|           0.53|03/05/2019 08:46:14|       0.35|      100|           62|\n",
            "|           0.51|03/05/2019 08:51:14|        0.6|      100|           45|\n",
            "|           0.32|03/05/2019 08:56:14|       0.37|      100|           47|\n",
            "|           0.62|03/05/2019 09:01:14|       0.59|      100|           60|\n",
            "|           0.66|03/05/2019 09:06:14|       0.72|      100|           57|\n",
            "|           0.54|03/05/2019 09:11:14|       0.54|      100|           44|\n",
            "|           0.29|03/05/2019 09:16:14|        0.4|      100|           47|\n",
            "|           0.43|03/05/2019 09:21:14|       0.68|      100|           66|\n",
            "|           0.49|03/05/2019 09:26:14|       0.66|      100|           65|\n",
            "|           0.64|03/05/2019 09:31:14|       0.55|      100|           66|\n",
            "|           0.42|03/05/2019 09:36:14|        0.6|      100|           42|\n",
            "|           0.55|03/05/2019 09:41:14|       0.59|      100|           63|\n",
            "+---------------+-------------------+-----------+---------+-------------+\n",
            "only showing top 20 rows\n",
            "\n"
          ],
          "name": "stdout"
        }
      ]
    },
    {
      "cell_type": "code",
      "metadata": {
        "id": "8i0QnMqHQSXo",
        "colab_type": "code",
        "colab": {}
      },
      "source": [
        "df.createOrReplaceTempView(\"utilization\")"
      ],
      "execution_count": 0,
      "outputs": []
    },
    {
      "cell_type": "code",
      "metadata": {
        "id": "HZ23-l6lQZHM",
        "colab_type": "code",
        "colab": {}
      },
      "source": [
        "df_count = spark.sql(\"SELECT COUNT(*) FROM utilization\")"
      ],
      "execution_count": 0,
      "outputs": []
    },
    {
      "cell_type": "code",
      "metadata": {
        "id": "V5UmzGV9QgIh",
        "colab_type": "code",
        "colab": {
          "base_uri": "https://localhost:8080/",
          "height": 118
        },
        "outputId": "67d9d7af-cc43-40a6-894a-d9cb9bac8a10"
      },
      "source": [
        "df_count.show()"
      ],
      "execution_count": 131,
      "outputs": [
        {
          "output_type": "stream",
          "text": [
            "+--------+\n",
            "|count(1)|\n",
            "+--------+\n",
            "|  500000|\n",
            "+--------+\n",
            "\n"
          ],
          "name": "stdout"
        }
      ]
    },
    {
      "cell_type": "code",
      "metadata": {
        "id": "cXJQjA4uQyKD",
        "colab_type": "code",
        "colab": {
          "base_uri": "https://localhost:8080/",
          "height": 118
        },
        "outputId": "da42374e-82c1-4d4c-d032-88d0c0a7c23e"
      },
      "source": [
        "df_sql = spark.sql(\"SELECT COUNT(*) \\\n",
        "                    FROM utilization \\\n",
        "                    WHERE session_count > 70\")\n",
        "df_sql.show()"
      ],
      "execution_count": 132,
      "outputs": [
        {
          "output_type": "stream",
          "text": [
            "+--------+\n",
            "|count(1)|\n",
            "+--------+\n",
            "|  239659|\n",
            "+--------+\n",
            "\n"
          ],
          "name": "stdout"
        }
      ]
    },
    {
      "cell_type": "code",
      "metadata": {
        "id": "fronVo5AQ_5g",
        "colab_type": "code",
        "colab": {}
      },
      "source": [
        "df_sql = spark.sql(\"SELECT server_id, COUNT(*) \\\n",
        "                    FROM utilization \\\n",
        "                    WHERE session_count > 70 \\\n",
        "                    GROUP BY server_id \")"
      ],
      "execution_count": 0,
      "outputs": []
    },
    {
      "cell_type": "code",
      "metadata": {
        "id": "i58OTbDPRP3X",
        "colab_type": "code",
        "colab": {
          "base_uri": "https://localhost:8080/",
          "height": 454
        },
        "outputId": "c2099754-5cee-4253-87d5-b3db6ab1eb71"
      },
      "source": [
        "df_sql.show()\n"
      ],
      "execution_count": 136,
      "outputs": [
        {
          "output_type": "stream",
          "text": [
            "+---------+--------+\n",
            "|server_id|count(1)|\n",
            "+---------+--------+\n",
            "|      112|    7425|\n",
            "|      113|    9418|\n",
            "|      130|    2891|\n",
            "|      126|    6365|\n",
            "|      149|    8288|\n",
            "|      110|    2826|\n",
            "|      136|    4316|\n",
            "|      144|    6220|\n",
            "|      116|    1167|\n",
            "|      145|    9304|\n",
            "|      143|     144|\n",
            "|      107|    5646|\n",
            "|      146|    7072|\n",
            "|      103|    8744|\n",
            "|      139|    7383|\n",
            "|      114|    2128|\n",
            "|      115|    5284|\n",
            "|      104|    7366|\n",
            "|      120|    2733|\n",
            "|      128|    3719|\n",
            "+---------+--------+\n",
            "only showing top 20 rows\n",
            "\n"
          ],
          "name": "stdout"
        }
      ]
    },
    {
      "cell_type": "code",
      "metadata": {
        "id": "Ogbo05VPRR_a",
        "colab_type": "code",
        "colab": {}
      },
      "source": [
        "df_sql = spark.sql(\"SELECT server_id, COUNT(*) \\\n",
        "                    FROM utilization \\\n",
        "                    WHERE session_count > 70 \\\n",
        "                    GROUP BY server_id \\\n",
        "                    ORDER BY COUNT(*) DESC\")"
      ],
      "execution_count": 0,
      "outputs": []
    },
    {
      "cell_type": "code",
      "metadata": {
        "id": "-J44zer9Rdn1",
        "colab_type": "code",
        "colab": {
          "base_uri": "https://localhost:8080/",
          "height": 454
        },
        "outputId": "9d614f50-8acc-4f8b-e7ae-ea1425887beb"
      },
      "source": [
        "df_sql.show()"
      ],
      "execution_count": 138,
      "outputs": [
        {
          "output_type": "stream",
          "text": [
            "+---------+--------+\n",
            "|server_id|count(1)|\n",
            "+---------+--------+\n",
            "|      101|    9808|\n",
            "|      113|    9418|\n",
            "|      145|    9304|\n",
            "|      103|    8744|\n",
            "|      102|    8586|\n",
            "|      133|    8583|\n",
            "|      108|    8375|\n",
            "|      149|    8288|\n",
            "|      137|    8248|\n",
            "|      148|    8027|\n",
            "|      123|    7918|\n",
            "|      118|    7913|\n",
            "|      112|    7425|\n",
            "|      139|    7383|\n",
            "|      104|    7366|\n",
            "|      121|    7084|\n",
            "|      142|    7084|\n",
            "|      146|    7072|\n",
            "|      126|    6365|\n",
            "|      144|    6220|\n",
            "+---------+--------+\n",
            "only showing top 20 rows\n",
            "\n"
          ],
          "name": "stdout"
        }
      ]
    },
    {
      "cell_type": "code",
      "metadata": {
        "id": "v-UXwAxmRfyo",
        "colab_type": "code",
        "colab": {}
      },
      "source": [
        "df_sql = spark.sql(\"SELECT server_id, min(session_count), round(avg(session_count), 2), max(session_count) \\\n",
        "                    FROM utilization \\\n",
        "                    WHERE session_count > 70 \\\n",
        "                    GROUP BY server_id \\\n",
        "                    ORDER BY count(*) DESC\")"
      ],
      "execution_count": 0,
      "outputs": []
    },
    {
      "cell_type": "code",
      "metadata": {
        "id": "ILqsX805R6EB",
        "colab_type": "code",
        "colab": {
          "base_uri": "https://localhost:8080/",
          "height": 454
        },
        "outputId": "2fa4c74d-9949-45f8-b7ca-633712900019"
      },
      "source": [
        "df_sql.show()"
      ],
      "execution_count": 142,
      "outputs": [
        {
          "output_type": "stream",
          "text": [
            "+---------+------------------+----------------------------+------------------+\n",
            "|server_id|min(session_count)|round(avg(session_count), 2)|max(session_count)|\n",
            "+---------+------------------+----------------------------+------------------+\n",
            "|      101|                71|                       87.67|               105|\n",
            "|      113|                71|                       86.96|               103|\n",
            "|      145|                71|                       86.98|               103|\n",
            "|      103|                71|                       85.76|               101|\n",
            "|      102|                71|                       85.71|               101|\n",
            "|      133|                71|                       85.47|               100|\n",
            "|      108|                71|                       85.12|               100|\n",
            "|      149|                71|                       84.96|                99|\n",
            "|      137|                71|                       85.01|                99|\n",
            "|      148|                71|                        84.7|                99|\n",
            "|      123|                71|                       84.53|                98|\n",
            "|      118|                71|                       84.66|                98|\n",
            "|      112|                71|                       83.55|                97|\n",
            "|      139|                71|                       83.33|                96|\n",
            "|      104|                71|                       83.35|                96|\n",
            "|      121|                71|                       82.89|                95|\n",
            "|      142|                71|                        82.9|                95|\n",
            "|      146|                71|                       82.95|                95|\n",
            "|      126|                71|                       81.56|                93|\n",
            "|      144|                71|                       81.38|                92|\n",
            "+---------+------------------+----------------------------+------------------+\n",
            "only showing top 20 rows\n",
            "\n"
          ],
          "name": "stdout"
        }
      ]
    },
    {
      "cell_type": "code",
      "metadata": {
        "id": "KsMHPvH4R7s3",
        "colab_type": "code",
        "colab": {}
      },
      "source": [
        "from pyspark.sql import SparkSession\n",
        "from pyspark.sql.types import IntegerType"
      ],
      "execution_count": 0,
      "outputs": []
    },
    {
      "cell_type": "code",
      "metadata": {
        "id": "DZ-QArCTSRKa",
        "colab_type": "code",
        "colab": {}
      },
      "source": [
        "spark = SparkSession \\\n",
        "    .builder \\\n",
        "    .appName(\"Spark SQL Query DataFrame\") \\\n",
        "    .getOrCreate()"
      ],
      "execution_count": 0,
      "outputs": []
    },
    {
      "cell_type": "code",
      "metadata": {
        "id": "dT2avrjgSn3z",
        "colab_type": "code",
        "colab": {}
      },
      "source": [
        "file_path = \"./utilization.json\"\n",
        "df_util = spark.read.format(\"json\").load(file_path)"
      ],
      "execution_count": 0,
      "outputs": []
    },
    {
      "cell_type": "code",
      "metadata": {
        "id": "6Dfflm11Szkv",
        "colab_type": "code",
        "colab": {
          "base_uri": "https://localhost:8080/",
          "height": 454
        },
        "outputId": "f2619b7c-7e2d-49ff-d57a-813adebd9f0b"
      },
      "source": [
        "df_util.show()"
      ],
      "execution_count": 148,
      "outputs": [
        {
          "output_type": "stream",
          "text": [
            "+---------------+-------------------+-----------+---------+-------------+\n",
            "|cpu_utilization|     event_datetime|free_memory|server_id|session_count|\n",
            "+---------------+-------------------+-----------+---------+-------------+\n",
            "|           0.57|03/05/2019 08:06:14|       0.51|      100|           47|\n",
            "|           0.47|03/05/2019 08:11:14|       0.62|      100|           43|\n",
            "|           0.56|03/05/2019 08:16:14|       0.57|      100|           62|\n",
            "|           0.57|03/05/2019 08:21:14|       0.56|      100|           50|\n",
            "|           0.35|03/05/2019 08:26:14|       0.46|      100|           43|\n",
            "|           0.41|03/05/2019 08:31:14|       0.58|      100|           48|\n",
            "|           0.57|03/05/2019 08:36:14|       0.35|      100|           58|\n",
            "|           0.41|03/05/2019 08:41:14|        0.4|      100|           58|\n",
            "|           0.53|03/05/2019 08:46:14|       0.35|      100|           62|\n",
            "|           0.51|03/05/2019 08:51:14|        0.6|      100|           45|\n",
            "|           0.32|03/05/2019 08:56:14|       0.37|      100|           47|\n",
            "|           0.62|03/05/2019 09:01:14|       0.59|      100|           60|\n",
            "|           0.66|03/05/2019 09:06:14|       0.72|      100|           57|\n",
            "|           0.54|03/05/2019 09:11:14|       0.54|      100|           44|\n",
            "|           0.29|03/05/2019 09:16:14|        0.4|      100|           47|\n",
            "|           0.43|03/05/2019 09:21:14|       0.68|      100|           66|\n",
            "|           0.49|03/05/2019 09:26:14|       0.66|      100|           65|\n",
            "|           0.64|03/05/2019 09:31:14|       0.55|      100|           66|\n",
            "|           0.42|03/05/2019 09:36:14|        0.6|      100|           42|\n",
            "|           0.55|03/05/2019 09:41:14|       0.59|      100|           63|\n",
            "+---------------+-------------------+-----------+---------+-------------+\n",
            "only showing top 20 rows\n",
            "\n"
          ],
          "name": "stdout"
        }
      ]
    },
    {
      "cell_type": "code",
      "metadata": {
        "id": "dRfh3f0RS9bG",
        "colab_type": "code",
        "colab": {}
      },
      "source": [
        "df_util.createOrReplaceTempView(\"utilization\")"
      ],
      "execution_count": 0,
      "outputs": []
    },
    {
      "cell_type": "code",
      "metadata": {
        "id": "kfYATjVoTJle",
        "colab_type": "code",
        "colab": {}
      },
      "source": [
        "csv_df_path = \"./server_name.csv\"\n",
        "df_server = spark.read.csv(csv_df_path, header=True)"
      ],
      "execution_count": 0,
      "outputs": []
    },
    {
      "cell_type": "code",
      "metadata": {
        "id": "UO4N2j8UTX95",
        "colab_type": "code",
        "colab": {
          "base_uri": "https://localhost:8080/",
          "height": 454
        },
        "outputId": "cb69e78a-aab9-494d-bda2-e47f40053151"
      },
      "source": [
        "df_server.show()"
      ],
      "execution_count": 152,
      "outputs": [
        {
          "output_type": "stream",
          "text": [
            "+---------+-----------+\n",
            "|server_id|server_name|\n",
            "+---------+-----------+\n",
            "|      100| 100 Server|\n",
            "|      101| 101 Server|\n",
            "|      102| 102 Server|\n",
            "|      103| 103 Server|\n",
            "|      104| 104 Server|\n",
            "|      105| 105 Server|\n",
            "|      106| 106 Server|\n",
            "|      107| 107 Server|\n",
            "|      108| 108 Server|\n",
            "|      109| 109 Server|\n",
            "|      110| 110 Server|\n",
            "|      111| 111 Server|\n",
            "|      112| 112 Server|\n",
            "|      113| 113 Server|\n",
            "|      114| 114 Server|\n",
            "|      115| 115 Server|\n",
            "|      116| 116 Server|\n",
            "|      117| 117 Server|\n",
            "|      118| 118 Server|\n",
            "|      119| 119 Server|\n",
            "+---------+-----------+\n",
            "only showing top 20 rows\n",
            "\n"
          ],
          "name": "stdout"
        }
      ]
    },
    {
      "cell_type": "code",
      "metadata": {
        "id": "RXyX__MqThA1",
        "colab_type": "code",
        "colab": {}
      },
      "source": [
        "df_server.createOrReplaceTempView(\"server_name\")"
      ],
      "execution_count": 0,
      "outputs": []
    },
    {
      "cell_type": "code",
      "metadata": {
        "id": "-ow9513yTuNI",
        "colab_type": "code",
        "colab": {}
      },
      "source": [
        "df_count = spark.sql(\"SELECT DISTINCT server_id FROM utilization ORDER BY server_id\")"
      ],
      "execution_count": 0,
      "outputs": []
    },
    {
      "cell_type": "code",
      "metadata": {
        "id": "XHq0CDe9T1PC",
        "colab_type": "code",
        "colab": {
          "base_uri": "https://localhost:8080/",
          "height": 454
        },
        "outputId": "7d43b8e1-da60-42b1-865a-89d311a56580"
      },
      "source": [
        "df_count.show()"
      ],
      "execution_count": 156,
      "outputs": [
        {
          "output_type": "stream",
          "text": [
            "+---------+\n",
            "|server_id|\n",
            "+---------+\n",
            "|      100|\n",
            "|      101|\n",
            "|      102|\n",
            "|      103|\n",
            "|      104|\n",
            "|      105|\n",
            "|      106|\n",
            "|      107|\n",
            "|      108|\n",
            "|      109|\n",
            "|      110|\n",
            "|      111|\n",
            "|      112|\n",
            "|      113|\n",
            "|      114|\n",
            "|      115|\n",
            "|      116|\n",
            "|      117|\n",
            "|      118|\n",
            "|      119|\n",
            "+---------+\n",
            "only showing top 20 rows\n",
            "\n"
          ],
          "name": "stdout"
        }
      ]
    },
    {
      "cell_type": "code",
      "metadata": {
        "id": "L1WhKAvHT65q",
        "colab_type": "code",
        "colab": {
          "base_uri": "https://localhost:8080/",
          "height": 118
        },
        "outputId": "5ad72405-5bc9-49d2-872f-2f3fcdc18846"
      },
      "source": [
        "spark.sql(\"SELECT min(server_id), max(server_id) FROM utilization\").show()"
      ],
      "execution_count": 157,
      "outputs": [
        {
          "output_type": "stream",
          "text": [
            "+--------------+--------------+\n",
            "|min(server_id)|max(server_id)|\n",
            "+--------------+--------------+\n",
            "|           100|           149|\n",
            "+--------------+--------------+\n",
            "\n"
          ],
          "name": "stdout"
        }
      ]
    },
    {
      "cell_type": "code",
      "metadata": {
        "id": "81NeT1zmUKcr",
        "colab_type": "code",
        "colab": {}
      },
      "source": [
        "df_join = spark.sql(\"SELECT u.server_id, sn.server_name, u.session_count\\\n",
        "                    FROM utilization u \\\n",
        "                    INNER JOIN server_name sn \\\n",
        "                    ON sn.server_id = u.server_id\")"
      ],
      "execution_count": 0,
      "outputs": []
    },
    {
      "cell_type": "code",
      "metadata": {
        "id": "6NEC5HVBUkPl",
        "colab_type": "code",
        "colab": {
          "base_uri": "https://localhost:8080/",
          "height": 454
        },
        "outputId": "fee63358-a145-4885-9971-6d59b01b6a9f"
      },
      "source": [
        "df_join.show()"
      ],
      "execution_count": 159,
      "outputs": [
        {
          "output_type": "stream",
          "text": [
            "+---------+-----------+-------------+\n",
            "|server_id|server_name|session_count|\n",
            "+---------+-----------+-------------+\n",
            "|      100| 100 Server|           47|\n",
            "|      100| 100 Server|           43|\n",
            "|      100| 100 Server|           62|\n",
            "|      100| 100 Server|           50|\n",
            "|      100| 100 Server|           43|\n",
            "|      100| 100 Server|           48|\n",
            "|      100| 100 Server|           58|\n",
            "|      100| 100 Server|           58|\n",
            "|      100| 100 Server|           62|\n",
            "|      100| 100 Server|           45|\n",
            "|      100| 100 Server|           47|\n",
            "|      100| 100 Server|           60|\n",
            "|      100| 100 Server|           57|\n",
            "|      100| 100 Server|           44|\n",
            "|      100| 100 Server|           47|\n",
            "|      100| 100 Server|           66|\n",
            "|      100| 100 Server|           65|\n",
            "|      100| 100 Server|           66|\n",
            "|      100| 100 Server|           42|\n",
            "|      100| 100 Server|           63|\n",
            "+---------+-----------+-------------+\n",
            "only showing top 20 rows\n",
            "\n"
          ],
          "name": "stdout"
        }
      ]
    },
    {
      "cell_type": "code",
      "metadata": {
        "id": "H-h_PvlsUmHs",
        "colab_type": "code",
        "colab": {}
      },
      "source": [
        "from pyspark.sql import Row\n"
      ],
      "execution_count": 0,
      "outputs": []
    },
    {
      "cell_type": "code",
      "metadata": {
        "id": "ThZSRgWpZOzQ",
        "colab_type": "code",
        "colab": {}
      },
      "source": [
        "df_dup = sc.parallelize([Row(server_name = \"101 Server\", cpu_utilization=85, session_count=80), \\\n",
        "                         Row(server_name = \"101 Server\", cpu_utilization=80, session_count=90), \\\n",
        "                         Row(server_name = \"102 Server\", cpu_utilization=85, session_count=80), \\\n",
        "                         Row(server_name = '102 Server', cpu_utilization=85, session_count=80)]).toDF()"
      ],
      "execution_count": 0,
      "outputs": []
    },
    {
      "cell_type": "code",
      "metadata": {
        "id": "DjXND-PGark6",
        "colab_type": "code",
        "colab": {
          "base_uri": "https://localhost:8080/",
          "height": 168
        },
        "outputId": "a04fa22b-aa1b-41b3-ab43-681177854982"
      },
      "source": [
        "df_dup.show()"
      ],
      "execution_count": 162,
      "outputs": [
        {
          "output_type": "stream",
          "text": [
            "+---------------+-----------+-------------+\n",
            "|cpu_utilization|server_name|session_count|\n",
            "+---------------+-----------+-------------+\n",
            "|             85| 101 Server|           80|\n",
            "|             80| 101 Server|           90|\n",
            "|             85| 102 Server|           80|\n",
            "|             85| 102 Server|           80|\n",
            "+---------------+-----------+-------------+\n",
            "\n"
          ],
          "name": "stdout"
        }
      ]
    },
    {
      "cell_type": "code",
      "metadata": {
        "id": "UC_uABDjavvR",
        "colab_type": "code",
        "colab": {
          "base_uri": "https://localhost:8080/",
          "height": 151
        },
        "outputId": "ce110f68-55e3-4a0e-cbff-cb1f394efeb7"
      },
      "source": [
        "df_dup.drop_duplicates().show()"
      ],
      "execution_count": 163,
      "outputs": [
        {
          "output_type": "stream",
          "text": [
            "+---------------+-----------+-------------+\n",
            "|cpu_utilization|server_name|session_count|\n",
            "+---------------+-----------+-------------+\n",
            "|             85| 101 Server|           80|\n",
            "|             80| 101 Server|           90|\n",
            "|             85| 102 Server|           80|\n",
            "+---------------+-----------+-------------+\n",
            "\n"
          ],
          "name": "stdout"
        }
      ]
    },
    {
      "cell_type": "code",
      "metadata": {
        "id": "F2t-hZC4a4-y",
        "colab_type": "code",
        "colab": {
          "base_uri": "https://localhost:8080/",
          "height": 134
        },
        "outputId": "63c46a5e-2b43-4b3b-cf92-202957003757"
      },
      "source": [
        "df_dup.drop_duplicates(['server_name']).show()"
      ],
      "execution_count": 164,
      "outputs": [
        {
          "output_type": "stream",
          "text": [
            "+---------------+-----------+-------------+\n",
            "|cpu_utilization|server_name|session_count|\n",
            "+---------------+-----------+-------------+\n",
            "|             85| 102 Server|           80|\n",
            "|             85| 101 Server|           80|\n",
            "+---------------+-----------+-------------+\n",
            "\n"
          ],
          "name": "stdout"
        }
      ]
    },
    {
      "cell_type": "code",
      "metadata": {
        "id": "lPjWSIc_bEkg",
        "colab_type": "code",
        "colab": {}
      },
      "source": [
        "from pyspark.sql import Row\n",
        "from pyspark.sql import SparkSession\n",
        "from pyspark.sql.functions import lit\n",
        "from pyspark.sql.types import StringType"
      ],
      "execution_count": 0,
      "outputs": []
    },
    {
      "cell_type": "code",
      "metadata": {
        "id": "vG6nj_UWbd4g",
        "colab_type": "code",
        "colab": {}
      },
      "source": [
        "df_dup = sc.parallelize([Row(server_name = \"101 Server\", cpu_utilization=85, session_count=80), \\\n",
        "                         Row(server_name = \"101 Server\", cpu_utilization=80, session_count=90), \\\n",
        "                         Row(server_name = \"102 Server\", cpu_utilization=85, session_count=80), \\\n",
        "                         Row(server_name = '102 Server', cpu_utilization=85, session_count=80)]).toDF()"
      ],
      "execution_count": 0,
      "outputs": []
    },
    {
      "cell_type": "code",
      "metadata": {
        "id": "zIrNNF_KbgmF",
        "colab_type": "code",
        "colab": {
          "base_uri": "https://localhost:8080/",
          "height": 168
        },
        "outputId": "72622a05-2520-455f-9dd1-cd09484c9103"
      },
      "source": [
        "df_dup.show()"
      ],
      "execution_count": 169,
      "outputs": [
        {
          "output_type": "stream",
          "text": [
            "+---------------+-----------+-------------+\n",
            "|cpu_utilization|server_name|session_count|\n",
            "+---------------+-----------+-------------+\n",
            "|             85| 101 Server|           80|\n",
            "|             80| 101 Server|           90|\n",
            "|             85| 102 Server|           80|\n",
            "|             85| 102 Server|           80|\n",
            "+---------------+-----------+-------------+\n",
            "\n"
          ],
          "name": "stdout"
        }
      ]
    },
    {
      "cell_type": "code",
      "metadata": {
        "id": "uagP52DFbufw",
        "colab_type": "code",
        "colab": {}
      },
      "source": [
        "df_na =df_dup.withColumn('na_col', lit(None).cast(StringType()))\n"
      ],
      "execution_count": 0,
      "outputs": []
    },
    {
      "cell_type": "code",
      "metadata": {
        "id": "6yLfY_Q_b-lv",
        "colab_type": "code",
        "colab": {
          "base_uri": "https://localhost:8080/",
          "height": 168
        },
        "outputId": "3fb29b2e-2658-4007-f46d-16f1825bd9ee"
      },
      "source": [
        "df_na.show()"
      ],
      "execution_count": 172,
      "outputs": [
        {
          "output_type": "stream",
          "text": [
            "+---------------+-----------+-------------+------+\n",
            "|cpu_utilization|server_name|session_count|na_col|\n",
            "+---------------+-----------+-------------+------+\n",
            "|             85| 101 Server|           80|  null|\n",
            "|             80| 101 Server|           90|  null|\n",
            "|             85| 102 Server|           80|  null|\n",
            "|             85| 102 Server|           80|  null|\n",
            "+---------------+-----------+-------------+------+\n",
            "\n"
          ],
          "name": "stdout"
        }
      ]
    },
    {
      "cell_type": "code",
      "metadata": {
        "id": "7Se9YT2ScDUM",
        "colab_type": "code",
        "colab": {
          "base_uri": "https://localhost:8080/",
          "height": 168
        },
        "outputId": "1d0493f1-1736-4ba0-ca63-2d2085f8ec51"
      },
      "source": [
        "df_na.fillna('A').show()"
      ],
      "execution_count": 173,
      "outputs": [
        {
          "output_type": "stream",
          "text": [
            "+---------------+-----------+-------------+------+\n",
            "|cpu_utilization|server_name|session_count|na_col|\n",
            "+---------------+-----------+-------------+------+\n",
            "|             85| 101 Server|           80|     A|\n",
            "|             80| 101 Server|           90|     A|\n",
            "|             85| 102 Server|           80|     A|\n",
            "|             85| 102 Server|           80|     A|\n",
            "+---------------+-----------+-------------+------+\n",
            "\n"
          ],
          "name": "stdout"
        }
      ]
    },
    {
      "cell_type": "code",
      "metadata": {
        "id": "zvwzLhbzcW-f",
        "colab_type": "code",
        "colab": {
          "base_uri": "https://localhost:8080/",
          "height": 235
        },
        "outputId": "b5607496-3494-497f-b9cc-466b23430419"
      },
      "source": [
        "df2 = df_na.fillna(\"A\").union(df_na)\n",
        "df2.show()"
      ],
      "execution_count": 174,
      "outputs": [
        {
          "output_type": "stream",
          "text": [
            "+---------------+-----------+-------------+------+\n",
            "|cpu_utilization|server_name|session_count|na_col|\n",
            "+---------------+-----------+-------------+------+\n",
            "|             85| 101 Server|           80|     A|\n",
            "|             80| 101 Server|           90|     A|\n",
            "|             85| 102 Server|           80|     A|\n",
            "|             85| 102 Server|           80|     A|\n",
            "|             85| 101 Server|           80|  null|\n",
            "|             80| 101 Server|           90|  null|\n",
            "|             85| 102 Server|           80|  null|\n",
            "|             85| 102 Server|           80|  null|\n",
            "+---------------+-----------+-------------+------+\n",
            "\n"
          ],
          "name": "stdout"
        }
      ]
    },
    {
      "cell_type": "code",
      "metadata": {
        "id": "FomjTQRNcgFn",
        "colab_type": "code",
        "colab": {
          "base_uri": "https://localhost:8080/",
          "height": 168
        },
        "outputId": "de4b2230-cbb4-4414-b776-1feb20d5ce88"
      },
      "source": [
        "df2.na.drop().show()"
      ],
      "execution_count": 175,
      "outputs": [
        {
          "output_type": "stream",
          "text": [
            "+---------------+-----------+-------------+------+\n",
            "|cpu_utilization|server_name|session_count|na_col|\n",
            "+---------------+-----------+-------------+------+\n",
            "|             85| 101 Server|           80|     A|\n",
            "|             80| 101 Server|           90|     A|\n",
            "|             85| 102 Server|           80|     A|\n",
            "|             85| 102 Server|           80|     A|\n",
            "+---------------+-----------+-------------+------+\n",
            "\n"
          ],
          "name": "stdout"
        }
      ]
    },
    {
      "cell_type": "code",
      "metadata": {
        "id": "YJJHjLO7cpmN",
        "colab_type": "code",
        "colab": {}
      },
      "source": [
        "df2.createOrReplaceTempView(\"na_table\")"
      ],
      "execution_count": 0,
      "outputs": []
    },
    {
      "cell_type": "code",
      "metadata": {
        "id": "sVUKpi-fc1wa",
        "colab_type": "code",
        "colab": {
          "base_uri": "https://localhost:8080/",
          "height": 235
        },
        "outputId": "e079c019-5dd6-4f21-bfa1-10499cf392f1"
      },
      "source": [
        "spark.sql(\"SELECT * FROM na_table\").show()"
      ],
      "execution_count": 177,
      "outputs": [
        {
          "output_type": "stream",
          "text": [
            "+---------------+-----------+-------------+------+\n",
            "|cpu_utilization|server_name|session_count|na_col|\n",
            "+---------------+-----------+-------------+------+\n",
            "|             85| 101 Server|           80|     A|\n",
            "|             80| 101 Server|           90|     A|\n",
            "|             85| 102 Server|           80|     A|\n",
            "|             85| 102 Server|           80|     A|\n",
            "|             85| 101 Server|           80|  null|\n",
            "|             80| 101 Server|           90|  null|\n",
            "|             85| 102 Server|           80|  null|\n",
            "|             85| 102 Server|           80|  null|\n",
            "+---------------+-----------+-------------+------+\n",
            "\n"
          ],
          "name": "stdout"
        }
      ]
    },
    {
      "cell_type": "code",
      "metadata": {
        "id": "nsNiX-Wzc6Uo",
        "colab_type": "code",
        "colab": {
          "base_uri": "https://localhost:8080/",
          "height": 168
        },
        "outputId": "70c07598-681b-401f-ec10-ac99d271ab1f"
      },
      "source": [
        "spark.sql(\"SELECT * FROM na_table WHERE na_col is NULL\").show()"
      ],
      "execution_count": 178,
      "outputs": [
        {
          "output_type": "stream",
          "text": [
            "+---------------+-----------+-------------+------+\n",
            "|cpu_utilization|server_name|session_count|na_col|\n",
            "+---------------+-----------+-------------+------+\n",
            "|             85| 101 Server|           80|  null|\n",
            "|             80| 101 Server|           90|  null|\n",
            "|             85| 102 Server|           80|  null|\n",
            "|             85| 102 Server|           80|  null|\n",
            "+---------------+-----------+-------------+------+\n",
            "\n"
          ],
          "name": "stdout"
        }
      ]
    },
    {
      "cell_type": "code",
      "metadata": {
        "id": "7K6v3yk0dD9F",
        "colab_type": "code",
        "colab": {
          "base_uri": "https://localhost:8080/",
          "height": 168
        },
        "outputId": "a47ecb80-41bc-4692-ae25-7031a219f23e"
      },
      "source": [
        "spark.sql(\"SELECT * FROM na_table WHERE na_col is NOT NULL\").show()"
      ],
      "execution_count": 179,
      "outputs": [
        {
          "output_type": "stream",
          "text": [
            "+---------------+-----------+-------------+------+\n",
            "|cpu_utilization|server_name|session_count|na_col|\n",
            "+---------------+-----------+-------------+------+\n",
            "|             85| 101 Server|           80|     A|\n",
            "|             80| 101 Server|           90|     A|\n",
            "|             85| 102 Server|           80|     A|\n",
            "|             85| 102 Server|           80|     A|\n",
            "+---------------+-----------+-------------+------+\n",
            "\n"
          ],
          "name": "stdout"
        }
      ]
    },
    {
      "cell_type": "code",
      "metadata": {
        "id": "XbmmZ0RBdHbb",
        "colab_type": "code",
        "colab": {}
      },
      "source": [
        "from pyspark.sql import SparkSession\n"
      ],
      "execution_count": 0,
      "outputs": []
    },
    {
      "cell_type": "code",
      "metadata": {
        "id": "312MGGk7f3BB",
        "colab_type": "code",
        "colab": {}
      },
      "source": [
        "spark = SparkSession.builder.getOrCreate()"
      ],
      "execution_count": 0,
      "outputs": []
    },
    {
      "cell_type": "code",
      "metadata": {
        "id": "eNt4YRJWf7vI",
        "colab_type": "code",
        "colab": {}
      },
      "source": [
        "file_path = './utilization.json'\n",
        "df_util = spark.read.format('json').load(file_path)"
      ],
      "execution_count": 0,
      "outputs": []
    },
    {
      "cell_type": "code",
      "metadata": {
        "id": "wmpqGigagIdE",
        "colab_type": "code",
        "colab": {
          "base_uri": "https://localhost:8080/",
          "height": 286
        },
        "outputId": "78825bc8-3411-44d6-fc94-7ca88914158c"
      },
      "source": [
        "df_util.show(10)"
      ],
      "execution_count": 183,
      "outputs": [
        {
          "output_type": "stream",
          "text": [
            "+---------------+-------------------+-----------+---------+-------------+\n",
            "|cpu_utilization|     event_datetime|free_memory|server_id|session_count|\n",
            "+---------------+-------------------+-----------+---------+-------------+\n",
            "|           0.57|03/05/2019 08:06:14|       0.51|      100|           47|\n",
            "|           0.47|03/05/2019 08:11:14|       0.62|      100|           43|\n",
            "|           0.56|03/05/2019 08:16:14|       0.57|      100|           62|\n",
            "|           0.57|03/05/2019 08:21:14|       0.56|      100|           50|\n",
            "|           0.35|03/05/2019 08:26:14|       0.46|      100|           43|\n",
            "|           0.41|03/05/2019 08:31:14|       0.58|      100|           48|\n",
            "|           0.57|03/05/2019 08:36:14|       0.35|      100|           58|\n",
            "|           0.41|03/05/2019 08:41:14|        0.4|      100|           58|\n",
            "|           0.53|03/05/2019 08:46:14|       0.35|      100|           62|\n",
            "|           0.51|03/05/2019 08:51:14|        0.6|      100|           45|\n",
            "+---------------+-------------------+-----------+---------+-------------+\n",
            "only showing top 10 rows\n",
            "\n"
          ],
          "name": "stdout"
        }
      ]
    },
    {
      "cell_type": "code",
      "metadata": {
        "id": "0twIXUiWgKoW",
        "colab_type": "code",
        "colab": {}
      },
      "source": [
        "df_util.createOrReplaceTempView('utilization')"
      ],
      "execution_count": 0,
      "outputs": []
    },
    {
      "cell_type": "code",
      "metadata": {
        "id": "eu1QuoP3gZKf",
        "colab_type": "code",
        "colab": {
          "base_uri": "https://localhost:8080/",
          "height": 34
        },
        "outputId": "a1c97e13-c57c-46f4-f600-a7a4bdcfaa2f"
      },
      "source": [
        "df_util.count()"
      ],
      "execution_count": 185,
      "outputs": [
        {
          "output_type": "execute_result",
          "data": {
            "text/plain": [
              "500000"
            ]
          },
          "metadata": {
            "tags": []
          },
          "execution_count": 185
        }
      ]
    },
    {
      "cell_type": "code",
      "metadata": {
        "id": "kt1Mxv9Rga8i",
        "colab_type": "code",
        "colab": {
          "base_uri": "https://localhost:8080/",
          "height": 205
        },
        "outputId": "8d134266-8051-4714-898e-f173e67384ca"
      },
      "source": [
        "df.describe().show()"
      ],
      "execution_count": 187,
      "outputs": [
        {
          "output_type": "stream",
          "text": [
            "+-------+-------------------+-------------------+-------------------+-----------------+------------------+\n",
            "|summary|    cpu_utilization|     event_datetime|        free_memory|        server_id|     session_count|\n",
            "+-------+-------------------+-------------------+-------------------+-----------------+------------------+\n",
            "|  count|             500000|             500000|             500000|           500000|            500000|\n",
            "|   mean| 0.6205177399999506|               null|0.37912809999999125|            124.5|          69.59616|\n",
            "| stddev|0.15875173872913045|               null|0.15830931278376167|14.43088412055242|14.850676696352812|\n",
            "|    min|               0.22|03/05/2019 08:06:14|                0.0|              100|                32|\n",
            "|    max|                1.0|04/09/2019 01:22:46|               0.78|              149|               105|\n",
            "+-------+-------------------+-------------------+-------------------+-----------------+------------------+\n",
            "\n"
          ],
          "name": "stdout"
        }
      ]
    },
    {
      "cell_type": "code",
      "metadata": {
        "id": "W1UeCdRTgcwr",
        "colab_type": "code",
        "colab": {
          "base_uri": "https://localhost:8080/",
          "height": 34
        },
        "outputId": "dffa8e99-56bd-4847-d0e7-c42866fb6c2a"
      },
      "source": [
        "df_util.stat.corr('cpu_utilization', 'free_memory')"
      ],
      "execution_count": 188,
      "outputs": [
        {
          "output_type": "execute_result",
          "data": {
            "text/plain": [
              "-0.47047715730806877"
            ]
          },
          "metadata": {
            "tags": []
          },
          "execution_count": 188
        }
      ]
    },
    {
      "cell_type": "code",
      "metadata": {
        "id": "rIwXzfnRhBpk",
        "colab_type": "code",
        "colab": {
          "base_uri": "https://localhost:8080/",
          "height": 34
        },
        "outputId": "f2759201-580d-4ad3-c2d6-458b79a0a7ac"
      },
      "source": [
        "df_util.stat.corr('session_count', 'free_memory')"
      ],
      "execution_count": 189,
      "outputs": [
        {
          "output_type": "execute_result",
          "data": {
            "text/plain": [
              "-0.5008320848876718"
            ]
          },
          "metadata": {
            "tags": []
          },
          "execution_count": 189
        }
      ]
    },
    {
      "cell_type": "code",
      "metadata": {
        "id": "uAnvnhyQhMvr",
        "colab_type": "code",
        "colab": {
          "base_uri": "https://localhost:8080/",
          "height": 118
        },
        "outputId": "6b84f9f9-377e-419a-fcb5-292a0765e58e"
      },
      "source": [
        "df_util.stat.freqItems(('server_id', 'session_count')).show()"
      ],
      "execution_count": 190,
      "outputs": [
        {
          "output_type": "stream",
          "text": [
            "+--------------------+-----------------------+\n",
            "| server_id_freqItems|session_count_freqItems|\n",
            "+--------------------+-----------------------+\n",
            "|[137, 146, 101, 1...|   [92, 101, 83, 104...|\n",
            "+--------------------+-----------------------+\n",
            "\n"
          ],
          "name": "stdout"
        }
      ]
    },
    {
      "cell_type": "code",
      "metadata": {
        "id": "rpXZsrv-hX5j",
        "colab_type": "code",
        "colab": {}
      },
      "source": [
        "df_util_sample = df_util.sample(fraction=0.05, withReplacement=False)"
      ],
      "execution_count": 0,
      "outputs": []
    },
    {
      "cell_type": "code",
      "metadata": {
        "id": "QHEWoTefhv6F",
        "colab_type": "code",
        "colab": {
          "base_uri": "https://localhost:8080/",
          "height": 34
        },
        "outputId": "99f3643d-fc5f-48b3-e05c-ea4366090cb5"
      },
      "source": [
        "df_util_sample.count()"
      ],
      "execution_count": 192,
      "outputs": [
        {
          "output_type": "execute_result",
          "data": {
            "text/plain": [
              "25157"
            ]
          },
          "metadata": {
            "tags": []
          },
          "execution_count": 192
        }
      ]
    },
    {
      "cell_type": "code",
      "metadata": {
        "id": "E60AkLrBhyBD",
        "colab_type": "code",
        "colab": {
          "base_uri": "https://localhost:8080/",
          "height": 118
        },
        "outputId": "f8c0305b-86c0-4115-9d04-1c52a17e04b0"
      },
      "source": [
        "spark.sql(\"SELECT min(cpu_utilization), max(cpu_utilization), stddev(cpu_utilization) FROM utilization\").show()"
      ],
      "execution_count": 193,
      "outputs": [
        {
          "output_type": "stream",
          "text": [
            "+--------------------+--------------------+----------------------------+\n",
            "|min(cpu_utilization)|max(cpu_utilization)|stddev_samp(cpu_utilization)|\n",
            "+--------------------+--------------------+----------------------------+\n",
            "|                0.22|                 1.0|         0.15875173872913045|\n",
            "+--------------------+--------------------+----------------------------+\n",
            "\n"
          ],
          "name": "stdout"
        }
      ]
    },
    {
      "cell_type": "code",
      "metadata": {
        "id": "sCjXohYNkMtW",
        "colab_type": "code",
        "colab": {
          "base_uri": "https://localhost:8080/",
          "height": 454
        },
        "outputId": "d43475b1-e241-43d5-9bdb-a3f90a6f7dff"
      },
      "source": [
        "spark.sql(\"SELECT server_id, min(cpu_utilization), max(cpu_utilization), stddev(cpu_utilization) \\\n",
        "           FROM utilization \\\n",
        "           GROUP BY server_id\").show()"
      ],
      "execution_count": 195,
      "outputs": [
        {
          "output_type": "stream",
          "text": [
            "+---------+--------------------+--------------------+----------------------------+\n",
            "|server_id|min(cpu_utilization)|max(cpu_utilization)|stddev_samp(cpu_utilization)|\n",
            "+---------+--------------------+--------------------+----------------------------+\n",
            "|      112|                0.52|                0.92|         0.11528867845082576|\n",
            "|      113|                0.58|                0.98|         0.11544345150353694|\n",
            "|      130|                0.35|                0.75|         0.11568834774245967|\n",
            "|      126|                0.48|                0.88|         0.11542612970702051|\n",
            "|      149|                0.54|                0.94|         0.11543517500295467|\n",
            "|      110|                0.35|                0.75|         0.11533251724450215|\n",
            "|      136|                0.41|                 0.8|         0.11597405743182258|\n",
            "|      144|                0.47|                0.87|         0.11478654960489501|\n",
            "|      119|                0.22|                0.62|         0.11516031929842008|\n",
            "|      116|                 0.3|                 0.7|         0.11506079722349302|\n",
            "|      145|                0.58|                0.98|         0.11476448868786197|\n",
            "|      124|                0.24|                0.64|         0.11579377614906383|\n",
            "|      143|                0.26|                0.66|         0.11616596078044727|\n",
            "|      107|                0.45|                0.85|         0.11597417369783877|\n",
            "|      146|                 0.5|                 0.9|         0.11488129439634706|\n",
            "|      103|                0.56|                0.96|         0.11617507884178278|\n",
            "|      139|                0.51|                0.91|         0.11519660023052102|\n",
            "|      138|                0.24|                0.64|          0.1155955860444133|\n",
            "|      114|                0.33|                0.73|         0.11510268816097273|\n",
            "|      115|                0.44|                0.84|         0.11569664615014985|\n",
            "+---------+--------------------+--------------------+----------------------------+\n",
            "only showing top 20 rows\n",
            "\n"
          ],
          "name": "stdout"
        }
      ]
    },
    {
      "cell_type": "code",
      "metadata": {
        "id": "dm-AECzMkdMl",
        "colab_type": "code",
        "colab": {
          "base_uri": "https://localhost:8080/",
          "height": 454
        },
        "outputId": "b1f70a8e-a41e-4937-da2b-f76ecb4197e2"
      },
      "source": [
        "spark.sql(\"SELECT server_id, FLOOR(cpu_utilization*100/10) bucket FROM utilization\").show()"
      ],
      "execution_count": 196,
      "outputs": [
        {
          "output_type": "stream",
          "text": [
            "+---------+------+\n",
            "|server_id|bucket|\n",
            "+---------+------+\n",
            "|      100|     5|\n",
            "|      100|     4|\n",
            "|      100|     5|\n",
            "|      100|     5|\n",
            "|      100|     3|\n",
            "|      100|     4|\n",
            "|      100|     5|\n",
            "|      100|     4|\n",
            "|      100|     5|\n",
            "|      100|     5|\n",
            "|      100|     3|\n",
            "|      100|     6|\n",
            "|      100|     6|\n",
            "|      100|     5|\n",
            "|      100|     2|\n",
            "|      100|     4|\n",
            "|      100|     4|\n",
            "|      100|     6|\n",
            "|      100|     4|\n",
            "|      100|     5|\n",
            "+---------+------+\n",
            "only showing top 20 rows\n",
            "\n"
          ],
          "name": "stdout"
        }
      ]
    },
    {
      "cell_type": "code",
      "metadata": {
        "id": "WT6JkBfClDzE",
        "colab_type": "code",
        "colab": {
          "base_uri": "https://localhost:8080/",
          "height": 252
        },
        "outputId": "e4dbe0bb-b461-487e-c28a-bfbd86e4a7d8"
      },
      "source": [
        "spark.sql(\"SELECT COUNT(*), FLOOR(cpu_utilization*100/10) bucket FROM utilization \\\n",
        "          GROUP BY bucket ORDER BY bucket\").show()"
      ],
      "execution_count": 197,
      "outputs": [
        {
          "output_type": "stream",
          "text": [
            "+--------+------+\n",
            "|count(1)|bucket|\n",
            "+--------+------+\n",
            "|    8186|     2|\n",
            "|   37029|     3|\n",
            "|   68046|     4|\n",
            "|  104910|     5|\n",
            "|  116725|     6|\n",
            "|   88242|     7|\n",
            "|   56598|     8|\n",
            "|   20207|     9|\n",
            "|      57|    10|\n",
            "+--------+------+\n",
            "\n"
          ],
          "name": "stdout"
        }
      ]
    },
    {
      "cell_type": "code",
      "metadata": {
        "id": "YSaincaBlTCI",
        "colab_type": "code",
        "colab": {}
      },
      "source": [
        "from pyspark.sql import SparkSession\n"
      ],
      "execution_count": 0,
      "outputs": []
    },
    {
      "cell_type": "code",
      "metadata": {
        "id": "ryiLABUklyfj",
        "colab_type": "code",
        "colab": {}
      },
      "source": [
        "spark = SparkSession.builder.getOrCreate()\n"
      ],
      "execution_count": 0,
      "outputs": []
    },
    {
      "cell_type": "code",
      "metadata": {
        "id": "mJX57jX4l5Ke",
        "colab_type": "code",
        "colab": {}
      },
      "source": [
        "file_path = './utilization.json'\n",
        "df_util = spark.read.format('json').load(file_path)"
      ],
      "execution_count": 0,
      "outputs": []
    },
    {
      "cell_type": "code",
      "metadata": {
        "id": "pv7EH72ImFKC",
        "colab_type": "code",
        "colab": {}
      },
      "source": [
        "df_util.createOrReplaceTempView('utilization')"
      ],
      "execution_count": 0,
      "outputs": []
    },
    {
      "cell_type": "code",
      "metadata": {
        "id": "Qj5ID2YTmKjO",
        "colab_type": "code",
        "colab": {
          "base_uri": "https://localhost:8080/",
          "height": 454
        },
        "outputId": "acf5adda-fa57-4d36-bd05-4fbcf9b8cbb2"
      },
      "source": [
        "spark.sql(\"SELECT server_id, min(cpu_utilization), max(cpu_utilization), \\\n",
        "           stddev(cpu_utilization) \\\n",
        "           FROM utilization \\\n",
        "           GROUP BY server_id\").show()"
      ],
      "execution_count": 202,
      "outputs": [
        {
          "output_type": "stream",
          "text": [
            "+---------+--------------------+--------------------+----------------------------+\n",
            "|server_id|min(cpu_utilization)|max(cpu_utilization)|stddev_samp(cpu_utilization)|\n",
            "+---------+--------------------+--------------------+----------------------------+\n",
            "|      112|                0.52|                0.92|         0.11528867845082576|\n",
            "|      113|                0.58|                0.98|         0.11544345150353694|\n",
            "|      130|                0.35|                0.75|         0.11568834774245967|\n",
            "|      126|                0.48|                0.88|         0.11542612970702051|\n",
            "|      149|                0.54|                0.94|         0.11543517500295467|\n",
            "|      110|                0.35|                0.75|         0.11533251724450215|\n",
            "|      136|                0.41|                 0.8|         0.11597405743182258|\n",
            "|      144|                0.47|                0.87|         0.11478654960489501|\n",
            "|      119|                0.22|                0.62|         0.11516031929842008|\n",
            "|      116|                 0.3|                 0.7|         0.11506079722349302|\n",
            "|      145|                0.58|                0.98|         0.11476448868786197|\n",
            "|      124|                0.24|                0.64|         0.11579377614906383|\n",
            "|      143|                0.26|                0.66|         0.11616596078044727|\n",
            "|      107|                0.45|                0.85|         0.11597417369783877|\n",
            "|      146|                 0.5|                 0.9|         0.11488129439634706|\n",
            "|      103|                0.56|                0.96|         0.11617507884178278|\n",
            "|      139|                0.51|                0.91|         0.11519660023052102|\n",
            "|      138|                0.24|                0.64|          0.1155955860444133|\n",
            "|      114|                0.33|                0.73|         0.11510268816097273|\n",
            "|      115|                0.44|                0.84|         0.11569664615014985|\n",
            "+---------+--------------------+--------------------+----------------------------+\n",
            "only showing top 20 rows\n",
            "\n"
          ],
          "name": "stdout"
        }
      ]
    },
    {
      "cell_type": "code",
      "metadata": {
        "id": "99HqrFYrmmjL",
        "colab_type": "code",
        "colab": {}
      },
      "source": [
        "sql_window = spark.sql(\"SELECT event_datetime, server_id, cpu_utilization, \\\n",
        "          avg(cpu_utilization) OVER (PARTITION BY server_id) avg_server_util \\\n",
        "          FROM utilization\")"
      ],
      "execution_count": 0,
      "outputs": []
    },
    {
      "cell_type": "code",
      "metadata": {
        "id": "93puFJzUnQ3s",
        "colab_type": "code",
        "colab": {
          "base_uri": "https://localhost:8080/",
          "height": 454
        },
        "outputId": "0fd808c7-5882-4acd-bcb3-0005c84d4d12"
      },
      "source": [
        "sql_window.show()"
      ],
      "execution_count": 206,
      "outputs": [
        {
          "output_type": "stream",
          "text": [
            "+-------------------+---------+---------------+------------------+\n",
            "|     event_datetime|server_id|cpu_utilization|   avg_server_util|\n",
            "+-------------------+---------+---------------+------------------+\n",
            "|03/05/2019 08:06:34|      112|           0.71|0.7153870000000067|\n",
            "|03/05/2019 08:11:34|      112|           0.78|0.7153870000000067|\n",
            "|03/05/2019 08:16:34|      112|           0.87|0.7153870000000067|\n",
            "|03/05/2019 08:21:34|      112|           0.82|0.7153870000000067|\n",
            "|03/05/2019 08:26:34|      112|           0.62|0.7153870000000067|\n",
            "|03/05/2019 08:31:34|      112|            0.9|0.7153870000000067|\n",
            "|03/05/2019 08:36:34|      112|           0.89|0.7153870000000067|\n",
            "|03/05/2019 08:41:34|      112|           0.81|0.7153870000000067|\n",
            "|03/05/2019 08:46:34|      112|           0.88|0.7153870000000067|\n",
            "|03/05/2019 08:51:34|      112|           0.89|0.7153870000000067|\n",
            "|03/05/2019 08:56:34|      112|           0.84|0.7153870000000067|\n",
            "|03/05/2019 09:01:34|      112|           0.71|0.7153870000000067|\n",
            "|03/05/2019 09:06:34|      112|           0.85|0.7153870000000067|\n",
            "|03/05/2019 09:11:34|      112|           0.72|0.7153870000000067|\n",
            "|03/05/2019 09:16:34|      112|           0.54|0.7153870000000067|\n",
            "|03/05/2019 09:21:34|      112|           0.58|0.7153870000000067|\n",
            "|03/05/2019 09:26:34|      112|           0.73|0.7153870000000067|\n",
            "|03/05/2019 09:31:34|      112|           0.86|0.7153870000000067|\n",
            "|03/05/2019 09:36:34|      112|           0.63|0.7153870000000067|\n",
            "|03/05/2019 09:41:34|      112|           0.75|0.7153870000000067|\n",
            "+-------------------+---------+---------------+------------------+\n",
            "only showing top 20 rows\n",
            "\n"
          ],
          "name": "stdout"
        }
      ]
    },
    {
      "cell_type": "code",
      "metadata": {
        "id": "Rhsn1qBEnSdh",
        "colab_type": "code",
        "colab": {}
      },
      "source": [
        "sql_window2 = spark.sql(\"SELECT event_datetime, server_id, cpu_utilization, \\\n",
        "          avg(cpu_utilization) OVER (PARTITION BY server_id) avg_server_util, \\\n",
        "          cpu_utilization - avg(cpu_utilization) OVER (PARTITION BY server_id) delta_server_util \\\n",
        "          FROM utilization\")"
      ],
      "execution_count": 0,
      "outputs": []
    },
    {
      "cell_type": "code",
      "metadata": {
        "id": "L1idb8foobMc",
        "colab_type": "code",
        "colab": {
          "base_uri": "https://localhost:8080/",
          "height": 454
        },
        "outputId": "627aca4a-5f67-4db1-ce7c-29a8366d6108"
      },
      "source": [
        "sql_window2.show()"
      ],
      "execution_count": 210,
      "outputs": [
        {
          "output_type": "stream",
          "text": [
            "+-------------------+---------+---------------+------------------+--------------------+\n",
            "|     event_datetime|server_id|cpu_utilization|   avg_server_util|   delta_server_util|\n",
            "+-------------------+---------+---------------+------------------+--------------------+\n",
            "|03/05/2019 08:06:34|      112|           0.71|0.7153870000000067|-0.00538700000000...|\n",
            "|03/05/2019 08:11:34|      112|           0.78|0.7153870000000067| 0.06461299999999337|\n",
            "|03/05/2019 08:16:34|      112|           0.87|0.7153870000000067| 0.15461299999999334|\n",
            "|03/05/2019 08:21:34|      112|           0.82|0.7153870000000067|  0.1046129999999933|\n",
            "|03/05/2019 08:26:34|      112|           0.62|0.7153870000000067|-0.09538700000000666|\n",
            "|03/05/2019 08:31:34|      112|            0.9|0.7153870000000067| 0.18461299999999337|\n",
            "|03/05/2019 08:36:34|      112|           0.89|0.7153870000000067| 0.17461299999999336|\n",
            "|03/05/2019 08:41:34|      112|           0.81|0.7153870000000067|  0.0946129999999934|\n",
            "|03/05/2019 08:46:34|      112|           0.88|0.7153870000000067| 0.16461299999999335|\n",
            "|03/05/2019 08:51:34|      112|           0.89|0.7153870000000067| 0.17461299999999336|\n",
            "|03/05/2019 08:56:34|      112|           0.84|0.7153870000000067| 0.12461299999999331|\n",
            "|03/05/2019 09:01:34|      112|           0.71|0.7153870000000067|-0.00538700000000...|\n",
            "|03/05/2019 09:06:34|      112|           0.85|0.7153870000000067| 0.13461299999999332|\n",
            "|03/05/2019 09:11:34|      112|           0.72|0.7153870000000067|0.004612999999993317|\n",
            "|03/05/2019 09:16:34|      112|           0.54|0.7153870000000067|-0.17538700000000662|\n",
            "|03/05/2019 09:21:34|      112|           0.58|0.7153870000000067| -0.1353870000000067|\n",
            "|03/05/2019 09:26:34|      112|           0.73|0.7153870000000067|0.014612999999993326|\n",
            "|03/05/2019 09:31:34|      112|           0.86|0.7153870000000067| 0.14461299999999333|\n",
            "|03/05/2019 09:36:34|      112|           0.63|0.7153870000000067|-0.08538700000000665|\n",
            "|03/05/2019 09:41:34|      112|           0.75|0.7153870000000067|0.034612999999993344|\n",
            "+-------------------+---------+---------------+------------------+--------------------+\n",
            "only showing top 20 rows\n",
            "\n"
          ],
          "name": "stdout"
        }
      ]
    },
    {
      "cell_type": "code",
      "metadata": {
        "id": "pEZoHiH6ogIN",
        "colab_type": "code",
        "colab": {}
      },
      "source": [
        "sql_window3 = spark.sql(\"SELECT event_datetime, server_id, cpu_utilization, \\\n",
        "                          avg(cpu_utilization) OVER (PARTITION BY server_id \\\n",
        "                          ORDER BY event_datetime \\\n",
        "                          ROWS BETWEEN 1 PRECEDING AND 1 FOLLOWING )avg_server_util \\\n",
        "                          FROM utilization\")"
      ],
      "execution_count": 0,
      "outputs": []
    },
    {
      "cell_type": "code",
      "metadata": {
        "id": "lN3g9kP7pYDo",
        "colab_type": "code",
        "colab": {
          "base_uri": "https://localhost:8080/",
          "height": 454
        },
        "outputId": "f3f2b8bc-c329-4533-d17d-0a43b2d273e4"
      },
      "source": [
        "sql_window3.show()"
      ],
      "execution_count": 213,
      "outputs": [
        {
          "output_type": "stream",
          "text": [
            "+-------------------+---------+---------------+------------------+\n",
            "|     event_datetime|server_id|cpu_utilization|   avg_server_util|\n",
            "+-------------------+---------+---------------+------------------+\n",
            "|03/05/2019 08:06:34|      112|           0.71|             0.745|\n",
            "|03/05/2019 08:11:34|      112|           0.78|0.7866666666666666|\n",
            "|03/05/2019 08:16:34|      112|           0.87|0.8233333333333333|\n",
            "|03/05/2019 08:21:34|      112|           0.82|              0.77|\n",
            "|03/05/2019 08:26:34|      112|           0.62|0.7799999999999999|\n",
            "|03/05/2019 08:31:34|      112|            0.9|0.8033333333333333|\n",
            "|03/05/2019 08:36:34|      112|           0.89|0.8666666666666667|\n",
            "|03/05/2019 08:41:34|      112|           0.81|              0.86|\n",
            "|03/05/2019 08:46:34|      112|           0.88|              0.86|\n",
            "|03/05/2019 08:51:34|      112|           0.89|              0.87|\n",
            "|03/05/2019 08:56:34|      112|           0.84|0.8133333333333334|\n",
            "|03/05/2019 09:01:34|      112|           0.71|0.7999999999999999|\n",
            "|03/05/2019 09:06:34|      112|           0.85|0.7600000000000001|\n",
            "|03/05/2019 09:11:34|      112|           0.72|0.7033333333333333|\n",
            "|03/05/2019 09:16:34|      112|           0.54|0.6133333333333333|\n",
            "|03/05/2019 09:21:34|      112|           0.58|0.6166666666666667|\n",
            "|03/05/2019 09:26:34|      112|           0.73|0.7233333333333333|\n",
            "|03/05/2019 09:31:34|      112|           0.86|0.7399999999999999|\n",
            "|03/05/2019 09:36:34|      112|           0.63|0.7466666666666667|\n",
            "|03/05/2019 09:41:34|      112|           0.75|0.6999999999999998|\n",
            "+-------------------+---------+---------------+------------------+\n",
            "only showing top 20 rows\n",
            "\n"
          ],
          "name": "stdout"
        }
      ]
    },
    {
      "cell_type": "code",
      "metadata": {
        "id": "I4lyhWrCpeQH",
        "colab_type": "code",
        "colab": {}
      },
      "source": [
        "from pyspark.sql import SparkSession\n",
        "from pyspark.ml.linalg import Vectors\n",
        "from pyspark.ml.feature import VectorAssembler\n",
        "from pyspark.ml.clustering import KMeans"
      ],
      "execution_count": 0,
      "outputs": []
    },
    {
      "cell_type": "code",
      "metadata": {
        "id": "piUt0PzMqZlX",
        "colab_type": "code",
        "colab": {}
      },
      "source": [
        "spark =SparkSession.builder.getOrCreate()\n"
      ],
      "execution_count": 0,
      "outputs": []
    },
    {
      "cell_type": "code",
      "metadata": {
        "id": "gDwmlBOhqefW",
        "colab_type": "code",
        "colab": {}
      },
      "source": [
        "file_path = './utilization.json'\n",
        "df_util = spark.read.format('json').load(file_path)"
      ],
      "execution_count": 0,
      "outputs": []
    },
    {
      "cell_type": "code",
      "metadata": {
        "id": "98HuiBlqqoqM",
        "colab_type": "code",
        "colab": {
          "base_uri": "https://localhost:8080/",
          "height": 454
        },
        "outputId": "3979f96b-17ed-41d0-f1ae-b1b9257b4af4"
      },
      "source": [
        "df_util.show()"
      ],
      "execution_count": 217,
      "outputs": [
        {
          "output_type": "stream",
          "text": [
            "+---------------+-------------------+-----------+---------+-------------+\n",
            "|cpu_utilization|     event_datetime|free_memory|server_id|session_count|\n",
            "+---------------+-------------------+-----------+---------+-------------+\n",
            "|           0.57|03/05/2019 08:06:14|       0.51|      100|           47|\n",
            "|           0.47|03/05/2019 08:11:14|       0.62|      100|           43|\n",
            "|           0.56|03/05/2019 08:16:14|       0.57|      100|           62|\n",
            "|           0.57|03/05/2019 08:21:14|       0.56|      100|           50|\n",
            "|           0.35|03/05/2019 08:26:14|       0.46|      100|           43|\n",
            "|           0.41|03/05/2019 08:31:14|       0.58|      100|           48|\n",
            "|           0.57|03/05/2019 08:36:14|       0.35|      100|           58|\n",
            "|           0.41|03/05/2019 08:41:14|        0.4|      100|           58|\n",
            "|           0.53|03/05/2019 08:46:14|       0.35|      100|           62|\n",
            "|           0.51|03/05/2019 08:51:14|        0.6|      100|           45|\n",
            "|           0.32|03/05/2019 08:56:14|       0.37|      100|           47|\n",
            "|           0.62|03/05/2019 09:01:14|       0.59|      100|           60|\n",
            "|           0.66|03/05/2019 09:06:14|       0.72|      100|           57|\n",
            "|           0.54|03/05/2019 09:11:14|       0.54|      100|           44|\n",
            "|           0.29|03/05/2019 09:16:14|        0.4|      100|           47|\n",
            "|           0.43|03/05/2019 09:21:14|       0.68|      100|           66|\n",
            "|           0.49|03/05/2019 09:26:14|       0.66|      100|           65|\n",
            "|           0.64|03/05/2019 09:31:14|       0.55|      100|           66|\n",
            "|           0.42|03/05/2019 09:36:14|        0.6|      100|           42|\n",
            "|           0.55|03/05/2019 09:41:14|       0.59|      100|           63|\n",
            "+---------------+-------------------+-----------+---------+-------------+\n",
            "only showing top 20 rows\n",
            "\n"
          ],
          "name": "stdout"
        }
      ]
    },
    {
      "cell_type": "code",
      "metadata": {
        "id": "XHLl93Vyqxot",
        "colab_type": "code",
        "colab": {}
      },
      "source": [
        "vectorAssembler = VectorAssembler(inputCols= ['cpu_utilization', 'free_memory', 'session_count'], outputCol = 'features')"
      ],
      "execution_count": 0,
      "outputs": []
    },
    {
      "cell_type": "code",
      "metadata": {
        "id": "BsabrfvMrdRX",
        "colab_type": "code",
        "colab": {}
      },
      "source": [
        "vcluster = vectorAssembler.transform(df_util)"
      ],
      "execution_count": 0,
      "outputs": []
    },
    {
      "cell_type": "code",
      "metadata": {
        "id": "awIMYdjRr3ss",
        "colab_type": "code",
        "colab": {
          "base_uri": "https://localhost:8080/",
          "height": 454
        },
        "outputId": "079f1cf2-d42f-4b5a-8a74-8458d2f02179"
      },
      "source": [
        "vcluster.show()"
      ],
      "execution_count": 221,
      "outputs": [
        {
          "output_type": "stream",
          "text": [
            "+---------------+-------------------+-----------+---------+-------------+----------------+\n",
            "|cpu_utilization|     event_datetime|free_memory|server_id|session_count|        features|\n",
            "+---------------+-------------------+-----------+---------+-------------+----------------+\n",
            "|           0.57|03/05/2019 08:06:14|       0.51|      100|           47|[0.57,0.51,47.0]|\n",
            "|           0.47|03/05/2019 08:11:14|       0.62|      100|           43|[0.47,0.62,43.0]|\n",
            "|           0.56|03/05/2019 08:16:14|       0.57|      100|           62|[0.56,0.57,62.0]|\n",
            "|           0.57|03/05/2019 08:21:14|       0.56|      100|           50|[0.57,0.56,50.0]|\n",
            "|           0.35|03/05/2019 08:26:14|       0.46|      100|           43|[0.35,0.46,43.0]|\n",
            "|           0.41|03/05/2019 08:31:14|       0.58|      100|           48|[0.41,0.58,48.0]|\n",
            "|           0.57|03/05/2019 08:36:14|       0.35|      100|           58|[0.57,0.35,58.0]|\n",
            "|           0.41|03/05/2019 08:41:14|        0.4|      100|           58| [0.41,0.4,58.0]|\n",
            "|           0.53|03/05/2019 08:46:14|       0.35|      100|           62|[0.53,0.35,62.0]|\n",
            "|           0.51|03/05/2019 08:51:14|        0.6|      100|           45| [0.51,0.6,45.0]|\n",
            "|           0.32|03/05/2019 08:56:14|       0.37|      100|           47|[0.32,0.37,47.0]|\n",
            "|           0.62|03/05/2019 09:01:14|       0.59|      100|           60|[0.62,0.59,60.0]|\n",
            "|           0.66|03/05/2019 09:06:14|       0.72|      100|           57|[0.66,0.72,57.0]|\n",
            "|           0.54|03/05/2019 09:11:14|       0.54|      100|           44|[0.54,0.54,44.0]|\n",
            "|           0.29|03/05/2019 09:16:14|        0.4|      100|           47| [0.29,0.4,47.0]|\n",
            "|           0.43|03/05/2019 09:21:14|       0.68|      100|           66|[0.43,0.68,66.0]|\n",
            "|           0.49|03/05/2019 09:26:14|       0.66|      100|           65|[0.49,0.66,65.0]|\n",
            "|           0.64|03/05/2019 09:31:14|       0.55|      100|           66|[0.64,0.55,66.0]|\n",
            "|           0.42|03/05/2019 09:36:14|        0.6|      100|           42| [0.42,0.6,42.0]|\n",
            "|           0.55|03/05/2019 09:41:14|       0.59|      100|           63|[0.55,0.59,63.0]|\n",
            "+---------------+-------------------+-----------+---------+-------------+----------------+\n",
            "only showing top 20 rows\n",
            "\n"
          ],
          "name": "stdout"
        }
      ]
    },
    {
      "cell_type": "code",
      "metadata": {
        "id": "RCGJVjfXr7ky",
        "colab_type": "code",
        "colab": {}
      },
      "source": [
        "kmeans = KMeans().setK(3)"
      ],
      "execution_count": 0,
      "outputs": []
    },
    {
      "cell_type": "code",
      "metadata": {
        "id": "y3CdgKDosN-d",
        "colab_type": "code",
        "colab": {}
      },
      "source": [
        "kmeans = kmeans.setSeed(1)\n"
      ],
      "execution_count": 0,
      "outputs": []
    },
    {
      "cell_type": "code",
      "metadata": {
        "id": "2TEvkUGVsWTz",
        "colab_type": "code",
        "colab": {}
      },
      "source": [
        "kmodel = kmeans.fit(vcluster)"
      ],
      "execution_count": 0,
      "outputs": []
    },
    {
      "cell_type": "code",
      "metadata": {
        "id": "rmFkbe2ssaOX",
        "colab_type": "code",
        "colab": {
          "base_uri": "https://localhost:8080/",
          "height": 67
        },
        "outputId": "36c44a05-5378-4cd5-821d-e64d344b6d33"
      },
      "source": [
        "kmodel.clusterCenters()"
      ],
      "execution_count": 226,
      "outputs": [
        {
          "output_type": "execute_result",
          "data": {
            "text/plain": [
              "[array([ 0.61918113,  0.38080285, 68.75004716]),\n",
              " array([ 0.71174897,  0.28808911, 86.87510507]),\n",
              " array([ 0.51439668,  0.48445202, 50.49452021])]"
            ]
          },
          "metadata": {
            "tags": []
          },
          "execution_count": 226
        }
      ]
    },
    {
      "cell_type": "code",
      "metadata": {
        "id": "o3KpWF6eskQd",
        "colab_type": "code",
        "colab": {}
      },
      "source": [
        "from pyspark.sql import SparkSession\n",
        "from pyspark.ml.regression import LinearRegression\n",
        "from pyspark.ml.feature import VectorAssembler"
      ],
      "execution_count": 0,
      "outputs": []
    },
    {
      "cell_type": "code",
      "metadata": {
        "id": "uLhkO8jGtFRo",
        "colab_type": "code",
        "colab": {}
      },
      "source": [
        "spark = SparkSession.builder.getOrCreate()\n"
      ],
      "execution_count": 0,
      "outputs": []
    },
    {
      "cell_type": "code",
      "metadata": {
        "id": "44ArW9IJtO08",
        "colab_type": "code",
        "colab": {}
      },
      "source": [
        "file_path = './utilization.json'"
      ],
      "execution_count": 0,
      "outputs": []
    },
    {
      "cell_type": "code",
      "metadata": {
        "id": "regR2VeBtUEp",
        "colab_type": "code",
        "colab": {}
      },
      "source": [
        "df_util = spark.read.format('json').load(file_path)"
      ],
      "execution_count": 0,
      "outputs": []
    },
    {
      "cell_type": "code",
      "metadata": {
        "id": "EKut0gPkteiY",
        "colab_type": "code",
        "colab": {}
      },
      "source": [
        "vectorAssembler = VectorAssembler(inputCols=['cpu_utilization'], outputCol='features')"
      ],
      "execution_count": 0,
      "outputs": []
    },
    {
      "cell_type": "code",
      "metadata": {
        "id": "Tg6cHuzXt4UD",
        "colab_type": "code",
        "colab": {}
      },
      "source": [
        "df_vutil = vectorAssembler.transform(df_util)"
      ],
      "execution_count": 0,
      "outputs": []
    },
    {
      "cell_type": "code",
      "metadata": {
        "id": "FzdqbZAtt_yC",
        "colab_type": "code",
        "colab": {
          "base_uri": "https://localhost:8080/",
          "height": 454
        },
        "outputId": "27ae5763-353c-456c-bf89-79eb51973521"
      },
      "source": [
        "df_vutil.show()"
      ],
      "execution_count": 234,
      "outputs": [
        {
          "output_type": "stream",
          "text": [
            "+---------------+-------------------+-----------+---------+-------------+--------+\n",
            "|cpu_utilization|     event_datetime|free_memory|server_id|session_count|features|\n",
            "+---------------+-------------------+-----------+---------+-------------+--------+\n",
            "|           0.57|03/05/2019 08:06:14|       0.51|      100|           47|  [0.57]|\n",
            "|           0.47|03/05/2019 08:11:14|       0.62|      100|           43|  [0.47]|\n",
            "|           0.56|03/05/2019 08:16:14|       0.57|      100|           62|  [0.56]|\n",
            "|           0.57|03/05/2019 08:21:14|       0.56|      100|           50|  [0.57]|\n",
            "|           0.35|03/05/2019 08:26:14|       0.46|      100|           43|  [0.35]|\n",
            "|           0.41|03/05/2019 08:31:14|       0.58|      100|           48|  [0.41]|\n",
            "|           0.57|03/05/2019 08:36:14|       0.35|      100|           58|  [0.57]|\n",
            "|           0.41|03/05/2019 08:41:14|        0.4|      100|           58|  [0.41]|\n",
            "|           0.53|03/05/2019 08:46:14|       0.35|      100|           62|  [0.53]|\n",
            "|           0.51|03/05/2019 08:51:14|        0.6|      100|           45|  [0.51]|\n",
            "|           0.32|03/05/2019 08:56:14|       0.37|      100|           47|  [0.32]|\n",
            "|           0.62|03/05/2019 09:01:14|       0.59|      100|           60|  [0.62]|\n",
            "|           0.66|03/05/2019 09:06:14|       0.72|      100|           57|  [0.66]|\n",
            "|           0.54|03/05/2019 09:11:14|       0.54|      100|           44|  [0.54]|\n",
            "|           0.29|03/05/2019 09:16:14|        0.4|      100|           47|  [0.29]|\n",
            "|           0.43|03/05/2019 09:21:14|       0.68|      100|           66|  [0.43]|\n",
            "|           0.49|03/05/2019 09:26:14|       0.66|      100|           65|  [0.49]|\n",
            "|           0.64|03/05/2019 09:31:14|       0.55|      100|           66|  [0.64]|\n",
            "|           0.42|03/05/2019 09:36:14|        0.6|      100|           42|  [0.42]|\n",
            "|           0.55|03/05/2019 09:41:14|       0.59|      100|           63|  [0.55]|\n",
            "+---------------+-------------------+-----------+---------+-------------+--------+\n",
            "only showing top 20 rows\n",
            "\n"
          ],
          "name": "stdout"
        }
      ]
    },
    {
      "cell_type": "code",
      "metadata": {
        "id": "kf3_XgCkuFkT",
        "colab_type": "code",
        "colab": {}
      },
      "source": [
        "lr = LinearRegression(featuresCol='features', labelCol='session_count')"
      ],
      "execution_count": 0,
      "outputs": []
    },
    {
      "cell_type": "code",
      "metadata": {
        "id": "9oYAufgNuhXV",
        "colab_type": "code",
        "colab": {}
      },
      "source": [
        "lrModel = lr.fit(df_vutil)"
      ],
      "execution_count": 0,
      "outputs": []
    },
    {
      "cell_type": "code",
      "metadata": {
        "id": "u-27RBgjurfF",
        "colab_type": "code",
        "colab": {
          "base_uri": "https://localhost:8080/",
          "height": 34
        },
        "outputId": "ac7440e2-c7f6-4ee8-cb80-ed6f2eb92cf2"
      },
      "source": [
        "lrModel.coefficients"
      ],
      "execution_count": 238,
      "outputs": [
        {
          "output_type": "execute_result",
          "data": {
            "text/plain": [
              "DenseVector([47.024])"
            ]
          },
          "metadata": {
            "tags": []
          },
          "execution_count": 238
        }
      ]
    },
    {
      "cell_type": "code",
      "metadata": {
        "id": "IJexGOJ6uyyU",
        "colab_type": "code",
        "colab": {
          "base_uri": "https://localhost:8080/",
          "height": 34
        },
        "outputId": "f0d1d5d4-40a1-4aad-866b-e4e015fb4ae2"
      },
      "source": [
        "lrModel.intercept"
      ],
      "execution_count": 239,
      "outputs": [
        {
          "output_type": "execute_result",
          "data": {
            "text/plain": [
              "40.41695103550973"
            ]
          },
          "metadata": {
            "tags": []
          },
          "execution_count": 239
        }
      ]
    },
    {
      "cell_type": "code",
      "metadata": {
        "id": "0zgrXDdNu3Z4",
        "colab_type": "code",
        "colab": {
          "base_uri": "https://localhost:8080/",
          "height": 34
        },
        "outputId": "82fb953f-14ab-4c40-f289-22a64a0f5531"
      },
      "source": [
        "lrModel.summary.rootMeanSquaredError\n"
      ],
      "execution_count": 240,
      "outputs": [
        {
          "output_type": "execute_result",
          "data": {
            "text/plain": [
              "12.83799022593113"
            ]
          },
          "metadata": {
            "tags": []
          },
          "execution_count": 240
        }
      ]
    },
    {
      "cell_type": "code",
      "metadata": {
        "id": "dQWS4WNju_og",
        "colab_type": "code",
        "colab": {}
      },
      "source": [
        ""
      ],
      "execution_count": 0,
      "outputs": []
    }
  ]
}