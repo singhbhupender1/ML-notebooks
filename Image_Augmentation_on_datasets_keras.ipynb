{
  "nbformat": 4,
  "nbformat_minor": 0,
  "metadata": {
    "colab": {
      "name": "Image Augmentation on datasets keras.ipynb",
      "provenance": [],
      "toc_visible": true,
      "include_colab_link": true
    },
    "kernelspec": {
      "name": "python3",
      "display_name": "Python 3"
    }
  },
  "cells": [
    {
      "cell_type": "markdown",
      "metadata": {
        "id": "view-in-github",
        "colab_type": "text"
      },
      "source": [
        "<a href=\"https://colab.research.google.com/github/singhbhupender1/ML-notebooks/blob/master/Image_Augmentation_on_datasets_keras.ipynb\" target=\"_parent\"><img src=\"https://colab.research.google.com/assets/colab-badge.svg\" alt=\"Open In Colab\"/></a>"
      ]
    },
    {
      "cell_type": "markdown",
      "metadata": {
        "id": "P7OjFPJZ2RyV",
        "colab_type": "text"
      },
      "source": [
        "##Keras Image Augmentation API"
      ]
    },
    {
      "cell_type": "markdown",
      "metadata": {
        "id": "UDje4eP13Ji7",
        "colab_type": "text"
      },
      "source": [
        "**Keras provides the ImageDataGenerator class that defines the configuration for image data preparation and augmentation. This includes capabilities such as:**\n",
        "\n",
        "**Sample-wise standardization.**\n",
        "\n",
        "**Feature-wise standardization.**\n",
        "\n",
        "**ZCA whitening.**\n",
        "\n",
        "**Random rotation, shifts, shear and flips.**\n",
        "\n",
        "**Dimension reordering.**\n",
        "\n",
        "**Save augmented images to disk.**\n",
        "\n",
        "**An augmented image generator can be created as follows:**\n",
        "\n",
        "\n"
      ]
    },
    {
      "cell_type": "markdown",
      "metadata": {
        "id": "8k_u8-oz3r8b",
        "colab_type": "text"
      },
      "source": [
        "\n",
        "\n",
        "```\n",
        "datagen = ImageDataGenerator()\n",
        "```\n",
        "\n"
      ]
    },
    {
      "cell_type": "markdown",
      "metadata": {
        "id": "FIjZ4gEI30kj",
        "colab_type": "text"
      },
      "source": [
        "**Rather than performing the operations on your entire image dataset in memory, the API is designed to be iterated by the deep learning model fitting process, creating augmented image data for you just-in-time. This reduces your memory overhead, but adds some additional time cost during model training.**\n",
        "\n",
        "**After you have created and configured your ImageDataGenerator, you must fit it on your data. This will calculate any statistics required to actually perform the transforms to your image data. You can do this by calling the fit() function on the data generator and pass it your training dataset.**"
      ]
    },
    {
      "cell_type": "markdown",
      "metadata": {
        "id": "BGvRWlT34Hwk",
        "colab_type": "text"
      },
      "source": [
        "\n",
        "\n",
        "```\n",
        "datagen.fit(train)\n",
        "\n",
        "```\n",
        "\n"
      ]
    },
    {
      "cell_type": "markdown",
      "metadata": {
        "id": "KCbpTR5O4Mc5",
        "colab_type": "text"
      },
      "source": [
        "**The data generator itself is in fact an iterator, returning batches of image samples when requested. We can configure the batch size and prepare the data generator and get batches of images by calling the flow() function.**"
      ]
    },
    {
      "cell_type": "markdown",
      "metadata": {
        "id": "2zr-mc-p4QYW",
        "colab_type": "text"
      },
      "source": [
        "\n",
        "\n",
        "```\n",
        "X_batch, y_batch = datagen.flow(train, train, batch_size=32)\n",
        "```\n",
        "\n"
      ]
    },
    {
      "cell_type": "markdown",
      "metadata": {
        "id": "tdFO2m3Q4UnT",
        "colab_type": "text"
      },
      "source": [
        "**Finally we can make use of the data generator. Instead of calling the fit() function on our model, we must call the fit_generator() function and pass in the data generator and the desired length of an epoch as well as the total number of epochs on which to train.**"
      ]
    },
    {
      "cell_type": "markdown",
      "metadata": {
        "id": "U5MiyhA84Yxf",
        "colab_type": "text"
      },
      "source": [
        "\n",
        "\n",
        "```\n",
        "fit_generator(datagen, samples_per_epoch=len(train), epochs=100)\n",
        "```\n",
        "\n"
      ]
    },
    {
      "cell_type": "markdown",
      "metadata": {
        "id": "3UVRhCys63X2",
        "colab_type": "text"
      },
      "source": [
        "##Point of Comparison for Image Augmentation"
      ]
    },
    {
      "cell_type": "markdown",
      "metadata": {
        "id": "URdMRxIR7LRk",
        "colab_type": "text"
      },
      "source": [
        "**We will use the MNIST handwritten digit recognition task in these examples. To begin with, let’s take a look at the first 9 images in the training dataset.**"
      ]
    },
    {
      "cell_type": "code",
      "metadata": {
        "id": "1Cojdemlzlot",
        "colab_type": "code",
        "colab": {
          "base_uri": "https://localhost:8080/",
          "height": 381
        },
        "outputId": "3f051424-ae65-44b5-e6c0-d60f7da22d11"
      },
      "source": [
        "#plot images\n",
        "from keras.datasets import mnist\n",
        "import matplotlib.pyplot as plt\n",
        "%matplotlib inline\n",
        "#load data\n",
        "(trainX, trainy), (testX, testy) = mnist.load_data()\n",
        "#create a grid of 3x3 images\n",
        "for i in range(0, 9):\n",
        "  plt.subplot(330 + 1 + i)\n",
        "  plt.imshow(trainX[i], cmap=plt.get_cmap('gray'))\n",
        "#show the plot\n",
        "plt.show()"
      ],
      "execution_count": 1,
      "outputs": [
        {
          "output_type": "stream",
          "text": [
            "Using TensorFlow backend.\n"
          ],
          "name": "stderr"
        },
        {
          "output_type": "display_data",
          "data": {
            "text/html": [
              "<p style=\"color: red;\">\n",
              "The default version of TensorFlow in Colab will soon switch to TensorFlow 2.x.<br>\n",
              "We recommend you <a href=\"https://www.tensorflow.org/guide/migrate\" target=\"_blank\">upgrade</a> now \n",
              "or ensure your notebook will continue to use TensorFlow 1.x via the <code>%tensorflow_version 1.x</code> magic:\n",
              "<a href=\"https://colab.research.google.com/notebooks/tensorflow_version.ipynb\" target=\"_blank\">more info</a>.</p>\n"
            ],
            "text/plain": [
              "<IPython.core.display.HTML object>"
            ]
          },
          "metadata": {
            "tags": []
          }
        },
        {
          "output_type": "stream",
          "text": [
            "Downloading data from https://s3.amazonaws.com/img-datasets/mnist.npz\n",
            "11493376/11490434 [==============================] - 1s 0us/step\n"
          ],
          "name": "stdout"
        },
        {
          "output_type": "display_data",
          "data": {
            "image/png": "[encoded data removed]",
            "text/plain": [
              "<Figure size 432x288 with 9 Axes>"
            ]
          },
          "metadata": {
            "tags": []
          }
        }
      ]
    },
    {
      "cell_type": "markdown",
      "metadata": {
        "id": "b1JXA6Gz8K-D",
        "colab_type": "text"
      },
      "source": [
        "**Running this example provides the following image that we can use as a point of comparison with the image preparation and augmentation in the examples below.**"
      ]
    },
    {
      "cell_type": "markdown",
      "metadata": {
        "id": "jS254_D68UPl",
        "colab_type": "text"
      },
      "source": [
        "##Feature Standardization"
      ]
    },
    {
      "cell_type": "markdown",
      "metadata": {
        "id": "HhdE1Rx78aNL",
        "colab_type": "text"
      },
      "source": [
        "**It is also possible to standardize pixel values across the entire dataset. This is called feature standardization and mirrors the type of standardization often performed for each column in a tabular dataset.**\n",
        "\n",
        "**You can perform feature standardization by setting the featurewise_center and featurewise_std_normalization arguments on the ImageDataGenerator class. These are in fact set to True by default and creating an instance of ImageDataGenerator with no arguments will have the same effect.**"
      ]
    },
    {
      "cell_type": "code",
      "metadata": {
        "id": "hwNZEXSQ7_WK",
        "colab_type": "code",
        "colab": {
          "base_uri": "https://localhost:8080/",
          "height": 268
        },
        "outputId": "51961307-3a06-4267-f130-d099326fbae3"
      },
      "source": [
        "# Standardize images across the dataset, mean=0, stdev=1\n",
        "from keras.datasets import mnist\n",
        "from keras.preprocessing.image import ImageDataGenerator\n",
        "from matplotlib import pyplot\n",
        "# load data\n",
        "(X_train, y_train), (X_test, y_test) = mnist.load_data()\n",
        "# reshape to be [samples][width][height][channels]\n",
        "X_train = X_train.reshape((X_train.shape[0], 28, 28, 1))\n",
        "X_test = X_test.reshape((X_test.shape[0], 28, 28, 1))\n",
        "# convert from int to float\n",
        "X_train = X_train.astype('float32')\n",
        "X_test = X_test.astype('float32')\n",
        "# define data preparation\n",
        "datagen = ImageDataGenerator(featurewise_center=True, featurewise_std_normalization=True)\n",
        "# fit parameters from data\n",
        "datagen.fit(X_train)\n",
        "# configure batch size and retrieve one batch of images\n",
        "for X_batch, y_batch in datagen.flow(X_train, y_train, batch_size=9):\n",
        "\t# create a grid of 3x3 images\n",
        "\tfor i in range(0, 9):\n",
        "\t\tpyplot.subplot(330 + 1 + i)\n",
        "\t\tpyplot.imshow(X_batch[i].reshape(28, 28), cmap=pyplot.get_cmap('gray'))\n",
        "\t# show the plot\n",
        "\tpyplot.show()\n",
        "\tbreak"
      ],
      "execution_count": 5,
      "outputs": [
        {
          "output_type": "display_data",
          "data": {
            "image/png": "[encoded data removed]",
            "text/plain": [
              "<Figure size 432x288 with 9 Axes>"
            ]
          },
          "metadata": {
            "tags": []
          }
        }
      ]
    },
    {
      "cell_type": "markdown",
      "metadata": {
        "id": "HBDTo8iAA-Hq",
        "colab_type": "text"
      },
      "source": [
        "##ZCA Whitening"
      ]
    },
    {
      "cell_type": "markdown",
      "metadata": {
        "id": "WkT4EKhIBGo3",
        "colab_type": "text"
      },
      "source": [
        "**A whitening transform of an image is a linear algebra operation that reduces the redundancy in the matrix of pixel images.**\n",
        "\n",
        "**Less redundancy in the image is intended to better highlight the structures and features in the image to the learning algorithm.**\n",
        "\n",
        "**Typically, image whitening is performed using the Principal Component Analysis (PCA) technique. More recently, an alternative called ZCA (learn more in Appendix A of this tech report) shows better results and results in transformed images that keeps all of the original dimensions and unlike PCA, resulting transformed images still look like their originals.**\n",
        "\n",
        "**You can perform a ZCA whitening transform by setting the zca_whitening argument to True.**"
      ]
    },
    {
      "cell_type": "code",
      "metadata": {
        "id": "aLpALrRmAFFh",
        "colab_type": "code",
        "colab": {
          "base_uri": "https://localhost:8080/",
          "height": 322
        },
        "outputId": "b168bf7c-deea-4240-c5af-42119099bd19"
      },
      "source": [
        "from keras.datasets import mnist\n",
        "from keras.preprocessing.image import ImageDataGenerator\n",
        "from matplotlib import pyplot\n",
        "# load data\n",
        "(X_train, y_train), (X_test, y_test) = mnist.load_data()\n",
        "# reshape to be [samples][width][height][channels]\n",
        "X_train = X_train.reshape((X_train.shape[0], 28, 28, 1))\n",
        "X_test = X_test.reshape((X_test.shape[0], 28, 28, 1))\n",
        "# convert from int to float\n",
        "X_train = X_train.astype('float32')\n",
        "X_test = X_test.astype('float32')\n",
        "# define data preparation\n",
        "datagen = ImageDataGenerator(zca_whitening=True)\n",
        "# fit parameters from data\n",
        "datagen.fit(X_train)\n",
        "# configure batch size and retrieve one batch of images\n",
        "for X_batch, y_batch in datagen.flow(X_train, y_train, batch_size=9):\n",
        "\t# create a grid of 3x3 images\n",
        "\tfor i in range(0, 9):\n",
        "\t\tpyplot.subplot(330 + 1 + i)\n",
        "\t\tpyplot.imshow(X_batch[i].reshape(28, 28), cmap=pyplot.get_cmap('gray'))\n",
        "\t# show the plot\n",
        "\tpyplot.show()\n",
        "\tbreak"
      ],
      "execution_count": 6,
      "outputs": [
        {
          "output_type": "stream",
          "text": [
            "/usr/local/lib/python3.6/dist-packages/keras_preprocessing/image/image_data_generator.py:336: UserWarning: This ImageDataGenerator specifies `zca_whitening`, which overrides setting of `featurewise_center`.\n",
            "  warnings.warn('This ImageDataGenerator specifies '\n"
          ],
          "name": "stderr"
        },
        {
          "output_type": "display_data",
          "data": {
            "image/png": "[encoded data removed]",
            "text/plain": [
              "<Figure size 432x288 with 9 Axes>"
            ]
          },
          "metadata": {
            "tags": []
          }
        }
      ]
    },
    {
      "cell_type": "markdown",
      "metadata": {
        "id": "jGyWuiRqCl2n",
        "colab_type": "text"
      },
      "source": [
        "**Running the example, you can see the same general structure in the images and how the outline of each digit has been highlighted.**"
      ]
    },
    {
      "cell_type": "markdown",
      "metadata": {
        "id": "vGXVD-ltCxs1",
        "colab_type": "text"
      },
      "source": [
        "#Random Rotations"
      ]
    },
    {
      "cell_type": "markdown",
      "metadata": {
        "id": "0ikW2FaDC2nI",
        "colab_type": "text"
      },
      "source": [
        "**Sometimes images in your sample data may have varying and different rotations in the scene.**\n",
        "\n",
        "**You can train your model to better handle rotations of images by artificially and randomly rotating images from your dataset during training.**\n",
        "\n",
        "**The example below creates random rotations of the MNIST digits up to 90 degrees by setting the rotation_range argument.**"
      ]
    },
    {
      "cell_type": "code",
      "metadata": {
        "id": "rag3WQQwCg3n",
        "colab_type": "code",
        "colab": {
          "base_uri": "https://localhost:8080/",
          "height": 268
        },
        "outputId": "04b90c9b-e073-4b22-8599-257b252d4a88"
      },
      "source": [
        "# Random Rotations\n",
        "from keras.datasets import mnist\n",
        "from keras.preprocessing.image import ImageDataGenerator\n",
        "from matplotlib import pyplot\n",
        "# load data\n",
        "(X_train, y_train), (X_test, y_test) = mnist.load_data()\n",
        "# reshape to be [samples][width][height][channels]\n",
        "X_train = X_train.reshape((X_train.shape[0], 28, 28, 1))\n",
        "X_test = X_test.reshape((X_test.shape[0], 28, 28, 1))\n",
        "# convert from int to float\n",
        "X_train = X_train.astype('float32')\n",
        "X_test = X_test.astype('float32')\n",
        "# define data preparation\n",
        "datagen = ImageDataGenerator(rotation_range=90)\n",
        "# fit parameters from data\n",
        "datagen.fit(X_train)\n",
        "# configure batch size and retrieve one batch of images\n",
        "for X_batch, y_batch in datagen.flow(X_train, y_train, batch_size=9):\n",
        "\t# create a grid of 3x3 images\n",
        "\tfor i in range(0, 9):\n",
        "\t\tpyplot.subplot(330 + 1 + i)\n",
        "\t\tpyplot.imshow(X_batch[i].reshape(28, 28), cmap=pyplot.get_cmap('gray'))\n",
        "\t# show the plot\n",
        "\tpyplot.show()\n",
        "\tbreak"
      ],
      "execution_count": 7,
      "outputs": [
        {
          "output_type": "display_data",
          "data": {
            "image/png": "[encoded data removed]",
            "text/plain": [
              "<Figure size 432x288 with 9 Axes>"
            ]
          },
          "metadata": {
            "tags": []
          }
        }
      ]
    },
    {
      "cell_type": "markdown",
      "metadata": {
        "id": "DC2X-g9FDTIf",
        "colab_type": "text"
      },
      "source": [
        "**Running the example, you can see that images have been rotated left and right up to a limit of 90 degrees. This is not helpful on this problem because the MNIST digits have a normalized orientation, but this transform might be of help when learning from photographs where the objects may have different orientations.**"
      ]
    },
    {
      "cell_type": "markdown",
      "metadata": {
        "id": "ZtUoAk1fDTPu",
        "colab_type": "text"
      },
      "source": [
        "#Random Shifts\n"
      ]
    },
    {
      "cell_type": "markdown",
      "metadata": {
        "id": "6T27RuzQDo-G",
        "colab_type": "text"
      },
      "source": [
        "**Objects in your images may not be centered in the frame. They may be off-center in a variety of different ways.**\n",
        "\n",
        "**You can train your deep learning network to expect and currently handle off-center objects by artificially creating shifted versions of your training data. Keras supports separate horizontal and vertical random shifting of training data by the width_shift_range and height_shift_range arguments.**"
      ]
    },
    {
      "cell_type": "code",
      "metadata": {
        "id": "DG-8d4nfDMfv",
        "colab_type": "code",
        "colab": {
          "base_uri": "https://localhost:8080/",
          "height": 268
        },
        "outputId": "130dc93f-f9cf-4a6a-ce21-f9b65737629b"
      },
      "source": [
        "# Random Shifts\n",
        "from keras.datasets import mnist\n",
        "from keras.preprocessing.image import ImageDataGenerator\n",
        "from matplotlib import pyplot\n",
        "# load data\n",
        "(X_train, y_train), (X_test, y_test) = mnist.load_data()\n",
        "# reshape to be [samples][width][height][channels]\n",
        "X_train = X_train.reshape((X_train.shape[0], 28, 28, 1))\n",
        "X_test = X_test.reshape((X_test.shape[0], 28, 28, 1))\n",
        "# convert from int to float\n",
        "X_train = X_train.astype('float32')\n",
        "X_test = X_test.astype('float32')\n",
        "# define data preparation\n",
        "shift = 0.2\n",
        "datagen = ImageDataGenerator(width_shift_range=shift, height_shift_range=shift)\n",
        "# fit parameters from data\n",
        "datagen.fit(X_train)\n",
        "# configure batch size and retrieve one batch of images\n",
        "for X_batch, y_batch in datagen.flow(X_train, y_train, batch_size=9):\n",
        "\t# create a grid of 3x3 images\n",
        "\tfor i in range(0, 9):\n",
        "\t\tpyplot.subplot(330 + 1 + i)\n",
        "\t\tpyplot.imshow(X_batch[i].reshape(28, 28), cmap=pyplot.get_cmap('gray'))\n",
        "\t# show the plot\n",
        "\tpyplot.show()\n",
        "\tbreak\n"
      ],
      "execution_count": 8,
      "outputs": [
        {
          "output_type": "display_data",
          "data": {
            "image/png": "[encoded data removed]",
            "text/plain": [
              "<Figure size 432x288 with 9 Axes>"
            ]
          },
          "metadata": {
            "tags": []
          }
        }
      ]
    },
    {
      "cell_type": "markdown",
      "metadata": {
        "id": "XlJ5bG45D-tu",
        "colab_type": "text"
      },
      "source": [
        "**Running this example creates shifted versions of the digits. Again, this is not required for MNIST as the handwritten digits are already centered, but you can see how this might be useful on more complex problem domains.**"
      ]
    },
    {
      "cell_type": "markdown",
      "metadata": {
        "id": "GJB7Z5PIECEa",
        "colab_type": "text"
      },
      "source": [
        "#Random Flips"
      ]
    },
    {
      "cell_type": "markdown",
      "metadata": {
        "id": "4tqpBcrREGy9",
        "colab_type": "text"
      },
      "source": [
        "**Another augmentation to your image data that can improve performance on large and complex problems is to create random flips of images in your training data.**\n",
        "\n",
        "**Keras supports random flipping along both the vertical and horizontal axes using the vertical_flip and horizontal_flip arguments.**"
      ]
    },
    {
      "cell_type": "code",
      "metadata": {
        "id": "ySp_vaTZD4_4",
        "colab_type": "code",
        "colab": {
          "base_uri": "https://localhost:8080/",
          "height": 268
        },
        "outputId": "21d37cbe-1fad-49a1-c9af-554e646be0f9"
      },
      "source": [
        "# Random Flips\n",
        "from keras.datasets import mnist\n",
        "from keras.preprocessing.image import ImageDataGenerator\n",
        "from matplotlib import pyplot\n",
        "# load data\n",
        "(X_train, y_train), (X_test, y_test) = mnist.load_data()\n",
        "# reshape to be [samples][width][height][channels]\n",
        "X_train = X_train.reshape((X_train.shape[0], 28, 28, 1))\n",
        "X_test = X_test.reshape((X_test.shape[0], 28, 28, 1))\n",
        "# convert from int to float\n",
        "X_train = X_train.astype('float32')\n",
        "X_test = X_test.astype('float32')\n",
        "# define data preparation\n",
        "datagen = ImageDataGenerator(horizontal_flip=True, vertical_flip=True)\n",
        "# fit parameters from data\n",
        "datagen.fit(X_train)\n",
        "# configure batch size and retrieve one batch of images\n",
        "for X_batch, y_batch in datagen.flow(X_train, y_train, batch_size=9):\n",
        "\t# create a grid of 3x3 images\n",
        "\tfor i in range(0, 9):\n",
        "\t\tpyplot.subplot(330 + 1 + i)\n",
        "\t\tpyplot.imshow(X_batch[i].reshape(28, 28), cmap=pyplot.get_cmap('gray'))\n",
        "\t# show the plot\n",
        "\tpyplot.show()\n",
        "\tbreak"
      ],
      "execution_count": 9,
      "outputs": [
        {
          "output_type": "display_data",
          "data": {
            "image/png": "[encoded data removed]",
            "text/plain": [
              "<Figure size 432x288 with 9 Axes>"
            ]
          },
          "metadata": {
            "tags": []
          }
        }
      ]
    },
    {
      "cell_type": "markdown",
      "metadata": {
        "id": "TL8zkl0REa-q",
        "colab_type": "text"
      },
      "source": [
        "**Running this example you can see flipped digits. Flipping digits is not useful as they will always have the correct left and right orientation, but this may be useful for problems with photographs of objects in a scene that can have a varied orientation.**"
      ]
    },
    {
      "cell_type": "markdown",
      "metadata": {
        "id": "EN9oA_NaEfFd",
        "colab_type": "text"
      },
      "source": [
        "#Saving Augmented Images to File"
      ]
    },
    {
      "cell_type": "markdown",
      "metadata": {
        "id": "9TdO6_CtElo8",
        "colab_type": "text"
      },
      "source": [
        "**he data preparation and augmentation is performed just in time by Keras.**\n",
        "\n",
        "**This is efficient in terms of memory, but you may require the exact images used during training. For example, perhaps you would like to use them with a different software package later or only generate them once and use them on multiple different deep learning models or configurations.**\n",
        "\n",
        "**Keras allows you to save the images generated during training. The directory, filename prefix and image file type can be specified to the flow() function before training. Then, during training, the generated images will be written to file.**\n",
        "\n",
        "**The example below demonstrates this and writes 9 images to a “images” subdirectory with the prefix “aug” and the file type of PNG.**"
      ]
    },
    {
      "cell_type": "code",
      "metadata": {
        "id": "aPxLlK_nEUaB",
        "colab_type": "code",
        "colab": {
          "base_uri": "https://localhost:8080/",
          "height": 268
        },
        "outputId": "6d77626f-c045-4e46-9cc8-e6b7195a177e"
      },
      "source": [
        "#save augmented images to file\n",
        "from keras.datasets import mnist\n",
        "from keras.preprocessing.image import ImageDataGenerator\n",
        "import matplotlib.pyplot as plt\n",
        "%matplotlib inline\n",
        "import os\n",
        "#load data\n",
        "(trainX, trainy), (testX, testy) = mnist.load_data()\n",
        "#reshape to be[samples][width][height][channels]\n",
        "trainX = trainX.reshape(trainX.shape[0], 28, 28, 1)\n",
        "testX = testX.reshape(testX.shape[0], 28, 28, 1)\n",
        "#convert from int to float\n",
        "trainX = trainX.astype('float32')\n",
        "testX = testX.astype('float32')\n",
        "#define data preparation\n",
        "datagen = ImageDataGenerator()\n",
        "#fit paprameter to the data\n",
        "datagen.fit(trainX)\n",
        "#configure batch size and reterieve one batch of images\n",
        "os.makedirs('images')\n",
        "for batchX, batchy in datagen.flow(trainX, trainy, batch_size=9, save_to_dir='images', save_prefix='aug', save_format='png'):\n",
        "  #create a grid of 3x3 images\n",
        "  for i in range(0, 9):\n",
        "    plt.subplot(330 + 1 + i)\n",
        "    plt.imshow(batchX[i].reshape(28, 28), cmap=plt.get_cmap('gray'))\n",
        "  #show the image plot\n",
        "  plt.show()\n",
        "  break"
      ],
      "execution_count": 12,
      "outputs": [
        {
          "output_type": "display_data",
          "data": {
            "image/png": "[encoded data removed]",
            "text/plain": [
              "<Figure size 432x288 with 9 Axes>"
            ]
          },
          "metadata": {
            "tags": []
          }
        }
      ]
    },
    {
      "cell_type": "code",
      "metadata": {
        "id": "h6U4sF67HtXk",
        "colab_type": "code",
        "colab": {}
      },
      "source": [
        ""
      ],
      "execution_count": 0,
      "outputs": []
    }
  ]
}