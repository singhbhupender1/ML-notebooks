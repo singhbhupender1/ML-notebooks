{
  "nbformat": 4,
  "nbformat_minor": 0,
  "metadata": {
    "colab": {
      "name": "Peforming Regression on  Boston Housing Prices using XGBoost.ipynb",
      "provenance": [],
      "authorship_tag": "ABX9TyONxjgH7ABWVrnmlGkcITCe",
      "include_colab_link": true
    },
    "kernelspec": {
      "name": "python3",
      "display_name": "Python 3"
    },
    "accelerator": "GPU"
  },
  "cells": [
    {
      "cell_type": "markdown",
      "metadata": {
        "id": "view-in-github",
        "colab_type": "text"
      },
      "source": [
        "<a href=\"https://colab.research.google.com/github/singhbhupender1/ML-notebooks/blob/master/Peforming_Regression_on_Boston_Housing_Prices_using_XGBoost.ipynb\" target=\"_parent\"><img src=\"https://colab.research.google.com/assets/colab-badge.svg\" alt=\"Open In Colab\"/></a>"
      ]
    },
    {
      "cell_type": "markdown",
      "metadata": {
        "id": "j8YbI5Xxe7Qg",
        "colab_type": "text"
      },
      "source": [
        "XGBoost is well known to provide better solutions than other machine learning algorithms. In fact, since its inception, it has become the \"state-of-the-art” machine learning algorithm to deal with structured data.\n",
        "\n",
        "XGBoost (Extreme Gradient Boosting) belongs to a family of boosting algorithms and uses the gradient boosting (GBM) framework at its core. It is an optimized distributed gradient boosting library. "
      ]
    },
    {
      "cell_type": "markdown",
      "metadata": {
        "id": "zCQ7H20JYyTv",
        "colab_type": "text"
      },
      "source": [
        "##Boosting\n",
        "Boosting is a sequential technique which works on the principle of an ensemble. It combines a set of weak learners and delivers improved prediction accuracy. At any instant t, the model outcomes are weighed based on the outcomes of previous instant t-1. The outcomes predicted correctly are given a lower weight and the ones miss-classified are weighted higher. Note that a weak learner is one which is slightly better than random guessing. For example, a decision tree whose predictions are slightly better than 50%\n",
        "\n",
        " the basic idea behind boosting algorithms is building a weak model, making conclusions about the various feature importance and parameters, and then using those conclusions to build a new, stronger model and capitalize on the misclassification error of the previous model and try to reduce it. Now, let's come to XGBoost. To begin with, you should know about the default base learners of XGBoost: tree ensembles. The tree ensemble model is a set of classification and regression trees (CART). Trees are grown one after another ,and attempts to reduce the misclassification rate are made in subsequent iterations. Here’s a simple example of a CART that classifies whether someone will like computer games straight from the XGBoost's documentation."
      ]
    },
    {
      "cell_type": "markdown",
      "metadata": {
        "id": "T1RMPe4pZDNw",
        "colab_type": "text"
      },
      "source": [
        "f you check the image in Tree Ensemble section, you will notice each tree gives a different prediction score depending on the data it sees and the scores of each individual tree are summed up to get the final score.\n",
        "\n",
        "In this tutorial, you will be using XGBoost to solve a regression problem. The dataset is taken from the UCI Machine Learning Repository and is also present in sklearn's datasets module. It has 14 explanatory variables describing various aspects of residential homes in Boston, the challenge is to predict the median value of owner-occupied homes per $1000s.\n",
        "\n",
        "##Using XGBoost in Python\n",
        "First of all, just like what you do with any other dataset, you are going to import the Boston Housing dataset and store it in a variable called boston. To import it from scikit-learn you will need to run this snippet."
      ]
    },
    {
      "cell_type": "code",
      "metadata": {
        "id": "XrfB7GSJJz0e",
        "colab_type": "code",
        "colab": {}
      },
      "source": [
        "from sklearn.datasets import load_boston\n",
        "boston = load_boston()"
      ],
      "execution_count": 0,
      "outputs": []
    },
    {
      "cell_type": "markdown",
      "metadata": {
        "id": "nByw0ppJZPvK",
        "colab_type": "text"
      },
      "source": [
        "The boston variable itself is a dictionary, so you can check for its keys using the .keys() method."
      ]
    },
    {
      "cell_type": "code",
      "metadata": {
        "id": "sUR1hD-KKEST",
        "colab_type": "code",
        "colab": {
          "base_uri": "https://localhost:8080/",
          "height": 34
        },
        "outputId": "f760007c-6b49-4cac-e868-7acf55f3de32"
      },
      "source": [
        "print(boston.keys())"
      ],
      "execution_count": 2,
      "outputs": [
        {
          "output_type": "stream",
          "text": [
            "dict_keys(['data', 'target', 'feature_names', 'DESCR', 'filename'])\n"
          ],
          "name": "stdout"
        }
      ]
    },
    {
      "cell_type": "markdown",
      "metadata": {
        "id": "2ar7sRFpZV8T",
        "colab_type": "text"
      },
      "source": [
        "You can easily check for its shape by using the boston.data.shape attribute, which will return the size of the dataset."
      ]
    },
    {
      "cell_type": "code",
      "metadata": {
        "id": "JobhvZy9KIr4",
        "colab_type": "code",
        "colab": {
          "base_uri": "https://localhost:8080/",
          "height": 34
        },
        "outputId": "56fb8637-b74c-4549-fea9-0ac443de1fe8"
      },
      "source": [
        "print(boston.data.shape)"
      ],
      "execution_count": 3,
      "outputs": [
        {
          "output_type": "stream",
          "text": [
            "(506, 13)\n"
          ],
          "name": "stdout"
        }
      ]
    },
    {
      "cell_type": "markdown",
      "metadata": {
        "id": "5bC6buliZfaJ",
        "colab_type": "text"
      },
      "source": [
        "As you can see it returned (506, 13), that means there are 506 rows of data with 13 columns. Now, if you want to know what the 13 columns are, you can simply use the **.feature_names** attribute and it will return the feature names."
      ]
    },
    {
      "cell_type": "code",
      "metadata": {
        "id": "HmSwCQyvKUlL",
        "colab_type": "code",
        "colab": {
          "base_uri": "https://localhost:8080/",
          "height": 50
        },
        "outputId": "64ba6e6c-165d-43c2-d0b4-95700fffb263"
      },
      "source": [
        "print(boston.feature_names)"
      ],
      "execution_count": 4,
      "outputs": [
        {
          "output_type": "stream",
          "text": [
            "['CRIM' 'ZN' 'INDUS' 'CHAS' 'NOX' 'RM' 'AGE' 'DIS' 'RAD' 'TAX' 'PTRATIO'\n",
            " 'B' 'LSTAT']\n"
          ],
          "name": "stdout"
        }
      ]
    },
    {
      "cell_type": "markdown",
      "metadata": {
        "id": "Dzy4WE4WZzHw",
        "colab_type": "text"
      },
      "source": [
        "The description of the dataset is available in the dataset itself. You can take a look at it using **.DESCR.**"
      ]
    },
    {
      "cell_type": "code",
      "metadata": {
        "id": "bb1NzYrpKZtZ",
        "colab_type": "code",
        "colab": {
          "base_uri": "https://localhost:8080/",
          "height": 894
        },
        "outputId": "075a9909-af48-4b82-8248-9b0d2ff8fab0"
      },
      "source": [
        "print(boston.DESCR)"
      ],
      "execution_count": 5,
      "outputs": [
        {
          "output_type": "stream",
          "text": [
            ".. _boston_dataset:\n",
            "\n",
            "Boston house prices dataset\n",
            "---------------------------\n",
            "\n",
            "**Data Set Characteristics:**  \n",
            "\n",
            "    :Number of Instances: 506 \n",
            "\n",
            "    :Number of Attributes: 13 numeric/categorical predictive. Median Value (attribute 14) is usually the target.\n",
            "\n",
            "    :Attribute Information (in order):\n",
            "        - CRIM     per capita crime rate by town\n",
            "        - ZN       proportion of residential land zoned for lots over 25,000 sq.ft.\n",
            "        - INDUS    proportion of non-retail business acres per town\n",
            "        - CHAS     Charles River dummy variable (= 1 if tract bounds river; 0 otherwise)\n",
            "        - NOX      nitric oxides concentration (parts per 10 million)\n",
            "        - RM       average number of rooms per dwelling\n",
            "        - AGE      proportion of owner-occupied units built prior to 1940\n",
            "        - DIS      weighted distances to five Boston employment centres\n",
            "        - RAD      index of accessibility to radial highways\n",
            "        - TAX      full-value property-tax rate per $10,000\n",
            "        - PTRATIO  pupil-teacher ratio by town\n",
            "        - B        1000(Bk - 0.63)^2 where Bk is the proportion of blacks by town\n",
            "        - LSTAT    % lower status of the population\n",
            "        - MEDV     Median value of owner-occupied homes in $1000's\n",
            "\n",
            "    :Missing Attribute Values: None\n",
            "\n",
            "    :Creator: Harrison, D. and Rubinfeld, D.L.\n",
            "\n",
            "This is a copy of UCI ML housing dataset.\n",
            "https://archive.ics.uci.edu/ml/machine-learning-databases/housing/\n",
            "\n",
            "\n",
            "This dataset was taken from the StatLib library which is maintained at Carnegie Mellon University.\n",
            "\n",
            "The Boston house-price data of Harrison, D. and Rubinfeld, D.L. 'Hedonic\n",
            "prices and the demand for clean air', J. Environ. Economics & Management,\n",
            "vol.5, 81-102, 1978.   Used in Belsley, Kuh & Welsch, 'Regression diagnostics\n",
            "...', Wiley, 1980.   N.B. Various transformations are used in the table on\n",
            "pages 244-261 of the latter.\n",
            "\n",
            "The Boston house-price data has been used in many machine learning papers that address regression\n",
            "problems.   \n",
            "     \n",
            ".. topic:: References\n",
            "\n",
            "   - Belsley, Kuh & Welsch, 'Regression diagnostics: Identifying Influential Data and Sources of Collinearity', Wiley, 1980. 244-261.\n",
            "   - Quinlan,R. (1993). Combining Instance-Based and Model-Based Learning. In Proceedings on the Tenth International Conference of Machine Learning, 236-243, University of Massachusetts, Amherst. Morgan Kaufmann.\n",
            "\n"
          ],
          "name": "stdout"
        }
      ]
    },
    {
      "cell_type": "markdown",
      "metadata": {
        "id": "Gdz1nR8lZ-lf",
        "colab_type": "text"
      },
      "source": [
        "Now let’s convert it into a pandas DataFrame! For that you need to import the pandas library and call the **DataFrame()** function passing the argument **boston.data.** To label the names of the columns, use the **.columnns** attribute of the pandas DataFrame and assign it to **boston.feature_names.**"
      ]
    },
    {
      "cell_type": "code",
      "metadata": {
        "id": "_xcrA0EPKfx9",
        "colab_type": "code",
        "colab": {}
      },
      "source": [
        "import pandas as pd\n",
        "\n",
        "data = pd.DataFrame(boston.data)\n",
        "data.columns = boston.feature_names"
      ],
      "execution_count": 0,
      "outputs": []
    },
    {
      "cell_type": "markdown",
      "metadata": {
        "id": "DKZ5rEHcaMP7",
        "colab_type": "text"
      },
      "source": [
        "Explore the top 5 rows of the dataset by using **head()** method on your pandas DataFrame."
      ]
    },
    {
      "cell_type": "code",
      "metadata": {
        "id": "vqtQZOMbK0m-",
        "colab_type": "code",
        "colab": {
          "base_uri": "https://localhost:8080/",
          "height": 215
        },
        "outputId": "d7b6ecd6-f55b-4386-fc31-b8ea99b4b658"
      },
      "source": [
        "data.head()"
      ],
      "execution_count": 7,
      "outputs": [
        {
          "output_type": "execute_result",
          "data": {
            "text/html": [
              "<div>\n",
              "<style scoped>\n",
              "    .dataframe tbody tr th:only-of-type {\n",
              "        vertical-align: middle;\n",
              "    }\n",
              "\n",
              "    .dataframe tbody tr th {\n",
              "        vertical-align: top;\n",
              "    }\n",
              "\n",
              "    .dataframe thead th {\n",
              "        text-align: right;\n",
              "    }\n",
              "</style>\n",
              "<table border=\"1\" class=\"dataframe\">\n",
              "  <thead>\n",
              "    <tr style=\"text-align: right;\">\n",
              "      <th></th>\n",
              "      <th>CRIM</th>\n",
              "      <th>ZN</th>\n",
              "      <th>INDUS</th>\n",
              "      <th>CHAS</th>\n",
              "      <th>NOX</th>\n",
              "      <th>RM</th>\n",
              "      <th>AGE</th>\n",
              "      <th>DIS</th>\n",
              "      <th>RAD</th>\n",
              "      <th>TAX</th>\n",
              "      <th>PTRATIO</th>\n",
              "      <th>B</th>\n",
              "      <th>LSTAT</th>\n",
              "    </tr>\n",
              "  </thead>\n",
              "  <tbody>\n",
              "    <tr>\n",
              "      <th>0</th>\n",
              "      <td>0.00632</td>\n",
              "      <td>18.0</td>\n",
              "      <td>2.31</td>\n",
              "      <td>0.0</td>\n",
              "      <td>0.538</td>\n",
              "      <td>6.575</td>\n",
              "      <td>65.2</td>\n",
              "      <td>4.0900</td>\n",
              "      <td>1.0</td>\n",
              "      <td>296.0</td>\n",
              "      <td>15.3</td>\n",
              "      <td>396.90</td>\n",
              "      <td>4.98</td>\n",
              "    </tr>\n",
              "    <tr>\n",
              "      <th>1</th>\n",
              "      <td>0.02731</td>\n",
              "      <td>0.0</td>\n",
              "      <td>7.07</td>\n",
              "      <td>0.0</td>\n",
              "      <td>0.469</td>\n",
              "      <td>6.421</td>\n",
              "      <td>78.9</td>\n",
              "      <td>4.9671</td>\n",
              "      <td>2.0</td>\n",
              "      <td>242.0</td>\n",
              "      <td>17.8</td>\n",
              "      <td>396.90</td>\n",
              "      <td>9.14</td>\n",
              "    </tr>\n",
              "    <tr>\n",
              "      <th>2</th>\n",
              "      <td>0.02729</td>\n",
              "      <td>0.0</td>\n",
              "      <td>7.07</td>\n",
              "      <td>0.0</td>\n",
              "      <td>0.469</td>\n",
              "      <td>7.185</td>\n",
              "      <td>61.1</td>\n",
              "      <td>4.9671</td>\n",
              "      <td>2.0</td>\n",
              "      <td>242.0</td>\n",
              "      <td>17.8</td>\n",
              "      <td>392.83</td>\n",
              "      <td>4.03</td>\n",
              "    </tr>\n",
              "    <tr>\n",
              "      <th>3</th>\n",
              "      <td>0.03237</td>\n",
              "      <td>0.0</td>\n",
              "      <td>2.18</td>\n",
              "      <td>0.0</td>\n",
              "      <td>0.458</td>\n",
              "      <td>6.998</td>\n",
              "      <td>45.8</td>\n",
              "      <td>6.0622</td>\n",
              "      <td>3.0</td>\n",
              "      <td>222.0</td>\n",
              "      <td>18.7</td>\n",
              "      <td>394.63</td>\n",
              "      <td>2.94</td>\n",
              "    </tr>\n",
              "    <tr>\n",
              "      <th>4</th>\n",
              "      <td>0.06905</td>\n",
              "      <td>0.0</td>\n",
              "      <td>2.18</td>\n",
              "      <td>0.0</td>\n",
              "      <td>0.458</td>\n",
              "      <td>7.147</td>\n",
              "      <td>54.2</td>\n",
              "      <td>6.0622</td>\n",
              "      <td>3.0</td>\n",
              "      <td>222.0</td>\n",
              "      <td>18.7</td>\n",
              "      <td>396.90</td>\n",
              "      <td>5.33</td>\n",
              "    </tr>\n",
              "  </tbody>\n",
              "</table>\n",
              "</div>"
            ],
            "text/plain": [
              "      CRIM    ZN  INDUS  CHAS    NOX  ...  RAD    TAX  PTRATIO       B  LSTAT\n",
              "0  0.00632  18.0   2.31   0.0  0.538  ...  1.0  296.0     15.3  396.90   4.98\n",
              "1  0.02731   0.0   7.07   0.0  0.469  ...  2.0  242.0     17.8  396.90   9.14\n",
              "2  0.02729   0.0   7.07   0.0  0.469  ...  2.0  242.0     17.8  392.83   4.03\n",
              "3  0.03237   0.0   2.18   0.0  0.458  ...  3.0  222.0     18.7  394.63   2.94\n",
              "4  0.06905   0.0   2.18   0.0  0.458  ...  3.0  222.0     18.7  396.90   5.33\n",
              "\n",
              "[5 rows x 13 columns]"
            ]
          },
          "metadata": {
            "tags": []
          },
          "execution_count": 7
        }
      ]
    },
    {
      "cell_type": "markdown",
      "metadata": {
        "id": "sQ9XuWdzaSDH",
        "colab_type": "text"
      },
      "source": [
        "You'll notice that there is no column called PRICE in the DataFrame. This is because the target column is available in another attribute called **boston.target.** Append **boston.target** to your pandas DataFrame."
      ]
    },
    {
      "cell_type": "code",
      "metadata": {
        "id": "EVTvwMVMK2C_",
        "colab_type": "code",
        "colab": {}
      },
      "source": [
        "data['PRICE'] = boston.target"
      ],
      "execution_count": 0,
      "outputs": []
    },
    {
      "cell_type": "markdown",
      "metadata": {
        "id": "jH9EL6rdaZwr",
        "colab_type": "text"
      },
      "source": [
        "Run the **.info()** method on your DataFrame to get useful information about the data."
      ]
    },
    {
      "cell_type": "code",
      "metadata": {
        "id": "Tgvlz0fBLENd",
        "colab_type": "code",
        "colab": {
          "base_uri": "https://localhost:8080/",
          "height": 336
        },
        "outputId": "52a74906-d270-4d70-a8fd-cebac5ac67f6"
      },
      "source": [
        "data.info()"
      ],
      "execution_count": 9,
      "outputs": [
        {
          "output_type": "stream",
          "text": [
            "<class 'pandas.core.frame.DataFrame'>\n",
            "RangeIndex: 506 entries, 0 to 505\n",
            "Data columns (total 14 columns):\n",
            "CRIM       506 non-null float64\n",
            "ZN         506 non-null float64\n",
            "INDUS      506 non-null float64\n",
            "CHAS       506 non-null float64\n",
            "NOX        506 non-null float64\n",
            "RM         506 non-null float64\n",
            "AGE        506 non-null float64\n",
            "DIS        506 non-null float64\n",
            "RAD        506 non-null float64\n",
            "TAX        506 non-null float64\n",
            "PTRATIO    506 non-null float64\n",
            "B          506 non-null float64\n",
            "LSTAT      506 non-null float64\n",
            "PRICE      506 non-null float64\n",
            "dtypes: float64(14)\n",
            "memory usage: 55.5 KB\n"
          ],
          "name": "stdout"
        }
      ]
    },
    {
      "cell_type": "markdown",
      "metadata": {
        "id": "ZW_BQ9rKagUj",
        "colab_type": "text"
      },
      "source": [
        "Turns out that this dataset has 14 columns (including the target variable **PRICE**) and 506 rows. Notice that the columns are of **float** data-type indicating the presence of only continuous features with no missing values in any of the columns. To get more summary statistics of the different features in the dataset you will use the **describe()** method on your DataFrame."
      ]
    },
    {
      "cell_type": "code",
      "metadata": {
        "id": "bQntUfeYLGMR",
        "colab_type": "code",
        "colab": {
          "base_uri": "https://localhost:8080/",
          "height": 304
        },
        "outputId": "6b681774-8548-4064-c7b4-20c85c3b907f"
      },
      "source": [
        "data.describe()"
      ],
      "execution_count": 10,
      "outputs": [
        {
          "output_type": "execute_result",
          "data": {
            "text/html": [
              "<div>\n",
              "<style scoped>\n",
              "    .dataframe tbody tr th:only-of-type {\n",
              "        vertical-align: middle;\n",
              "    }\n",
              "\n",
              "    .dataframe tbody tr th {\n",
              "        vertical-align: top;\n",
              "    }\n",
              "\n",
              "    .dataframe thead th {\n",
              "        text-align: right;\n",
              "    }\n",
              "</style>\n",
              "<table border=\"1\" class=\"dataframe\">\n",
              "  <thead>\n",
              "    <tr style=\"text-align: right;\">\n",
              "      <th></th>\n",
              "      <th>CRIM</th>\n",
              "      <th>ZN</th>\n",
              "      <th>INDUS</th>\n",
              "      <th>CHAS</th>\n",
              "      <th>NOX</th>\n",
              "      <th>RM</th>\n",
              "      <th>AGE</th>\n",
              "      <th>DIS</th>\n",
              "      <th>RAD</th>\n",
              "      <th>TAX</th>\n",
              "      <th>PTRATIO</th>\n",
              "      <th>B</th>\n",
              "      <th>LSTAT</th>\n",
              "      <th>PRICE</th>\n",
              "    </tr>\n",
              "  </thead>\n",
              "  <tbody>\n",
              "    <tr>\n",
              "      <th>count</th>\n",
              "      <td>506.000000</td>\n",
              "      <td>506.000000</td>\n",
              "      <td>506.000000</td>\n",
              "      <td>506.000000</td>\n",
              "      <td>506.000000</td>\n",
              "      <td>506.000000</td>\n",
              "      <td>506.000000</td>\n",
              "      <td>506.000000</td>\n",
              "      <td>506.000000</td>\n",
              "      <td>506.000000</td>\n",
              "      <td>506.000000</td>\n",
              "      <td>506.000000</td>\n",
              "      <td>506.000000</td>\n",
              "      <td>506.000000</td>\n",
              "    </tr>\n",
              "    <tr>\n",
              "      <th>mean</th>\n",
              "      <td>3.613524</td>\n",
              "      <td>11.363636</td>\n",
              "      <td>11.136779</td>\n",
              "      <td>0.069170</td>\n",
              "      <td>0.554695</td>\n",
              "      <td>6.284634</td>\n",
              "      <td>68.574901</td>\n",
              "      <td>3.795043</td>\n",
              "      <td>9.549407</td>\n",
              "      <td>408.237154</td>\n",
              "      <td>18.455534</td>\n",
              "      <td>356.674032</td>\n",
              "      <td>12.653063</td>\n",
              "      <td>22.532806</td>\n",
              "    </tr>\n",
              "    <tr>\n",
              "      <th>std</th>\n",
              "      <td>8.601545</td>\n",
              "      <td>23.322453</td>\n",
              "      <td>6.860353</td>\n",
              "      <td>0.253994</td>\n",
              "      <td>0.115878</td>\n",
              "      <td>0.702617</td>\n",
              "      <td>28.148861</td>\n",
              "      <td>2.105710</td>\n",
              "      <td>8.707259</td>\n",
              "      <td>168.537116</td>\n",
              "      <td>2.164946</td>\n",
              "      <td>91.294864</td>\n",
              "      <td>7.141062</td>\n",
              "      <td>9.197104</td>\n",
              "    </tr>\n",
              "    <tr>\n",
              "      <th>min</th>\n",
              "      <td>0.006320</td>\n",
              "      <td>0.000000</td>\n",
              "      <td>0.460000</td>\n",
              "      <td>0.000000</td>\n",
              "      <td>0.385000</td>\n",
              "      <td>3.561000</td>\n",
              "      <td>2.900000</td>\n",
              "      <td>1.129600</td>\n",
              "      <td>1.000000</td>\n",
              "      <td>187.000000</td>\n",
              "      <td>12.600000</td>\n",
              "      <td>0.320000</td>\n",
              "      <td>1.730000</td>\n",
              "      <td>5.000000</td>\n",
              "    </tr>\n",
              "    <tr>\n",
              "      <th>25%</th>\n",
              "      <td>0.082045</td>\n",
              "      <td>0.000000</td>\n",
              "      <td>5.190000</td>\n",
              "      <td>0.000000</td>\n",
              "      <td>0.449000</td>\n",
              "      <td>5.885500</td>\n",
              "      <td>45.025000</td>\n",
              "      <td>2.100175</td>\n",
              "      <td>4.000000</td>\n",
              "      <td>279.000000</td>\n",
              "      <td>17.400000</td>\n",
              "      <td>375.377500</td>\n",
              "      <td>6.950000</td>\n",
              "      <td>17.025000</td>\n",
              "    </tr>\n",
              "    <tr>\n",
              "      <th>50%</th>\n",
              "      <td>0.256510</td>\n",
              "      <td>0.000000</td>\n",
              "      <td>9.690000</td>\n",
              "      <td>0.000000</td>\n",
              "      <td>0.538000</td>\n",
              "      <td>6.208500</td>\n",
              "      <td>77.500000</td>\n",
              "      <td>3.207450</td>\n",
              "      <td>5.000000</td>\n",
              "      <td>330.000000</td>\n",
              "      <td>19.050000</td>\n",
              "      <td>391.440000</td>\n",
              "      <td>11.360000</td>\n",
              "      <td>21.200000</td>\n",
              "    </tr>\n",
              "    <tr>\n",
              "      <th>75%</th>\n",
              "      <td>3.677083</td>\n",
              "      <td>12.500000</td>\n",
              "      <td>18.100000</td>\n",
              "      <td>0.000000</td>\n",
              "      <td>0.624000</td>\n",
              "      <td>6.623500</td>\n",
              "      <td>94.075000</td>\n",
              "      <td>5.188425</td>\n",
              "      <td>24.000000</td>\n",
              "      <td>666.000000</td>\n",
              "      <td>20.200000</td>\n",
              "      <td>396.225000</td>\n",
              "      <td>16.955000</td>\n",
              "      <td>25.000000</td>\n",
              "    </tr>\n",
              "    <tr>\n",
              "      <th>max</th>\n",
              "      <td>88.976200</td>\n",
              "      <td>100.000000</td>\n",
              "      <td>27.740000</td>\n",
              "      <td>1.000000</td>\n",
              "      <td>0.871000</td>\n",
              "      <td>8.780000</td>\n",
              "      <td>100.000000</td>\n",
              "      <td>12.126500</td>\n",
              "      <td>24.000000</td>\n",
              "      <td>711.000000</td>\n",
              "      <td>22.000000</td>\n",
              "      <td>396.900000</td>\n",
              "      <td>37.970000</td>\n",
              "      <td>50.000000</td>\n",
              "    </tr>\n",
              "  </tbody>\n",
              "</table>\n",
              "</div>"
            ],
            "text/plain": [
              "             CRIM          ZN       INDUS  ...           B       LSTAT       PRICE\n",
              "count  506.000000  506.000000  506.000000  ...  506.000000  506.000000  506.000000\n",
              "mean     3.613524   11.363636   11.136779  ...  356.674032   12.653063   22.532806\n",
              "std      8.601545   23.322453    6.860353  ...   91.294864    7.141062    9.197104\n",
              "min      0.006320    0.000000    0.460000  ...    0.320000    1.730000    5.000000\n",
              "25%      0.082045    0.000000    5.190000  ...  375.377500    6.950000   17.025000\n",
              "50%      0.256510    0.000000    9.690000  ...  391.440000   11.360000   21.200000\n",
              "75%      3.677083   12.500000   18.100000  ...  396.225000   16.955000   25.000000\n",
              "max     88.976200  100.000000   27.740000  ...  396.900000   37.970000   50.000000\n",
              "\n",
              "[8 rows x 14 columns]"
            ]
          },
          "metadata": {
            "tags": []
          },
          "execution_count": 10
        }
      ]
    },
    {
      "cell_type": "markdown",
      "metadata": {
        "id": "GYgtSQX_awwB",
        "colab_type": "text"
      },
      "source": [
        "If you plan to use XGBoost on a dataset which has categorical features you may want to consider applying some encoding (like one-hot encoding) to such features before training the model. Also, if you have some missing values such as **NA** in the dataset you may or may not do a separate treatment for them, because XGBoost is capable of handling missing values internally. You can check out this link if you wish to know more on this.\n",
        "\n",
        "Without delving into more exploratory analysis and feature engineering, you will now focus on applying the algorithm to train the model on this data.\n",
        "\n",
        "You will build the model using Trees as base learners (which are the default base learners) using XGBoost's scikit-learn compatible API. Along the way, you will also learn some of the common tuning parameters which XGBoost provides in order to improve the model's performance, and using the root mean squared error (RMSE) performance metric to check the performance of the trained model on the test set. Root mean Squared error is the square root of the mean of the squared differences between the actual and the predicted values. As usual, you start by importing the library xgboost and other important libraries that you will be using for building the model."
      ]
    },
    {
      "cell_type": "code",
      "metadata": {
        "id": "_QFLHiTtLO6Q",
        "colab_type": "code",
        "colab": {}
      },
      "source": [
        "import xgboost as xgb\n",
        "from sklearn.metrics import mean_squared_error\n",
        "import pandas as pd\n",
        "import numpy as np\n"
      ],
      "execution_count": 0,
      "outputs": []
    },
    {
      "cell_type": "markdown",
      "metadata": {
        "id": "3uis_CjZa6Zf",
        "colab_type": "text"
      },
      "source": [
        "Separate the target variable and rest of the variables using **.iloc** to subset the data."
      ]
    },
    {
      "cell_type": "code",
      "metadata": {
        "id": "VnWgQ4QqMGQi",
        "colab_type": "code",
        "colab": {}
      },
      "source": [
        "X, y = data.iloc[:, :-1],  data.iloc[:, -1]"
      ],
      "execution_count": 0,
      "outputs": []
    },
    {
      "cell_type": "markdown",
      "metadata": {
        "id": "pVYVTRH-a_Z8",
        "colab_type": "text"
      },
      "source": [
        "Now you will convert the dataset into an optimized data structure called **Dmatrix** that XGBoost supports and gives it acclaimed performance and efficiency gains. You will use this later in the tutorial."
      ]
    },
    {
      "cell_type": "code",
      "metadata": {
        "id": "aT8TNjzpMSKy",
        "colab_type": "code",
        "colab": {
          "base_uri": "https://localhost:8080/",
          "height": 104
        },
        "outputId": "07e21f50-fe1e-4c75-9d5c-05aeba2e6601"
      },
      "source": [
        "data_dmatrix = xgb.DMatrix(data=X, label=y)"
      ],
      "execution_count": 13,
      "outputs": [
        {
          "output_type": "stream",
          "text": [
            "/usr/local/lib/python3.6/dist-packages/xgboost/core.py:587: FutureWarning: Series.base is deprecated and will be removed in a future version\n",
            "  if getattr(data, 'base', None) is not None and \\\n",
            "/usr/local/lib/python3.6/dist-packages/xgboost/core.py:588: FutureWarning: Series.base is deprecated and will be removed in a future version\n",
            "  data.base is not None and isinstance(data, np.ndarray) \\\n"
          ],
          "name": "stderr"
        }
      ]
    },
    {
      "cell_type": "markdown",
      "metadata": {
        "id": "puLjkYBfbHVM",
        "colab_type": "text"
      },
      "source": [
        "##XGBoost's hyperparameters\n",
        "At this point, before building the model, you should be aware of the tuning parameters that XGBoost provides. Well, there are a plethora of tuning parameters for tree-based learners in XGBoost and you can read all about them here. But the most common ones that you should know are:\n",
        "\n",
        "* learning_rate: step size shrinkage used \n",
        "to prevent overfitting. Range is [0,1]\n",
        "* max_depth: determines how deeply each tree is allowed to grow during any boosting round.\n",
        "* subsample: percentage of samples used per tree. Low value can lead to underfitting.\n",
        "* colsample_bytree: percentage of features used per tree. High value can lead to overfitting.\n",
        "* n_estimators: number of trees you want to build.\n",
        "* objective: determines the loss function to be used like **reg:linear** for regression problems, **reg:logistic** for classification problems with only decision, **binary:logistic** for classification problems with probability.\n",
        "\n",
        "XGBoost also supports regularization parameters to penalize models as they become more complex and reduce them to simple (parsimonious) models.\n",
        "\n",
        "* gamma: controls whether a given node will split based on the expected reduction in loss after the split. A higher value leads to fewer splits. Supported only for tree-based learners.\n",
        "*alpha: L1 regularization on leaf weights. A large value leads to more regularization.\n",
        "* lambda: L2 regularization on leaf weights and is smoother than L1 regularization.\n",
        "It's also worth mentioning that though you are using trees as your base learners, you can also use XGBoost's relatively less popular linear base learners and one other tree learner known as dart. All you have to do is set the **booster** parameter to either **gbtree** (default),**gblinear** or **dart.**\n",
        "\n",
        "Now, you will create the train and test set for cross-validation of the results using the **train_test_split** function from sklearn's **model_selection** module with **test_size** size equal to 20% of the data. Also, to maintain reproducibility of the results, a **random_state** is also assigned."
      ]
    },
    {
      "cell_type": "code",
      "metadata": {
        "id": "bAK_l3wyMbqj",
        "colab_type": "code",
        "colab": {}
      },
      "source": [
        "from sklearn.model_selection import train_test_split\n",
        "\n",
        "X_train, X_test, y_train, y_test = train_test_split(X, y, test_size = 0.2, random_state = 123)"
      ],
      "execution_count": 0,
      "outputs": []
    },
    {
      "cell_type": "markdown",
      "metadata": {
        "id": "Tw0EHbudcN5a",
        "colab_type": "text"
      },
      "source": [
        "The next step is to instantiate an XGBoost regressor object by calling the **XGBRegressor()** class from the XGBoost library with the hyper-parameters passed as arguments. For classification problems, you would have used the **XGBClassifier()** class."
      ]
    },
    {
      "cell_type": "code",
      "metadata": {
        "id": "sPjQQWYvPMt5",
        "colab_type": "code",
        "colab": {}
      },
      "source": [
        "xg_reg = xgb.XGBRegressor(objective='reg:linear', colsample_bytree= 0.3, learning_rate = 0.1, \n",
        "                          max_depth  = 5, alpha = 10, n_estimators = 10)"
      ],
      "execution_count": 0,
      "outputs": []
    },
    {
      "cell_type": "markdown",
      "metadata": {
        "id": "Rt_tDKuocg9w",
        "colab_type": "text"
      },
      "source": [
        "Fit the regressor to the training set and make predictions on the test set using the familiar **.fit()** and **.predict()** methods."
      ]
    },
    {
      "cell_type": "code",
      "metadata": {
        "id": "OsGz7coRPtFu",
        "colab_type": "code",
        "colab": {
          "base_uri": "https://localhost:8080/",
          "height": 87
        },
        "outputId": "ab8667b4-2e17-4a63-a3dc-7d886cbbc18c"
      },
      "source": [
        "xg_reg.fit(X_train, y_train)\n",
        "\n",
        "preds = xg_reg.predict(X_test)"
      ],
      "execution_count": 16,
      "outputs": [
        {
          "output_type": "stream",
          "text": [
            "/usr/local/lib/python3.6/dist-packages/xgboost/core.py:587: FutureWarning: Series.base is deprecated and will be removed in a future version\n",
            "  if getattr(data, 'base', None) is not None and \\\n"
          ],
          "name": "stderr"
        },
        {
          "output_type": "stream",
          "text": [
            "[00:29:47] WARNING: /workspace/src/objective/regression_obj.cu:152: reg:linear is now deprecated in favor of reg:squarederror.\n"
          ],
          "name": "stdout"
        }
      ]
    },
    {
      "cell_type": "markdown",
      "metadata": {
        "id": "fxzii4T_coAV",
        "colab_type": "text"
      },
      "source": [
        "Compute the rmse by invoking the **mean_sqaured_error** function from sklearn's **metrics** module."
      ]
    },
    {
      "cell_type": "code",
      "metadata": {
        "id": "efESU3m0P4pd",
        "colab_type": "code",
        "colab": {
          "base_uri": "https://localhost:8080/",
          "height": 34
        },
        "outputId": "dcc6c880-245c-4e51-eb8b-dc7985d0e2a4"
      },
      "source": [
        "rmse = np.sqrt(mean_squared_error(y_test, preds))\n",
        "print(\"RMSE: %f\" % (rmse))"
      ],
      "execution_count": 18,
      "outputs": [
        {
          "output_type": "stream",
          "text": [
            "RMSE: 10.449300\n"
          ],
          "name": "stdout"
        }
      ]
    },
    {
      "cell_type": "markdown",
      "metadata": {
        "id": "aQ5vvHnzcw7g",
        "colab_type": "text"
      },
      "source": [
        "Well, you can see that your RMSE for the price prediction came out to be around 10.8 per 1000$."
      ]
    },
    {
      "cell_type": "markdown",
      "metadata": {
        "id": "7JgwrSMec3wW",
        "colab_type": "text"
      },
      "source": [
        "##k-fold Cross Validation using XGBoost\n",
        "In order to build more robust models, it is common to do a k-fold cross validation where all the entries in the original training dataset are used for both training as well as validation. Also, each entry is used for validation just once. XGBoost supports k-fold cross validation via the **cv()** method. All you have to do is specify the nfolds parameter, which is the number of cross validation sets you want to build. Also, it supports many other parameters (check out this link) like:\n",
        "\n",
        "* num_boost_round: denotes the number of trees you build (analogous to n_estimators)\n",
        "* metrics: tells the evaluation metrics to be watched during CV\n",
        "* as_pandas: to return the results in a pandas DataFrame.\n",
        "* early_stopping_rounds: finishes training of the model early if the hold-out metric (\"rmse\" in our case) does not improve for a given number of rounds.\n",
        "* seed: for reproducibility of results.\n",
        "\n",
        "This time you will create a hyper-parameter dictionary **params** which holds all the hyper-parameters and their values as key-value pairs but will exclude the **n_estimators** from the hyper-parameter dictionary because you will use **num_boost_rounds** instead.\n",
        "\n",
        "You will use these parameters to build a 3-fold cross validation model by invoking XGBoost's **cv()** method and store the results in a cv_results DataFrame. Note that here you are using the Dmatrix object you created before."
      ]
    },
    {
      "cell_type": "code",
      "metadata": {
        "id": "stvj5-RlQNmI",
        "colab_type": "code",
        "colab": {}
      },
      "source": [
        "params = {\"objective\": \"reg:squarederror\", \"colsample_bytree\": 0.3, \"learning_rate\": 0.1,\n",
        "          \"max_depth\": 5, \"alpha\": 10}\n",
        "\n",
        "cv_results = xgb.cv(dtrain=data_dmatrix, params=params, nfold =3,\n",
        "                    num_boost_round = 50, early_stopping_rounds =10, metrics='rmse',\n",
        "                    as_pandas=True, seed = 123)"
      ],
      "execution_count": 0,
      "outputs": []
    },
    {
      "cell_type": "markdown",
      "metadata": {
        "id": "NFUfYYCMdlwL",
        "colab_type": "text"
      },
      "source": [
        "**cv_results** contains train and test RMSE metrics for each boosting round."
      ]
    },
    {
      "cell_type": "code",
      "metadata": {
        "id": "BEzEwsF1RK9X",
        "colab_type": "code",
        "colab": {
          "base_uri": "https://localhost:8080/",
          "height": 195
        },
        "outputId": "ce0b8ff4-0da9-485b-db84-b2b174e96734"
      },
      "source": [
        "cv_results.head()"
      ],
      "execution_count": 21,
      "outputs": [
        {
          "output_type": "execute_result",
          "data": {
            "text/html": [
              "<div>\n",
              "<style scoped>\n",
              "    .dataframe tbody tr th:only-of-type {\n",
              "        vertical-align: middle;\n",
              "    }\n",
              "\n",
              "    .dataframe tbody tr th {\n",
              "        vertical-align: top;\n",
              "    }\n",
              "\n",
              "    .dataframe thead th {\n",
              "        text-align: right;\n",
              "    }\n",
              "</style>\n",
              "<table border=\"1\" class=\"dataframe\">\n",
              "  <thead>\n",
              "    <tr style=\"text-align: right;\">\n",
              "      <th></th>\n",
              "      <th>train-rmse-mean</th>\n",
              "      <th>train-rmse-std</th>\n",
              "      <th>test-rmse-mean</th>\n",
              "      <th>test-rmse-std</th>\n",
              "    </tr>\n",
              "  </thead>\n",
              "  <tbody>\n",
              "    <tr>\n",
              "      <th>0</th>\n",
              "      <td>21.679235</td>\n",
              "      <td>0.025628</td>\n",
              "      <td>21.677615</td>\n",
              "      <td>0.050615</td>\n",
              "    </tr>\n",
              "    <tr>\n",
              "      <th>1</th>\n",
              "      <td>19.772294</td>\n",
              "      <td>0.016054</td>\n",
              "      <td>19.773320</td>\n",
              "      <td>0.020567</td>\n",
              "    </tr>\n",
              "    <tr>\n",
              "      <th>2</th>\n",
              "      <td>18.049566</td>\n",
              "      <td>0.058903</td>\n",
              "      <td>18.065856</td>\n",
              "      <td>0.082746</td>\n",
              "    </tr>\n",
              "    <tr>\n",
              "      <th>3</th>\n",
              "      <td>16.430115</td>\n",
              "      <td>0.013613</td>\n",
              "      <td>16.492198</td>\n",
              "      <td>0.020920</td>\n",
              "    </tr>\n",
              "    <tr>\n",
              "      <th>4</th>\n",
              "      <td>15.025979</td>\n",
              "      <td>0.062131</td>\n",
              "      <td>15.132644</td>\n",
              "      <td>0.073106</td>\n",
              "    </tr>\n",
              "  </tbody>\n",
              "</table>\n",
              "</div>"
            ],
            "text/plain": [
              "   train-rmse-mean  train-rmse-std  test-rmse-mean  test-rmse-std\n",
              "0        21.679235        0.025628       21.677615       0.050615\n",
              "1        19.772294        0.016054       19.773320       0.020567\n",
              "2        18.049566        0.058903       18.065856       0.082746\n",
              "3        16.430115        0.013613       16.492198       0.020920\n",
              "4        15.025979        0.062131       15.132644       0.073106"
            ]
          },
          "metadata": {
            "tags": []
          },
          "execution_count": 21
        }
      ]
    },
    {
      "cell_type": "code",
      "metadata": {
        "id": "KxIZrq9rRdmz",
        "colab_type": "code",
        "colab": {
          "base_uri": "https://localhost:8080/",
          "height": 50
        },
        "outputId": "07cfe0f6-eb4d-4bf9-cb5e-d71d20f37b14"
      },
      "source": [
        "print((cv_results['test-rmse-mean']).tail(1))"
      ],
      "execution_count": 23,
      "outputs": [
        {
          "output_type": "stream",
          "text": [
            "49    3.975679\n",
            "Name: test-rmse-mean, dtype: float64\n"
          ],
          "name": "stdout"
        }
      ]
    },
    {
      "cell_type": "markdown",
      "metadata": {
        "id": "rbYlE0FkdvHa",
        "colab_type": "text"
      },
      "source": [
        "You can see that your RMSE for the price prediction has reduced as compared to last time and came out to be around 4.03 per 1000$. You can reach an even lower RMSE for a different set of hyper-parameters. You may consider applying techniques like Grid Search, Random Search and Bayesian Optimization to reach the optimal set of hyper-parameters."
      ]
    },
    {
      "cell_type": "markdown",
      "metadata": {
        "id": "R0fvX4h1d0BO",
        "colab_type": "text"
      },
      "source": [
        "##Visualize Boosting Trees and Feature Importance\n",
        "\n",
        "You can also visualize individual trees from the fully boosted model that XGBoost creates using the entire housing dataset. XGBoost has a **plot_tree()** function that makes this type of visualization easy. Once you train a model using the XGBoost learning API, you can pass it to the **plot_tree()** function along with the number of trees you want to plot using the num_trees argument."
      ]
    },
    {
      "cell_type": "code",
      "metadata": {
        "id": "RIyPdZlQRsaU",
        "colab_type": "code",
        "colab": {}
      },
      "source": [
        "xg_reg = xgb.train(params=params, dtrain =data_dmatrix, num_boost_round=10)"
      ],
      "execution_count": 0,
      "outputs": []
    },
    {
      "cell_type": "markdown",
      "metadata": {
        "id": "j951-BQteBdu",
        "colab_type": "text"
      },
      "source": [
        "Plotting the first tree with the matplotlib library:"
      ]
    },
    {
      "cell_type": "code",
      "metadata": {
        "id": "y0fpGooYSJQT",
        "colab_type": "code",
        "colab": {
          "base_uri": "https://localhost:8080/",
          "height": 595
        },
        "outputId": "0885fd59-2a48-47e4-b9d2-084bb4e794eb"
      },
      "source": [
        "import matplotlib.pyplot as plt\n",
        "\n",
        "xgb.plot_tree(xg_reg, num_trees =0)\n",
        "plt.rcParams['figure.figsize'] = [50, 10]\n",
        "plt.show()"
      ],
      "execution_count": 29,
      "outputs": [
        {
          "output_type": "display_data",
          "data": {
            "image/png": "[encoded data removed]",
            "text/plain": [
              "<Figure size 3600x720 with 1 Axes>"
            ]
          },
          "metadata": {
            "tags": []
          }
        }
      ]
    },
    {
      "cell_type": "markdown",
      "metadata": {
        "id": "gqiAhR7LeHxb",
        "colab_type": "text"
      },
      "source": [
        "Another way to visualize your XGBoost models is to examine the importance of each feature column in the original dataset within the model.\n",
        "\n",
        "One simple way of doing this involves counting the number of times each feature is split on across all boosting rounds (trees) in the model, and then visualizing the result as a bar graph, with the features ordered according to how many times they appear. XGBoost has a **plot_importance()** function that allows you to do exactly this."
      ]
    },
    {
      "cell_type": "code",
      "metadata": {
        "id": "S_NioLwbSj9f",
        "colab_type": "code",
        "colab": {
          "base_uri": "https://localhost:8080/",
          "height": 350
        },
        "outputId": "c48792f0-16f2-417e-997f-7c37de89a897"
      },
      "source": [
        "xgb.plot_importance(xg_reg)\n",
        "plt.rcParams['figure.figsize'] = [5, 5]\n",
        "plt.show()"
      ],
      "execution_count": 32,
      "outputs": [
        {
          "output_type": "display_data",
          "data": {
            "image/png": "[encoded data removed]",
            "text/plain": [
              "<Figure size 360x360 with 1 Axes>"
            ]
          },
          "metadata": {
            "tags": []
          }
        }
      ]
    },
    {
      "cell_type": "markdown",
      "metadata": {
        "id": "ZRqa0hWReRVj",
        "colab_type": "text"
      },
      "source": [
        "As you can see the feature **RM** has been given the highest importance score among all the features. Thus XGBoost also gives you a way to do Feature Selection. Isn't this brilliant?"
      ]
    },
    {
      "cell_type": "code",
      "metadata": {
        "id": "81qP6G8uXjLZ",
        "colab_type": "code",
        "colab": {}
      },
      "source": [
        ""
      ],
      "execution_count": 0,
      "outputs": []
    }
  ]
}