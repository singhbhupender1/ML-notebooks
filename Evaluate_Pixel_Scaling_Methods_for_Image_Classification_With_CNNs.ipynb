{
  "nbformat": 4,
  "nbformat_minor": 0,
  "metadata": {
    "colab": {
      "name": " Evaluate Pixel Scaling Methods for Image Classification With CNNs.ipynb",
      "provenance": [],
      "include_colab_link": true
    },
    "kernelspec": {
      "name": "python3",
      "display_name": "Python 3"
    }
  },
  "cells": [
    {
      "cell_type": "markdown",
      "metadata": {
        "id": "view-in-github",
        "colab_type": "text"
      },
      "source": [
        "<a href=\"https://colab.research.google.com/github/singhbhupender1/ML-notebooks/blob/master/Evaluate_Pixel_Scaling_Methods_for_Image_Classification_With_CNNs.ipynb\" target=\"_parent\"><img src=\"https://colab.research.google.com/assets/colab-badge.svg\" alt=\"Open In Colab\"/></a>"
      ]
    },
    {
      "cell_type": "markdown",
      "metadata": {
        "id": "TwK8ihleKAWQ",
        "colab_type": "text"
      },
      "source": [
        "##Procedure for Choosing a Pixel Scaling Method"
      ]
    },
    {
      "cell_type": "markdown",
      "metadata": {
        "id": "ZuQigeWMKT0f",
        "colab_type": "text"
      },
      "source": [
        "**Given a new image classification task, what pixel scaling methods should be used?**"
      ]
    },
    {
      "cell_type": "markdown",
      "metadata": {
        "id": "Ucjd0Gg6KYnO",
        "colab_type": "text"
      },
      "source": [
        "**This can be achieved using the following process:**\n",
        "\n",
        "**Step 1: Choose Dataset. This may be the entire training dataset or a small subset. The idea is to complete the experiments quickly and get a result.**\n",
        "\n",
        "**Step 2: Choose Model. Design a model that is skillful, but not necessarily the best model for the problem. Some parallel prototyping of models may be required.**\n",
        "\n",
        "**Step 3: Choose Pixel Scaling Methods. List 3-5 data preparation schemes for evaluation of your problem.**\n",
        "\n",
        "**Step 4: Run Experiment. Run the experiments in such a way that the results are robust and representative, ideally repeat each experiment multiple times.**\n",
        "\n",
        "**Step 5: Analyze Results. Compare methods both in terms of the speed of learning and mean performance across repeated experiments.**"
      ]
    },
    {
      "cell_type": "markdown",
      "metadata": {
        "id": "hjtDtAhTMk7F",
        "colab_type": "text"
      },
      "source": [
        "**you are looking for a signal that one data preparation scheme for your images is clearly better than the others; if this is not the case for your dataset, then the simplest (least computationally complex) technique should be used, such as pixel normalization.**"
      ]
    },
    {
      "cell_type": "markdown",
      "metadata": {
        "id": "vJtlCOG4MrGs",
        "colab_type": "text"
      },
      "source": [
        "**A clear signal of a superior pixel scaling method may be seen in one of two ways:**\n",
        "\n",
        "**Faster Learning. Learning curves clearly show that a model learns faster with a given data preparation scheme.**\n",
        "\n",
        "**Better Accuracy. Mean model performance clearly shows better accuracy with a given data preparation scheme.**"
      ]
    },
    {
      "cell_type": "markdown",
      "metadata": {
        "id": "aHJ5F4ebM1Ha",
        "colab_type": "text"
      },
      "source": [
        "##Step 1. Choose Dataset: MNIST Image Classification"
      ]
    },
    {
      "cell_type": "markdown",
      "metadata": {
        "id": "VOw1QcOdM-so",
        "colab_type": "text"
      },
      "source": [
        "**The MNIST problem, or MNIST for short, is an image classification problem comprised of 70,000 images of handwritten digits.**\n",
        "\n",
        "**The goal of the problem is to classify a given image of a handwritten digit as an integer from 0 to 9. As such, it is a multiclass image classification problem.**"
      ]
    },
    {
      "cell_type": "markdown",
      "metadata": {
        "id": "UWbEOw63NRHV",
        "colab_type": "text"
      },
      "source": [
        "**This dataset is provided as part of the Keras library and can be automatically downloaded (if needed) and loaded into memory by a call to the keras.datasets.mnist.load_data() function.**\n",
        "\n",
        "**The function returns two tuples: one for the training inputs and outputs and one for the test inputs and outputs. For example:**"
      ]
    },
    {
      "cell_type": "code",
      "metadata": {
        "id": "GWS-jaeZAogf",
        "colab_type": "code",
        "colab": {
          "base_uri": "https://localhost:8080/",
          "height": 84
        },
        "outputId": "a7374881-0de1-48d2-c47e-4898e96577ce"
      },
      "source": [
        "#load and summarize the MNIST dataset\n",
        "from keras.datasets import mnist\n",
        "#load the dataset\n",
        "(train_images, train_labels), (test_images, test_labels) = mnist.load_data()\n",
        "#summarize the dataset shape\n",
        "print('Train', train_images.shape, train_labels.shape)\n",
        "print('Test', test_images.shape, test_labels.shape)\n",
        "#summerize pixels shape\n",
        "print('Train', train_images.min(), train_images.max(), train_images.mean(), train_images.std())\n",
        "print('Train', test_images.min(), test_images.max(), test_images.mean(), test_images.std())"
      ],
      "execution_count": 3,
      "outputs": [
        {
          "output_type": "stream",
          "text": [
            "Train (60000, 28, 28) (60000,)\n",
            "Test (10000, 28, 28) (10000,)\n",
            "Train 0 255 33.318421449829934 78.56748998339798\n",
            "Train 0 255 33.791224489795916 79.17246322228644\n"
          ],
          "name": "stdout"
        }
      ]
    },
    {
      "cell_type": "markdown",
      "metadata": {
        "id": "xMaw7cwGRQZ4",
        "colab_type": "text"
      },
      "source": [
        "##Step 2. Choose Model: Convolutional Neural Network"
      ]
    },
    {
      "cell_type": "markdown",
      "metadata": {
        "id": "e6qEYsPjRYea",
        "colab_type": "text"
      },
      "source": [
        "**We will use a convolutional neural network model to evaluate the different pixel scaling methods.**\n",
        "\n",
        "**A CNN is expected to perform very well on this problem, although the model chosen for this experiment does not have to perform well or best for the problem. Instead, it must be skillful (better than random) and must allow the impact of different data preparation schemes to be differentiated in terms of speed of learning and/or model performance.**"
      ]
    },
    {
      "cell_type": "markdown",
      "metadata": {
        "id": "qgcoBheJRhJ2",
        "colab_type": "text"
      },
      "source": [
        "**We will demonstrate the baseline model on the MNIST problem.**\n",
        "\n",
        "**First, the dataset must be loaded and the shape of the train and test dataset expanded to add a channel dimension, set to one as we only have a single black and white channel.**"
      ]
    },
    {
      "cell_type": "code",
      "metadata": {
        "id": "RGkf56mHO37q",
        "colab_type": "code",
        "colab": {}
      },
      "source": [
        "#load the datast\n",
        "(trainX, trainY), (testX, testY) = mnist.load_data()\n",
        "#reshape dataset to have a single channel\n",
        "width, height, channels = trainX.shape[1], trainX.shape[2], 1\n",
        "trainX = trainX.reshape((trainX.shape[0], width, height, channels))\n",
        "testX = testX.reshape((testX.shape[0], width, height, channels))"
      ],
      "execution_count": 0,
      "outputs": []
    },
    {
      "cell_type": "markdown",
      "metadata": {
        "id": "v-qSqvL0TqJ2",
        "colab_type": "text"
      },
      "source": [
        "**Next, we will normalize the pixel values for this example and one hot encode the target values, required for multiclass classification.**"
      ]
    },
    {
      "cell_type": "code",
      "metadata": {
        "id": "jDQfsfjcTmVO",
        "colab_type": "code",
        "colab": {}
      },
      "source": [
        "from keras.utils import to_categorical\n",
        "#normalize pixel values\n",
        "trainX = trainX.astype('float32') / 255\n",
        "testX = testX.astype('float32') /255\n",
        "#one hot encode target values\n",
        "trainY = to_categorical(trainY)\n",
        "testY = to_categorical(testY)"
      ],
      "execution_count": 0,
      "outputs": []
    },
    {
      "cell_type": "markdown",
      "metadata": {
        "id": "tWUnuteRU3OH",
        "colab_type": "text"
      },
      "source": [
        "**The model is defined as a convolutional layer followed by a max pooling layer; this combination is repeated again, then the filter maps are flattened, interpreted by a fully connected layer and followed by an output layer.**\n",
        "\n",
        "**The ReLU activation function is used for hidden layers and the softmax activation function is used for the output layer. Enough filter maps and nodes are specified to provide sufficient capacity to learn the problem.**"
      ]
    },
    {
      "cell_type": "markdown",
      "metadata": {
        "id": "R_apHtmKVRXV",
        "colab_type": "text"
      },
      "source": [
        "\n",
        "\n",
        "```\n",
        "# define model\n",
        "model = Sequential()\n",
        "model.add(Conv2D(32, (3, 3), activation='relu', input_shape=(width, height, channels)))\n",
        "model.add(MaxPooling2D((2, 2)))\n",
        "model.add(Conv2D(64, (3, 3), activation='relu'))\n",
        "model.add(MaxPooling2D((2, 2)))\n",
        "model.add(Flatten())\n",
        "model.add(Dense(64, activation='relu'))\n",
        "model.add(Dense(10, activation='softmax'))\n",
        "```\n",
        "\n"
      ]
    },
    {
      "cell_type": "markdown",
      "metadata": {
        "id": "i_YmKb-eViRk",
        "colab_type": "text"
      },
      "source": [
        "**The Adam variation of stochastic gradient descent is used to find the model weights. The categorical cross entropy loss function is used, required for multi-class classification, and classification accuracy is monitored during training.**"
      ]
    },
    {
      "cell_type": "markdown",
      "metadata": {
        "id": "j0a5nMgNWRDR",
        "colab_type": "text"
      },
      "source": [
        "\n",
        "\n",
        "```\n",
        "\n",
        "# compile model\n",
        "model.compile(optimizer='adam', loss='categorical_crossentropy', metrics=['accuracy'])\n",
        "```\n",
        "\n"
      ]
    },
    {
      "cell_type": "markdown",
      "metadata": {
        "id": "VfKtXu_8WXw1",
        "colab_type": "text"
      },
      "source": [
        "**The model is fit for five training epochs and a large batch size of 128 images is used.**"
      ]
    },
    {
      "cell_type": "markdown",
      "metadata": {
        "id": "4vQg69ksWhNd",
        "colab_type": "text"
      },
      "source": [
        "\n",
        "\n",
        "```\n",
        "# fit model\n",
        "model.fit(trainX, trainY, epochs=5, batch_size=128)\n",
        "```\n",
        "\n"
      ]
    },
    {
      "cell_type": "markdown",
      "metadata": {
        "id": "No4lw7KrWsmo",
        "colab_type": "text"
      },
      "source": [
        "**Once fit, the model is evaluated on the test dataset.**"
      ]
    },
    {
      "cell_type": "markdown",
      "metadata": {
        "id": "deJoov__Ww1k",
        "colab_type": "text"
      },
      "source": [
        "\n",
        "\n",
        "```\n",
        "# evaluate model\n",
        "_, acc = model.evaluate(testX, testY, verbose=0)\n",
        "print(acc)\n",
        "```\n",
        "\n"
      ]
    },
    {
      "cell_type": "markdown",
      "metadata": {
        "id": "ZRdYsdpSXoH4",
        "colab_type": "text"
      },
      "source": [
        "**The complete example is listed below**"
      ]
    },
    {
      "cell_type": "code",
      "metadata": {
        "id": "Ot-vgnW9Ucwj",
        "colab_type": "code",
        "colab": {
          "base_uri": "https://localhost:8080/",
          "height": 541
        },
        "outputId": "4faa3bfb-7ba9-4433-bd51-0551e9a86ab9"
      },
      "source": [
        "# baseline cnn model for the mnist problem\n",
        "from keras.datasets import mnist\n",
        "from keras.utils import to_categorical\n",
        "from keras.models import Sequential\n",
        "from keras.layers import Conv2D\n",
        "from keras.layers import MaxPooling2D\n",
        "from keras.layers import Dense\n",
        "from keras.layers import Flatten\n",
        "# load dataset\n",
        "(trainX, trainY), (testX, testY) = mnist.load_data()\n",
        "# reshape dataset to have a single channel\n",
        "width, height, channels = trainX.shape[1], trainX.shape[2], 1\n",
        "trainX = trainX.reshape((trainX.shape[0], width, height, channels))\n",
        "testX = testX.reshape((testX.shape[0], width, height, channels))\n",
        "# normalize pixel values\n",
        "trainX = trainX.astype('float32') / 255\n",
        "testX = testX.astype('float32') / 255\n",
        "# one hot encode target values\n",
        "trainY = to_categorical(trainY)\n",
        "testY = to_categorical(testY)\n",
        "# define model\n",
        "model = Sequential()\n",
        "model.add(Conv2D(32, (3, 3), activation='relu', input_shape=(width, height, channels)))\n",
        "model.add(MaxPooling2D((2, 2)))\n",
        "model.add(Conv2D(64, (3, 3), activation='relu'))\n",
        "model.add(MaxPooling2D((2, 2)))\n",
        "model.add(Flatten())\n",
        "model.add(Dense(64, activation='relu'))\n",
        "model.add(Dense(10, activation='softmax'))\n",
        "# compile model\n",
        "model.compile(optimizer='adam', loss='categorical_crossentropy', metrics=['accuracy'])\n",
        "# fit model\n",
        "model.fit(trainX, trainY, epochs=5, batch_size=128)\n",
        "# evaluate model\n",
        "_, acc = model.evaluate(testX, testY, verbose=0)\n",
        "print(acc)\n"
      ],
      "execution_count": 10,
      "outputs": [
        {
          "output_type": "stream",
          "text": [
            "WARNING:tensorflow:From /usr/local/lib/python3.6/dist-packages/tensorflow_core/python/ops/math_grad.py:1424: where (from tensorflow.python.ops.array_ops) is deprecated and will be removed in a future version.\n",
            "Instructions for updating:\n",
            "Use tf.where in 2.0, which has the same broadcast rule as np.where\n",
            "WARNING:tensorflow:From /usr/local/lib/python3.6/dist-packages/keras/backend/tensorflow_backend.py:1033: The name tf.assign_add is deprecated. Please use tf.compat.v1.assign_add instead.\n",
            "\n",
            "WARNING:tensorflow:From /usr/local/lib/python3.6/dist-packages/keras/backend/tensorflow_backend.py:1020: The name tf.assign is deprecated. Please use tf.compat.v1.assign instead.\n",
            "\n",
            "WARNING:tensorflow:From /usr/local/lib/python3.6/dist-packages/keras/backend/tensorflow_backend.py:3005: The name tf.Session is deprecated. Please use tf.compat.v1.Session instead.\n",
            "\n",
            "Epoch 1/5\n",
            "WARNING:tensorflow:From /usr/local/lib/python3.6/dist-packages/keras/backend/tensorflow_backend.py:190: The name tf.get_default_session is deprecated. Please use tf.compat.v1.get_default_session instead.\n",
            "\n",
            "WARNING:tensorflow:From /usr/local/lib/python3.6/dist-packages/keras/backend/tensorflow_backend.py:197: The name tf.ConfigProto is deprecated. Please use tf.compat.v1.ConfigProto instead.\n",
            "\n",
            "WARNING:tensorflow:From /usr/local/lib/python3.6/dist-packages/keras/backend/tensorflow_backend.py:207: The name tf.global_variables is deprecated. Please use tf.compat.v1.global_variables instead.\n",
            "\n",
            "WARNING:tensorflow:From /usr/local/lib/python3.6/dist-packages/keras/backend/tensorflow_backend.py:216: The name tf.is_variable_initialized is deprecated. Please use tf.compat.v1.is_variable_initialized instead.\n",
            "\n",
            "WARNING:tensorflow:From /usr/local/lib/python3.6/dist-packages/keras/backend/tensorflow_backend.py:223: The name tf.variables_initializer is deprecated. Please use tf.compat.v1.variables_initializer instead.\n",
            "\n",
            "60000/60000 [==============================] - 44s 739us/step - loss: 0.2384 - acc: 0.9349\n",
            "Epoch 2/5\n",
            "60000/60000 [==============================] - 44s 726us/step - loss: 0.0607 - acc: 0.9818\n",
            "Epoch 3/5\n",
            "60000/60000 [==============================] - 44s 725us/step - loss: 0.0435 - acc: 0.9863\n",
            "Epoch 4/5\n",
            "60000/60000 [==============================] - 44s 730us/step - loss: 0.0345 - acc: 0.9893\n",
            "Epoch 5/5\n",
            "60000/60000 [==============================] - 44s 733us/step - loss: 0.0270 - acc: 0.9917\n",
            "0.9904\n"
          ],
          "name": "stdout"
        }
      ]
    },
    {
      "cell_type": "markdown",
      "metadata": {
        "id": "FY6ZQ6Dpci3m",
        "colab_type": "text"
      },
      "source": [
        "**the performance of the model on the test dataset on this run is 99%, or a 1% error rate. This is not state of the art (by design), but is not terribly far from state of the art either.**"
      ]
    },
    {
      "cell_type": "markdown",
      "metadata": {
        "id": "M3QylXpVcJy4",
        "colab_type": "text"
      },
      "source": [
        "##Step 3. Choose Pixel Scaling Methods"
      ]
    },
    {
      "cell_type": "markdown",
      "metadata": {
        "id": "-0-dqbWy4JvF",
        "colab_type": "text"
      },
      "source": [
        "**Neural network models often cannot be trained on raw pixel values, such as pixel values in the range of 0 to 255.**\n",
        "\n",
        "**The reason is that the network uses a weighted sum of inputs, and for the network to both be stable and train effectively, weights should be kept small.**\n",
        "\n",
        "**Instead, the pixel values must be scaled prior to training. There are perhaps three main approaches to scaling pixel values; they are:**\n",
        "\n",
        "**Normalization: pixel values are scaled to the range 0-1.**\n",
        "\n",
        "**Centering: the mean pixel value is subtracted from each pixel value resulting in a distribution of pixel values centered on a mean of zero.**\n",
        "\n",
        "**Standardization: the pixel values are scaled to a standard Gaussian with a mean of zero and a standard deviation of one.**"
      ]
    },
    {
      "cell_type": "markdown",
      "metadata": {
        "id": "G8VAG9Wt4iPm",
        "colab_type": "text"
      },
      "source": [
        "**Traditionally, sigmoid activation functions were used and inputs that sum to 0 (zero mean) were preferred. This may or may not still be the case with the wide adoption of ReLU and similar activation functions.**\n",
        "\n",
        "**Further, in centering and standardization, the mean or mean and standard deviation can be calculated across a channel, an image, a mini-batch, or the entire training dataset. This may add additional variations on a chosen scaling method that may be evaluated.**\n",
        "\n",
        "**Normalization is often the default approach as we can assume pixel values are always in the range 0-255, making the procedure very simple and efficient to implement.**\n",
        "\n",
        "**Centering is often promoted as the preferred approach as it was used in many popular papers, although the mean can be calculated per image (global) or channel (local) and across the batch of images or the entire training dataset, and often the procedure described in a paper does not specify exactly which variation was used.**\n",
        "\n",
        "**We will experiment with the three approaches listed above, namely normalization, centering, and standardization. The mean for centering and the mean and standard deviation for standardization will be calculated across the entire training dataset.**"
      ]
    },
    {
      "cell_type": "markdown",
      "metadata": {
        "id": "qDIre1jy4ylc",
        "colab_type": "text"
      },
      "source": [
        "**Other variations you could explore include:**\n",
        "\n",
        "**Calculating statistics for each channel (for color images).**\n",
        "\n",
        "**Calculating statistics for each image.**\n",
        "\n",
        "**Calculating statistics for each batch.**\n",
        "\n",
        "**Normalizing after centering or standardizing.**\n",
        "\n",
        "**The example below implements the three chosen pixel scaling methods and demonstrate their effect on the MNIST dataset.**"
      ]
    },
    {
      "cell_type": "code",
      "metadata": {
        "id": "AhX8GnjybLnI",
        "colab_type": "code",
        "colab": {
          "base_uri": "https://localhost:8080/",
          "height": 168
        },
        "outputId": "2be41c41-d53c-46bf-9b36-3958e641405c"
      },
      "source": [
        "#demonstarte pixel scaling methods on mnist dataset\n",
        "from keras.datasets import mnist\n",
        "#normalise image\n",
        "def prep_normalize(train, test):\n",
        "    #convert from integers to floats\n",
        "    train_norm = train.astype('float32')\n",
        "    test_norm = test.astype('float32')\n",
        "    #normalize to range 0-1\n",
        "    train_norm = train_norm / 255.0\n",
        "    test_norm = test_norm / 255.0\n",
        "    #return normalised images\n",
        "    return train_norm, test_norm\n",
        "\n",
        "#center images\n",
        "def prep_center(train, test):\n",
        "    #convert from integrs to floats\n",
        "    train_cent = train.astype('float32')\n",
        "    test_cent = test.astype('float32')\n",
        "    #calculate statistics\n",
        "    m = train_cent.mean()\n",
        "    #center datasets\n",
        "    train_cent = train_cent - m\n",
        "    test_cent = test_cent - m\n",
        "    #return normalized images\n",
        "    return train_cent, test_cent\n",
        "\n",
        "#standardize images\n",
        "def prep_standardize(train, test):\n",
        "    #convert from integers to floats\n",
        "    train_stan = train.astype('float32')\n",
        "    test_stan = test.astype('float32')\n",
        "    #calculate statistics\n",
        "    m = train_stan.mean()\n",
        "    s = train_stan.std()\n",
        "    #center datasets\n",
        "    train_stan = (train_stan - m) /s\n",
        "    test_stan = (test_stan - m) / s\n",
        "    #return normalized images\n",
        "    return train_stan, test_stan\n",
        "\n",
        "#load dataset\n",
        "(train_images, train_labels), (test_images, test_labels) = mnist.load_data()\n",
        "#normalize\n",
        "trainX, testX = prep_normalize(train_images, test_images)\n",
        "print('normalization')\n",
        "print('Train', trainX.min(), trainX.max(), trainX.mean(), trainX.std())\n",
        "print('Test', testX.min(), testX.max(), testX.mean(), testX.std())\n",
        "#center\n",
        "trainX, testX = prep_center(train_images, test_images)\n",
        "print('center')\n",
        "print('Train', trainX.min(), trainX.max(), trainX.mean(), trainX.std())\n",
        "print('Test', testX.min(), testX.max(), testX.mean(), testX.std())\n",
        "#Standardize\n",
        "trainX, testX = prep_standardize(train_images, test_images)\n",
        "print('Standardize')\n",
        "print('Train', trainX.min(), trainX.max(), trainX.mean(), trainX.std())\n",
        "print('Test', testX.min(), testX.max(), testX.mean(), testX.std())\n"
      ],
      "execution_count": 3,
      "outputs": [
        {
          "output_type": "stream",
          "text": [
            "normalization\n",
            "Train 0.0 1.0 0.13066062 0.30810776\n",
            "Test 0.0 1.0 0.13251467 0.31048027\n",
            "center\n",
            "Train -33.318447 221.68155 -1.9512918e-05 78.567444\n",
            "Test -33.318447 221.68155 0.47278798 79.17245\n",
            "Standardize\n",
            "Train -0.42407447 2.8215446 -3.4560264e-07 0.9999998\n",
            "Test -0.42407447 2.8215446 0.0060174568 1.0077008\n"
          ],
          "name": "stdout"
        }
      ]
    },
    {
      "cell_type": "markdown",
      "metadata": {
        "id": "gpGYCaJieTX7",
        "colab_type": "text"
      },
      "source": [
        "**Running the example first normalizes the dataset and reports the min, max, mean, and standard deviation for the train and test dataset.**\n",
        "\n",
        "**This is then repeated for the centering and standardization data preparation schemes. The results provide evidence that the scaling procedures are indeed implemented correctly.**"
      ]
    },
    {
      "cell_type": "markdown",
      "metadata": {
        "id": "JwZlLgaOeaXd",
        "colab_type": "text"
      },
      "source": [
        "##Step 4. Run Experiment"
      ]
    },
    {
      "cell_type": "markdown",
      "metadata": {
        "id": "gzXHejBzeoFB",
        "colab_type": "text"
      },
      "source": [
        "**Now that we have defined the dataset, the model, and the data preparation schemes to evaluate, we are ready to define and run the experiment.**"
      ]
    },
    {
      "cell_type": "markdown",
      "metadata": {
        "id": "6UQLarIUezMl",
        "colab_type": "text"
      },
      "source": [
        "**We will evaluate each of the three data preparation schemes and each scheme will be evaluated 10 times**"
      ]
    },
    {
      "cell_type": "markdown",
      "metadata": {
        "id": "pPhnoROIfPQ0",
        "colab_type": "text"
      },
      "source": [
        "**We can define a function to load the dataset afresh when needed.**"
      ]
    },
    {
      "cell_type": "markdown",
      "metadata": {
        "id": "ciLUiS-pfI3G",
        "colab_type": "text"
      },
      "source": [
        "\n",
        "\n",
        "```\n",
        "# load train and test dataset\n",
        "def load_dataset():\n",
        "\t# load dataset\n",
        "\t(trainX, trainY), (testX, testY) = mnist.load_data()\n",
        "\t# reshape dataset to have a single channel\n",
        "\twidth, height, channels = trainX.shape[1], trainX.shape[2], 1\n",
        "\ttrainX = trainX.reshape((trainX.shape[0], width, height, channels))\n",
        "\ttestX = testX.reshape((testX.shape[0], width, height, channels))\n",
        "\t# one hot encode target values\n",
        "\ttrainY = to_categorical(trainY)\n",
        "\ttestY = to_categorical(testY)\n",
        "\treturn trainX, trainY, testX, testY\n",
        "```\n",
        "\n"
      ]
    },
    {
      "cell_type": "markdown",
      "metadata": {
        "id": "bhlzFl82fXDz",
        "colab_type": "text"
      },
      "source": [
        "**We can also define a function to define and compile our model ready to fit on the problem.**"
      ]
    },
    {
      "cell_type": "markdown",
      "metadata": {
        "id": "fItoxHu9frps",
        "colab_type": "text"
      },
      "source": [
        "\n",
        "\n",
        "```\n",
        "# define cnn model\n",
        "def define_model():\n",
        "\tmodel = Sequential()\n",
        "\tmodel.add(Conv2D(32, (3, 3), activation='relu', input_shape=(width, height, channels)))\n",
        "\tmodel.add(MaxPooling2D((2, 2)))\n",
        "\tmodel.add(Conv2D(64, (3, 3), activation='relu'))\n",
        "\tmodel.add(MaxPooling2D((2, 2)))\n",
        "\tmodel.add(Flatten())\n",
        "\tmodel.add(Dense(64, activation='relu'))\n",
        "\tmodel.add(Dense(10, activation='softmax'))\n",
        "\t# compile model\n",
        "\tmodel.compile(optimizer='adam', loss='categorical_crossentropy', metrics=['accuracy'])\n",
        "\treturn model\n",
        "```\n",
        "\n"
      ]
    },
    {
      "cell_type": "markdown",
      "metadata": {
        "id": "Nwhlwzoafz2v",
        "colab_type": "text"
      },
      "source": [
        "**We already have functions for preparing the pixel data for the train and test datasets.**"
      ]
    },
    {
      "cell_type": "markdown",
      "metadata": {
        "id": "cdTh-yl1f8UF",
        "colab_type": "text"
      },
      "source": [
        "**Finally, we can define a function called repeated_evaluation() that takes the name of the data preparation function to call to prepare the data and will load the dataset and repeatedly define the model, prepare the dataset, fit, and evaluate the model. It will return a list of accuracy scores that can be used to summarize the performance of the model under the chosen data preparation scheme.**"
      ]
    },
    {
      "cell_type": "markdown",
      "metadata": {
        "id": "0n1-peb7gF7Q",
        "colab_type": "text"
      },
      "source": [
        "\n",
        "\n",
        "```\n",
        "# repeated evaluation of model with data prep scheme\n",
        "def repeated_evaluation(datapre_func, n_repeats=10):\n",
        "\t# prepare data\n",
        "\ttrainX, trainY, testX, testY = load_dataset()\n",
        "\t# repeated evaluation\n",
        "\tscores = list()\n",
        "\tfor i in range(n_repeats):\n",
        "\t\t# define model\n",
        "\t\tmodel = define_model()\n",
        "\t\t# prepare data\n",
        "\t\tprep_trainX, prep_testX = datapre_func(trainX, testX)\n",
        "\t\t# fit model\n",
        "\t\tmodel.fit(prep_trainX, trainY, epochs=5, batch_size=64, verbose=0)\n",
        "\t\t# evaluate model\n",
        "\t\t_, acc = model.evaluate(prep_testX, testY, verbose=0)\n",
        "\t\t# store result\n",
        "\t\tscores.append(acc)\n",
        "\t\tprint('> %d: %.3f' % (i, acc * 100.0))\n",
        "\treturn scores\n",
        "```\n",
        "\n"
      ]
    },
    {
      "cell_type": "markdown",
      "metadata": {
        "id": "1noeWhAdgN3C",
        "colab_type": "text"
      },
      "source": [
        "**The repeated_evaluation() function can then be called for each of the three data preparation schemes and the mean and standard deviation of model performance under the scheme can be reported.**\n",
        "\n",
        "**We can also create a box and whisker plot to summarize and compare the distribution of accuracy scores for each scheme.**"
      ]
    },
    {
      "cell_type": "markdown",
      "metadata": {
        "id": "j9iYNQNLgUPj",
        "colab_type": "text"
      },
      "source": [
        "\n",
        "\n",
        "```\n",
        "all_scores = list()\n",
        "# normalization\n",
        "scores = repeated_evaluation(prep_normalize)\n",
        "print('Normalization: %.3f (%.3f)' % (mean(scores), std(scores)))\n",
        "all_scores.append(scores)\n",
        "# center\n",
        "scores = repeated_evaluation(prep_center)\n",
        "print('Centered: %.3f (%.3f)' % (mean(scores), std(scores)))\n",
        "all_scores.append(scores)\n",
        "# standardize\n",
        "scores = repeated_evaluation(prep_standardize)\n",
        "print('Standardized: %.3f (%.3f)' % (mean(scores), std(scores)))\n",
        "all_scores.append(scores)\n",
        "# box and whisker plots of results\n",
        "pyplot.boxplot(all_scores, labels=['norm', 'cent', 'stan'])\n",
        "pyplot.show()\n",
        "```\n",
        "\n"
      ]
    },
    {
      "cell_type": "markdown",
      "metadata": {
        "id": "0ifBOHbggexI",
        "colab_type": "text"
      },
      "source": [
        "**the complete example of running the experiment to compare pixel scaling methods on the MNIST dataset is listed below.**"
      ]
    },
    {
      "cell_type": "code",
      "metadata": {
        "id": "BhskvmcJ66ha",
        "colab_type": "code",
        "colab": {
          "base_uri": "https://localhost:8080/",
          "height": 1000
        },
        "outputId": "7c9060d8-8076-4e17-e259-f098a9ec8ae2"
      },
      "source": [
        "# comparison of training-set based pixel scaling methods on MNIST\n",
        "from numpy import mean\n",
        "from numpy import std\n",
        "from matplotlib import pyplot\n",
        "from keras.datasets import mnist\n",
        "from keras.utils import to_categorical\n",
        "from keras.models import Sequential\n",
        "from keras.layers import Conv2D\n",
        "from keras.layers import MaxPooling2D\n",
        "from keras.layers import Dense\n",
        "from keras.layers import Flatten\n",
        " \n",
        "# load train and test dataset\n",
        "def load_dataset():\n",
        "\t# load dataset\n",
        "\t(trainX, trainY), (testX, testY) = mnist.load_data()\n",
        "\t# reshape dataset to have a single channel\n",
        "\twidth, height, channels = trainX.shape[1], trainX.shape[2], 1\n",
        "\ttrainX = trainX.reshape((trainX.shape[0], width, height, channels))\n",
        "\ttestX = testX.reshape((testX.shape[0], width, height, channels))\n",
        "\t# one hot encode target values\n",
        "\ttrainY = to_categorical(trainY)\n",
        "\ttestY = to_categorical(testY)\n",
        "\treturn trainX, trainY, testX, testY\n",
        " \n",
        "# define cnn model\n",
        "def define_model():\n",
        "\tmodel = Sequential()\n",
        "\tmodel.add(Conv2D(32, (3, 3), activation='relu', input_shape=(28, 28, 1)))\n",
        "\tmodel.add(MaxPooling2D((2, 2)))\n",
        "\tmodel.add(Conv2D(64, (3, 3), activation='relu'))\n",
        "\tmodel.add(MaxPooling2D((2, 2)))\n",
        "\tmodel.add(Flatten())\n",
        "\tmodel.add(Dense(64, activation='relu'))\n",
        "\tmodel.add(Dense(10, activation='softmax'))\n",
        "\t# compile model\n",
        "\tmodel.compile(optimizer='adam', loss='categorical_crossentropy', metrics=['accuracy'])\n",
        "\treturn model\n",
        " \n",
        "# normalize images\n",
        "def prep_normalize(train, test):\n",
        "\t# convert from integers to floats\n",
        "\ttrain_norm = train.astype('float32')\n",
        "\ttest_norm = test.astype('float32')\n",
        "\t# normalize to range 0-1\n",
        "\ttrain_norm = train_norm / 255.0\n",
        "\ttest_norm = test_norm / 255.0\n",
        "\t# return normalized images\n",
        "\treturn train_norm, test_norm\n",
        " \n",
        "# center images\n",
        "def prep_center(train, test):\n",
        "\t# convert from integers to floats\n",
        "\ttrain_cent = train.astype('float32')\n",
        "\ttest_cent = test.astype('float32')\n",
        "\t# calculate statistics\n",
        "\tm = train_cent.mean()\n",
        "\t# center datasets\n",
        "\ttrain_cent = train_cent - m\n",
        "\ttest_cent = test_cent - m\n",
        "\t# return normalized images\n",
        "\treturn train_cent, test_cent\n",
        " \n",
        "# standardize images\n",
        "def prep_standardize(train, test):\n",
        "\t# convert from integers to floats\n",
        "\ttrain_stan = train.astype('float32')\n",
        "\ttest_stan = test.astype('float32')\n",
        "\t# calculate statistics\n",
        "\tm = train_stan.mean()\n",
        "\ts = train_stan.std()\n",
        "\t# center datasets\n",
        "\ttrain_stan = (train_stan - m) / s\n",
        "\ttest_stan = (test_stan - m) / s\n",
        "\t# return normalized images\n",
        "\treturn train_stan, test_stan\n",
        " \n",
        "# repeated evaluation of model with data prep scheme\n",
        "def repeated_evaluation(datapre_func, n_repeats=10):\n",
        "\t# prepare data\n",
        "\ttrainX, trainY, testX, testY = load_dataset()\n",
        "\t# repeated evaluation\n",
        "\tscores = list()\n",
        "\tfor i in range(n_repeats):\n",
        "\t\t# define model\n",
        "\t\tmodel = define_model()\n",
        "\t\t# prepare data\n",
        "\t\tprep_trainX, prep_testX = datapre_func(trainX, testX)\n",
        "\t\t# fit model\n",
        "\t\tmodel.fit(prep_trainX, trainY, epochs=5, batch_size=64, verbose=0)\n",
        "\t\t# evaluate model\n",
        "\t\t_, acc = model.evaluate(prep_testX, testY, verbose=0)\n",
        "\t\t# store result\n",
        "\t\tscores.append(acc)\n",
        "\t\tprint('> %d: %.3f' % (i, acc * 100.0))\n",
        "\treturn scores\n",
        " \n",
        "all_scores = list()\n",
        "# normalization\n",
        "scores = repeated_evaluation(prep_normalize)\n",
        "print('Normalization: %.3f (%.3f)' % (mean(scores), std(scores)))\n",
        "all_scores.append(scores)\n",
        "# center\n",
        "scores = repeated_evaluation(prep_center)\n",
        "print('Centered: %.3f (%.3f)' % (mean(scores), std(scores)))\n",
        "all_scores.append(scores)\n",
        "# standardize\n",
        "scores = repeated_evaluation(prep_standardize)\n",
        "print('Standardized: %.3f (%.3f)' % (mean(scores), std(scores)))\n",
        "all_scores.append(scores)\n",
        "# box and whisker plots of results\n",
        "pyplot.boxplot(all_scores, labels=['norm', 'cent', 'stan'])\n",
        "pyplot.show()"
      ],
      "execution_count": 7,
      "outputs": [
        {
          "output_type": "stream",
          "text": [
            "WARNING:tensorflow:From /usr/local/lib/python3.6/dist-packages/tensorflow_core/python/ops/math_grad.py:1424: where (from tensorflow.python.ops.array_ops) is deprecated and will be removed in a future version.\n",
            "Instructions for updating:\n",
            "Use tf.where in 2.0, which has the same broadcast rule as np.where\n",
            "WARNING:tensorflow:From /usr/local/lib/python3.6/dist-packages/keras/backend/tensorflow_backend.py:1033: The name tf.assign_add is deprecated. Please use tf.compat.v1.assign_add instead.\n",
            "\n",
            "WARNING:tensorflow:From /usr/local/lib/python3.6/dist-packages/keras/backend/tensorflow_backend.py:1020: The name tf.assign is deprecated. Please use tf.compat.v1.assign instead.\n",
            "\n",
            "WARNING:tensorflow:From /usr/local/lib/python3.6/dist-packages/keras/backend/tensorflow_backend.py:3005: The name tf.Session is deprecated. Please use tf.compat.v1.Session instead.\n",
            "\n",
            "WARNING:tensorflow:From /usr/local/lib/python3.6/dist-packages/keras/backend/tensorflow_backend.py:190: The name tf.get_default_session is deprecated. Please use tf.compat.v1.get_default_session instead.\n",
            "\n",
            "WARNING:tensorflow:From /usr/local/lib/python3.6/dist-packages/keras/backend/tensorflow_backend.py:197: The name tf.ConfigProto is deprecated. Please use tf.compat.v1.ConfigProto instead.\n",
            "\n",
            "WARNING:tensorflow:From /usr/local/lib/python3.6/dist-packages/keras/backend/tensorflow_backend.py:207: The name tf.global_variables is deprecated. Please use tf.compat.v1.global_variables instead.\n",
            "\n",
            "WARNING:tensorflow:From /usr/local/lib/python3.6/dist-packages/keras/backend/tensorflow_backend.py:216: The name tf.is_variable_initialized is deprecated. Please use tf.compat.v1.is_variable_initialized instead.\n",
            "\n",
            "WARNING:tensorflow:From /usr/local/lib/python3.6/dist-packages/keras/backend/tensorflow_backend.py:223: The name tf.variables_initializer is deprecated. Please use tf.compat.v1.variables_initializer instead.\n",
            "\n",
            "> 0: 99.190\n",
            "> 1: 98.510\n",
            "> 2: 99.050\n",
            "> 3: 98.730\n",
            "> 4: 98.890\n",
            "> 5: 98.980\n",
            "> 6: 99.050\n",
            "> 7: 99.060\n",
            "> 8: 98.990\n",
            "> 9: 99.160\n",
            "Normalization: 0.990 (0.002)\n",
            "> 0: 50.770\n",
            "> 1: 98.520\n",
            "> 2: 98.840\n",
            "> 3: 98.390\n",
            "> 4: 9.800\n",
            "> 5: 10.100\n",
            "> 6: 98.430\n",
            "> 7: 98.250\n",
            "> 8: 98.630\n",
            "> 9: 98.260\n",
            "Centered: 0.760 (0.359)\n",
            "> 0: 99.140\n",
            "> 1: 99.070\n",
            "> 2: 98.650\n",
            "> 3: 99.080\n",
            "> 4: 99.120\n",
            "> 5: 99.050\n",
            "> 6: 99.010\n",
            "> 7: 98.630\n",
            "> 8: 98.940\n",
            "> 9: 99.040\n",
            "Standardized: 0.990 (0.002)\n"
          ],
          "name": "stdout"
        },
        {
          "output_type": "display_data",
          "data": {
            "image/png": "[encoded data removed]",
            "text/plain": [
              "<Figure size 432x288 with 1 Axes>"
            ]
          },
          "metadata": {
            "tags": []
          }
        }
      ]
    },
    {
      "cell_type": "markdown",
      "metadata": {
        "id": "GrfiQPoGvxvk",
        "colab_type": "text"
      },
      "source": [
        "##Step 5. Analyze Results"
      ]
    },
    {
      "cell_type": "markdown",
      "metadata": {
        "id": "DB0JyO1yv5CT",
        "colab_type": "text"
      },
      "source": [
        "**The results of the experiments show that there is little or no difference (at the chosen precision) between pixel normalization and standardization with the chosen model on the MNIST dataset.**\n",
        "\n",
        "**From these results, I would use normalization over standardization on this dataset with this model because of the good results and because of the simplicity of normalization as compared to standardization.**\n",
        "\n",
        "**These are useful results in that they show that the default heuristic to center pixel values prior to modeling would not be good advice for this dataset.**\n",
        "\n",
        "**Sadly, the box and whisker plot does not make a comparison between the spread of accuracy scores easy as some terrible outlier scores for the centering scaling method squash the distributions.**"
      ]
    },
    {
      "cell_type": "code",
      "metadata": {
        "id": "x_4t1RUjn0sW",
        "colab_type": "code",
        "colab": {}
      },
      "source": [
        ""
      ],
      "execution_count": 0,
      "outputs": []
    }
  ]
}