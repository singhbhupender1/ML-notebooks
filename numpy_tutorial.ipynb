{
  "nbformat": 4,
  "nbformat_minor": 0,
  "metadata": {
    "colab": {
      "name": "numpy tutorial.ipynb",
      "provenance": [],
      "authorship_tag": "ABX9TyOxrjIubRDKpUKhDhkoyvja",
      "include_colab_link": true
    },
    "kernelspec": {
      "name": "python3",
      "display_name": "Python 3"
    }
  },
  "cells": [
    {
      "cell_type": "markdown",
      "metadata": {
        "id": "view-in-github",
        "colab_type": "text"
      },
      "source": [
        "<a href=\"https://colab.research.google.com/github/singhbhupender1/ML-notebooks/blob/master/numpy_tutorial.ipynb\" target=\"_parent\"><img src=\"https://colab.research.google.com/assets/colab-badge.svg\" alt=\"Open In Colab\"/></a>"
      ]
    },
    {
      "cell_type": "markdown",
      "metadata": {
        "id": "R5Kx0W2vLE_Z",
        "colab_type": "text"
      },
      "source": [
        "##1) Creating a Vector\n",
        "\n",
        "**Here we use Numpy to create a 1-D Array which we then call a vector.**"
      ]
    },
    {
      "cell_type": "code",
      "metadata": {
        "id": "Avhaug9wKuvr",
        "colab_type": "code",
        "colab": {
          "base_uri": "https://localhost:8080/",
          "height": 84
        },
        "outputId": "eca34175-9049-4e57-e6ce-b97c424bae4b"
      },
      "source": [
        "#load Library\n",
        "import numpy as np\n",
        "\n",
        "#create a vector as a row\n",
        "vector_row = np.array([1, 2, 3])\n",
        "print(vector_row)\n",
        "\n",
        "#create a vector as a column\n",
        "vector_column = np.array([[1], [2], [3]])\n",
        "print(vector_column)"
      ],
      "execution_count": 3,
      "outputs": [
        {
          "output_type": "stream",
          "text": [
            "[1 2 3]\n",
            "[[1]\n",
            " [2]\n",
            " [3]]\n"
          ],
          "name": "stdout"
        }
      ]
    },
    {
      "cell_type": "markdown",
      "metadata": {
        "id": "k2JCHtTZNkCt",
        "colab_type": "text"
      },
      "source": [
        "##2) Creating a matrix\n",
        "**We Create a 2-D Array in Numpy and call it a Matrix. It contains 2 rows and 3 columns.**"
      ]
    },
    {
      "cell_type": "code",
      "metadata": {
        "id": "p5d-vv7TM3yM",
        "colab_type": "code",
        "colab": {
          "base_uri": "https://localhost:8080/",
          "height": 50
        },
        "outputId": "6372c185-cb13-4f9c-c906-ff2d7b7a13ab"
      },
      "source": [
        "#load the library\n",
        "import numpy as np\n",
        "\n",
        "#create the matrix\n",
        "matrix = np.array([[1,2,3], [4,5,6]])\n",
        "print(matrix)"
      ],
      "execution_count": 4,
      "outputs": [
        {
          "output_type": "stream",
          "text": [
            "[[1 2 3]\n",
            " [4 5 6]]\n"
          ],
          "name": "stdout"
        }
      ]
    },
    {
      "cell_type": "markdown",
      "metadata": {
        "id": "umHXUKnDN76D",
        "colab_type": "text"
      },
      "source": [
        "##3) Creating a Sparse Matrix\n",
        "**Given data with very few non zero values you want to efficiently represent it.**\n",
        "\n",
        "**A frequent situation in Machine Learning is having a huge amount of Data; however most of the elements in the data are Zeros. For example, lets imagine a Matrix where the columns are all the products on Amazon and the rows signify whether a given user has bought that item before or not. Now as you might have guessed there would be many products which haven't been bought even a single time till now and thus a vast majority of elements would be Zero.**\n",
        "\n",
        "**Sparse Matrices store only non zero elements and assume all other values will be zero, leading to significant computational savings.**"
      ]
    },
    {
      "cell_type": "code",
      "metadata": {
        "id": "SCXRANySN5v7",
        "colab_type": "code",
        "colab": {
          "base_uri": "https://localhost:8080/",
          "height": 101
        },
        "outputId": "c7fd6e5c-f81d-41ff-db20-aa7b679fd244"
      },
      "source": [
        "#load library\n",
        "import numpy as np\n",
        "from scipy import sparse\n",
        "\n",
        "#create a matrix\n",
        "matrix = np.array([[0,0], [0,1], [3,0]])\n",
        "print(matrix)\n",
        "\n",
        "#create a sparse row matrix\n",
        "matrix_sparse = sparse.csr_matrix(matrix)\n",
        "print(matrix_sparse)"
      ],
      "execution_count": 11,
      "outputs": [
        {
          "output_type": "stream",
          "text": [
            "[[0 0]\n",
            " [0 1]\n",
            " [3 0]]\n",
            "  (1, 1)\t1\n",
            "  (2, 0)\t3\n"
          ],
          "name": "stdout"
        }
      ]
    },
    {
      "cell_type": "markdown",
      "metadata": {
        "id": "hqaw918fTVn9",
        "colab_type": "text"
      },
      "source": [
        "##4) Selecting Elements\n",
        "\n",
        "**When you need to select one or more element in a vector or matrix**"
      ]
    },
    {
      "cell_type": "code",
      "metadata": {
        "id": "57okoPYWQ83N",
        "colab_type": "code",
        "colab": {
          "base_uri": "https://localhost:8080/",
          "height": 269
        },
        "outputId": "170e7b3b-f988-4d1d-c63f-f88bae2991bd"
      },
      "source": [
        "#load library\n",
        "import numpy as np\n",
        "\n",
        "#create a vector as a row\n",
        "vector_row = np.array([1, 2, 3, 4, 5, 6])\n",
        "print(vector_row)\n",
        "\n",
        "#create a matrix\n",
        "matrix = np.array([[1,2,3], [4,5,6], [7,8,9]])\n",
        "print(matrix)\n",
        "\n",
        "#select 3rd element of vector\n",
        "print(vector_row[2])\n",
        "\n",
        "#select 2nd row 2nd column\n",
        "print(matrix[1,1])\n",
        "\n",
        "#select all elements of a vector\n",
        "print(vector_row[:])\n",
        "\n",
        "#select everything up to and including the 3rd element\n",
        "print(vector_row[:3])\n",
        "\n",
        "#select the everything after the third element\n",
        "print(vector_row[3:])\n",
        "\n",
        "#select the last element\n",
        "print(vector_row[-1])\n",
        "\n",
        "#slelect the first 2 rows and alll the columns of the matrix\n",
        "print(matrix[:2, :])\n",
        "\n",
        "#select all rows and the 2nd column of the matrix\n",
        "print(matrix[:, 1:2])\n",
        "\n"
      ],
      "execution_count": 12,
      "outputs": [
        {
          "output_type": "stream",
          "text": [
            "[1 2 3 4 5 6]\n",
            "[[1 2 3]\n",
            " [4 5 6]\n",
            " [7 8 9]]\n",
            "3\n",
            "5\n",
            "[1 2 3 4 5 6]\n",
            "[1 2 3]\n",
            "[4 5 6]\n",
            "6\n",
            "[[1 2 3]\n",
            " [4 5 6]]\n",
            "[[2]\n",
            " [5]\n",
            " [8]]\n"
          ],
          "name": "stdout"
        }
      ]
    },
    {
      "cell_type": "markdown",
      "metadata": {
        "id": "ujwOu_hyYRfj",
        "colab_type": "text"
      },
      "source": [
        "##5) Describing a Matrix\n",
        "\n",
        "**When you want to know about the shape size and dimensions of a Matrix.**"
      ]
    },
    {
      "cell_type": "code",
      "metadata": {
        "id": "mnmk49NiVIgS",
        "colab_type": "code",
        "colab": {
          "base_uri": "https://localhost:8080/",
          "height": 67
        },
        "outputId": "71c11326-b2d2-4519-aedb-f4b0d1ac5508"
      },
      "source": [
        "import numpy as np\n",
        "\n",
        "#create a matrix\n",
        "matrix = np.array([[1,2,3], [4,5,6], [7,8,9]])\n",
        "\n",
        "#view the number of rows and columns\n",
        "print(matrix.shape)\n",
        "\n",
        "#view the number of elements (rows*columns)\n",
        "print(matrix.size)\n",
        "\n",
        "#view the number of Dimensions(2 in this case)\n",
        "print(matrix.ndim)"
      ],
      "execution_count": 14,
      "outputs": [
        {
          "output_type": "stream",
          "text": [
            "(3, 3)\n",
            "9\n",
            "2\n"
          ],
          "name": "stdout"
        }
      ]
    },
    {
      "cell_type": "markdown",
      "metadata": {
        "id": "f7uns1z8Y7vs",
        "colab_type": "text"
      },
      "source": [
        "##6) Applying operations to elements\n",
        "**You want to apply some function to multiple elements in an array.\n",
        "Numpy’s vectorize class converts a function into a function that can apply to multiple elements in an array or slice of an array.**"
      ]
    },
    {
      "cell_type": "code",
      "metadata": {
        "id": "gJuHcgP_Yjmq",
        "colab_type": "code",
        "colab": {
          "base_uri": "https://localhost:8080/",
          "height": 118
        },
        "outputId": "6f7e2ca7-9619-4f5c-991d-f3745d23c61e"
      },
      "source": [
        "#load library\n",
        "import numpy as np\n",
        "\n",
        "#create a matrix\n",
        "matrix = np.array([[1,2,3], [4,5,6], [7,8,9]])\n",
        "print(matrix)\n",
        "\n",
        "#create a function that adds 100 to something\n",
        "add_100 = lambda i : i+100\n",
        "\n",
        "#convert it into a vectorized function\n",
        "vectorized_add_100 = np.vectorize(add_100)\n",
        "\n",
        "#apply function to all elements of a matrix\n",
        "print(vectorized_add_100(matrix))"
      ],
      "execution_count": 15,
      "outputs": [
        {
          "output_type": "stream",
          "text": [
            "[[1 2 3]\n",
            " [4 5 6]\n",
            " [7 8 9]]\n",
            "[[101 102 103]\n",
            " [104 105 106]\n",
            " [107 108 109]]\n"
          ],
          "name": "stdout"
        }
      ]
    },
    {
      "cell_type": "markdown",
      "metadata": {
        "id": "G0nmr6vxZ0bH",
        "colab_type": "text"
      },
      "source": [
        "##7) Finding the max and min values\n",
        "**We use Numpy’s max and min functions:**"
      ]
    },
    {
      "cell_type": "code",
      "metadata": {
        "id": "5wZ_r_YuZoX4",
        "colab_type": "code",
        "colab": {
          "base_uri": "https://localhost:8080/",
          "height": 134
        },
        "outputId": "111cdb76-5be4-43a2-9bad-7ce55b7049da"
      },
      "source": [
        "#load library\n",
        "import numpy as np\n",
        "\n",
        "#create a matrix\n",
        "matrix = np.array([[1,2,3], [4,5,6], [7,8,9]])\n",
        "print(matrix)\n",
        "\n",
        "#return the max element\n",
        "print(np.max(matrix))\n",
        "\n",
        "#return the min element\n",
        "print(np.min(matrix))\n",
        "\n",
        "#to find the max element in each column\n",
        "print(np.max(matrix, axis=0))\n",
        "\n",
        "#to find the max element in each row\n",
        "print(np.max(matrix, axis=1))"
      ],
      "execution_count": 17,
      "outputs": [
        {
          "output_type": "stream",
          "text": [
            "[[1 2 3]\n",
            " [4 5 6]\n",
            " [7 8 9]]\n",
            "9\n",
            "1\n",
            "[7 8 9]\n",
            "[3 6 9]\n"
          ],
          "name": "stdout"
        }
      ]
    },
    {
      "cell_type": "markdown",
      "metadata": {
        "id": "n4irOp-jbf7N",
        "colab_type": "text"
      },
      "source": [
        "##8) Calculating Average, Variance and Standard deviation\n",
        "**When you want to calculate some descriptive statistics about an array.**"
      ]
    },
    {
      "cell_type": "code",
      "metadata": {
        "id": "8Hgm8ypqanJ5",
        "colab_type": "code",
        "colab": {
          "base_uri": "https://localhost:8080/",
          "height": 118
        },
        "outputId": "9ce471ac-f690-4556-a617-05af071e00df"
      },
      "source": [
        "#load library\n",
        "import numpy as np\n",
        "\n",
        "#create a matrix\n",
        "matrix = np.array([[1,2,3], [4,5,6], [7,8,9]])\n",
        "print(matrix)\n",
        "\n",
        "#mean\n",
        "print(np.mean(matrix))\n",
        "\n",
        "#standard dev.\n",
        "print(np.std(matrix))\n",
        "\n",
        "#variance\n",
        "print(np.var(matrix))"
      ],
      "execution_count": 19,
      "outputs": [
        {
          "output_type": "stream",
          "text": [
            "[[1 2 3]\n",
            " [4 5 6]\n",
            " [7 8 9]]\n",
            "5.0\n",
            "2.581988897471611\n",
            "6.666666666666667\n"
          ],
          "name": "stdout"
        }
      ]
    },
    {
      "cell_type": "markdown",
      "metadata": {
        "id": "6FXTf16QcJWe",
        "colab_type": "text"
      },
      "source": [
        "##9) Reshaping Arrays\n",
        "**When you want to reshape an array(changing the number of rows and columns) without changing the elements.**"
      ]
    },
    {
      "cell_type": "code",
      "metadata": {
        "id": "gentfvHcb3G5",
        "colab_type": "code",
        "colab": {
          "base_uri": "https://localhost:8080/",
          "height": 269
        },
        "outputId": "76071f0d-920a-48fe-87a0-f9cba3c38a5b"
      },
      "source": [
        "#load library\n",
        "import numpy as np\n",
        "\n",
        "#cereate the matrix\n",
        "matrix = np.array([[1,2,3], [4,5,6],[7,8,9]])\n",
        "print(matrix)\n",
        "\n",
        "#reshape\n",
        "print(matrix.reshape(9,1))\n",
        "\n",
        "#here -1 says as many columns as needed and 1 row\n",
        "print(matrix.reshape(1,-1))\n",
        "\n",
        "#If we provide only 1 value reshape would return 1-d array of that length\n",
        "print(matrix.reshape(9))\n",
        "\n",
        "#we could also use the flatten method to convert a mtrix to 1-d array\n",
        "print(matrix.flatten())"
      ],
      "execution_count": 20,
      "outputs": [
        {
          "output_type": "stream",
          "text": [
            "[[1 2 3]\n",
            " [4 5 6]\n",
            " [7 8 9]]\n",
            "[[1]\n",
            " [2]\n",
            " [3]\n",
            " [4]\n",
            " [5]\n",
            " [6]\n",
            " [7]\n",
            " [8]\n",
            " [9]]\n",
            "[[1 2 3 4 5 6 7 8 9]]\n",
            "[1 2 3 4 5 6 7 8 9]\n",
            "[1 2 3 4 5 6 7 8 9]\n"
          ],
          "name": "stdout"
        }
      ]
    },
    {
      "cell_type": "markdown",
      "metadata": {
        "id": "qzWmQuh3dSrp",
        "colab_type": "text"
      },
      "source": [
        "##10) Transposing a vector or a Matrix\n",
        "**By transposing you interchange the rows and columns of a Matrix**"
      ]
    },
    {
      "cell_type": "code",
      "metadata": {
        "id": "jYiqXNXddGGc",
        "colab_type": "code",
        "colab": {
          "base_uri": "https://localhost:8080/",
          "height": 118
        },
        "outputId": "7581cb7c-a554-4840-b882-4f53129e9aec"
      },
      "source": [
        "#load library\n",
        "import numpy as np\n",
        "\n",
        "#create a matrix\n",
        "matrix = np.array([[1,2,3], [4,5,6], [7,8,9]])\n",
        "print(matrix)\n",
        "\n",
        "#Transpose the matrix\n",
        "print(matrix.T)"
      ],
      "execution_count": 21,
      "outputs": [
        {
          "output_type": "stream",
          "text": [
            "[[1 2 3]\n",
            " [4 5 6]\n",
            " [7 8 9]]\n",
            "[[1 4 7]\n",
            " [2 5 8]\n",
            " [3 6 9]]\n"
          ],
          "name": "stdout"
        }
      ]
    },
    {
      "cell_type": "markdown",
      "metadata": {
        "id": "qgdBB_XOdt57",
        "colab_type": "text"
      },
      "source": [
        "##11) Finding the Determinant and Rank of a Matrix\n",
        "**The rank of a Matrix is the number of dimensions of the vector space spanned by its rows or columns.**"
      ]
    },
    {
      "cell_type": "code",
      "metadata": {
        "id": "iIudohnLdqua",
        "colab_type": "code",
        "colab": {
          "base_uri": "https://localhost:8080/",
          "height": 101
        },
        "outputId": "51e43e98-3646-4abf-fa86-113172ebd661"
      },
      "source": [
        "#load library\n",
        "import numpy as np\n",
        "\n",
        "#create a matrix\n",
        "matrix = np.array([[1,2,3], [4,5,6], [7,8,9]])\n",
        "print(matrix)\n",
        "\n",
        "#calculate the Determinant\n",
        "print(np.linalg.det(matrix))\n",
        "\n",
        "#calculate the rank\n",
        "print(np.linalg.matrix_rank(matrix))"
      ],
      "execution_count": 22,
      "outputs": [
        {
          "output_type": "stream",
          "text": [
            "[[1 2 3]\n",
            " [4 5 6]\n",
            " [7 8 9]]\n",
            "0.0\n",
            "2\n"
          ],
          "name": "stdout"
        }
      ]
    },
    {
      "cell_type": "markdown",
      "metadata": {
        "id": "GuibrY5pel22",
        "colab_type": "text"
      },
      "source": [
        "##12) Getting the Diagonal of a Matrix\n",
        "\n",
        "**When you need to extract only the diagonal elements of a matrix**"
      ]
    },
    {
      "cell_type": "code",
      "metadata": {
        "id": "Y8y0dvp6ePkt",
        "colab_type": "code",
        "colab": {
          "base_uri": "https://localhost:8080/",
          "height": 118
        },
        "outputId": "d58e5546-017d-49de-b500-52259ba810e4"
      },
      "source": [
        "#load library\n",
        "import numpy as np\n",
        "\n",
        "#create a matrix\n",
        "matrix = np.array([[1,2,3],[4,5,6],[7,8,9]])\n",
        "print(matrix)\n",
        "\n",
        "#print the principal diagonal\n",
        "print(matrix.diagonal())\n",
        "\n",
        "#print the diagonal one aboe the principal diagonal\n",
        "print(matrix.diagonal(offset=1))\n",
        "\n",
        "#print the diagonal one below principal diagonal\n",
        "print(matrix.diagonal(offset=-1))"
      ],
      "execution_count": 25,
      "outputs": [
        {
          "output_type": "stream",
          "text": [
            "[[1 2 3]\n",
            " [4 5 6]\n",
            " [7 8 9]]\n",
            "[1 5 9]\n",
            "[2 6]\n",
            "[4 8]\n"
          ],
          "name": "stdout"
        }
      ]
    },
    {
      "cell_type": "markdown",
      "metadata": {
        "id": "4S-QqoZwfaDD",
        "colab_type": "text"
      },
      "source": [
        "##13) Calculating the trace of a Matrix\n",
        "**Trace of a Matrix is the sum of elements on the Principal Diagonal of the Matrix.**"
      ]
    },
    {
      "cell_type": "code",
      "metadata": {
        "id": "qxPdwB_pfJlt",
        "colab_type": "code",
        "colab": {
          "base_uri": "https://localhost:8080/",
          "height": 84
        },
        "outputId": "032af882-c5d1-4a96-8ae4-50a8c1d93c3b"
      },
      "source": [
        "#load library\n",
        "import numpy as np\n",
        "\n",
        "#crete a matrix\n",
        "matrix = np.array([[1,2,3],[4,5,6],[7,8,9]])\n",
        "print(matrix)\n",
        "\n",
        "#print the Trace\n",
        "print(matrix.trace())"
      ],
      "execution_count": 26,
      "outputs": [
        {
          "output_type": "stream",
          "text": [
            "[[1 2 3]\n",
            " [4 5 6]\n",
            " [7 8 9]]\n",
            "15\n"
          ],
          "name": "stdout"
        }
      ]
    },
    {
      "cell_type": "markdown",
      "metadata": {
        "id": "8fxXvuThfuZv",
        "colab_type": "text"
      },
      "source": [
        "##14) Finding Eigenvalues and Eigenvectors\n",
        "\n",
        "**Eigenvectors are widely used in Machine Learning libraries. Intutively given a linear transformation represented by a matrix,A, eigenvectors are vectors that when that transformation is applied, change only in scale(not direction).More formally**\n",
        "\n",
        "**Av=Kv**\n",
        "\n",
        "**Here A is a square matrix, K contains the eigenvalues and v contains the eigenvectors.**"
      ]
    },
    {
      "cell_type": "code",
      "metadata": {
        "id": "Uhe1TMiJfr66",
        "colab_type": "code",
        "colab": {
          "base_uri": "https://localhost:8080/",
          "height": 134
        },
        "outputId": "53748fa6-6d17-4c89-f67f-ac0dd5bf5235"
      },
      "source": [
        "#Load Library\n",
        "import numpy as np\n",
        "\n",
        "#Create a Matrix\n",
        "matrix = np.array([[1,2,3],[4,5,6],[7,8,9]])\n",
        "print(matrix)\n",
        "\n",
        "# Calculate the Eigenvalues and Eigenvectors of that Matrix\n",
        "eigenvalues ,eigenvectors=np.linalg.eig(matrix)\n",
        "print(eigenvalues)\n",
        "print(eigenvectors)"
      ],
      "execution_count": 27,
      "outputs": [
        {
          "output_type": "stream",
          "text": [
            "[[1 2 3]\n",
            " [4 5 6]\n",
            " [7 8 9]]\n",
            "[ 1.61168440e+01 -1.11684397e+00 -1.30367773e-15]\n",
            "[[-0.23197069 -0.78583024  0.40824829]\n",
            " [-0.52532209 -0.08675134 -0.81649658]\n",
            " [-0.8186735   0.61232756  0.40824829]]\n"
          ],
          "name": "stdout"
        }
      ]
    },
    {
      "cell_type": "markdown",
      "metadata": {
        "id": "RoMSPwpxgVxz",
        "colab_type": "text"
      },
      "source": [
        "##15) Calculating Dot Products"
      ]
    },
    {
      "cell_type": "code",
      "metadata": {
        "id": "oEcWWw1OgQPC",
        "colab_type": "code",
        "colab": {
          "base_uri": "https://localhost:8080/",
          "height": 50
        },
        "outputId": "9bf47196-0fb9-4ef2-9f1a-5b3d56ae4c82"
      },
      "source": [
        "#laod library\n",
        "import numpy as np\n",
        "\n",
        "#create vector-1\n",
        "vector_1 = np.array([1,2,3])\n",
        "\n",
        "#create vector_2\n",
        "vector_2 = np.array([4,5,6])\n",
        "\n",
        "#calculate dot product\n",
        "print(np.dot(vector_1, vector_2))\n",
        "\n",
        "#alternatively you can use 0 to calculate dot products\n",
        "print(vector_1 @ vector_2)"
      ],
      "execution_count": 28,
      "outputs": [
        {
          "output_type": "stream",
          "text": [
            "32\n",
            "32\n"
          ],
          "name": "stdout"
        }
      ]
    },
    {
      "cell_type": "markdown",
      "metadata": {
        "id": "g0kdMnzLg-Od",
        "colab_type": "text"
      },
      "source": [
        "##16) Adding, Subtracting and Multiplying Matrices"
      ]
    },
    {
      "cell_type": "code",
      "metadata": {
        "id": "eDSWUaRvg5wm",
        "colab_type": "code",
        "colab": {
          "base_uri": "https://localhost:8080/",
          "height": 168
        },
        "outputId": "ca64c7da-5208-4c46-e167-925c1474ce7d"
      },
      "source": [
        "#Load Library\n",
        "import numpy as np\n",
        "\n",
        "#Create Matrix-1\n",
        "matrix_1 = np.array([[1,2,3],[4,5,6],[7,8,9]])\n",
        "#Create Matrix-2\n",
        "matrix_2 = np.array([[7,8,9],[4,5,6],[1,2,3]])\n",
        "#Add the 2 Matrices\n",
        "print(np.add(matrix_1,matrix_2))\n",
        "#Subtraction\n",
        "print(np.subtract(matrix_1,matrix_2))\n",
        "#Multiplication(Element wise, not Dot Product)\n",
        "print(matrix_1*matrix_2)"
      ],
      "execution_count": 29,
      "outputs": [
        {
          "output_type": "stream",
          "text": [
            "[[ 8 10 12]\n",
            " [ 8 10 12]\n",
            " [ 8 10 12]]\n",
            "[[-6 -6 -6]\n",
            " [ 0  0  0]\n",
            " [ 6  6  6]]\n",
            "[[ 7 16 27]\n",
            " [16 25 36]\n",
            " [ 7 16 27]]\n"
          ],
          "name": "stdout"
        }
      ]
    },
    {
      "cell_type": "markdown",
      "metadata": {
        "id": "YnjOqbJ3hEOB",
        "colab_type": "text"
      },
      "source": [
        "##17) Inverting a Matrix\n",
        "**This is used when you want to calculate the inverse of a Square Matrix**"
      ]
    },
    {
      "cell_type": "code",
      "metadata": {
        "id": "W6LrHn7ihBNa",
        "colab_type": "code",
        "colab": {
          "base_uri": "https://localhost:8080/",
          "height": 441
        },
        "outputId": "871b321d-d7b8-42f3-b8fb-1d17a7cc789e"
      },
      "source": [
        "#load library\n",
        "import numpy as np\n",
        "\n",
        "#create a matrix\n",
        "matrix = np.array([[1,2,3],[4,5,6],[7,8,9]])\n",
        "print(matrix)\n",
        "\n",
        "#calculate its inverse\n",
        "print(np.linalg.inv(matrix))"
      ],
      "execution_count": 30,
      "outputs": [
        {
          "output_type": "stream",
          "text": [
            "[[1 2 3]\n",
            " [4 5 6]\n",
            " [7 8 9]]\n"
          ],
          "name": "stdout"
        },
        {
          "output_type": "error",
          "ename": "LinAlgError",
          "evalue": "ignored",
          "traceback": [
            "\u001b[0;31m---------------------------------------------------------------------------\u001b[0m",
            "\u001b[0;31mLinAlgError\u001b[0m                               Traceback (most recent call last)",
            "\u001b[0;32m<ipython-input-30-000f067d04e9>\u001b[0m in \u001b[0;36m<module>\u001b[0;34m()\u001b[0m\n\u001b[1;32m      6\u001b[0m \u001b[0;34m\u001b[0m\u001b[0m\n\u001b[1;32m      7\u001b[0m \u001b[0;31m#calculate its inverse\u001b[0m\u001b[0;34m\u001b[0m\u001b[0;34m\u001b[0m\u001b[0;34m\u001b[0m\u001b[0m\n\u001b[0;32m----> 8\u001b[0;31m \u001b[0mprint\u001b[0m\u001b[0;34m(\u001b[0m\u001b[0mnp\u001b[0m\u001b[0;34m.\u001b[0m\u001b[0mlinalg\u001b[0m\u001b[0;34m.\u001b[0m\u001b[0minv\u001b[0m\u001b[0;34m(\u001b[0m\u001b[0mmatrix\u001b[0m\u001b[0;34m)\u001b[0m\u001b[0;34m)\u001b[0m\u001b[0;34m\u001b[0m\u001b[0;34m\u001b[0m\u001b[0m\n\u001b[0m",
            "\u001b[0;32m<__array_function__ internals>\u001b[0m in \u001b[0;36minv\u001b[0;34m(*args, **kwargs)\u001b[0m\n",
            "\u001b[0;32m/usr/local/lib/python3.6/dist-packages/numpy/linalg/linalg.py\u001b[0m in \u001b[0;36minv\u001b[0;34m(a)\u001b[0m\n\u001b[1;32m    549\u001b[0m     \u001b[0msignature\u001b[0m \u001b[0;34m=\u001b[0m \u001b[0;34m'D->D'\u001b[0m \u001b[0;32mif\u001b[0m \u001b[0misComplexType\u001b[0m\u001b[0;34m(\u001b[0m\u001b[0mt\u001b[0m\u001b[0;34m)\u001b[0m \u001b[0;32melse\u001b[0m \u001b[0;34m'd->d'\u001b[0m\u001b[0;34m\u001b[0m\u001b[0;34m\u001b[0m\u001b[0m\n\u001b[1;32m    550\u001b[0m     \u001b[0mextobj\u001b[0m \u001b[0;34m=\u001b[0m \u001b[0mget_linalg_error_extobj\u001b[0m\u001b[0;34m(\u001b[0m\u001b[0m_raise_linalgerror_singular\u001b[0m\u001b[0;34m)\u001b[0m\u001b[0;34m\u001b[0m\u001b[0;34m\u001b[0m\u001b[0m\n\u001b[0;32m--> 551\u001b[0;31m     \u001b[0mainv\u001b[0m \u001b[0;34m=\u001b[0m \u001b[0m_umath_linalg\u001b[0m\u001b[0;34m.\u001b[0m\u001b[0minv\u001b[0m\u001b[0;34m(\u001b[0m\u001b[0ma\u001b[0m\u001b[0;34m,\u001b[0m \u001b[0msignature\u001b[0m\u001b[0;34m=\u001b[0m\u001b[0msignature\u001b[0m\u001b[0;34m,\u001b[0m \u001b[0mextobj\u001b[0m\u001b[0;34m=\u001b[0m\u001b[0mextobj\u001b[0m\u001b[0;34m)\u001b[0m\u001b[0;34m\u001b[0m\u001b[0;34m\u001b[0m\u001b[0m\n\u001b[0m\u001b[1;32m    552\u001b[0m     \u001b[0;32mreturn\u001b[0m \u001b[0mwrap\u001b[0m\u001b[0;34m(\u001b[0m\u001b[0mainv\u001b[0m\u001b[0;34m.\u001b[0m\u001b[0mastype\u001b[0m\u001b[0;34m(\u001b[0m\u001b[0mresult_t\u001b[0m\u001b[0;34m,\u001b[0m \u001b[0mcopy\u001b[0m\u001b[0;34m=\u001b[0m\u001b[0;32mFalse\u001b[0m\u001b[0;34m)\u001b[0m\u001b[0;34m)\u001b[0m\u001b[0;34m\u001b[0m\u001b[0;34m\u001b[0m\u001b[0m\n\u001b[1;32m    553\u001b[0m \u001b[0;34m\u001b[0m\u001b[0m\n",
            "\u001b[0;32m/usr/local/lib/python3.6/dist-packages/numpy/linalg/linalg.py\u001b[0m in \u001b[0;36m_raise_linalgerror_singular\u001b[0;34m(err, flag)\u001b[0m\n\u001b[1;32m     95\u001b[0m \u001b[0;34m\u001b[0m\u001b[0m\n\u001b[1;32m     96\u001b[0m \u001b[0;32mdef\u001b[0m \u001b[0m_raise_linalgerror_singular\u001b[0m\u001b[0;34m(\u001b[0m\u001b[0merr\u001b[0m\u001b[0;34m,\u001b[0m \u001b[0mflag\u001b[0m\u001b[0;34m)\u001b[0m\u001b[0;34m:\u001b[0m\u001b[0;34m\u001b[0m\u001b[0;34m\u001b[0m\u001b[0m\n\u001b[0;32m---> 97\u001b[0;31m     \u001b[0;32mraise\u001b[0m \u001b[0mLinAlgError\u001b[0m\u001b[0;34m(\u001b[0m\u001b[0;34m\"Singular matrix\"\u001b[0m\u001b[0;34m)\u001b[0m\u001b[0;34m\u001b[0m\u001b[0;34m\u001b[0m\u001b[0m\n\u001b[0m\u001b[1;32m     98\u001b[0m \u001b[0;34m\u001b[0m\u001b[0m\n\u001b[1;32m     99\u001b[0m \u001b[0;32mdef\u001b[0m \u001b[0m_raise_linalgerror_nonposdef\u001b[0m\u001b[0;34m(\u001b[0m\u001b[0merr\u001b[0m\u001b[0;34m,\u001b[0m \u001b[0mflag\u001b[0m\u001b[0;34m)\u001b[0m\u001b[0;34m:\u001b[0m\u001b[0;34m\u001b[0m\u001b[0;34m\u001b[0m\u001b[0m\n",
            "\u001b[0;31mLinAlgError\u001b[0m: Singular matrix"
          ]
        }
      ]
    },
    {
      "cell_type": "markdown",
      "metadata": {
        "id": "gp0S19BAh8ZQ",
        "colab_type": "text"
      },
      "source": [
        "##18) Generating Random values\n",
        "\n",
        "**Numpy offers a wide variety of means to generate Random Numbers.\n",
        "Moreover, It can sometimes be useful to return the same random numbers to get predictable, repeatable results. We can do so by setting the ‘Seed’ (An Integer) of the pseudorandom generator. Random processes with the same seed would always produce the same result.**"
      ]
    },
    {
      "cell_type": "code",
      "metadata": {
        "id": "-sDNf_HBhcHB",
        "colab_type": "code",
        "colab": {
          "base_uri": "https://localhost:8080/",
          "height": 50
        },
        "outputId": "213682e9-847a-4737-ed94-c5a11702d09f"
      },
      "source": [
        "#load library\n",
        "import numpy as np\n",
        "\n",
        "#set seed\n",
        "np.random.seed(1)\n",
        "\n",
        "#generate 3 random integers between 1 and 10\n",
        "\n",
        "print(np.random.randint(0,11,3))\n",
        "\n",
        "#Draw 3 number from a normal distribution with mean 1.0 and std 2.0\n",
        "\n",
        "print(np.random.normal(1.0, 2.0, 3))"
      ],
      "execution_count": 31,
      "outputs": [
        {
          "output_type": "stream",
          "text": [
            "[5 8 9]\n",
            "[-0.60434568  0.10224438 -1.21187015]\n"
          ],
          "name": "stdout"
        }
      ]
    },
    {
      "cell_type": "code",
      "metadata": {
        "id": "QdHHAoEJijVq",
        "colab_type": "code",
        "colab": {}
      },
      "source": [
        ""
      ],
      "execution_count": 0,
      "outputs": []
    }
  ]
}