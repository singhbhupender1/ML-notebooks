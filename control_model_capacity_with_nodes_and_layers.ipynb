{
  "nbformat": 4,
  "nbformat_minor": 0,
  "metadata": {
    "colab": {
      "name": "control model capacity with nodes and layers.ipynb",
      "provenance": [],
      "authorship_tag": "ABX9TyN2I1k/WbdofuHKkVEsoCWX",
      "include_colab_link": true
    },
    "kernelspec": {
      "name": "python3",
      "display_name": "Python 3"
    }
  },
  "cells": [
    {
      "cell_type": "markdown",
      "metadata": {
        "id": "view-in-github",
        "colab_type": "text"
      },
      "source": [
        "<a href=\"https://colab.research.google.com/github/singhbhupender1/ML-notebooks/blob/master/control_model_capacity_with_nodes_and_layers.ipynb\" target=\"_parent\"><img src=\"https://colab.research.google.com/assets/colab-badge.svg\" alt=\"Open In Colab\"/></a>"
      ]
    },
    {
      "cell_type": "markdown",
      "metadata": {
        "id": "eLwjTF-yQVLh",
        "colab_type": "text"
      },
      "source": [
        "##Configure Nodes and Layers in Keras\n",
        "**Keras allows you to easily add nodes and layers to your model.**\n",
        "\n",
        "**Configuring Model Nodes\n",
        "The first argument of the layer specifies the number of nodes used in the layer.**\n",
        "\n",
        "**Fully connected layers for the Multilayer Perceptron, or MLP, model are added via the Dense layer.**\n",
        "\n",
        "**For example, we can create one fully-connected layer with 32 nodes as follows:**\n",
        "\n",
        "```\n",
        "ayer = Dense(32)\n",
        "```\n",
        "**Similarly, the number of nodes can be specified for recurrent neural network layers in the same way.**\n",
        "\n",
        "**For example, we can create one LSTM layer with 32 nodes (or units) as follows:**\n",
        "\n",
        "\n",
        "```\n",
        "layer = LSTM(32)\n",
        "```\n",
        "**Convolutional neural networks, or CNN, don’t have nodes, instead specify the number of filter maps and their shape. The number and size of filter maps define the capacity of the layer.**\n",
        "\n",
        "**We can define a two-dimensional CNN with 32 filter maps, each with a size of 3 by 3, as follows:**\n",
        "\n",
        "\n",
        "\n",
        "```\n",
        "layer = Conv2D(32, (3,3))\n",
        "```\n",
        "\n"
      ]
    },
    {
      "cell_type": "markdown",
      "metadata": {
        "id": "NhO41AdvR3y5",
        "colab_type": "text"
      },
      "source": [
        "##Configuring Model Layers\n",
        "**Layers are added to a sequential model via calls to the add() function and passing in the layer.**\n",
        "\n",
        "**Fully connected layers for the MLP can be added via repeated calls to add passing in the configured Dense layers; for example:**\n",
        "\n",
        "\n",
        "\n",
        "```\n",
        "model = Sequential()\n",
        "model.add(Dense(32))\n",
        "model.add(Dense(64))\n",
        "```\n",
        "**Convolutional layers can be stacked directly, and it is common to stack one or two convolutional layers together followed by a pooling layer, then repeat this pattern of layers; for example:**\n",
        "\n",
        "\n",
        "\n",
        "```\n",
        "model = Sequential()\n",
        "model.add(Conv2D(16, (3,3)))\n",
        "model.add(Conv2D(16, (3,3)))\n",
        "model.add(MaxPooling2D((2,2)))\n",
        "model.add(Conv2D(32, (3,3)))\n",
        "model.add(Conv2D(32, (3,3)))\n",
        "model.add(MaxPooling2D((2,2)))\n",
        "```\n",
        "\n",
        "\n"
      ]
    },
    {
      "cell_type": "markdown",
      "metadata": {
        "id": "FBhEYpvTSVrs",
        "colab_type": "text"
      },
      "source": [
        "##Multi-Class Classification Problem\n",
        "**We will use a standard multi-class classification problem as the basis to demonstrate the effect of model capacity on model performance.**\n",
        "\n",
        "**The scikit-learn class provides the make_blobs() function that can be used to create a multi-class classification problem with the prescribed number of samples, input variables, classes, and variance of samples within a class.**\n",
        "\n",
        "**We can configure the problem to have a specific number of input variables via the “n_features” argument, and a specific number of classes or centers via the “centers” argument. The “random_state” can be used to seed the pseudorandom number generator to ensure that we always get the same samples each time the function is called.**\n",
        "\n",
        "**For example, the call below generates 1,000 examples for a three class problem with two input variables.**\n",
        "\n",
        "\n",
        "\n",
        "```\n",
        "# generate 2d classification dataset\n",
        "X, y = make_blobs(n_samples=1000, centers=3, n_features=2, cluster_std=2, random_state=2)\n",
        "```\n",
        "**In order to get a feeling for the complexity of the problem, we can plot each point on a two-dimensional scatter plot and color each point by class value.**"
      ]
    },
    {
      "cell_type": "code",
      "metadata": {
        "id": "q1fW03DHQT_t",
        "colab_type": "code",
        "colab": {
          "base_uri": "https://localhost:8080/",
          "height": 267
        },
        "outputId": "790105a4-4d5d-4e2c-89d1-af1fd8320f7e"
      },
      "source": [
        "#scatter plot of blobs dataset\n",
        "from sklearn.datasets import make_blobs\n",
        "import matplotlib.pyplot as plt\n",
        "from numpy import where\n",
        "#generate 2d classification dataset\n",
        "X, y = make_blobs(n_samples=1000, centers=3, n_features=2, cluster_std=2, random_state=2)\n",
        "#scatter plto for each class values\n",
        "for class_value in range(3):\n",
        "  #select indices of points with the class label\n",
        "  row_ix = where(y == class_value)\n",
        "  #scatter plot of points with a different color\n",
        "  plt.scatter(X[row_ix, 0], X[row_ix, 1])\n",
        "#show plot\n",
        "plt.show()"
      ],
      "execution_count": 3,
      "outputs": [
        {
          "output_type": "display_data",
          "data": {
            "image/png": "[encoded data removed]",
            "text/plain": [
              "<Figure size 432x288 with 1 Axes>"
            ]
          },
          "metadata": {
            "tags": []
          }
        }
      ]
    },
    {
      "cell_type": "markdown",
      "metadata": {
        "id": "DJvRqk25WS0L",
        "colab_type": "text"
      },
      "source": [
        "**n order to explore model capacity, we need more complexity in the problem than three classes and two variables.**\n",
        "\n",
        "**For the purposes of the following experiments, we will use 100 input features and 20 classes; for example:**\n",
        "\n",
        "\n",
        "\n",
        "```\n",
        "# generate 2d classification dataset\n",
        "X, y = make_blobs(n_samples=1000, centers=20, n_features=100, cluster_std=2, random_state=2)\n",
        "```\n",
        "\n"
      ]
    },
    {
      "cell_type": "markdown",
      "metadata": {
        "id": "YiQe0S53Wp0n",
        "colab_type": "text"
      },
      "source": [
        "##Change Model Capacity With Nodes\n",
        "**In this section, we will develop a Multilayer Perceptron model, or MLP, for the blobs multi-class classification problem and demonstrate the effect that the number of nodes has on the ability of the model to learn.**\n",
        "\n",
        "**We can start off by developing a function to prepare the dataset.**\n",
        "\n",
        "**The input and output elements of the dataset can be created using the make_blobs() function as described in the previous section.**\n",
        "\n",
        "**Next, the target variable must be one hot encoded. This is so that the model can learn to predict the probability of an input example belonging to each of the 20 classes.**\n",
        "\n",
        "**We can use the to_categorical() Keras utility function to do this, for example:**\n",
        "\n",
        "**Next, we can split the 1,000 examples in half and use 500 examples as the training dataset and 500 to evaluate the model.**\n",
        "\n",
        "**The create_dataset() function below ties these elements together and returns the train and test sets in terms of the input and output elements.**"
      ]
    },
    {
      "cell_type": "code",
      "metadata": {
        "id": "IpmZEElZU0jI",
        "colab_type": "code",
        "colab": {}
      },
      "source": [
        "#prepare multiclass classification dataset\n",
        "def create_dataset():\n",
        "  #generate 2d classification datast\n",
        "  X, y = make_blobs(n_samples=1000, centers=20, n_features=100, cluster_std=2, random_state=2)\n",
        "  #one hot encode output varivale\n",
        "  y = to_categorical(y)\n",
        "  #split in to train test\n",
        "  n_train = 500\n",
        "  trainX, testX = X[:n_train, :], X[n_train:, :]\n",
        "  trainy, testy = y[:n_train], y[n_train:]\n",
        "  return trainX, testX, trainy, testy\n"
      ],
      "execution_count": 0,
      "outputs": []
    },
    {
      "cell_type": "markdown",
      "metadata": {
        "id": "W-9etvEJZDWz",
        "colab_type": "text"
      },
      "source": [
        "**We can call this function to prepare the dataset.**"
      ]
    },
    {
      "cell_type": "code",
      "metadata": {
        "id": "fHjJXvayZAZR",
        "colab_type": "code",
        "colab": {
          "base_uri": "https://localhost:8080/",
          "height": 299
        },
        "outputId": "5b9d39df-f114-4100-bf67-c787754b9e28"
      },
      "source": [
        "#crate dataset\n",
        "trainX, trainy, testX, testy = create_dataset()"
      ],
      "execution_count": 5,
      "outputs": [
        {
          "output_type": "error",
          "ename": "NameError",
          "evalue": "ignored",
          "traceback": [
            "\u001b[0;31m---------------------------------------------------------------------------\u001b[0m",
            "\u001b[0;31mNameError\u001b[0m                                 Traceback (most recent call last)",
            "\u001b[0;32m<ipython-input-5-16398e59da56>\u001b[0m in \u001b[0;36m<module>\u001b[0;34m()\u001b[0m\n\u001b[0;32m----> 1\u001b[0;31m \u001b[0mtrainX\u001b[0m\u001b[0;34m,\u001b[0m \u001b[0mtrainy\u001b[0m\u001b[0;34m,\u001b[0m \u001b[0mtestX\u001b[0m\u001b[0;34m,\u001b[0m \u001b[0mtesty\u001b[0m \u001b[0;34m=\u001b[0m \u001b[0mcreate_dataset\u001b[0m\u001b[0;34m(\u001b[0m\u001b[0;34m)\u001b[0m\u001b[0;34m\u001b[0m\u001b[0;34m\u001b[0m\u001b[0m\n\u001b[0m",
            "\u001b[0;32m<ipython-input-4-43382d6765e6>\u001b[0m in \u001b[0;36mcreate_dataset\u001b[0;34m()\u001b[0m\n\u001b[1;32m      3\u001b[0m   \u001b[0mX\u001b[0m\u001b[0;34m,\u001b[0m \u001b[0my\u001b[0m \u001b[0;34m=\u001b[0m \u001b[0mmake_blobs\u001b[0m\u001b[0;34m(\u001b[0m\u001b[0mn_samples\u001b[0m\u001b[0;34m=\u001b[0m\u001b[0;36m1000\u001b[0m\u001b[0;34m,\u001b[0m \u001b[0mcenters\u001b[0m\u001b[0;34m=\u001b[0m\u001b[0;36m20\u001b[0m\u001b[0;34m,\u001b[0m \u001b[0mn_features\u001b[0m\u001b[0;34m=\u001b[0m\u001b[0;36m100\u001b[0m\u001b[0;34m,\u001b[0m \u001b[0mcluster_std\u001b[0m\u001b[0;34m=\u001b[0m\u001b[0;36m2\u001b[0m\u001b[0;34m,\u001b[0m \u001b[0mrandom_state\u001b[0m\u001b[0;34m=\u001b[0m\u001b[0;36m2\u001b[0m\u001b[0;34m)\u001b[0m\u001b[0;34m\u001b[0m\u001b[0;34m\u001b[0m\u001b[0m\n\u001b[1;32m      4\u001b[0m   \u001b[0;31m#one hot encode output varivale\u001b[0m\u001b[0;34m\u001b[0m\u001b[0;34m\u001b[0m\u001b[0;34m\u001b[0m\u001b[0m\n\u001b[0;32m----> 5\u001b[0;31m   \u001b[0my\u001b[0m \u001b[0;34m=\u001b[0m \u001b[0mto_categorical\u001b[0m\u001b[0;34m(\u001b[0m\u001b[0my\u001b[0m\u001b[0;34m)\u001b[0m\u001b[0;34m\u001b[0m\u001b[0;34m\u001b[0m\u001b[0m\n\u001b[0m\u001b[1;32m      6\u001b[0m   \u001b[0;31m#split in to train test\u001b[0m\u001b[0;34m\u001b[0m\u001b[0;34m\u001b[0m\u001b[0;34m\u001b[0m\u001b[0m\n\u001b[1;32m      7\u001b[0m   \u001b[0mn_train\u001b[0m \u001b[0;34m=\u001b[0m \u001b[0;36m500\u001b[0m\u001b[0;34m\u001b[0m\u001b[0;34m\u001b[0m\u001b[0m\n",
            "\u001b[0;31mNameError\u001b[0m: name 'to_categorical' is not defined"
          ]
        }
      ]
    },
    {
      "cell_type": "markdown",
      "metadata": {
        "id": "q2jj4cbqZfQp",
        "colab_type": "text"
      },
      "source": [
        "**Next, we can define a function that will create the model, fit it on the training dataset, and then evaluate it on the test dataset.**\n",
        "\n",
        "**The model needs to know the number of input variables in order to configure the input layer and the number of target classes in order to configure the output layer. These properties can be extracted from the training dataset directly.**\n",
        "\n",
        "\n",
        "\n",
        "```\n",
        "# configure the model based on the data\n",
        "n_input, n_classes = trainX.shape[1], testy.shape[1]\n",
        "```\n",
        "**We will define an MLP model with a single hidden layer that uses the rectified linear activation function and the He random weight initialization method.**\n",
        "\n",
        "**The output layer will use the softmax activation function in order to predict a probability for each target class. The number of nodes in the hidden layer will be provided via an argument called “n_nodes“.**\n",
        "\n",
        "\n",
        "\n",
        "```\n",
        "# define model\n",
        "model = Sequential()\n",
        "model.add(Dense(n_nodes, input_dim=n_input, activation='relu', kernel_initializer='he_uniform'))\n",
        "model.add(Dense(n_classes, activation='softmax'))\n",
        "```\n",
        "\n"
      ]
    },
    {
      "cell_type": "markdown",
      "metadata": {
        "id": "8U5aWwmhZ0bD",
        "colab_type": "text"
      },
      "source": [
        "**The model will be optimized using stochastic gradient descent with a modest learning rate of 0.01 with a high momentum of 0.9, and a categorical cross entropy loss function will be used, suitable for multi-class classification.**\n",
        "\n",
        "\n",
        "\n",
        "```\n",
        "# compile model\n",
        "opt = SGD(lr=0.01, momentum=0.9)\n",
        "model.compile(loss='categorical_crossentropy', optimizer=opt, metrics=['accuracy'])\n",
        "```\n",
        "**he model will be fit for 100 training epochs, then the model will be evaluated on the test dataset.**\n",
        "\n",
        "\n",
        "\n",
        "```\n",
        "# fit model on train set\n",
        "history = model.fit(trainX, trainy, epochs=100, verbose=0)\n",
        "# evaluate model on test set\n",
        "_, test_acc = model.evaluate(testX, testy, verbose=0)\n",
        "```\n",
        "\n"
      ]
    },
    {
      "cell_type": "markdown",
      "metadata": {
        "id": "xAfn8YV4aLCK",
        "colab_type": "text"
      },
      "source": [
        "**Tying these elements together, the evaluate_model() function below takes the number of nodes and dataset as arguments and returns the history of the training loss at the end of each epoch and the accuracy of the final model on the test dataset.**\n",
        "\n",
        "\n",
        "\n",
        "```\n",
        "# fit model with given number of nodes, returns test set accuracy\n",
        "def evaluate_model(n_nodes, trainX, trainy, testX, testy):\n",
        "\t# configure the model based on the data\n",
        "\tn_input, n_classes = trainX.shape[1], testy.shape[1]\n",
        "\t# define model\n",
        "\tmodel = Sequential()\n",
        "\tmodel.add(Dense(n_nodes, input_dim=n_input, activation='relu', kernel_initializer='he_uniform'))\n",
        "\tmodel.add(Dense(n_classes, activation='softmax'))\n",
        "\t# compile model\n",
        "\topt = SGD(lr=0.01, momentum=0.9)\n",
        "\tmodel.compile(loss='categorical_crossentropy', optimizer=opt, metrics=['accuracy'])\n",
        "\t# fit model on train set\n",
        "\thistory = model.fit(trainX, trainy, epochs=100, verbose=0)\n",
        "\t# evaluate model on test set\n",
        "\t_, test_acc = model.evaluate(testX, testy, verbose=0)\n",
        "\treturn history, test_acc\n",
        "```\n",
        "\n"
      ]
    },
    {
      "cell_type": "markdown",
      "metadata": {
        "id": "lSFDx1tqaXRO",
        "colab_type": "text"
      },
      "source": [
        "**We can call this function with different numbers of nodes to use in the hidden layer.**\n",
        "\n",
        "**The problem is relatively simple; therefore, we will review the performance of the model with 1 to 7 nodes.**\n",
        "\n",
        "**We would expect that as the number of nodes is increased, that this would increase the capacity of the model and allow the model to better learn the training dataset, at least to a point limited by the chosen configuration for the learning algorithm (e.g. learning rate, batch size, and epochs).**\n",
        "\n",
        "**The test accuracy for each configuration will be printed and the learning curves of training accuracy with each configuration will be plotted.**\n",
        "\n",
        "\n",
        "\n",
        "```\n",
        "# evaluate model and plot learning curve with given number of nodes\n",
        "num_nodes = [1, 2, 3, 4, 5, 6, 7]\n",
        "for n_nodes in num_nodes:\n",
        "\t# evaluate model with a given number of nodes\n",
        "\thistory, result = evaluate_model(n_nodes, trainX, trainy, testX, testy)\n",
        "\t# summarize final test set accuracy\n",
        "\tprint('nodes=%d: %.3f' % (n_nodes, result))\n",
        "\t# plot learning curve\n",
        "\tpyplot.plot(history.history['loss'], label=str(n_nodes))\n",
        "# show the plot\n",
        "pyplot.legend()\n",
        "pyplot.show()\n",
        "```\n",
        "**The full code listing is provided below for completeness.**\n"
      ]
    },
    {
      "cell_type": "code",
      "metadata": {
        "id": "TSnwFqRcaB2-",
        "colab_type": "code",
        "colab": {
          "base_uri": "https://localhost:8080/",
          "height": 952
        },
        "outputId": "69567714-24b3-4308-dd4b-3c37b85ff4e5"
      },
      "source": [
        "# study of mlp learning curves given different number of nodes for multi-class classification\n",
        "from sklearn.datasets import make_blobs\n",
        "from keras.layers import Dense\n",
        "from keras.models import Sequential\n",
        "from keras.optimizers import SGD\n",
        "from keras.utils import to_categorical\n",
        "from matplotlib import pyplot\n",
        " \n",
        "# prepare multi-class classification dataset\n",
        "def create_dataset():\n",
        "\t# generate 2d classification dataset\n",
        "\tX, y = make_blobs(n_samples=1000, centers=20, n_features=100, cluster_std=2, random_state=2)\n",
        "\t# one hot encode output variable\n",
        "\ty = to_categorical(y)\n",
        "\t# split into train and test\n",
        "\tn_train = 500\n",
        "\ttrainX, testX = X[:n_train, :], X[n_train:, :]\n",
        "\ttrainy, testy = y[:n_train], y[n_train:]\n",
        "\treturn trainX, trainy, testX, testy\n",
        " \n",
        "# fit model with given number of nodes, returns test set accuracy\n",
        "def evaluate_model(n_nodes, trainX, trainy, testX, testy):\n",
        "\t# configure the model based on the data\n",
        "\tn_input, n_classes = trainX.shape[1], testy.shape[1]\n",
        "\t# define model\n",
        "\tmodel = Sequential()\n",
        "\tmodel.add(Dense(n_nodes, input_dim=n_input, activation='relu', kernel_initializer='he_uniform'))\n",
        "\tmodel.add(Dense(n_classes, activation='softmax'))\n",
        "\t# compile model\n",
        "\topt = SGD(lr=0.01, momentum=0.9)\n",
        "\tmodel.compile(loss='categorical_crossentropy', optimizer=opt, metrics=['accuracy'])\n",
        "\t# fit model on train set\n",
        "\thistory = model.fit(trainX, trainy, epochs=100, verbose=0)\n",
        "\t# evaluate model on test set\n",
        "\t_, test_acc = model.evaluate(testX, testy, verbose=0)\n",
        "\treturn history, test_acc\n",
        " \n",
        "# prepare dataset\n",
        "trainX, trainy, testX, testy = create_dataset()\n",
        "# evaluate model and plot learning curve with given number of nodes\n",
        "num_nodes = [1, 2, 3, 4, 5, 6, 7]\n",
        "for n_nodes in num_nodes:\n",
        "\t# evaluate model with a given number of nodes\n",
        "\thistory, result = evaluate_model(n_nodes, trainX, trainy, testX, testy)\n",
        "\t# summarize final test set accuracy\n",
        "\tprint('nodes=%d: %.3f' % (n_nodes, result))\n",
        "\t# plot learning curve\n",
        "\tpyplot.plot(history.history['loss'], label=str(n_nodes))\n",
        "# show the plot\n",
        "pyplot.legend()\n",
        "pyplot.show()"
      ],
      "execution_count": 6,
      "outputs": [
        {
          "output_type": "stream",
          "text": [
            "Using TensorFlow backend.\n"
          ],
          "name": "stderr"
        },
        {
          "output_type": "display_data",
          "data": {
            "text/html": [
              "<p style=\"color: red;\">\n",
              "The default version of TensorFlow in Colab will soon switch to TensorFlow 2.x.<br>\n",
              "We recommend you <a href=\"https://www.tensorflow.org/guide/migrate\" target=\"_blank\">upgrade</a> now \n",
              "or ensure your notebook will continue to use TensorFlow 1.x via the <code>%tensorflow_version 1.x</code> magic:\n",
              "<a href=\"https://colab.research.google.com/notebooks/tensorflow_version.ipynb\" target=\"_blank\">more info</a>.</p>\n"
            ],
            "text/plain": [
              "<IPython.core.display.HTML object>"
            ]
          },
          "metadata": {
            "tags": []
          }
        },
        {
          "output_type": "stream",
          "text": [
            "WARNING:tensorflow:From /usr/local/lib/python3.6/dist-packages/keras/backend/tensorflow_backend.py:66: The name tf.get_default_graph is deprecated. Please use tf.compat.v1.get_default_graph instead.\n",
            "\n",
            "WARNING:tensorflow:From /usr/local/lib/python3.6/dist-packages/keras/backend/tensorflow_backend.py:541: The name tf.placeholder is deprecated. Please use tf.compat.v1.placeholder instead.\n",
            "\n",
            "WARNING:tensorflow:From /usr/local/lib/python3.6/dist-packages/keras/backend/tensorflow_backend.py:4432: The name tf.random_uniform is deprecated. Please use tf.random.uniform instead.\n",
            "\n",
            "WARNING:tensorflow:From /usr/local/lib/python3.6/dist-packages/keras/optimizers.py:793: The name tf.train.Optimizer is deprecated. Please use tf.compat.v1.train.Optimizer instead.\n",
            "\n",
            "WARNING:tensorflow:From /usr/local/lib/python3.6/dist-packages/keras/backend/tensorflow_backend.py:3576: The name tf.log is deprecated. Please use tf.math.log instead.\n",
            "\n",
            "WARNING:tensorflow:From /usr/local/lib/python3.6/dist-packages/tensorflow_core/python/ops/math_grad.py:1424: where (from tensorflow.python.ops.array_ops) is deprecated and will be removed in a future version.\n",
            "Instructions for updating:\n",
            "Use tf.where in 2.0, which has the same broadcast rule as np.where\n",
            "WARNING:tensorflow:From /usr/local/lib/python3.6/dist-packages/keras/backend/tensorflow_backend.py:1033: The name tf.assign_add is deprecated. Please use tf.compat.v1.assign_add instead.\n",
            "\n",
            "WARNING:tensorflow:From /usr/local/lib/python3.6/dist-packages/keras/backend/tensorflow_backend.py:1020: The name tf.assign is deprecated. Please use tf.compat.v1.assign instead.\n",
            "\n",
            "WARNING:tensorflow:From /usr/local/lib/python3.6/dist-packages/keras/backend/tensorflow_backend.py:3005: The name tf.Session is deprecated. Please use tf.compat.v1.Session instead.\n",
            "\n",
            "WARNING:tensorflow:From /usr/local/lib/python3.6/dist-packages/keras/backend/tensorflow_backend.py:190: The name tf.get_default_session is deprecated. Please use tf.compat.v1.get_default_session instead.\n",
            "\n",
            "WARNING:tensorflow:From /usr/local/lib/python3.6/dist-packages/keras/backend/tensorflow_backend.py:197: The name tf.ConfigProto is deprecated. Please use tf.compat.v1.ConfigProto instead.\n",
            "\n",
            "WARNING:tensorflow:From /usr/local/lib/python3.6/dist-packages/keras/backend/tensorflow_backend.py:207: The name tf.global_variables is deprecated. Please use tf.compat.v1.global_variables instead.\n",
            "\n",
            "WARNING:tensorflow:From /usr/local/lib/python3.6/dist-packages/keras/backend/tensorflow_backend.py:216: The name tf.is_variable_initialized is deprecated. Please use tf.compat.v1.is_variable_initialized instead.\n",
            "\n",
            "WARNING:tensorflow:From /usr/local/lib/python3.6/dist-packages/keras/backend/tensorflow_backend.py:223: The name tf.variables_initializer is deprecated. Please use tf.compat.v1.variables_initializer instead.\n",
            "\n",
            "nodes=1: 0.154\n",
            "nodes=2: 0.396\n",
            "nodes=4: 0.836\n",
            "nodes=5: 0.792\n",
            "nodes=6: 0.900\n",
            "nodes=7: 0.998\n"
          ],
          "name": "stdout"
        },
        {
          "output_type": "display_data",
          "data": {
            "image/png": "[encoded data removed]",
            "text/plain": [
              "<Figure size 432x288 with 1 Axes>"
            ]
          },
          "metadata": {
            "tags": []
          }
        }
      ]
    },
    {
      "cell_type": "markdown",
      "metadata": {
        "id": "DmBZSb7Ma2Tj",
        "colab_type": "text"
      },
      "source": [
        "**In this case, we can see that as the number of nodes is increased, the capacity of the model to learn the problem is increased. This results in a progressive lowering of the generalization error of the model on the test dataset until 6 and 7 nodes when the model learns the problem perfectly**\n",
        "\n",
        "**A line plot is also created showing cross entropy loss on the training dataset for each model configuration (1 to 7 nodes in the hidden layer) over the 100 training epochs.**\n",
        "\n",
        "**We can see that as the number of nodes is increased, the model is able to better decrease the loss, e.g. to better learn the training dataset. This plot shows the direct relationship between model capacity, as defined by the number of nodes in the hidden layer and the model’s ability to learn.**"
      ]
    },
    {
      "cell_type": "markdown",
      "metadata": {
        "id": "M97KgLoca2L-",
        "colab_type": "text"
      },
      "source": [
        "##Change Model Capacity With Layers\n",
        "**We can perform a similar analysis and evaluate how the number of layers impacts the ability of the model to learn the mapping function.**\n",
        "\n",
        "**Increasing the number of layers can often greatly increase the capacity of the model, acting like a computational and learning shortcut to modeling a problem. For example, a model with one hidden layer of 10 nodes is not equivalent to a model with two hidden layers with five nodes each. The latter has a much greater capacity.**\n",
        "\n",
        "**The danger is that a model with more capacity than is required is likely to overfit the training data, and as with a model that has too many nodes, a model with too many layers will likely be unable to learn the training dataset, getting lost or stuck during the optimization process.**\n",
        "\n",
        "**First, we can update the evaluate_model() function to fit an MLP model with a given number of layers.**\n",
        "\n",
        "**We know from the previous section that an MLP with about seven or more nodes fit for 100 epochs will learn the problem perfectly. We will, therefore, use 10 nodes in each layer to ensure the model has enough capacity in just one layer to learn the problem.**\n",
        "\n",
        "**The updated function is listed below, taking the number of layers and dataset as arguments and returning the training history and test accuracy of the model.**\n",
        "\n",
        "\n",
        "\n",
        "```\n",
        "# fit model with given number of layers, returns test set accuracy\n",
        "def evaluate_model(n_layers, trainX, trainy, testX, testy):\n",
        "\t# configure the model based on the data\n",
        "\tn_input, n_classes = trainX.shape[1], testy.shape[1]\n",
        "\t# define model\n",
        "\tmodel = Sequential()\n",
        "\tmodel.add(Dense(10, input_dim=n_input, activation='relu', kernel_initializer='he_uniform'))\n",
        "\tfor _ in range(1, n_layers):\n",
        "\t\tmodel.add(Dense(10, activation='relu', kernel_initializer='he_uniform'))\n",
        "\tmodel.add(Dense(n_classes, activation='softmax'))\n",
        "\t# compile model\n",
        "\topt = SGD(lr=0.01, momentum=0.9)\n",
        "\tmodel.compile(loss='categorical_crossentropy', optimizer=opt, metrics=['accuracy'])\n",
        "\t# fit model\n",
        "\thistory = model.fit(trainX, trainy, epochs=100, verbose=0)\n",
        "\t# evaluate model on test set\n",
        "\t_, test_acc = model.evaluate(testX, testy, verbose=0)\n",
        "\treturn history, test_acc\n",
        "```\n",
        "\n"
      ]
    },
    {
      "cell_type": "markdown",
      "metadata": {
        "id": "LwAWBO0GhFxE",
        "colab_type": "text"
      },
      "source": [
        "**Given that a single hidden layer model has enough capacity to learn this problem, we will explore increasing the number of layers to the point where the learning algorithm becomes unstable and can no longer learn the problem.**\n",
        "\n",
        "**If the chosen modeling problem was more complex, we could explore increasing the layers and review the improvements in model performance to a point of diminishing returns.**\n",
        "\n",
        "**In this case, we will evaluate the model with 1 to 5 layers, with the expectation that at some point, the number of layers will result in a model that the chosen learning algorithm is unable to adapt to the training data.**\n",
        "\n",
        "\n",
        "\n",
        "```\n",
        "# evaluate model and plot learning curve of model with given number of layers\n",
        "all_history = list()\n",
        "num_layers = [1, 2, 3, 4, 5]\n",
        "for n_layers in num_layers:\n",
        "\t# evaluate model with a given number of layers\n",
        "\thistory, result = evaluate_model(n_layers, trainX, trainy, testX, testy)\n",
        "\tprint('layers=%d: %.3f' % (n_layers, result))\n",
        "\t# plot learning curve\n",
        "\tpyplot.plot(history.history['loss'], label=str(n_layers))\n",
        "pyplot.legend()\n",
        "pyplot.show()\n",
        "```\n",
        "\n"
      ]
    },
    {
      "cell_type": "code",
      "metadata": {
        "id": "YfsED14paBzJ",
        "colab_type": "code",
        "colab": {
          "base_uri": "https://localhost:8080/",
          "height": 349
        },
        "outputId": "d0f6f1b5-c8c3-45b8-d600-e6c86c331e33"
      },
      "source": [
        "# study of mlp learning curves given different number of layers for multi-class classification\n",
        "from sklearn.datasets import make_blobs\n",
        "from keras.models import Sequential\n",
        "from keras.layers import Dense\n",
        "from keras.optimizers import SGD\n",
        "from keras.utils import to_categorical\n",
        "from matplotlib import pyplot\n",
        " \n",
        "# prepare multi-class classification dataset\n",
        "def create_dataset():\n",
        "\t# generate 2d classification dataset\n",
        "\tX, y = make_blobs(n_samples=1000, centers=20, n_features=100, cluster_std=2, random_state=2)\n",
        "\t# one hot encode output variable\n",
        "\ty = to_categorical(y)\n",
        "\t# split into train and test\n",
        "\tn_train = 500\n",
        "\ttrainX, testX = X[:n_train, :], X[n_train:, :]\n",
        "\ttrainy, testy = y[:n_train], y[n_train:]\n",
        "\treturn trainX, trainy, testX, testy\n",
        " \n",
        "# fit model with given number of layers, returns test set accuracy\n",
        "def evaluate_model(n_layers, trainX, trainy, testX, testy):\n",
        "\t# configure the model based on the data\n",
        "\tn_input, n_classes = trainX.shape[1], testy.shape[1]\n",
        "\t# define model\n",
        "\tmodel = Sequential()\n",
        "\tmodel.add(Dense(10, input_dim=n_input, activation='relu', kernel_initializer='he_uniform'))\n",
        "\tfor _ in range(1, n_layers):\n",
        "\t\tmodel.add(Dense(10, activation='relu', kernel_initializer='he_uniform'))\n",
        "\tmodel.add(Dense(n_classes, activation='softmax'))\n",
        "\t# compile model\n",
        "\topt = SGD(lr=0.01, momentum=0.9)\n",
        "\tmodel.compile(loss='categorical_crossentropy', optimizer=opt, metrics=['accuracy'])\n",
        "\t# fit model\n",
        "\thistory = model.fit(trainX, trainy, epochs=100, verbose=0)\n",
        "\t# evaluate model on test set\n",
        "\t_, test_acc = model.evaluate(testX, testy, verbose=0)\n",
        "\treturn history, test_acc\n",
        " \n",
        "# get dataset\n",
        "trainX, trainy, testX, testy = create_dataset()\n",
        "# evaluate model and plot learning curve of model with given number of layers\n",
        "all_history = list()\n",
        "num_layers = [1, 2, 3, 4, 5]\n",
        "for n_layers in num_layers:\n",
        "\t# evaluate model with a given number of layers\n",
        "\thistory, result = evaluate_model(n_layers, trainX, trainy, testX, testy)\n",
        "\tprint('layers=%d: %.3f' % (n_layers, result))\n",
        "\t# plot learning curve\n",
        "\tpyplot.plot(history.history['loss'], label=str(n_layers))\n",
        "pyplot.legend()\n",
        "pyplot.show()\n"
      ],
      "execution_count": 7,
      "outputs": [
        {
          "output_type": "stream",
          "text": [
            "layers=1: 1.000\n",
            "layers=2: 0.954\n",
            "layers=3: 0.294\n",
            "layers=4: 0.934\n",
            "layers=5: 0.996\n"
          ],
          "name": "stdout"
        },
        {
          "output_type": "display_data",
          "data": {
            "image/png": "[encoded data removed]",
            "text/plain": [
              "<Figure size 432x288 with 1 Axes>"
            ]
          },
          "metadata": {
            "tags": []
          }
        }
      ]
    },
    {
      "cell_type": "markdown",
      "metadata": {
        "id": "7apNDz54hZ6E",
        "colab_type": "text"
      },
      "source": [
        "**In this case, we can see that the model is capable of learning the problem well with up to three layers, then begins to falter. We can see that performance really drops with five layers and is expected to continue to fall if the number of layers is increased further.**\n",
        "\n",
        "**A line plot is also created showing cross entropy loss on the training dataset for each model configuration (1 to 5 layers) over the 100 training epochs.**\n",
        "\n",
        "**We can see that the dynamics of the model with 1, 2, and 3 models (blue, orange and green) are pretty similar, learning the problem quickly.**\n",
        "\n",
        "**Surprisingly, training loss with four and five layers shows signs of initially doing well, then leaping up, suggesting that the model is likely stuck with a sub-optimal set of weights rather than overfitting the training dataset.**\n",
        "\n",
        "**The analysis shows that increasing the capacity of the model via increasing depth is a very effective tool that must be used with caution as it can quickly result in a model with a large capacity that may not be capable of learning the training dataset easily.**"
      ]
    },
    {
      "cell_type": "code",
      "metadata": {
        "id": "j1TydUyjZQWy",
        "colab_type": "code",
        "colab": {}
      },
      "source": [
        ""
      ],
      "execution_count": 0,
      "outputs": []
    }
  ]
}