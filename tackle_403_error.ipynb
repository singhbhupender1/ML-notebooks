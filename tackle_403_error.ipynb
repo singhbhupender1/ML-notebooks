{
  "nbformat": 4,
  "nbformat_minor": 0,
  "metadata": {
    "colab": {
      "name": "tackle 403 error.ipynb",
      "provenance": [],
      "authorship_tag": "ABX9TyMsyHRLzFhqkND7oRI50wGT",
      "include_colab_link": true
    },
    "kernelspec": {
      "name": "python3",
      "display_name": "Python 3"
    }
  },
  "cells": [
    {
      "cell_type": "markdown",
      "metadata": {
        "id": "view-in-github",
        "colab_type": "text"
      },
      "source": [
        "<a href=\"https://colab.research.google.com/github/singhbhupender1/ML-notebooks/blob/master/tackle_403_error.ipynb\" target=\"_parent\"><img src=\"https://colab.research.google.com/assets/colab-badge.svg\" alt=\"Open In Colab\"/></a>"
      ]
    },
    {
      "cell_type": "code",
      "metadata": {
        "id": "6Xbh1QBX5JIt",
        "colab_type": "code",
        "colab": {}
      },
      "source": [
        "from urllib.request import urlretrieve\n",
        "import urllib\n",
        "import csv\n",
        "import shutil\n",
        "\n",
        "with open ('ipm_results.csv') as images:\n",
        "    images = csv.reader(images)\n",
        "    next(images)\n",
        "    img_count = 1\n",
        "    for image in images:\n",
        "      try:\n",
        "        pic = urlretrieve(image[0], \"{}{}.jpg\".format(image[1], img_count))\n",
        "        img_count += 1\n",
        "      except Exception as e:\n",
        "        print(e)  \n",
        "        \n",
        "        "
      ],
      "execution_count": 0,
      "outputs": []
    },
    {
      "cell_type": "code",
      "metadata": {
        "id": "VWKDPbpmo0HC",
        "colab_type": "code",
        "colab": {}
      },
      "source": [
        "import csv\n",
        "import urllib.request\n",
        "class AppURLopener(urllib.request.FancyURLopener):\n",
        "    version = \"Mozilla/5.0 (Windows NT 6.3; WOW64) AppleWebKit/537.36 (KHTML, like Gecko) Chrome/47.0.2526.69 Safari/537.36\"\n",
        "urllib._urlopener = AppURLopener()\n",
        "with open ('ipm_results.csv') as images:\n",
        "    images = csv.reader(images)\n",
        "    next(images)\n",
        "    img_count = 1\n",
        "    for image in images:\n",
        "      try:\n",
        "        pic = urllib._urlopener.retrieve(image[0], \"{}-{}.jpg\".format(image[1], img_count))\n",
        "        img_count += 1\n",
        "      except Exception as e:\n",
        "        print(e)  \n"
      ],
      "execution_count": 0,
      "outputs": []
    }
  ]
}