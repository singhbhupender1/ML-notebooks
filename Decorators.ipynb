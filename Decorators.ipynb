{
  "nbformat": 4,
  "nbformat_minor": 0,
  "metadata": {
    "colab": {
      "name": "Decorators.ipynb",
      "provenance": [],
      "authorship_tag": "ABX9TyMPmeHiRH1qbZ4LTjC7u6Rn",
      "include_colab_link": true
    },
    "kernelspec": {
      "name": "python3",
      "display_name": "Python 3"
    }
  },
  "cells": [
    {
      "cell_type": "markdown",
      "metadata": {
        "id": "view-in-github",
        "colab_type": "text"
      },
      "source": [
        "<a href=\"https://colab.research.google.com/github/singhbhupender1/ML-notebooks/blob/master/Decorators.ipynb\" target=\"_parent\"><img src=\"https://colab.research.google.com/assets/colab-badge.svg\" alt=\"Open In Colab\"/></a>"
      ]
    },
    {
      "cell_type": "code",
      "metadata": {
        "id": "eOgJUTaBBD37",
        "colab_type": "code",
        "colab": {
          "base_uri": "https://localhost:8080/",
          "height": 50
        },
        "outputId": "3be9d364-4af1-4173-908f-c14e5e5899c5"
      },
      "source": [
        "def shout(text):\n",
        "  return text.upper()\n",
        "print( shout('HEllo'))\n",
        "yell = shout\n",
        "print(yell('Hello'))"
      ],
      "execution_count": 1,
      "outputs": [
        {
          "output_type": "stream",
          "text": [
            "HELLO\n",
            "HELLO\n"
          ],
          "name": "stdout"
        }
      ]
    },
    {
      "cell_type": "code",
      "metadata": {
        "id": "Wgp6T6SmBrRf",
        "colab_type": "code",
        "colab": {
          "base_uri": "https://localhost:8080/",
          "height": 50
        },
        "outputId": "44169cd3-2c4c-4437-e358-84e3e1680ae3"
      },
      "source": [
        "def shout(text):\n",
        "  return text.upper()\n",
        "\n",
        "def whisper(text):\n",
        "  return text.lower()\n",
        "\n",
        "def greet(func):\n",
        "  greeting = func('hi n Iam created by a function')\n",
        "  print(greeting)\n",
        "greet(shout)\n",
        "greet(whisper)"
      ],
      "execution_count": 2,
      "outputs": [
        {
          "output_type": "stream",
          "text": [
            "HI N IAM CREATED BY A FUNCTION\n",
            "hi n iam created by a function\n"
          ],
          "name": "stdout"
        }
      ]
    },
    {
      "cell_type": "code",
      "metadata": {
        "id": "9GqwjPigCaxo",
        "colab_type": "code",
        "colab": {
          "base_uri": "https://localhost:8080/",
          "height": 34
        },
        "outputId": "2273f5b6-441a-4687-da77-95f2cd4934bc"
      },
      "source": [
        "def create_adder(x):\n",
        "  def adder(y):\n",
        "    return x+y\n",
        "  return adder\n",
        "add_15 = create_adder(15)\n",
        "print(add_15(10))"
      ],
      "execution_count": 3,
      "outputs": [
        {
          "output_type": "stream",
          "text": [
            "25\n"
          ],
          "name": "stdout"
        }
      ]
    },
    {
      "cell_type": "markdown",
      "metadata": {
        "id": "OSwvrlojEIVd",
        "colab_type": "text"
      },
      "source": [
        "#assigning functions to varibles"
      ]
    },
    {
      "cell_type": "code",
      "metadata": {
        "id": "lIfL21jFCsTk",
        "colab_type": "code",
        "colab": {
          "base_uri": "https://localhost:8080/",
          "height": 34
        },
        "outputId": "b119a980-86a7-4892-a01a-8313e91ceb3e"
      },
      "source": [
        "def plus_one(number):\n",
        "  return number + 1\n",
        "\n",
        "add_one = plus_one\n",
        "add_one(5)"
      ],
      "execution_count": 4,
      "outputs": [
        {
          "output_type": "execute_result",
          "data": {
            "text/plain": [
              "6"
            ]
          },
          "metadata": {
            "tags": []
          },
          "execution_count": 4
        }
      ]
    },
    {
      "cell_type": "markdown",
      "metadata": {
        "id": "Sz4TgNQOENRa",
        "colab_type": "text"
      },
      "source": [
        "#Defining functions inside other functions"
      ]
    },
    {
      "cell_type": "code",
      "metadata": {
        "id": "48j_pIdhEFJz",
        "colab_type": "code",
        "colab": {
          "base_uri": "https://localhost:8080/",
          "height": 34
        },
        "outputId": "51d29e2b-41f0-448f-bbc6-75e89b460d34"
      },
      "source": [
        "def plus_one(number):\n",
        "  def add_one(number):\n",
        "    return number + 1\n",
        "\n",
        "  result = add_one(number)\n",
        "  return result\n",
        "\n",
        "plus_one(5)"
      ],
      "execution_count": 5,
      "outputs": [
        {
          "output_type": "execute_result",
          "data": {
            "text/plain": [
              "6"
            ]
          },
          "metadata": {
            "tags": []
          },
          "execution_count": 5
        }
      ]
    },
    {
      "cell_type": "markdown",
      "metadata": {
        "id": "hxCf_HJfEqs-",
        "colab_type": "text"
      },
      "source": [
        "#Passing fucntions as arguments to other functions"
      ]
    },
    {
      "cell_type": "code",
      "metadata": {
        "id": "W04mWfRvEpG4",
        "colab_type": "code",
        "colab": {
          "base_uri": "https://localhost:8080/",
          "height": 34
        },
        "outputId": "3f20748b-8421-4b49-b1b1-fe7f5775b6c6"
      },
      "source": [
        "def plus_one(number):\n",
        "  return number + 1\n",
        "\n",
        "def function_call(function):\n",
        "  number_to_add =5\n",
        "  return function(number_to_add)\n",
        "\n",
        "function_call(plus_one)"
      ],
      "execution_count": 6,
      "outputs": [
        {
          "output_type": "execute_result",
          "data": {
            "text/plain": [
              "6"
            ]
          },
          "metadata": {
            "tags": []
          },
          "execution_count": 6
        }
      ]
    },
    {
      "cell_type": "markdown",
      "metadata": {
        "id": "pYQDp2uJFgDg",
        "colab_type": "text"
      },
      "source": [
        "#functions returning other functions"
      ]
    },
    {
      "cell_type": "code",
      "metadata": {
        "id": "g5Pyowf1Fi0I",
        "colab_type": "code",
        "colab": {
          "base_uri": "https://localhost:8080/",
          "height": 34
        },
        "outputId": "1f942f56-31f3-4861-fa3e-3db35bc3c96c"
      },
      "source": [
        "def hello_function():\n",
        "  def say_hi():\n",
        "    return \"Hi\"\n",
        "  return say_hi\n",
        "hello = hello_function()\n",
        "hello()"
      ],
      "execution_count": 7,
      "outputs": [
        {
          "output_type": "execute_result",
          "data": {
            "text/plain": [
              "'Hi'"
            ]
          },
          "metadata": {
            "tags": []
          },
          "execution_count": 7
        }
      ]
    },
    {
      "cell_type": "markdown",
      "metadata": {
        "id": "0LT8vsepGXYj",
        "colab_type": "text"
      },
      "source": [
        "#nested fuctions have access to the enclosing fucntions varible scope"
      ]
    },
    {
      "cell_type": "code",
      "metadata": {
        "id": "e0uI6fktFvVA",
        "colab_type": "code",
        "colab": {
          "base_uri": "https://localhost:8080/",
          "height": 34
        },
        "outputId": "486a6500-7e38-420f-fe69-1771527b8300"
      },
      "source": [
        "#closure\n",
        "def print_message(message):\n",
        "  \"enclosing function\"\n",
        "  def message_sender():\n",
        "    \"nested function\"\n",
        "    print(message)\n",
        "\n",
        "  message_sender()\n",
        "\n",
        "print_message(\"show random message\")"
      ],
      "execution_count": 9,
      "outputs": [
        {
          "output_type": "stream",
          "text": [
            "show random message\n"
          ],
          "name": "stdout"
        }
      ]
    },
    {
      "cell_type": "code",
      "metadata": {
        "id": "7xZJb0LKG75_",
        "colab_type": "code",
        "colab": {}
      },
      "source": [
        "#creating decorators"
      ],
      "execution_count": 0,
      "outputs": []
    },
    {
      "cell_type": "code",
      "metadata": {
        "id": "QJXlQVd_HVde",
        "colab_type": "code",
        "colab": {}
      },
      "source": [
        "def uppercase_decorator(function):\n",
        "  def wrapper():\n",
        "    func = function()\n",
        "    make_uppercase = func.upper()\n",
        "    return make_uppercase\n",
        "\n",
        "  return wrapper"
      ],
      "execution_count": 0,
      "outputs": []
    },
    {
      "cell_type": "markdown",
      "metadata": {
        "id": "dXlc9ouMHvJc",
        "colab_type": "text"
      },
      "source": [
        "Our decorator function takes a function as an argument, and we shall, therefore, define a function and pass it to our decorator. We learned earlier that we could assign a function to a variable. We'll use that trick to call our decorator function."
      ]
    },
    {
      "cell_type": "code",
      "metadata": {
        "id": "MXsz9K6EHq9C",
        "colab_type": "code",
        "colab": {
          "base_uri": "https://localhost:8080/",
          "height": 34
        },
        "outputId": "323e88f0-3ad6-46ae-bd81-9b84cf34557b"
      },
      "source": [
        "def say_hi():\n",
        "  return \"hello there\"\n",
        "\n",
        "decorate = uppercase_decorator(say_hi)\n",
        "decorate()"
      ],
      "execution_count": 14,
      "outputs": [
        {
          "output_type": "execute_result",
          "data": {
            "text/plain": [
              "'HELLO THERE'"
            ]
          },
          "metadata": {
            "tags": []
          },
          "execution_count": 14
        }
      ]
    },
    {
      "cell_type": "markdown",
      "metadata": {
        "id": "eKvZYFKWIUkX",
        "colab_type": "text"
      },
      "source": [
        "However, Python provides a much easier way for us to apply decorators. We simply use the @ symbol before the function we'd like to decorate. Let's show that in practice below."
      ]
    },
    {
      "cell_type": "code",
      "metadata": {
        "id": "R1Q5UskKIOFX",
        "colab_type": "code",
        "colab": {
          "base_uri": "https://localhost:8080/",
          "height": 34
        },
        "outputId": "e9f10bfc-b427-4e67-bd49-1c58446c00c4"
      },
      "source": [
        "@uppercase_decorator\n",
        "def say_hi():\n",
        "  return 'hello there'\n",
        "\n",
        "say_hi()"
      ],
      "execution_count": 15,
      "outputs": [
        {
          "output_type": "execute_result",
          "data": {
            "text/plain": [
              "'HELLO THERE'"
            ]
          },
          "metadata": {
            "tags": []
          },
          "execution_count": 15
        }
      ]
    },
    {
      "cell_type": "markdown",
      "metadata": {
        "id": "MZ-phP9BROu0",
        "colab_type": "text"
      },
      "source": [
        "Applying Multiple Decorators to a Single Function\n",
        "We can use multiple decorators to a single function. However, the decorators will be applied in the order that we've called them. Below we'll define another decorator that splits the sentence into a list. We'll then apply the uppercase_decorator and split_string decorator to a single function."
      ]
    },
    {
      "cell_type": "code",
      "metadata": {
        "id": "bvHlI4rqRR8H",
        "colab_type": "code",
        "colab": {}
      },
      "source": [
        "def split_string(function):\n",
        "  def wrapper():\n",
        "    func = function()\n",
        "    splitted_string = func.split()\n",
        "    return splitted_string\n",
        "  \n",
        "  return wrapper\n"
      ],
      "execution_count": 0,
      "outputs": []
    },
    {
      "cell_type": "code",
      "metadata": {
        "id": "U_RGnaIIVY5h",
        "colab_type": "code",
        "colab": {
          "base_uri": "https://localhost:8080/",
          "height": 34
        },
        "outputId": "3aef62a0-279a-4163-947c-a864c64a041b"
      },
      "source": [
        "@split_string\n",
        "@uppercase_decorator\n",
        "\n",
        "def say_hi():\n",
        "  return 'hello there'\n",
        "\n",
        "say_hi()"
      ],
      "execution_count": 7,
      "outputs": [
        {
          "output_type": "execute_result",
          "data": {
            "text/plain": [
              "['HELLO', 'THERE']"
            ]
          },
          "metadata": {
            "tags": []
          },
          "execution_count": 7
        }
      ]
    },
    {
      "cell_type": "markdown",
      "metadata": {
        "id": "FIGG8pzaVro1",
        "colab_type": "text"
      },
      "source": [
        " The sentence has first been converted to uppercase and then split into a list."
      ]
    },
    {
      "cell_type": "markdown",
      "metadata": {
        "id": "az4wLDi-XZFH",
        "colab_type": "text"
      },
      "source": [
        "#Accepting Arguments in Decorator Functions\n",
        "Sometimes we might need to define a decorator that accepts arguments. We achieve this by passing the arguments to the wrapper function. The arguments will then be passed to the function that is being decorated at call time."
      ]
    },
    {
      "cell_type": "code",
      "metadata": {
        "id": "k_K38080XdN2",
        "colab_type": "code",
        "colab": {
          "base_uri": "https://localhost:8080/",
          "height": 50
        },
        "outputId": "198fa49d-f290-4479-dae9-888d50bc944c"
      },
      "source": [
        "def decorator_with_arguments(function):\n",
        "  def wrapper_accepting_arguments(arg1, arg2):\n",
        "    print(\"my arguments are: {0}, {1}\".format(arg1, arg2))\n",
        "    function(arg1, arg2)\n",
        "  return wrapper_accepting_arguments\n",
        "\n",
        "\n",
        "@decorator_with_arguments\n",
        "def cities(city_one, city_two):\n",
        "  print('Cities I love are {0}, {1}'.format(city_one, city_two))\n",
        "\n",
        "cities(\"Nairobi\", \"Accera\")"
      ],
      "execution_count": 8,
      "outputs": [
        {
          "output_type": "stream",
          "text": [
            "my arguments are: Nairobi, Accera\n",
            "Cities I love are Nairobi, Accera\n"
          ],
          "name": "stdout"
        }
      ]
    },
    {
      "cell_type": "markdown",
      "metadata": {
        "id": "UwlygVrXcSAJ",
        "colab_type": "text"
      },
      "source": [
        "#Defining General Purpose Decorators\n",
        "To define a general purpose decorator that can be applied to any function we use args and **kwargs. args and **kwargs collect all positional and keyword arguments and stores them in the args and kwargs variables. args and kwargs allow us to pass as many arguments as we would like during function calls."
      ]
    },
    {
      "cell_type": "code",
      "metadata": {
        "id": "okMHBhkYckbA",
        "colab_type": "code",
        "colab": {
          "base_uri": "https://localhost:8080/",
          "height": 67
        },
        "outputId": "f4f73098-d75d-48e4-9d1e-a96141fcddc3"
      },
      "source": [
        "def a_decorator_passing_arbitrary_arguments(function_to_decorate):\n",
        "  def a_wrapper_accepting_arbitrary_arguments(*args, **kwargs):\n",
        "    print(\"the positional arguments are\", args)\n",
        "    print(\"the keyword arguments are\", kwargs)\n",
        "    function_to_decorate(*args)\n",
        "  return a_wrapper_accepting_arbitrary_arguments\n",
        "\n",
        "@a_decorator_passing_arbitrary_arguments\n",
        "def function_with_no_arguments():\n",
        "  print(\"no arguments here\")\n",
        "\n",
        "function_with_no_arguments()"
      ],
      "execution_count": 15,
      "outputs": [
        {
          "output_type": "stream",
          "text": [
            "the positional arguments are ()\n",
            "the keyword arguments are {}\n",
            "no arguments here\n"
          ],
          "name": "stdout"
        }
      ]
    },
    {
      "cell_type": "markdown",
      "metadata": {
        "id": "c9iMEfW6kAAH",
        "colab_type": "text"
      },
      "source": [
        "Let's see how we'd use the decorator using positional arguments."
      ]
    },
    {
      "cell_type": "code",
      "metadata": {
        "id": "rO2QWfKjkCkI",
        "colab_type": "code",
        "colab": {
          "base_uri": "https://localhost:8080/",
          "height": 67
        },
        "outputId": "f3e7770b-4027-43aa-f543-99fcd52aaafa"
      },
      "source": [
        "@a_decorator_passing_arbitrary_arguments\n",
        "def function_with_arguments(a, b, c):\n",
        "  print(a, b, c)\n",
        "\n",
        "function_with_arguments(1,2,3)"
      ],
      "execution_count": 17,
      "outputs": [
        {
          "output_type": "stream",
          "text": [
            "the positional arguments are (1, 2, 3)\n",
            "the keyword arguments are {}\n",
            "1 2 3\n"
          ],
          "name": "stdout"
        }
      ]
    },
    {
      "cell_type": "markdown",
      "metadata": {
        "id": "wpAvcmXKkvhM",
        "colab_type": "text"
      },
      "source": [
        "Keyword arguments are passed using keywords. An illustration of this is shown below."
      ]
    },
    {
      "cell_type": "code",
      "metadata": {
        "id": "ta8qUdYkkytC",
        "colab_type": "code",
        "colab": {
          "base_uri": "https://localhost:8080/",
          "height": 67
        },
        "outputId": "dd309996-cc26-4825-ae52-e1fd74aa5a9c"
      },
      "source": [
        "@a_decorator_passing_arbitrary_arguments\n",
        "def function_with_keyword_arguments():\n",
        "  print(\"this has shown keyword arguments\")\n",
        "\n",
        "function_with_keyword_arguments(first_name= \"Derric\", last_name=\"damitri\")\n"
      ],
      "execution_count": 20,
      "outputs": [
        {
          "output_type": "stream",
          "text": [
            "the positional arguments are ()\n",
            "the keyword arguments are {'first_name': 'Derric', 'last_name': 'damitri'}\n",
            "this has shown keyword arguments\n"
          ],
          "name": "stdout"
        }
      ]
    },
    {
      "cell_type": "markdown",
      "metadata": {
        "id": "VXYyVp4VlnBv",
        "colab_type": "text"
      },
      "source": [
        "#Passing Arguments to the Decorator\n",
        "Now let's see how we'd pass arguments to the decorator itself. In order to achieve this, we define a decorator maker that accepts arguments then define a decorator inside it. We then define a wrapper function inside the decorator as we did earlier."
      ]
    },
    {
      "cell_type": "code",
      "metadata": {
        "id": "W-k35hcElp1Z",
        "colab_type": "code",
        "colab": {}
      },
      "source": [
        "def decorator_maker_with_arguments(decorator_arg1, decorator_arg2, decorator_arg3):\n",
        "  "
      ],
      "execution_count": 0,
      "outputs": []
    },
    {
      "cell_type": "code",
      "metadata": {
        "id": "Z3aYa2w7I8Cr",
        "colab_type": "code",
        "colab": {
          "base_uri": "https://localhost:8080/",
          "height": 50
        },
        "outputId": "dbe9e292-517b-4296-a341-e08faf93f1e9"
      },
      "source": [
        "def make_pretty(func):\n",
        "  def inner():\n",
        "    print(\"i got decorated\")\n",
        "    func()\n",
        "  return inner\n",
        "\n",
        "def ordinary():\n",
        "  print(\"i am ordinary\")\n",
        "\n",
        "pretty = make_pretty(ordinary)\n",
        "pretty()\n"
      ],
      "execution_count": 3,
      "outputs": [
        {
          "output_type": "stream",
          "text": [
            "i got decorated\n",
            "i am ordinary\n"
          ],
          "name": "stdout"
        }
      ]
    },
    {
      "cell_type": "code",
      "metadata": {
        "id": "frQ3CcZPM_9A",
        "colab_type": "code",
        "colab": {
          "base_uri": "https://localhost:8080/",
          "height": 50
        },
        "outputId": "3c33c470-2c17-49b6-ddec-4158db2c1f3e"
      },
      "source": [
        "@make_pretty\n",
        "\n",
        "def ordinary():\n",
        "  print(\"I am ordinary\")\n",
        "\n",
        "ordinary()"
      ],
      "execution_count": 20,
      "outputs": [
        {
          "output_type": "stream",
          "text": [
            "i got decorated\n",
            "I am ordinary\n"
          ],
          "name": "stdout"
        }
      ]
    },
    {
      "cell_type": "markdown",
      "metadata": {
        "id": "8y-Yc-7EOQbT",
        "colab_type": "text"
      },
      "source": [
        "#decorating fuctions with parameters"
      ]
    },
    {
      "cell_type": "code",
      "metadata": {
        "id": "-uaJnFPKOD0p",
        "colab_type": "code",
        "colab": {
          "base_uri": "https://localhost:8080/",
          "height": 50
        },
        "outputId": "596475a8-6187-42e6-fcc7-a2772d5411be"
      },
      "source": [
        "def smart_divide(func):\n",
        "  def inner(a, b):\n",
        "    print(\"I am going to divide\", a,\"and\", b)\n",
        "    if b == 0:\n",
        "      print(\"whoops! cannot divide\")\n",
        "      return\n",
        "\n",
        "    return func(a, b)\n",
        "  return inner\n",
        "\n",
        "@smart_divide\n",
        "def divide(a, b):\n",
        "  return a/b\n",
        "\n",
        "divide(2,0)"
      ],
      "execution_count": 22,
      "outputs": [
        {
          "output_type": "stream",
          "text": [
            "I am going to divide 2 and 0\n",
            "whoops! cannot divide\n"
          ],
          "name": "stdout"
        }
      ]
    },
    {
      "cell_type": "markdown",
      "metadata": {
        "id": "bl4Ww6xKPju7",
        "colab_type": "text"
      },
      "source": [
        "#chaining decorators in python\n"
      ]
    },
    {
      "cell_type": "code",
      "metadata": {
        "id": "wsoAUTptPI5f",
        "colab_type": "code",
        "colab": {
          "base_uri": "https://localhost:8080/",
          "height": 101
        },
        "outputId": "041848b3-8c7a-4233-bb24-a4b108ed4889"
      },
      "source": [
        "def star(func):\n",
        "  def inner(*args, **kwargs):\n",
        "    print(\"*\" * 30)\n",
        "    func(*args, **kwargs)\n",
        "    print(\"*\" * 30)\n",
        "  return inner\n",
        "\n",
        "def percent(func):\n",
        "  def inner(*args, **kwargs):\n",
        "    print(\"%\" * 30)\n",
        "    func(*args, **kwargs)\n",
        "    print(\"%\" * 30)\n",
        "  return inner\n",
        "\n",
        "@star\n",
        "@percent\n",
        "def printer(msg):\n",
        "  print(msg)\n",
        "printer(\"hello\")"
      ],
      "execution_count": 28,
      "outputs": [
        {
          "output_type": "stream",
          "text": [
            "******************************\n",
            "%%%%%%%%%%%%%%%%%%%%%%%%%%%%%%\n",
            "hello\n",
            "%%%%%%%%%%%%%%%%%%%%%%%%%%%%%%\n",
            "******************************\n"
          ],
          "name": "stdout"
        }
      ]
    },
    {
      "cell_type": "code",
      "metadata": {
        "id": "lL9gbEF_Qkfj",
        "colab_type": "code",
        "colab": {}
      },
      "source": [
        "@percent\n",
        "@star\n",
        "def printer(msg):\n",
        "  print(msg)"
      ],
      "execution_count": 0,
      "outputs": []
    },
    {
      "cell_type": "code",
      "metadata": {
        "id": "oxnAdEkxQ9pa",
        "colab_type": "code",
        "colab": {
          "base_uri": "https://localhost:8080/",
          "height": 101
        },
        "outputId": "b4a42b55-dd5e-4a6a-cb6e-4dae9081fb5a"
      },
      "source": [
        "printer(\"Hello\")"
      ],
      "execution_count": 30,
      "outputs": [
        {
          "output_type": "stream",
          "text": [
            "%%%%%%%%%%%%%%%%%%%%%%%%%%%%%%\n",
            "******************************\n",
            "Hello\n",
            "******************************\n",
            "%%%%%%%%%%%%%%%%%%%%%%%%%%%%%%\n"
          ],
          "name": "stdout"
        }
      ]
    },
    {
      "cell_type": "code",
      "metadata": {
        "id": "hn2D3rhxRAww",
        "colab_type": "code",
        "colab": {
          "base_uri": "https://localhost:8080/",
          "height": 67
        },
        "outputId": "bf062219-2c21-4a42-97b0-131719c57a38"
      },
      "source": [
        "x = [3, 6, 9]\n",
        "print(x[1])\n",
        "x.append(42)\n",
        "print(x)\n",
        "last = x.pop()\n",
        "print(last)"
      ],
      "execution_count": 1,
      "outputs": [
        {
          "output_type": "stream",
          "text": [
            "6\n",
            "[3, 6, 9, 42]\n",
            "42\n"
          ],
          "name": "stdout"
        }
      ]
    },
    {
      "cell_type": "code",
      "metadata": {
        "id": "4abxV3LfRA7L",
        "colab_type": "code",
        "colab": {
          "base_uri": "https://localhost:8080/",
          "height": 34
        },
        "outputId": "1718420b-9984-4a2d-beff-2b0c8447325d"
      },
      "source": [
        "x.pop()"
      ],
      "execution_count": 2,
      "outputs": [
        {
          "output_type": "execute_result",
          "data": {
            "text/plain": [
              "9"
            ]
          },
          "metadata": {
            "tags": []
          },
          "execution_count": 2
        }
      ]
    },
    {
      "cell_type": "code",
      "metadata": {
        "id": "NW12mV_uRCwi",
        "colab_type": "code",
        "colab": {}
      },
      "source": [
        ""
      ],
      "execution_count": 0,
      "outputs": []
    }
  ]
}