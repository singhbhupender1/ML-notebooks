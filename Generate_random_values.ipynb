{
  "nbformat": 4,
  "nbformat_minor": 0,
  "metadata": {
    "colab": {
      "name": "Generate random values.ipynb",
      "provenance": [],
      "authorship_tag": "ABX9TyPGnxqzl0GYkonvLqeUJCcp",
      "include_colab_link": true
    },
    "kernelspec": {
      "name": "python3",
      "display_name": "Python 3"
    }
  },
  "cells": [
    {
      "cell_type": "markdown",
      "metadata": {
        "id": "view-in-github",
        "colab_type": "text"
      },
      "source": [
        "<a href=\"https://colab.research.google.com/github/singhbhupender1/ML-notebooks/blob/master/Generate_random_values.ipynb\" target=\"_parent\"><img src=\"https://colab.research.google.com/assets/colab-badge.svg\" alt=\"Open In Colab\"/></a>"
      ]
    },
    {
      "cell_type": "code",
      "metadata": {
        "id": "Tb-4AQMB1XCk",
        "colab_type": "code",
        "colab": {
          "base_uri": "https://localhost:8080/",
          "height": 50
        },
        "outputId": "117e5af0-bd68-4786-eac2-12fa0399b6b7"
      },
      "source": [
        "#seed the pseudorandom number generator\n",
        "from random import seed\n",
        "from random import random\n",
        "#seed random number generator\n",
        "seed(1)\n",
        "#generate some random numbers\n",
        "print(random(), random(), random())\n",
        "#reset the seed\n",
        "seed(1)#reseeding the generator rsults in the same sequence of numbers being genrated\n",
        "print(random(), random(), random())"
      ],
      "execution_count": 1,
      "outputs": [
        {
          "output_type": "stream",
          "text": [
            "0.13436424411240122 0.8474337369372327 0.763774618976614\n",
            "0.13436424411240122 0.8474337369372327 0.763774618976614\n"
          ],
          "name": "stdout"
        }
      ]
    },
    {
      "cell_type": "markdown",
      "metadata": {
        "id": "cj9ysfnE9W0E",
        "colab_type": "text"
      },
      "source": [
        "**It can be useful to control the randomness by setting the seed to ensure that your code produces the same result each time, such as in a production model.**\n",
        "\n",
        "**For running experiments where randomization is used to control for confounding variables, a different seed may be used for each experimental run.**"
      ]
    },
    {
      "cell_type": "markdown",
      "metadata": {
        "id": "Dp_CM9YX9qg1",
        "colab_type": "text"
      },
      "source": [
        "##Random Floating Point Values\n",
        "**Random floating point values can be generated using the random() function. Values will be generated in the range between 0 and 1, specifically in the interval [0,1).**\n",
        "\n",
        "**Values are drawn from a uniform distribution, meaning each value has an equal chance of being drawn.**"
      ]
    },
    {
      "cell_type": "code",
      "metadata": {
        "id": "8vg0rN-_9N26",
        "colab_type": "code",
        "colab": {
          "base_uri": "https://localhost:8080/",
          "height": 185
        },
        "outputId": "47a88a15-821c-47c5-fc48-ecb7636bb68f"
      },
      "source": [
        "#generate random floating point values\n",
        "from random import seed\n",
        "from random import random\n",
        "#seed random no generator\n",
        "seed(1)\n",
        "#generate random numbers between 0-1\n",
        "for _ in range(10):\n",
        "  value = random()\n",
        "  print(value)"
      ],
      "execution_count": 2,
      "outputs": [
        {
          "output_type": "stream",
          "text": [
            "0.13436424411240122\n",
            "0.8474337369372327\n",
            "0.763774618976614\n",
            "0.2550690257394217\n",
            "0.49543508709194095\n",
            "0.4494910647887381\n",
            "0.651592972722763\n",
            "0.7887233511355132\n",
            "0.0938595867742349\n",
            "0.02834747652200631\n"
          ],
          "name": "stdout"
        }
      ]
    },
    {
      "cell_type": "markdown",
      "metadata": {
        "id": "YiIkTCq-CQqK",
        "colab_type": "text"
      },
      "source": [
        "**The floating point values could be rescaled to a desired range by multiplying them by the size of the new range and adding the min value, as follows:**\n",
        "\n",
        "\n",
        "```\n",
        "scaled value = min + (value * (max - min))\n",
        "```\n",
        "**Where min and max are the minimum and maximum values of the desired range respectively, and value is the randomly generated floating point value in the range between 0 and 1.**\n",
        "\n"
      ]
    },
    {
      "cell_type": "markdown",
      "metadata": {
        "id": "X2m2Lzn7Cqab",
        "colab_type": "text"
      },
      "source": [
        "##Random Integer Values\n",
        "**Random integer values can be generated with the randint() function.**\n",
        "\n",
        "**This function takes two arguments: the start and the end of the range for the generated integer values. Random integers are generated within and including the start and end of range values, specifically in the interval [start, end]. Random values are drawn from a uniform distribution.**\n",
        "\n",
        "**The example below generates 10 random integer values between 0 and 10.**"
      ]
    },
    {
      "cell_type": "code",
      "metadata": {
        "id": "eAXRQAWC-wE_",
        "colab_type": "code",
        "colab": {
          "base_uri": "https://localhost:8080/",
          "height": 185
        },
        "outputId": "53465654-fe3b-482c-e66f-889abe7856eb"
      },
      "source": [
        "#generate random integer values\n",
        "from random import seed\n",
        "from random import randint\n",
        "#seed random number generator\n",
        "seed(1)\n",
        "#generate some integers\n",
        "for _ in  range(10):\n",
        "  value = randint(0, 10)\n",
        "  print(value)"
      ],
      "execution_count": 4,
      "outputs": [
        {
          "output_type": "stream",
          "text": [
            "2\n",
            "9\n",
            "1\n",
            "4\n",
            "1\n",
            "7\n",
            "7\n",
            "7\n",
            "10\n",
            "6\n"
          ],
          "name": "stdout"
        }
      ]
    },
    {
      "cell_type": "markdown",
      "metadata": {
        "id": "9uQvGOEvFFbl",
        "colab_type": "text"
      },
      "source": [
        "##Random Gaussian Values\n",
        "**Random floating point values can be drawn from a Gaussian distribution using the gauss() function.**\n",
        "\n",
        "**This function takes two arguments that correspond to the parameters that control the size of the distribution, specifically the mean and the standard deviation.**\n",
        "\n",
        "**The example below generates 10 random values drawn from a Gaussian distribution with a mean of 0.0 and a standard deviation of 1.0.**\n",
        "\n",
        "**Note that these parameters are not the bounds on the values and that the spread of the values will be controlled by the bell shape of the distribution, in this case proportionately likely above and below 0.0.**"
      ]
    },
    {
      "cell_type": "code",
      "metadata": {
        "id": "hxsnW9b7FAt-",
        "colab_type": "code",
        "colab": {
          "base_uri": "https://localhost:8080/",
          "height": 185
        },
        "outputId": "298febfa-2461-40be-b2c4-027e8354d189"
      },
      "source": [
        "#generate random Gaussian values\n",
        "from random import seed\n",
        "from random import gauss\n",
        "#seed random number generator\n",
        "seed(1)\n",
        "#generate some Gaussian values\n",
        "for _ in range(10):\n",
        "  value = gauss(0, 1)\n",
        "  print(value)"
      ],
      "execution_count": 5,
      "outputs": [
        {
          "output_type": "stream",
          "text": [
            "1.2881847531554629\n",
            "1.449445608699771\n",
            "0.06633580893826191\n",
            "-0.7645436509716318\n",
            "-1.0921732151041414\n",
            "0.03133451683171687\n",
            "-1.022103170010873\n",
            "-1.4368294451025299\n",
            "0.19931197648375384\n",
            "0.13337460465860485\n"
          ],
          "name": "stdout"
        }
      ]
    },
    {
      "cell_type": "markdown",
      "metadata": {
        "id": "3-e8WIk0GO2D",
        "colab_type": "text"
      },
      "source": [
        "##Random Subsample From a List\n",
        "**We may be interested in repeating the random selection of items from a list to create a randomly chosen subset.**\n",
        "\n",
        "**Importantly, once an item is selected from the list and added to the subset, it should not be added again. This is called selection without replacement because once an item from the list is selected for the subset, it is not added back to the original list (i.e. is not made available for re-selection).**\n",
        "\n",
        "**This behavior is provided in the sample() function that selects a random sample from a list without replacement. The function takes both the list and the size of the subset to select as arguments. Note that items are not actually removed from the original list, only selected into a copy of the list.**"
      ]
    },
    {
      "cell_type": "code",
      "metadata": {
        "id": "ZAjQmUx2F5T-",
        "colab_type": "code",
        "colab": {
          "base_uri": "https://localhost:8080/",
          "height": 50
        },
        "outputId": "76f1ba90-fc21-4fde-8674-c592f607e7c5"
      },
      "source": [
        "#select a random sample without replacement\n",
        "from random import seed\n",
        "from random import sample\n",
        "#seed random number generator\n",
        "seed(1)\n",
        "#prepare a sequence\n",
        "sequence = [i for i in range(20)]\n",
        "print(sequence)\n",
        "#select a subset without replacement\n",
        "subset = sample(sequence, 5)\n",
        "print(subset)"
      ],
      "execution_count": 7,
      "outputs": [
        {
          "output_type": "stream",
          "text": [
            "[0, 1, 2, 3, 4, 5, 6, 7, 8, 9, 10, 11, 12, 13, 14, 15, 16, 17, 18, 19]\n",
            "[4, 18, 2, 8, 3]\n"
          ],
          "name": "stdout"
        }
      ]
    },
    {
      "cell_type": "markdown",
      "metadata": {
        "id": "cojBK7yWHBIL",
        "colab_type": "text"
      },
      "source": [
        "##Randomly Shuffle a List\n",
        "**Randomness can be used to shuffle a list of items, like shuffling a deck of cards.**\n",
        "\n",
        "**The shuffle() function can be used to shuffle a list. The shuffle is performed in place, meaning that the list provided as an argument to the shuffle() function is shuffled rather than a shuffled copy of the list being made and returned.**\n",
        "\n",
        "**The example below demonstrates randomly shuffling a list of integer values**"
      ]
    },
    {
      "cell_type": "code",
      "metadata": {
        "id": "P9ZOZRIgG2uF",
        "colab_type": "code",
        "colab": {
          "base_uri": "https://localhost:8080/",
          "height": 50
        },
        "outputId": "6a0ff1b1-2a28-45cc-e2ad-80da40349042"
      },
      "source": [
        "#randomly shuffle a sequence\n",
        "from random import seed\n",
        "from random import shuffle\n",
        "#seed random number generator\n",
        "seed(1)\n",
        "#prepare a sequence\n",
        "sequence = [i for i in  range(20)]\n",
        "print(sequence)\n",
        "#randomly shufffle the sequence\n",
        "shuffle(sequence)\n",
        "print(sequence)"
      ],
      "execution_count": 8,
      "outputs": [
        {
          "output_type": "stream",
          "text": [
            "[0, 1, 2, 3, 4, 5, 6, 7, 8, 9, 10, 11, 12, 13, 14, 15, 16, 17, 18, 19]\n",
            "[11, 5, 17, 19, 9, 0, 16, 1, 15, 6, 10, 13, 14, 12, 7, 3, 8, 2, 18, 4]\n"
          ],
          "name": "stdout"
        }
      ]
    },
    {
      "cell_type": "markdown",
      "metadata": {
        "id": "Glp3T4BiHx6j",
        "colab_type": "text"
      },
      "source": [
        "## Random Numbers with NumPy\n",
        "\n",
        "###Seed The Random Number Generator\n",
        "**The NumPy pseudorandom number generator is different from the Python standard library pseudorandom number generator.**\n",
        "\n",
        "**Importantly, seeding the Python pseudorandom number generator does not impact the NumPy pseudorandom number generator. It must be seeded and used separately.**\n",
        "\n",
        "**The seed() function can be used to seed the NumPy pseudorandom number generator, taking an integer as the seed value.**"
      ]
    },
    {
      "cell_type": "code",
      "metadata": {
        "id": "3fgYdq6fHqWy",
        "colab_type": "code",
        "colab": {
          "base_uri": "https://localhost:8080/",
          "height": 50
        },
        "outputId": "0325cadd-fae4-40da-faa1-3036f039d7af"
      },
      "source": [
        "#seed the pseudorandom number generator\n",
        "from numpy.random import seed\n",
        "from numpy.random import rand\n",
        "#seed random number generator\n",
        "seed(1)\n",
        "#generate random number between\n",
        "print(rand(3))\n",
        "#reset the seed\n",
        "seed(1)\n",
        "#generate some random numbers\n",
        "print(rand(3))"
      ],
      "execution_count": 10,
      "outputs": [
        {
          "output_type": "stream",
          "text": [
            "[4.17022005e-01 7.20324493e-01 1.14374817e-04]\n",
            "[4.17022005e-01 7.20324493e-01 1.14374817e-04]\n"
          ],
          "name": "stdout"
        }
      ]
    },
    {
      "cell_type": "markdown",
      "metadata": {
        "id": "kweCSoQYKJ85",
        "colab_type": "text"
      },
      "source": [
        "##Array of Random Floating Point Values\n",
        "**An array of random floating point values can be generated with the rand() NumPy function.**\n",
        "\n",
        "**If no argument is provided, then a single random value is created, otherwise the size of the array can be specified.**"
      ]
    },
    {
      "cell_type": "code",
      "metadata": {
        "id": "nzdO8qc8IinH",
        "colab_type": "code",
        "colab": {
          "base_uri": "https://localhost:8080/",
          "height": 67
        },
        "outputId": "c9cd28a9-3397-436a-a19a-222fb3d943c3"
      },
      "source": [
        "#generate random floating point values\n",
        "from numpy.random import rand\n",
        "from numpy.random import seed\n",
        "#seed random number generator\n",
        "seed(1)\n",
        "#generate random number between 0 -1\n",
        "values = rand(10)\n",
        "print(values)"
      ],
      "execution_count": 11,
      "outputs": [
        {
          "output_type": "stream",
          "text": [
            "[4.17022005e-01 7.20324493e-01 1.14374817e-04 3.02332573e-01\n",
            " 1.46755891e-01 9.23385948e-02 1.86260211e-01 3.45560727e-01\n",
            " 3.96767474e-01 5.38816734e-01]\n"
          ],
          "name": "stdout"
        }
      ]
    },
    {
      "cell_type": "markdown",
      "metadata": {
        "id": "rx3HQwxcK6M3",
        "colab_type": "text"
      },
      "source": [
        "##Array of Random Integer Values\n",
        "**An array of random integers can be generated using the randint() NumPy function.**\n",
        "\n",
        "**This function takes three arguments, the lower end of the range, the upper end of the range, and the number of integer values to generate or the size of the array. Random integers will be drawn from a uniform distribution including the lower value and excluding the upper value, e.g. in the interval [lower, upper).**"
      ]
    },
    {
      "cell_type": "code",
      "metadata": {
        "id": "iCCzWHabK2DO",
        "colab_type": "code",
        "colab": {
          "base_uri": "https://localhost:8080/",
          "height": 34
        },
        "outputId": "432abc9f-cd32-4517-d421-b35637dd16b0"
      },
      "source": [
        "#generate random integer values\n",
        "from numpy.random import randint\n",
        "from numpy.random import seed\n",
        "#seed random number generator\n",
        "seed(1)\n",
        "#generate some integers\n",
        "values = randint(0, 10, 20)\n",
        "print(values)"
      ],
      "execution_count": 12,
      "outputs": [
        {
          "output_type": "stream",
          "text": [
            "[5 8 9 5 0 0 1 7 6 9 2 4 5 2 4 2 4 7 7 9]\n"
          ],
          "name": "stdout"
        }
      ]
    },
    {
      "cell_type": "markdown",
      "metadata": {
        "id": "95SoPIjiLuBW",
        "colab_type": "text"
      },
      "source": [
        "##Array of Random Gaussian Values\n",
        "**An array of random Gaussian values can be generated using the randn() NumPy function.**\n",
        "\n",
        "**This function takes a single argument to specify the size of the resulting array. The Gaussian values are drawn from a standard Gaussian distribution; this is a distribution that has a mean of 0.0 and a standard deviation of 1.0.**"
      ]
    },
    {
      "cell_type": "code",
      "metadata": {
        "id": "BPQveQusLl01",
        "colab_type": "code",
        "colab": {
          "base_uri": "https://localhost:8080/",
          "height": 50
        },
        "outputId": "26ae1802-af8c-4dec-ae82-a319c2a3ab25"
      },
      "source": [
        "#generate random gaussian values\n",
        "from numpy.random import seed\n",
        "from numpy.random import randn\n",
        "#seed random number generator\n",
        "seed(1)\n",
        "#genearate some Guassian values\n",
        "values = randn(10)\n",
        "print(values)"
      ],
      "execution_count": 13,
      "outputs": [
        {
          "output_type": "stream",
          "text": [
            "[ 1.62434536 -0.61175641 -0.52817175 -1.07296862  0.86540763 -2.3015387\n",
            "  1.74481176 -0.7612069   0.3190391  -0.24937038]\n"
          ],
          "name": "stdout"
        }
      ]
    },
    {
      "cell_type": "markdown",
      "metadata": {
        "id": "s6XwkIYsMc6M",
        "colab_type": "text"
      },
      "source": [
        "**Values from a standard Gaussian distribution can be scaled by multiplying the value by the standard deviation and adding the mean from the desired scaled distribution. For example:**\n",
        "\n",
        "\n",
        "\n",
        "```\n",
        "scaled value = mean + value * stdev\n",
        "```\n",
        "**Where mean and stdev are the mean and standard deviation for the desired scaled Gaussian distribution and value is the randomly generated value from a standard Gaussian distribution.**\n",
        "\n"
      ]
    },
    {
      "cell_type": "code",
      "metadata": {
        "id": "YDDd_GVBMWKy",
        "colab_type": "code",
        "colab": {}
      },
      "source": [
        ""
      ],
      "execution_count": 0,
      "outputs": []
    }
  ]
}