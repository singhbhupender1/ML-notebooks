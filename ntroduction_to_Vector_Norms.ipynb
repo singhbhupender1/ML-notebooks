{
  "nbformat": 4,
  "nbformat_minor": 0,
  "metadata": {
    "colab": {
      "name": "ntroduction to Vector Norms.ipynb",
      "provenance": [],
      "authorship_tag": "ABX9TyMFjCO32U8Xxnv62TPQRYXd",
      "include_colab_link": true
    },
    "kernelspec": {
      "name": "python3",
      "display_name": "Python 3"
    }
  },
  "cells": [
    {
      "cell_type": "markdown",
      "metadata": {
        "id": "view-in-github",
        "colab_type": "text"
      },
      "source": [
        "<a href=\"https://colab.research.google.com/github/singhbhupender1/ML-notebooks/blob/master/ntroduction_to_Vector_Norms.ipynb\" target=\"_parent\"><img src=\"https://colab.research.google.com/assets/colab-badge.svg\" alt=\"Open In Colab\"/></a>"
      ]
    },
    {
      "cell_type": "markdown",
      "metadata": {
        "id": "D3wqdzD16Mo8",
        "colab_type": "text"
      },
      "source": [
        "##Vector Norm\n",
        "**Calculating the size or length of a vector is often required either directly or as part of a broader vector or vector-matrix operation.**\n",
        "\n",
        "**The length of the vector is referred to as the vector norm or the vectThe length of the vector is always a positive number, except for a vector of all zero values. It is calculated using some measure that summarizes the distance of the vector from the origin of the vector space. For example, the origin of a vector space for a vector with 3 elements is (0, 0, 0).**\n",
        "\n",
        "**Notations are used to represent the vector norm in broader calculations and the type of vector norm calculation almost always has its own unique notation.or’s magnitude.**\n"
      ]
    },
    {
      "cell_type": "markdown",
      "metadata": {
        "id": "2JgBewbQ6i2t",
        "colab_type": "text"
      },
      "source": [
        "##Vector L1 Norm\n",
        "**The length of a vector can be calculated using the L1 norm, where the 1 is a superscript of the L, e.g. L^1.**\n",
        "\n",
        "**The notation for the L1 norm of a vector is ||v||1, where 1 is a subscript. As such, this length is sometimes called the taxicab norm or the Manhattan norm.**\n",
        "\n",
        "**The L1 norm is calculated as the sum of the absolute vector values, where the absolute value of a scalar uses the notation |a1|. In effect, the norm is a calculation of the Manhattan distance from the origin of the vector space.**\n",
        "\n",
        "\n",
        "\n",
        "```\n",
        "||v||1 = |a1| + |a2| + |a3|\n",
        "```\n",
        "**The L1 norm is often used when fitting machine learning algorithms as a regularization method, e.g. a method to keep the coefficients of the model small, and in turn, the model less complex.**\n"
      ]
    },
    {
      "cell_type": "markdown",
      "metadata": {
        "id": "UNeD-BsT8OUm",
        "colab_type": "text"
      },
      "source": [
        "**The L1 norm of a vector can be calculated in NumPy using the norm() function with a parameter to specify the norm order, in this case 1.**\n",
        "\n",
        "**First, a 1×3 vector is defined, then the L1 norm of the vector is calculated.**"
      ]
    },
    {
      "cell_type": "code",
      "metadata": {
        "id": "cpmA138Y6Fz6",
        "colab_type": "code",
        "colab": {
          "base_uri": "https://localhost:8080/",
          "height": 50
        },
        "outputId": "9eb61ad7-32a7-4679-fb33-880f3fb48b6c"
      },
      "source": [
        "#L1 norm of a vector\n",
        "from numpy import array\n",
        "from numpy.linalg import norm\n",
        "a = array([1, 2, 3])\n",
        "print(a)\n",
        "l1 = norm(a, 1)\n",
        "print(l1)"
      ],
      "execution_count": 1,
      "outputs": [
        {
          "output_type": "stream",
          "text": [
            "[1 2 3]\n",
            "6.0\n"
          ],
          "name": "stdout"
        }
      ]
    },
    {
      "cell_type": "markdown",
      "metadata": {
        "id": "X76WBeVs9F88",
        "colab_type": "text"
      },
      "source": [
        "##Vector L2 Norm\n",
        "**The length of a vector can be calculated using the L2 norm, where the 2 is a superscript of the L, e.g. L^2.**\n",
        "\n",
        "**The notation for the L2 norm of a vector is ||v||2 where 2 is a subscript.**\n",
        "\n",
        "**The L2 norm calculates the distance of the vector coordinate from the origin of the vector space. As such, it is also known as the Euclidean norm as it is calculated as the Euclidean distance from the origin. The result is a positive distance value.**\n",
        "\n",
        "\n",
        "```\n",
        "||v||2 = sqrt(a1^2 + a2^2 + a3^2)\n",
        "```\n",
        "\n",
        "\n",
        "\n",
        "**The L2 norm is calculated as the square root of the sum of the squared vector values.**"
      ]
    },
    {
      "cell_type": "markdown",
      "metadata": {
        "id": "GAOkaHaY9T_H",
        "colab_type": "text"
      },
      "source": [
        "**The L2 norm of a vector can be calculated in NumPy using the norm() function with default parameters.**"
      ]
    },
    {
      "cell_type": "code",
      "metadata": {
        "id": "nC9eenPN8j3g",
        "colab_type": "code",
        "colab": {
          "base_uri": "https://localhost:8080/",
          "height": 50
        },
        "outputId": "061b0741-8e82-414f-a583-97a825b70225"
      },
      "source": [
        "#l2 norm of a vector\n",
        "from numpy import array\n",
        "from numpy.linalg import norm\n",
        "a = array([1, 2, 3])\n",
        "print(a)\n",
        "l2 = norm(a)\n",
        "print(l2)"
      ],
      "execution_count": 2,
      "outputs": [
        {
          "output_type": "stream",
          "text": [
            "[1 2 3]\n",
            "3.7416573867739413\n"
          ],
          "name": "stdout"
        }
      ]
    },
    {
      "cell_type": "markdown",
      "metadata": {
        "id": "XN4ZeY3t-Jtc",
        "colab_type": "text"
      },
      "source": [
        "**Like the L1 norm, the L2 norm is often used when fitting machine learning algorithms as a regularization method, e.g. a method to keep the coefficients of the model small and, in turn, the model less complex.**\n",
        "\n",
        "**By far, the L2 norm is more commonly used than other vector norms in machine learning.**"
      ]
    },
    {
      "cell_type": "markdown",
      "metadata": {
        "id": "BEBQClkm-UId",
        "colab_type": "text"
      },
      "source": [
        "##Vector Max Norm\n",
        "\n",
        "**The length of a vector can be calculated using the maximum norm, also called max norm.**\n",
        "\n",
        "**Max norm of a vector is referred to as L^inf where inf is a superscript and can be represented with the infinity symbol. The notation for max norm is ||x||inf, where inf is a subscript.**\n",
        "\n",
        "\n",
        "\n",
        "```\n",
        "||v||inf = max(|a1|, |a2|, |a3|)\n",
        "```\n",
        "\n"
      ]
    },
    {
      "cell_type": "code",
      "metadata": {
        "id": "Ma5_QLL-9iz9",
        "colab_type": "code",
        "colab": {
          "base_uri": "https://localhost:8080/",
          "height": 50
        },
        "outputId": "6ee6b90e-a75c-425a-aaa7-afb1adc6c670"
      },
      "source": [
        "#max norm of a vector\n",
        "from numpy import inf\n",
        "from numpy import array\n",
        "from numpy.linalg import norm\n",
        "a = array([1, 2, 3])\n",
        "print(a)\n",
        "#order parameter set to inf\n",
        "maxnorm = norm(a, inf)\n",
        "print(maxnorm)"
      ],
      "execution_count": 4,
      "outputs": [
        {
          "output_type": "stream",
          "text": [
            "[1 2 3]\n",
            "3.0\n"
          ],
          "name": "stdout"
        }
      ]
    },
    {
      "cell_type": "code",
      "metadata": {
        "id": "hPwWwoXH_BKf",
        "colab_type": "code",
        "colab": {}
      },
      "source": [
        ""
      ],
      "execution_count": 0,
      "outputs": []
    }
  ]
}