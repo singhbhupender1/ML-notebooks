{
  "nbformat": 4,
  "nbformat_minor": 0,
  "metadata": {
    "colab": {
      "name": "Data loading.ipynb",
      "provenance": [],
      "include_colab_link": true
    },
    "kernelspec": {
      "name": "python3",
      "display_name": "Python 3"
    }
  },
  "cells": [
    {
      "cell_type": "markdown",
      "metadata": {
        "id": "view-in-github",
        "colab_type": "text"
      },
      "source": [
        "<a href=\"https://colab.research.google.com/github/singhbhupender1/ML-notebooks/blob/master/Data_loading.ipynb\" target=\"_parent\"><img src=\"https://colab.research.google.com/assets/colab-badge.svg\" alt=\"Open In Colab\"/></a>"
      ]
    },
    {
      "cell_type": "markdown",
      "metadata": {
        "id": "N7if-jIXoP_T",
        "colab_type": "text"
      },
      "source": [
        "**Diffrent ways to load data for ML**"
      ]
    },
    {
      "cell_type": "markdown",
      "metadata": {
        "id": "g83wUHMPobKa",
        "colab_type": "text"
      },
      "source": [
        "##using standard Python library##"
      ]
    },
    {
      "cell_type": "code",
      "metadata": {
        "id": "HTHPOmCloMPl",
        "colab_type": "code",
        "colab": {
          "base_uri": "https://localhost:8080/",
          "height": 151
        },
        "outputId": "29db2ef8-34e8-4e3a-8824-05d7b4e1b56e"
      },
      "source": [
        "#Load CSV \n",
        "import csv\n",
        "import numpy\n",
        "#should be directory where file is\n",
        "url = '/content/pima-indians-diabetes.data.csv'\n",
        "#'rt' refers to read mode\n",
        "raw_data = open(url, 'rt')\n",
        "reader = csv.reader(raw_data, delimiter=\",\", quoting=csv.QUOTE_NONE)\n",
        "x= list(reader)\n",
        "data = numpy.array(x).astype('float')\n",
        "print(data.shape)\n",
        "print(data)"
      ],
      "execution_count": 3,
      "outputs": [
        {
          "output_type": "stream",
          "text": [
            "(768, 9)\n",
            "[[  6.    148.     72.    ...   0.627  50.      1.   ]\n",
            " [  1.     85.     66.    ...   0.351  31.      0.   ]\n",
            " [  8.    183.     64.    ...   0.672  32.      1.   ]\n",
            " ...\n",
            " [  5.    121.     72.    ...   0.245  30.      0.   ]\n",
            " [  1.    126.     60.    ...   0.349  47.      1.   ]\n",
            " [  1.     93.     70.    ...   0.315  23.      0.   ]]\n"
          ],
          "name": "stdout"
        }
      ]
    },
    {
      "cell_type": "markdown",
      "metadata": {
        "id": "7EyXSgaerv-Q",
        "colab_type": "text"
      },
      "source": [
        "**Load with Numpy library**"
      ]
    },
    {
      "cell_type": "code",
      "metadata": {
        "id": "NUBWQCRxpqnv",
        "colab_type": "code",
        "colab": {
          "base_uri": "https://localhost:8080/",
          "height": 34
        },
        "outputId": "0bb23b98-eadf-4076-fe81-9a83497deb0a"
      },
      "source": [
        "#Load CSV\n",
        "import numpy\n",
        "file = '/content/pima-indians-diabetes.data.csv'\n",
        "raw_data = open(file, 'rt')\n",
        "data = numpy.loadtxt(raw_data, delimiter=',')\n",
        "print(data.shape)"
      ],
      "execution_count": 6,
      "outputs": [
        {
          "output_type": "stream",
          "text": [
            "(768, 9)\n"
          ],
          "name": "stdout"
        }
      ]
    },
    {
      "cell_type": "markdown",
      "metadata": {
        "id": "yoFVSuC-sgsq",
        "colab_type": "text"
      },
      "source": [
        "**Load directly from URL**"
      ]
    },
    {
      "cell_type": "code",
      "metadata": {
        "id": "YTbVS2HPr4T2",
        "colab_type": "code",
        "colab": {
          "base_uri": "https://localhost:8080/",
          "height": 34
        },
        "outputId": "22f30382-69cb-4672-cf6c-ab82f7113605"
      },
      "source": [
        "from numpy import loadtxt\n",
        "#assuming you are using python 3\n",
        "from urllib.request import urlopen\n",
        "url = 'https://raw.githubusercontent.com/jbrownlee/Datasets/master/pima-indians-diabetes.data.csv'\n",
        "raw_data = urlopen(url)\n",
        "data = loadtxt(raw_data, delimiter=',')\n",
        "print(data.shape)"
      ],
      "execution_count": 8,
      "outputs": [
        {
          "output_type": "stream",
          "text": [
            "(768, 9)\n"
          ],
          "name": "stdout"
        }
      ]
    },
    {
      "cell_type": "markdown",
      "metadata": {
        "id": "R2IplEC2upvJ",
        "colab_type": "text"
      },
      "source": [
        "**Load csv using Pandas Library**"
      ]
    },
    {
      "cell_type": "markdown",
      "metadata": {
        "id": "QB5ZVL9tuvi7",
        "colab_type": "text"
      },
      "source": [
        "##this is the most recommended approach for loading data##\n",
        "###it uses pandas Dataframe"
      ]
    },
    {
      "cell_type": "code",
      "metadata": {
        "id": "b-YM24VPtDFt",
        "colab_type": "code",
        "colab": {
          "base_uri": "https://localhost:8080/",
          "height": 34
        },
        "outputId": "a905eb8b-798d-4615-d7a4-300cbdceb8cf"
      },
      "source": [
        "import pandas\n",
        "url = 'https://raw.githubusercontent.com/jbrownlee/Datasets/master/pima-indians-diabetes.data.csv'\n",
        "names = ['preg', 'plas', 'pres', 'skin', 'test', 'mass', 'pedi', 'age', 'class']\n",
        "data = pandas.read_csv(url, names=names)\n",
        "print(data.shape)"
      ],
      "execution_count": 9,
      "outputs": [
        {
          "output_type": "stream",
          "text": [
            "(768, 9)\n"
          ],
          "name": "stdout"
        }
      ]
    },
    {
      "cell_type": "code",
      "metadata": {
        "id": "75BHvJVCvhwH",
        "colab_type": "code",
        "colab": {}
      },
      "source": [
        ""
      ],
      "execution_count": 0,
      "outputs": []
    }
  ]
}