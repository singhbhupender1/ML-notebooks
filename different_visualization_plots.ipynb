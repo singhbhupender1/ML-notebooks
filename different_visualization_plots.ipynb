{
  "nbformat": 4,
  "nbformat_minor": 0,
  "metadata": {
    "colab": {
      "name": "different visualization plots.ipynb",
      "provenance": [],
      "authorship_tag": "ABX9TyOyywqKH4fISI+VY1JOdeVi",
      "include_colab_link": true
    },
    "kernelspec": {
      "name": "python3",
      "display_name": "Python 3"
    }
  },
  "cells": [
    {
      "cell_type": "markdown",
      "metadata": {
        "id": "view-in-github",
        "colab_type": "text"
      },
      "source": [
        "<a href=\"https://colab.research.google.com/github/singhbhupender1/ML-notebooks/blob/master/different_visualization_plots.ipynb\" target=\"_parent\"><img src=\"https://colab.research.google.com/assets/colab-badge.svg\" alt=\"Open In Colab\"/></a>"
      ]
    },
    {
      "cell_type": "markdown",
      "metadata": {
        "id": "wld9PflAUZbc",
        "colab_type": "text"
      },
      "source": [
        "##Introduction to Matplotlib\n",
        "**The matplotlib provides a context, one in which one or more plots can be drawn before the image is shown or saved to file. The context can be accessed via functions on pyplot. The context can be imported as follows:**\n",
        "\n",
        "`\n",
        "from matplotlib import pyplot\n",
        "`\n",
        "\n",
        "**Charts and plots are made by making and calling on context; for example:**\n",
        "\n",
        "`\n",
        "pyplot.plot(...)\n",
        "`"
      ]
    },
    {
      "cell_type": "markdown",
      "metadata": {
        "id": "WpaI81woVBk0",
        "colab_type": "text"
      },
      "source": [
        "**Alternately, the drawings on the context can be saved to file, such as a PNG formatted image file. The savefig() function can be used to save images.**\n",
        "\n",
        "`\n",
        "pyplot.savefig('my_image.png')\n",
        "`"
      ]
    },
    {
      "cell_type": "markdown",
      "metadata": {
        "id": "vBP8x5J_VSdV",
        "colab_type": "text"
      },
      "source": [
        "##Line Plot\n",
        "**A line plot is generally used to present observations collected at regular intervals.**\n",
        "\n",
        "**The x-axis represents the regular interval, such as time. The y-axis shows the observations, ordered by the x-axis and connected by a line.**\n",
        "\n",
        "**A line plot can be created by calling the plot() function and passing the x-axis data for the regular interval, and y-axis for the observations.**\n",
        "\n",
        "```\n",
        "#create line plot\n",
        "\n",
        "pyplot.plot(x, y)\n",
        "```\n",
        "**Line plots are useful for presenting time series data as well as any sequence data where there is an ordering between observations.**\n",
        "\n",
        "**The example below creates a sequence of 100 floating point values as the x-axis and a sine wave as a function of the x-axis as the observations on the y-axis. The results are plotted as a line plot.**"
      ]
    },
    {
      "cell_type": "code",
      "metadata": {
        "id": "1s6VbFqxUBcD",
        "colab_type": "code",
        "colab": {
          "base_uri": "https://localhost:8080/",
          "height": 265
        },
        "outputId": "55f4d5f4-eccf-442a-fc47-8b49222374fa"
      },
      "source": [
        "#example of a line plot\n",
        "from numpy import sin\n",
        "from matplotlib import pyplot\n",
        "#consistent interval for x-axis\n",
        "x = [x*0.1 for x in range(100)]\n",
        "#function of x for y-axis\n",
        "y = sin(x)\n",
        "#create line  plot\n",
        "pyplot.plot(x, y)\n",
        "#show line plot\n",
        "pyplot.show()"
      ],
      "execution_count": 1,
      "outputs": [
        {
          "output_type": "display_data",
          "data": {
            "image/png": "[encoded data removed]",
            "text/plain": [
              "<Figure size 432x288 with 1 Axes>"
            ]
          },
          "metadata": {
            "tags": []
          }
        }
      ]
    },
    {
      "cell_type": "markdown",
      "metadata": {
        "id": "5xz4mybaeETf",
        "colab_type": "text"
      },
      "source": [
        "##Bar Chart\n",
        "**A bar chart is generally used to present relative quantities for multiple categories.**\n",
        "\n",
        "**The x-axis represents the categories and are spaced evenly. The y-axis represents the quantity for each category and is drawn as a bar from the baseline to the appropriate level on the y-axis.**\n",
        "\n",
        "**A bar chart can be created by calling the bar() function and passing the category names for the x-axis and the quantities for the y-axis.**\n",
        "\n",
        "```\n",
        "# create bar chart\n",
        "pyplot.bar(x, y)\n",
        "```\n",
        "**Bar charts can be useful for comparing multiple point quantities or estimations.**\n",
        "\n",
        "**The example below creates a dataset with three categories, each defined with a string label. A single random integer value is drawn for the quantity in each category.**"
      ]
    },
    {
      "cell_type": "code",
      "metadata": {
        "id": "mwlsLTlJeArI",
        "colab_type": "code",
        "colab": {
          "base_uri": "https://localhost:8080/",
          "height": 265
        },
        "outputId": "0a007282-d226-4c01-a506-abbb9e150bb2"
      },
      "source": [
        "#examplr of a bar chart\n",
        "from random import seed\n",
        "from random import randint\n",
        "from matplotlib import pyplot\n",
        "#seeed the random number generator\n",
        "seed(1)\n",
        "#names for categories\n",
        "x = ['red', 'green', 'blue']\n",
        "#quantities for each category\n",
        "y = [randint(0, 100), randint(0, 100), randint(0, 100)]\n",
        "#create bar chart\n",
        "pyplot.bar(x, y)\n",
        "#show line plot\n",
        "pyplot.show()"
      ],
      "execution_count": 2,
      "outputs": [
        {
          "output_type": "display_data",
          "data": {
            "image/png": "[encoded data removed]",
            "text/plain": [
              "<Figure size 432x288 with 1 Axes>"
            ]
          },
          "metadata": {
            "tags": []
          }
        }
      ]
    },
    {
      "cell_type": "markdown",
      "metadata": {
        "id": "4lK_ExyLfO5P",
        "colab_type": "text"
      },
      "source": [
        "##Histogram Plot\n",
        "**A histogram plot is generally used to summarize the distribution of a data sample.**\n",
        "\n",
        "**The x-axis represents discrete bins or intervals for the observations. For example observations with values between 1 and 10 may be split into five bins, the values [1,2] would be allocated to the first bin, [3,4] would be allocated to the second bin, and so on.**\n",
        "\n",
        "**The y-axis represents the frequency or count of the number of observations in the dataset that belong to each bin.**\n",
        "\n",
        "**Essentially, a data sample is transformed into a bar chart where each category on the x-axis represents an interval of observation values.**\n",
        "\n",
        "```\n",
        "# create histogram plot\n",
        "pyplot.hist(x)\n",
        "```\n",
        "\n",
        "**Histograms are valuable for summarizing the distribution of data samples.**\n",
        "\n",
        "**The example below creates a dataset of 1,000 random numbers drawn from a standard Gaussian distribution, then plots the dataset as a histogram.**"
      ]
    },
    {
      "cell_type": "code",
      "metadata": {
        "id": "Ks5K6h5lfIYC",
        "colab_type": "code",
        "colab": {
          "base_uri": "https://localhost:8080/",
          "height": 269
        },
        "outputId": "5ec7ccb2-612d-45bd-86f4-221cb1e188a0"
      },
      "source": [
        "#example of histogram plot\n",
        "from numpy.random import seed\n",
        "from numpy.random import randn\n",
        "from matplotlib import pyplot\n",
        "#seed the random number generator\n",
        "seed(1)\n",
        "#random number drawn from a Gaussian distribution\n",
        "x = randn(1000)\n",
        "#create histogram plot\n",
        "pyplot.hist(x)\n",
        "#show line plot\n",
        "pyplot.show()"
      ],
      "execution_count": 3,
      "outputs": [
        {
          "output_type": "display_data",
          "data": {
            "image/png": "[encoded data removed]",
            "text/plain": [
              "<Figure size 432x288 with 1 Axes>"
            ]
          },
          "metadata": {
            "tags": []
          }
        }
      ]
    },
    {
      "cell_type": "markdown",
      "metadata": {
        "id": "5wU41PFmgnAV",
        "colab_type": "text"
      },
      "source": [
        "**Often, careful choice of the number of bins can help to better expose the shape of the data distribution. The number of bins can be specified by setting the “bins” argument; for example:**\n",
        "\n",
        "```\n",
        "# create histogram plot\n",
        "pyplot.hist(x, bins=100)\n",
        "```"
      ]
    },
    {
      "cell_type": "markdown",
      "metadata": {
        "id": "SGgR3-QMgwkC",
        "colab_type": "text"
      },
      "source": [
        "##Box and Whisker Plot\n",
        "**A box and whisker plot, or boxplot for short, is generally used to summarize the distribution of a data sample.**\n",
        "\n",
        "**The x-axis is used to represent the data sample, where multiple boxplots can be drawn side by side on the x-axis if desired.**\n",
        "\n",
        "**The y-axis represents the observation values. A box is drawn to summarize the middle 50% of the dataset starting at the observation at the 25th percentile and ending at the 75th percentile. This is called the interquartile range, or IQR. The median, or 50th percentile, is drawn with a line.**\n",
        "\n",
        "**Lines called whiskers are drawn extending from both ends of the box calculated as (1.5 x IQR) to demonstrate the expected range of sensible values in the distribution. Observations outside the whiskers might be outliers and are drawn with small circles.**\n",
        "\n",
        "```\n",
        "# create box and whisker plot\n",
        "pyplot.boxplot(x)\n",
        "```\n",
        "\n",
        "**Boxplots are useful to summarize the distribution of a data sample as an alternative to the histogram. They can help to quickly get an idea of the range of common and sensible values in the box and in the whisker respectively. Because we are not looking at the shape of the distribution explicitly, this method is often used when the data has an unknown or unusual distribution, such as non-Gaussian.**\n",
        "\n",
        "T**he example below creates three boxplots in one chart, each summarizing a data sample drawn from a slightly different Gaussian distribution. Each data sample is created as an array and all three data sample arrays are added to a list that is padded to the plotting function.**"
      ]
    },
    {
      "cell_type": "code",
      "metadata": {
        "id": "4i8h-6p9giJe",
        "colab_type": "code",
        "colab": {
          "base_uri": "https://localhost:8080/",
          "height": 267
        },
        "outputId": "4e85ae89-c8ad-4d0d-b9e7-744c007a8c3e"
      },
      "source": [
        "#examplr of a box and whisker plot\n",
        "from numpy.random import seed\n",
        "from numpy.random import randn\n",
        "from matplotlib import pyplot\n",
        "#seed the random number generator\n",
        "seed(1)\n",
        "#random numbers drawn from a Gaussian distribution\n",
        "x = [randn(1000), 5 *randn(1000), 10* randn(1000)]\n",
        "#create box and whisker plot\n",
        "pyplot.boxplot(x)\n",
        "#show line plot\n",
        "pyplot.show()"
      ],
      "execution_count": 4,
      "outputs": [
        {
          "output_type": "display_data",
          "data": {
            "image/png": "[encoded data removed]",
            "text/plain": [
              "<Figure size 432x288 with 1 Axes>"
            ]
          },
          "metadata": {
            "tags": []
          }
        }
      ]
    },
    {
      "cell_type": "markdown",
      "metadata": {
        "id": "sSyZmmr9l9x3",
        "colab_type": "text"
      },
      "source": [
        "**In this case, we can see the black box for the middle 50% of the data, the orange line for the median, the lines for the whiskers summarizing the range of sensible data, and finally dots for the possible outliers.**"
      ]
    },
    {
      "cell_type": "markdown",
      "metadata": {
        "id": "e7392DPfmFPG",
        "colab_type": "text"
      },
      "source": [
        "##Scatter Plot\n",
        "**A scatter plot (or ‘scatterplot’) is generally used to summarize the relationship between two paired data samples.**\n",
        "\n",
        "**Paired data samples means that two measures were recorded for a given observation, such as the weight and height of a person.**\n",
        "\n",
        "**The x-axis represents observation values for the first sample, and the y-axis represents the observation values for the second sample. Each point on the plot represents a single observation.**\n",
        "\n",
        "**Scatterplots are bivariate or trivariate plots of variables against each other. They help us understand relationships among the variables of a dataset. A downward-sloping scatter indicates that as we increase the variable on the horizontal axis, the variable on the vertical axis decreases.**\n",
        "\n",
        "```\n",
        "# create scatter plot\n",
        "pyplot.scatter(x, y)\n",
        "```\n",
        "\n",
        "**Scatter plots are useful for showing the association or correlation between two variables. A correlation can be quantified, such as a line of best fit, that too can be drawn as a line plot on the same chart, making the relationship clearer.**\n",
        "\n",
        "**A dataset may have more than two measures (variables or columns) for a given observation. A scatter plot matrix is a cart containing scatter plots for each pair of variables in a dataset with more than two variables.**\n",
        "\n",
        "**The example below creates two data samples that are related. The first is a sample of random numbers drawn from a standard Gaussian. The second is dependent upon the first by adding a second random Gaussian value to the value of the first measure.**"
      ]
    },
    {
      "cell_type": "code",
      "metadata": {
        "id": "gjCtmoW5ltmX",
        "colab_type": "code",
        "colab": {
          "base_uri": "https://localhost:8080/",
          "height": 265
        },
        "outputId": "0bdfbc7f-2124-4cb0-e0d9-906c15628526"
      },
      "source": [
        "#example of a scatter plot\n",
        "from numpy.random import seed\n",
        "from numpy.random import randn\n",
        "from matplotlib import pyplot\n",
        "#seedd the radn=om number generator\n",
        "seed(1)\n",
        "#first variable\n",
        "x = 20 * randn(1000) + 100\n",
        "#second varibale\n",
        "y = x + (10 * randn(1000) + 50)\n",
        "#create scatter plot\n",
        "pyplot.scatter(x, y)\n",
        "#sgow line plot\n",
        "pyplot.show()\n"
      ],
      "execution_count": 6,
      "outputs": [
        {
          "output_type": "display_data",
          "data": {
            "image/png": "[encoded data removed]",
            "text/plain": [
              "<Figure size 432x288 with 1 Axes>"
            ]
          },
          "metadata": {
            "tags": []
          }
        }
      ]
    },
    {
      "cell_type": "code",
      "metadata": {
        "id": "yoyCriJZoBQ_",
        "colab_type": "code",
        "colab": {}
      },
      "source": [
        ""
      ],
      "execution_count": 0,
      "outputs": []
    }
  ]
}