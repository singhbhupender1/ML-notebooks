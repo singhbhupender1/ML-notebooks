{
  "nbformat": 4,
  "nbformat_minor": 0,
  "metadata": {
    "colab": {
      "name": "textFiles.ipynb",
      "provenance": [],
      "authorship_tag": "ABX9TyNqBgwb7dWrLZzJsp4csATh",
      "include_colab_link": true
    },
    "kernelspec": {
      "name": "python3",
      "display_name": "Python 3"
    }
  },
  "cells": [
    {
      "cell_type": "markdown",
      "metadata": {
        "id": "view-in-github",
        "colab_type": "text"
      },
      "source": [
        "<a href=\"https://colab.research.google.com/github/singhbhupender1/ML-notebooks/blob/master/textFiles.ipynb\" target=\"_parent\"><img src=\"https://colab.research.google.com/assets/colab-badge.svg\" alt=\"Open In Colab\"/></a>"
      ]
    },
    {
      "cell_type": "code",
      "metadata": {
        "id": "u2nuwlYvnTnX",
        "colab_type": "code",
        "colab": {
          "base_uri": "https://localhost:8080/",
          "height": 104
        },
        "outputId": "e64263a4-bfd1-4a45-eacd-9e5205058205"
      },
      "source": [
        "def file_read(fname):\n",
        "  txt = open(fname)\n",
        "  print(txt.read())\n",
        "\n",
        "file_read('test.txt')"
      ],
      "execution_count": 1,
      "outputs": [
        {
          "output_type": "stream",
          "text": [
            "What is Python language?                                                \n",
            "Python is a widely used high-level, general-purpose, interpreted, dynamic programming language.Its design philosophy emphasizes code readability, and its syntax allows programmers to express concepts in fewer lines of code than possible in \n",
            "languages such as C++ or Java. \n",
            "Python supports multiple programming paradigms, including object-oriented, imperative and functional programming or procedural styles. It features a dynamic type system and automatic memory management and has a large and comprehensive standard library.The best way we learn anything is by practice and exercise questions. We  have started this section for those (beginner to intermediate) who are familiar with Python.\n"
          ],
          "name": "stdout"
        }
      ]
    },
    {
      "cell_type": "code",
      "metadata": {
        "id": "XGY0ulgsn_1V",
        "colab_type": "code",
        "colab": {
          "base_uri": "https://localhost:8080/",
          "height": 104
        },
        "outputId": "42a83a28-11eb-41d1-b97d-a2f36fb97ea0"
      },
      "source": [
        "#read first n lines of a file\n",
        "def file_read_from_head(fname, nline):\n",
        "  from itertools import islice\n",
        "  with open(fname) as f:\n",
        "    for line in islice(f, nline):\n",
        "      print(line)\n",
        "file_read_from_head('test.txt', 2)"
      ],
      "execution_count": 3,
      "outputs": [
        {
          "output_type": "stream",
          "text": [
            "What is Python language?                                                \n",
            "\n",
            "Python is a widely used high-level, general-purpose, interpreted, dynamic programming language.Its design philosophy emphasizes code readability, and its syntax allows programmers to express concepts in fewer lines of code than possible in \n",
            "\n"
          ],
          "name": "stdout"
        }
      ]
    },
    {
      "cell_type": "code",
      "metadata": {
        "id": "YD1s06KJo6TH",
        "colab_type": "code",
        "colab": {
          "base_uri": "https://localhost:8080/",
          "height": 34
        },
        "outputId": "a56a905d-9faa-4838-e717-a32c3f2d35db"
      },
      "source": [
        "#append text to a file and display it\n",
        "def file_read(fname):\n",
        "  from itertools import islice\n",
        "  with open(fname, 'wt') as myfile:\n",
        "    myfile.write('pthton excersise')\n",
        "    myfile.write('tjis is noe way')\n",
        "  txt =  open(fname)\n",
        "  print(txt.read())\n",
        "file_read('abc.txt')"
      ],
      "execution_count": 6,
      "outputs": [
        {
          "output_type": "stream",
          "text": [
            "pthton excersisetjis is noe way\n"
          ],
          "name": "stdout"
        }
      ]
    },
    {
      "cell_type": "code",
      "metadata": {
        "id": "I3icdZjEpkmw",
        "colab_type": "code",
        "colab": {
          "base_uri": "https://localhost:8080/",
          "height": 54
        },
        "outputId": "1f759f4c-94c3-491f-c573-3b7e30614975"
      },
      "source": [
        "#read program to read file line by line and store it in list\n",
        "def file_read(fname):\n",
        "  with open(fname) as f:\n",
        "    content_list = f.readlines()\n",
        "    print(content_list)\n",
        "\n",
        "file_read('test.txt')"
      ],
      "execution_count": 10,
      "outputs": [
        {
          "output_type": "stream",
          "text": [
            "['What is Python language?                                                \\n', 'Python is a widely used high-level, general-purpose, interpreted, dynamic programming language.Its design philosophy emphasizes code readability, and its syntax allows programmers to express concepts in fewer lines of code than possible in \\n', 'languages such as C++ or Java. \\n', 'Python supports multiple programming paradigms, including object-oriented, imperative and functional programming or procedural styles. It features a dynamic type system and automatic memory management and has a large and comprehensive standard library.The best way we learn anything is by practice and exercise questions. We  have started this section for those (beginner to intermediate) who are familiar with Python.']\n"
          ],
          "name": "stdout"
        }
      ]
    },
    {
      "cell_type": "code",
      "metadata": {
        "id": "fl92zPUwsRVn",
        "colab_type": "code",
        "colab": {
          "base_uri": "https://localhost:8080/",
          "height": 54
        },
        "outputId": "57122a5c-aa04-479a-c8bc-fabbd9f759d0"
      },
      "source": [
        "#Python program to read a file line by lien and store it in a variable\n",
        "def file_read(fname):\n",
        "  with open(fname, 'rt') as f:\n",
        "    data = f.readlines()\n",
        "    print(data)\n",
        "\n",
        "file_read('test.txt')"
      ],
      "execution_count": 11,
      "outputs": [
        {
          "output_type": "stream",
          "text": [
            "['What is Python language?                                                \\n', 'Python is a widely used high-level, general-purpose, interpreted, dynamic programming language.Its design philosophy emphasizes code readability, and its syntax allows programmers to express concepts in fewer lines of code than possible in \\n', 'languages such as C++ or Java. \\n', 'Python supports multiple programming paradigms, including object-oriented, imperative and functional programming or procedural styles. It features a dynamic type system and automatic memory management and has a large and comprehensive standard library.The best way we learn anything is by practice and exercise questions. We  have started this section for those (beginner to intermediate) who are familiar with Python.']\n"
          ],
          "name": "stdout"
        }
      ]
    },
    {
      "cell_type": "code",
      "metadata": {
        "id": "Ei-n84kttb8w",
        "colab_type": "code",
        "colab": {
          "base_uri": "https://localhost:8080/",
          "height": 34
        },
        "outputId": "0e514fbe-5eea-4490-839b-94d759f5223b"
      },
      "source": [
        "#program to find the longest words\n",
        "def longest_words(fname):\n",
        "  with open(fname, 'rt') as myfile:\n",
        "    words = myfile.read().split()\n",
        "  max_len = len(max(words, key= len))\n",
        "  return [word for word in words if len(word) == max_len]\n",
        "\n",
        "print(longest_words('test.txt'))"
      ],
      "execution_count": 13,
      "outputs": [
        {
          "output_type": "stream",
          "text": [
            "['general-purpose,', 'object-oriented,']\n"
          ],
          "name": "stdout"
        }
      ]
    },
    {
      "cell_type": "code",
      "metadata": {
        "id": "OfVzOZhrvQbi",
        "colab_type": "code",
        "colab": {
          "base_uri": "https://localhost:8080/",
          "height": 34
        },
        "outputId": "1aa1f644-dd70-4e72-a0d5-2f100f549501"
      },
      "source": [
        "#count # of lines in a text file\n",
        "def file_length(fname):\n",
        "  with open(fname) as f:\n",
        "    for i, l in enumerate(f):\n",
        "      pass\n",
        "  return i + 1\n",
        "print(f\"num of lines in the file: {file_length('test.txt')}\")"
      ],
      "execution_count": 14,
      "outputs": [
        {
          "output_type": "stream",
          "text": [
            "num of lines in the file: 4\n"
          ],
          "name": "stdout"
        }
      ]
    },
    {
      "cell_type": "code",
      "metadata": {
        "id": "1OyzlGC-znTR",
        "colab_type": "code",
        "colab": {
          "base_uri": "https://localhost:8080/",
          "height": 54
        },
        "outputId": "ae16fb33-effc-4fd3-dc15-a975ae4f4ad1"
      },
      "source": [
        "#count frequency of words in a file\n",
        "from collections import Counter\n",
        "def word_count(fname):\n",
        "  with open(fname, 'rt') as f:\n",
        "    return Counter(f.read().split())\n",
        "\n",
        "print(f\"numver of word s in the file: {word_count('test.txt')}\")"
      ],
      "execution_count": 16,
      "outputs": [
        {
          "output_type": "stream",
          "text": [
            "numver of word s in the file: Counter({'and': 6, 'is': 3, 'Python': 3, 'a': 3, 'programming': 3, 'dynamic': 2, 'code': 2, 'to': 2, 'in': 2, 'or': 2, 'What': 1, 'language?': 1, 'widely': 1, 'used': 1, 'high-level,': 1, 'general-purpose,': 1, 'interpreted,': 1, 'language.Its': 1, 'design': 1, 'philosophy': 1, 'emphasizes': 1, 'readability,': 1, 'its': 1, 'syntax': 1, 'allows': 1, 'programmers': 1, 'express': 1, 'concepts': 1, 'fewer': 1, 'lines': 1, 'of': 1, 'than': 1, 'possible': 1, 'languages': 1, 'such': 1, 'as': 1, 'C++': 1, 'Java.': 1, 'supports': 1, 'multiple': 1, 'paradigms,': 1, 'including': 1, 'object-oriented,': 1, 'imperative': 1, 'functional': 1, 'procedural': 1, 'styles.': 1, 'It': 1, 'features': 1, 'type': 1, 'system': 1, 'automatic': 1, 'memory': 1, 'management': 1, 'has': 1, 'large': 1, 'comprehensive': 1, 'standard': 1, 'library.The': 1, 'best': 1, 'way': 1, 'we': 1, 'learn': 1, 'anything': 1, 'by': 1, 'practice': 1, 'exercise': 1, 'questions.': 1, 'We': 1, 'have': 1, 'started': 1, 'this': 1, 'section': 1, 'for': 1, 'those': 1, '(beginner': 1, 'intermediate)': 1, 'who': 1, 'are': 1, 'familiar': 1, 'with': 1, 'Python.': 1})\n"
          ],
          "name": "stdout"
        }
      ]
    },
    {
      "cell_type": "code",
      "metadata": {
        "id": "9rihSHa01O5d",
        "colab_type": "code",
        "colab": {
          "base_uri": "https://localhost:8080/",
          "height": 34
        },
        "outputId": "0c8e53c0-eb1d-457e-e074-7c0a37b6982a"
      },
      "source": [
        "#get size of a plain file\n",
        "def file_size(fname):\n",
        "  import os\n",
        "  statinfo = os.stat(fname)\n",
        "  return statinfo.st_size\n",
        "\n",
        "print(f\"file size {file_size('test.txt')}\")"
      ],
      "execution_count": 17,
      "outputs": [
        {
          "output_type": "stream",
          "text": [
            "file size 767\n"
          ],
          "name": "stdout"
        }
      ]
    },
    {
      "cell_type": "code",
      "metadata": {
        "id": "WpKt6Gg4184N",
        "colab_type": "code",
        "colab": {
          "base_uri": "https://localhost:8080/",
          "height": 134
        },
        "outputId": "bf5a793d-9953-491f-af5e-538941462636"
      },
      "source": [
        "#program to write a list content to a file\n",
        "color = ['Red', 'Green', 'White', 'Black', 'Pink', 'Yellow']\n",
        "with open('abc.txt', 'wt') as myfile:\n",
        "  for c in color:\n",
        "    myfile.write('%s\\n' % c)\n",
        "\n",
        "content = open('abc.txt')\n",
        "print(content.read())"
      ],
      "execution_count": 18,
      "outputs": [
        {
          "output_type": "stream",
          "text": [
            "Red\n",
            "Green\n",
            "White\n",
            "Black\n",
            "Pink\n",
            "Yellow\n",
            "\n"
          ],
          "name": "stdout"
        }
      ]
    },
    {
      "cell_type": "code",
      "metadata": {
        "id": "YzCmIhy625lZ",
        "colab_type": "code",
        "colab": {}
      },
      "source": [
        "#program to copy the contents of a file to another file\n",
        "fro shutil import copyfile\n",
        "copyfile('a', 'b')"
      ],
      "execution_count": 0,
      "outputs": []
    },
    {
      "cell_type": "code",
      "metadata": {
        "id": "hp0yQYA-3KAG",
        "colab_type": "code",
        "colab": {
          "base_uri": "https://localhost:8080/",
          "height": 222
        },
        "outputId": "8b37c2ed-3369-4488-875c-18166f90cba5"
      },
      "source": [
        "#program to combine each line from the first file with the corresponding line in second line\n",
        "with open('abc.txt') as fh1, open('test.txt') as fh2:\n",
        "  for line1, line2 in zip(fh1, fh2):\n",
        "    print(line1 + line2)"
      ],
      "execution_count": 19,
      "outputs": [
        {
          "output_type": "stream",
          "text": [
            "Red\n",
            "What is Python language?                                                \n",
            "\n",
            "Green\n",
            "Python is a widely used high-level, general-purpose, interpreted, dynamic programming language.Its design philosophy emphasizes code readability, and its syntax allows programmers to express concepts in fewer lines of code than possible in \n",
            "\n",
            "White\n",
            "languages such as C++ or Java. \n",
            "\n",
            "Black\n",
            "Python supports multiple programming paradigms, including object-oriented, imperative and functional programming or procedural styles. It features a dynamic type system and automatic memory management and has a large and comprehensive standard library.The best way we learn anything is by practice and exercise questions. We  have started this section for those (beginner to intermediate) who are familiar with Python.\n"
          ],
          "name": "stdout"
        }
      ]
    },
    {
      "cell_type": "code",
      "metadata": {
        "id": "SS2oWTzf4hod",
        "colab_type": "code",
        "colab": {
          "base_uri": "https://localhost:8080/",
          "height": 34
        },
        "outputId": "7e5ae749-5cbf-438a-9681-8a8cdb87ca9e"
      },
      "source": [
        "#program to read a random line from a line\n",
        "import random\n",
        "def random_line(fname):\n",
        "  lines = open(fname).read().splitlines()\n",
        "  return random.choice(lines)\n",
        "\n",
        "print(random_line('test.txt'))"
      ],
      "execution_count": 24,
      "outputs": [
        {
          "output_type": "stream",
          "text": [
            "languages such as C++ or Java. \n"
          ],
          "name": "stdout"
        }
      ]
    },
    {
      "cell_type": "code",
      "metadata": {
        "id": "wLcHCgNZ7Eu0",
        "colab_type": "code",
        "colab": {
          "base_uri": "https://localhost:8080/",
          "height": 54
        },
        "outputId": "ef601318-1740-43a2-9b68-8690aa9bd402"
      },
      "source": [
        "#program to remove newline characters from a file\n",
        "def remove_newline(fname):\n",
        "  flist = open(fname).readlines()\n",
        "  return [s.rstrip('\\n') for s in flist]\n",
        "\n",
        "print(remove_newline('test.txt'))"
      ],
      "execution_count": 25,
      "outputs": [
        {
          "output_type": "stream",
          "text": [
            "['What is Python language?                                                ', 'Python is a widely used high-level, general-purpose, interpreted, dynamic programming language.Its design philosophy emphasizes code readability, and its syntax allows programmers to express concepts in fewer lines of code than possible in ', 'languages such as C++ or Java. ', 'Python supports multiple programming paradigms, including object-oriented, imperative and functional programming or procedural styles. It features a dynamic type system and automatic memory management and has a large and comprehensive standard library.The best way we learn anything is by practice and exercise questions. We  have started this section for those (beginner to intermediate) who are familiar with Python.']\n"
          ],
          "name": "stdout"
        }
      ]
    },
    {
      "cell_type": "code",
      "metadata": {
        "id": "rLfT2C5k80sA",
        "colab_type": "code",
        "colab": {
          "base_uri": "https://localhost:8080/",
          "height": 34
        },
        "outputId": "0b308236-7c51-4745-adb0-aaa7107e2edf"
      },
      "source": [
        "#program taht takes a text file as input and returns the number of words of a given text file\n",
        "def count_words(fname):\n",
        "  with open(fname) as f:\n",
        "    data = f.read()\n",
        "    data.replace(\",\", \" \")\n",
        "    return len(data.split(\" \"))\n",
        "print(count_words('test.txt'))"
      ],
      "execution_count": 26,
      "outputs": [
        {
          "output_type": "stream",
          "text": [
            "148\n"
          ],
          "name": "stdout"
        }
      ]
    },
    {
      "cell_type": "code",
      "metadata": {
        "id": "wE7wmbVc-sGc",
        "colab_type": "code",
        "colab": {}
      },
      "source": [
        "#progrma to generate 26 text file name a.txt, b.txt and so on upto z.txt\n",
        "import string, os\n",
        "if not os.path.exists('letters'):\n",
        "  os.makedirs('letters')\n",
        "for letter in string.ascii_uppercase:\n",
        "  with open(letter + \".txt\", 'w') as f:\n",
        "    f.writelines(letter)"
      ],
      "execution_count": 0,
      "outputs": []
    },
    {
      "cell_type": "code",
      "metadata": {
        "id": "3SmzSqfcBibG",
        "colab_type": "code",
        "colab": {
          "base_uri": "https://localhost:8080/",
          "height": 34
        },
        "outputId": "d21a358f-b0f5-4a48-f9d7-6030c890faef"
      },
      "source": [
        "with open('A.txt') as f:\n",
        "  print(f.read())"
      ],
      "execution_count": 31,
      "outputs": [
        {
          "output_type": "stream",
          "text": [
            "A\n"
          ],
          "name": "stdout"
        }
      ]
    }
  ]
}