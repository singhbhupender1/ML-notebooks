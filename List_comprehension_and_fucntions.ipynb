{
  "nbformat": 4,
  "nbformat_minor": 0,
  "metadata": {
    "colab": {
      "name": "List comprehension and fucntions.ipynb",
      "provenance": [],
      "authorship_tag": "ABX9TyNFqE9ucL7ZG5CMmCAPceQx",
      "include_colab_link": true
    },
    "kernelspec": {
      "name": "python3",
      "display_name": "Python 3"
    }
  },
  "cells": [
    {
      "cell_type": "markdown",
      "metadata": {
        "id": "view-in-github",
        "colab_type": "text"
      },
      "source": [
        "<a href=\"https://colab.research.google.com/github/singhbhupender1/ML-notebooks/blob/master/List_comprehension_and_fucntions.ipynb\" target=\"_parent\"><img src=\"https://colab.research.google.com/assets/colab-badge.svg\" alt=\"Open In Colab\"/></a>"
      ]
    },
    {
      "cell_type": "code",
      "metadata": {
        "id": "GZWrEzR5KCwK",
        "colab_type": "code",
        "colab": {
          "base_uri": "https://localhost:8080/",
          "height": 50
        },
        "outputId": "2d2c8b56-c4ca-48e2-e4c3-10b639f6e340"
      },
      "source": [
        "s = [x**2 for x in range(10)]\n",
        "m = [x for x in s  if x %2 ==0]\n",
        "print(s)\n",
        "print(m)\n"
      ],
      "execution_count": 17,
      "outputs": [
        {
          "output_type": "stream",
          "text": [
            "[0, 1, 4, 9, 16, 25, 36, 49, 64, 81]\n",
            "[0, 4, 16, 36, 64]\n"
          ],
          "name": "stdout"
        }
      ]
    },
    {
      "cell_type": "code",
      "metadata": {
        "id": "CuihzqgrMzAd",
        "colab_type": "code",
        "colab": {
          "base_uri": "https://localhost:8080/",
          "height": 34
        },
        "outputId": "cae0c9a6-5dfc-48f9-a350-b229e9bd34c3"
      },
      "source": [
        "q = [x**3 for x in range(10)]\n",
        "print(q)"
      ],
      "execution_count": 18,
      "outputs": [
        {
          "output_type": "stream",
          "text": [
            "[0, 1, 8, 27, 64, 125, 216, 343, 512, 729]\n"
          ],
          "name": "stdout"
        }
      ]
    },
    {
      "cell_type": "code",
      "metadata": {
        "id": "9ZCrx7ZbNHou",
        "colab_type": "code",
        "colab": {
          "base_uri": "https://localhost:8080/",
          "height": 34
        },
        "outputId": "cbd3471e-139e-4084-d039-4213037f4b48"
      },
      "source": [
        "kilometer = [39.2, 36.5, 37.3, 37.8]\n",
        "\n",
        "#construct 'feet' with 'map()'\n",
        "\n",
        "feet = map(lambda x : float(3280.8399) * x, kilometer)\n",
        "\n",
        "#print 'feet' as a list\n",
        "print(list(feet))"
      ],
      "execution_count": 20,
      "outputs": [
        {
          "output_type": "stream",
          "text": [
            "[128608.92408000001, 119750.65635, 122375.32826999998, 124015.74822]\n"
          ],
          "name": "stdout"
        }
      ]
    },
    {
      "cell_type": "markdown",
      "metadata": {
        "id": "eogIY58JPQfo",
        "colab_type": "text"
      },
      "source": [
        "you can easily replace this combination of functions that define the feet variable with list comprehensions, taking into account the components which you have read about in the previous section:\n",
        "\n",
        "Start with the square brackets.\n",
        "Then add the body of the lambda function in those square brackets: float(3280.8399)*x\n",
        "\n",
        "* Next, add the for keyword and make sure to repeat the sequence element x, which you already referenced by adding the body of the lambda function.\n",
        "\n",
        "* Don't forget to specify where x comes from: add the in keyword, followed by the sequence from where you're going to get x. In this case, you'll transform the elements of the kilometer list."
      ]
    },
    {
      "cell_type": "code",
      "metadata": {
        "id": "jpD4AJvoOJXh",
        "colab_type": "code",
        "colab": {
          "base_uri": "https://localhost:8080/",
          "height": 34
        },
        "outputId": "49970abe-135b-466a-ff7e-68735054306c"
      },
      "source": [
        "feet = [float(3280.8399) * x for x in kilometer]\n",
        "print(feet)"
      ],
      "execution_count": 21,
      "outputs": [
        {
          "output_type": "stream",
          "text": [
            "[128608.92408000001, 119750.65635, 122375.32826999998, 124015.74822]\n"
          ],
          "name": "stdout"
        }
      ]
    },
    {
      "cell_type": "markdown",
      "metadata": {
        "id": "1RFAbC44PvS1",
        "colab_type": "text"
      },
      "source": [
        "#filter() and Lambda Functions to List Comprehensions\n",
        "Now that you have seen how easily you can convert the map() function in combination with a lambda function, you can also tackle code that contains the Python filter() function with lambda functions and rewrite that as well.\n",
        "\n",
        "Consider the following example:"
      ]
    },
    {
      "cell_type": "code",
      "metadata": {
        "id": "QVdtolKVPq45",
        "colab_type": "code",
        "colab": {
          "base_uri": "https://localhost:8080/",
          "height": 34
        },
        "outputId": "a21ac8bc-bcc1-4e86-a5b8-242dbd65cac3"
      },
      "source": [
        "#map the values of 'feet' to integers\n",
        "feet = list(map(int, feet))\n",
        "\n",
        "#filter 'feet' to only include uneven distances\n",
        "uneven = filter(lambda x: x%2, feet)\n",
        "\n",
        "#check the type of 'uneven'\n",
        "type(uneven)\n",
        "\n",
        "#print 'uneven' as a list\n",
        "print(list(uneven))"
      ],
      "execution_count": 23,
      "outputs": [
        {
          "output_type": "stream",
          "text": [
            "[122375, 124015]\n"
          ],
          "name": "stdout"
        }
      ]
    },
    {
      "cell_type": "markdown",
      "metadata": {
        "id": "gjAZBGFOQ_a1",
        "colab_type": "text"
      },
      "source": [
        "To rewrite the lines of code in the above example, you can actually use two list comprehensions, stored in both the feet and uneven variables.\n",
        "\n",
        "First, you rewrite the map() function, which you use to convert the elements of the feet list to integers. Then, you tackle the filter() function: you take the body of the lambda function, use the for and in keywords to logically connect x and feet:\n"
      ]
    },
    {
      "cell_type": "code",
      "metadata": {
        "id": "Vx2HJKk4QuN_",
        "colab_type": "code",
        "colab": {
          "base_uri": "https://localhost:8080/",
          "height": 50
        },
        "outputId": "0c63ec28-94ad-41bd-b976-004929a0317a"
      },
      "source": [
        "#constructing 'feet'\n",
        "feet =  [int(x) for x in feet]\n",
        "\n",
        "#print 'feet'\n",
        "print(feet)\n",
        "\n",
        "#get all uneven distances\n",
        "uneven = [x%2 for x in feet]\n",
        "\n",
        "#print 'uneven'\n",
        "print(uneven)"
      ],
      "execution_count": 25,
      "outputs": [
        {
          "output_type": "stream",
          "text": [
            "[128608, 119750, 122375, 124015]\n",
            "[0, 0, 1, 1]\n"
          ],
          "name": "stdout"
        }
      ]
    },
    {
      "cell_type": "markdown",
      "metadata": {
        "id": "DnEo5ltXRwCs",
        "colab_type": "text"
      },
      "source": [
        "#Reduce reduce() and Lambda Functions in Python\n",
        "Lastly, you can also rewrite lambda functions that are used with the reduce() function to more compact lines of code. Take a look at the following example:"
      ]
    },
    {
      "cell_type": "code",
      "metadata": {
        "id": "7rJW88eMRpGu",
        "colab_type": "code",
        "colab": {
          "base_uri": "https://localhost:8080/",
          "height": 34
        },
        "outputId": "8a4af3fc-394f-4fd5-8916-7c94e5f5c061"
      },
      "source": [
        "#Import 'reduce' from 'functools'\n",
        "\n",
        "from functools import reduce\n",
        "\n",
        "#Reduce 'feet' to 'reduced_feet'\n",
        "\n",
        "reduced_feet = reduce(lambda x,y: x+y, feet)\n",
        "\n",
        "#print 'reduced_feet'\n",
        "print(reduced_feet)\n"
      ],
      "execution_count": 26,
      "outputs": [
        {
          "output_type": "stream",
          "text": [
            "494748\n"
          ],
          "name": "stdout"
        }
      ]
    },
    {
      "cell_type": "markdown",
      "metadata": {
        "id": "Vkt6demETZJZ",
        "colab_type": "text"
      },
      "source": [
        "You need to take into account that you can't use y. List comprehensions only work with one only element, such as the x that you have seen throughout the many examples of this tutorial."
      ]
    },
    {
      "cell_type": "code",
      "metadata": {
        "id": "czVCwMRGTNZw",
        "colab_type": "code",
        "colab": {
          "base_uri": "https://localhost:8080/",
          "height": 34
        },
        "outputId": "c6cbe617-225a-4a53-a2c0-5687b08c3962"
      },
      "source": [
        "#Construct 'rduced_feet'\n",
        "reduced_feet = sum([x for x in feet])\n",
        "\n",
        "#print(reduced_feet)\n",
        "print(reduced_feet)"
      ],
      "execution_count": 28,
      "outputs": [
        {
          "output_type": "stream",
          "text": [
            "494748\n"
          ],
          "name": "stdout"
        }
      ]
    },
    {
      "cell_type": "markdown",
      "metadata": {
        "id": "essVHBpmUtB2",
        "colab_type": "text"
      },
      "source": [
        "#List Comprehensions with Conditionals\n",
        "Now that you have understood the basics of list comprehensions in Python, it's time to adjust the control flow of your comprehensions with the help of conditionals."
      ]
    },
    {
      "cell_type": "code",
      "metadata": {
        "id": "LBocZrTbUd_Y",
        "colab_type": "code",
        "colab": {
          "base_uri": "https://localhost:8080/",
          "height": 34
        },
        "outputId": "d40747eb-c844-4766-881d-bb0bd321ac90"
      },
      "source": [
        "#Define 'uneven'\n",
        "\n",
        "uneven = [x/2 for x in feet if x%2 ==0]\n",
        "\n",
        "#print 'uneven'\n",
        "print(uneven)"
      ],
      "execution_count": 29,
      "outputs": [
        {
          "output_type": "stream",
          "text": [
            "[64304.0, 59875.0]\n"
          ],
          "name": "stdout"
        }
      ]
    },
    {
      "cell_type": "code",
      "metadata": {
        "id": "EnB0HbSxU_eX",
        "colab_type": "code",
        "colab": {
          "base_uri": "https://localhost:8080/",
          "height": 34
        },
        "outputId": "e469dfe4-8be8-46ff-a90a-d6d94bad7ebc"
      },
      "source": [
        "# Initialize and empty list `uneven` \n",
        "uneven = []\n",
        "\n",
        "# Add values to `uneven` \n",
        "for x in feet:\n",
        "    if x % 2 == 0:\n",
        "        x = x / 2\n",
        "        uneven.append(x)\n",
        "\n",
        "# Print `uneven` \n",
        "print(uneven)"
      ],
      "execution_count": 30,
      "outputs": [
        {
          "output_type": "stream",
          "text": [
            "[64304.0, 59875.0]\n"
          ],
          "name": "stdout"
        }
      ]
    },
    {
      "cell_type": "markdown",
      "metadata": {
        "id": "SY7Xh4qnVIAA",
        "colab_type": "text"
      },
      "source": [
        "#Multiple If Conditions\n",
        "Now that you have understood how you can add conditions, it's time to convert the following for loop to a list comprehension with conditionals."
      ]
    },
    {
      "cell_type": "code",
      "metadata": {
        "id": "USDw0BMbVEKT",
        "colab_type": "code",
        "colab": {}
      },
      "source": [
        "divided = []\n",
        "\n",
        "for x in range(100):\n",
        "    if x%2 == 0 :\n",
        "        if x%6 == 0:\n",
        "            divided.append(x)"
      ],
      "execution_count": 0,
      "outputs": []
    },
    {
      "cell_type": "code",
      "metadata": {
        "id": "bKyTALPeVNuJ",
        "colab_type": "code",
        "colab": {
          "base_uri": "https://localhost:8080/",
          "height": 34
        },
        "outputId": "411a1747-482c-420c-dc6c-fa2727e0cb91"
      },
      "source": [
        "divided = [x for x in range(100) if x %2 ==0 if x % 6 ==0]\n",
        "\n",
        "print(divided)"
      ],
      "execution_count": 32,
      "outputs": [
        {
          "output_type": "stream",
          "text": [
            "[0, 6, 12, 18, 24, 30, 36, 42, 48, 54, 60, 66, 72, 78, 84, 90, 96]\n"
          ],
          "name": "stdout"
        }
      ]
    },
    {
      "cell_type": "markdown",
      "metadata": {
        "id": "CH1x_16iVsvj",
        "colab_type": "text"
      },
      "source": [
        "#If-Else Conditions\n",
        "Of course, it's much more common to work with conditionals that involve more than one condition. That's right, you'll more often see if in combination with elif and else."
      ]
    },
    {
      "cell_type": "code",
      "metadata": {
        "id": "YOxOZmxEVl57",
        "colab_type": "code",
        "colab": {
          "base_uri": "https://localhost:8080/",
          "height": 34
        },
        "outputId": "659f293c-d904-4123-bac3-ef812fb7fcb3"
      },
      "source": [
        "[x+1 if x >=120000 else x+5 for x in feet]"
      ],
      "execution_count": 33,
      "outputs": [
        {
          "output_type": "execute_result",
          "data": {
            "text/plain": [
              "[128609, 119755, 122376, 124016]"
            ]
          },
          "metadata": {
            "tags": []
          },
          "execution_count": 33
        }
      ]
    },
    {
      "cell_type": "code",
      "metadata": {
        "id": "1m45ZJnrWzBH",
        "colab_type": "code",
        "colab": {}
      },
      "source": [
        "for x in feet:  \n",
        "    if x >= 120000:\n",
        "        x + 1\n",
        "    else: \n",
        "        x+5"
      ],
      "execution_count": 0,
      "outputs": []
    },
    {
      "cell_type": "markdown",
      "metadata": {
        "id": "bw4x74SGW6SG",
        "colab_type": "text"
      },
      "source": [
        "the last for x in feet now initializes the for loop. After that, you add the condition if x >= 120000 and the line of code that you want to execute if this condition is True: x + 1. If the condition is False instead, the last bit of code in your list comprehension is executed: x+5."
      ]
    },
    {
      "cell_type": "markdown",
      "metadata": {
        "id": "InkQve_iXdvC",
        "colab_type": "text"
      },
      "source": [
        "#Nested List Comprehensions\n",
        "Apart from conditionals, you can also adjust your list comprehensions by nesting them within other list comprehensions. This is handy when you want to work with lists of lists: generating lists of lists, transposing lists of lists or flattening lists of lists to regular lists, for example, becomes extremely easy with nested list comprehensions."
      ]
    },
    {
      "cell_type": "code",
      "metadata": {
        "id": "zer2Z6j6W12v",
        "colab_type": "code",
        "colab": {
          "base_uri": "https://localhost:8080/",
          "height": 34
        },
        "outputId": "9f30645c-cd81-40ae-bcfb-2a1b8ab5e0d4"
      },
      "source": [
        "list_of_list = [[1,2,3], [4,5,6], [7,8]]\n",
        "\n",
        "#Flatten 'list_of_list'\n",
        "[y for x  in list_of_list for y in x]"
      ],
      "execution_count": 36,
      "outputs": [
        {
          "output_type": "execute_result",
          "data": {
            "text/plain": [
              "[1, 2, 3, 4, 5, 6, 7, 8]"
            ]
          },
          "metadata": {
            "tags": []
          },
          "execution_count": 36
        }
      ]
    },
    {
      "cell_type": "markdown",
      "metadata": {
        "id": "VNejvXKGZZuR",
        "colab_type": "text"
      },
      "source": [
        "You assign a rather simple list of list to a variable list_of_list. In the next line, you execute a list comprehension that returns a normal list. What actually happens is that you take the list elements ( y ) of the nested lists ( x ) in list_of_list and return a list of those list elements y that are comprised in x."
      ]
    },
    {
      "cell_type": "code",
      "metadata": {
        "id": "NkX0_ljQYRez",
        "colab_type": "code",
        "colab": {
          "base_uri": "https://localhost:8080/",
          "height": 34
        },
        "outputId": "657e5aba-3f74-4b01-8fee-5adf205cc3ae"
      },
      "source": [
        "matrix = [[1,2,3],[4,5,6],[7,8,9]]\n",
        "\n",
        "[[row[i] for row in matrix] for i in range(3)]"
      ],
      "execution_count": 37,
      "outputs": [
        {
          "output_type": "execute_result",
          "data": {
            "text/plain": [
              "[[1, 4, 7], [2, 5, 8], [3, 6, 9]]"
            ]
          },
          "metadata": {
            "tags": []
          },
          "execution_count": 37
        }
      ]
    },
    {
      "cell_type": "code",
      "metadata": {
        "id": "pskJQUWiyjde",
        "colab_type": "code",
        "colab": {
          "base_uri": "https://localhost:8080/",
          "height": 34
        },
        "outputId": "64d60588-c2a2-41ef-c8bb-7619a68b5565"
      },
      "source": [
        "transposed = []\n",
        "\n",
        "for i in range(3):\n",
        "  transposed_row = []\n",
        "  for row in matrix:\n",
        "    transposed_row.append(row[i])\n",
        "  transposed.append(transposed_row)\n",
        "\n",
        "transposed"
      ],
      "execution_count": 39,
      "outputs": [
        {
          "output_type": "execute_result",
          "data": {
            "text/plain": [
              "[[1, 4, 7], [2, 5, 8], [3, 6, 9]]"
            ]
          },
          "metadata": {
            "tags": []
          },
          "execution_count": 39
        }
      ]
    },
    {
      "cell_type": "markdown",
      "metadata": {
        "id": "jEOgdpsK--oe",
        "colab_type": "text"
      },
      "source": [
        "#Itertools Module\n",
        "\n",
        "Itertools is an built-in Python module that contains functions to create iterators for efficient looping. In short, it provides a lot of interesting tools to work with iterators"
      ]
    },
    {
      "cell_type": "code",
      "metadata": {
        "id": "6PYg2VFgy73q",
        "colab_type": "code",
        "colab": {
          "base_uri": "https://localhost:8080/",
          "height": 118
        },
        "outputId": "1912e2bc-6832-4843-9614-1808ec7b9d17"
      },
      "source": [
        "from itertools import count\n",
        "sequence = count(start=0, step=1)\n",
        "while(next(sequence) <= 10):\n",
        "  print(next(sequence))"
      ],
      "execution_count": 41,
      "outputs": [
        {
          "output_type": "stream",
          "text": [
            "1\n",
            "3\n",
            "5\n",
            "7\n",
            "9\n",
            "11\n"
          ],
          "name": "stdout"
        }
      ]
    },
    {
      "cell_type": "code",
      "metadata": {
        "id": "kUMp5r0O_SAv",
        "colab_type": "code",
        "colab": {
          "base_uri": "https://localhost:8080/",
          "height": 84
        },
        "outputId": "07b7bd1f-dd4e-47d9-a0b4-fab391f19f19"
      },
      "source": [
        "from itertools import cycle\n",
        "dessert = cycle(['Icecream', 'Cake'])\n",
        "count = 0\n",
        "while(count != 4):\n",
        "  print('Q. what do we have for dessert? A: ' + next(dessert))\n",
        "  count += 1"
      ],
      "execution_count": 42,
      "outputs": [
        {
          "output_type": "stream",
          "text": [
            "Q. what do we have for dessert? A: Icecream\n",
            "Q. what do we have for dessert? A: Cake\n",
            "Q. what do we have for dessert? A: Icecream\n",
            "Q. what do we have for dessert? A: Cake\n"
          ],
          "name": "stdout"
        }
      ]
    },
    {
      "cell_type": "markdown",
      "metadata": {
        "id": "nwYcpp6wJjO1",
        "colab_type": "text"
      },
      "source": [
        "#main fucntion\n",
        "you call the main() function when __name__ == '__main__'."
      ]
    },
    {
      "cell_type": "code",
      "metadata": {
        "id": "S41jnEky_zzD",
        "colab_type": "code",
        "colab": {
          "base_uri": "https://localhost:8080/",
          "height": 34
        },
        "outputId": "b0fc02e4-ad5e-4313-b35d-7674b79d99a0"
      },
      "source": [
        "#Define 'main()' fucntion\n",
        "def main():\n",
        "  print(\"this is a main fucntion\")\n",
        "\n",
        "#Execute 'main()' function\n",
        "if __name__ == '__main__':\n",
        "  main()"
      ],
      "execution_count": 1,
      "outputs": [
        {
          "output_type": "stream",
          "text": [
            "this is a main fucntion\n"
          ],
          "name": "stdout"
        }
      ]
    },
    {
      "cell_type": "markdown",
      "metadata": {
        "id": "Qzyw6j8qKXJl",
        "colab_type": "text"
      },
      "source": [
        "Note that besides the __main__ function, you also have an __init__ function that initializes an instance of a class or an object. Simply stated, it acts as a constructor or initializer and is automatically called when you create a new instance of a class. With that function, the newly created object is assigned to the parameter self, which you saw earlier in this tutorial."
      ]
    },
    {
      "cell_type": "code",
      "metadata": {
        "id": "3gilnE-eKMog",
        "colab_type": "code",
        "colab": {
          "base_uri": "https://localhost:8080/",
          "height": 34
        },
        "outputId": "9e45e64c-9100-4c1e-f808-22b694cb903d"
      },
      "source": [
        "class Dog:\n",
        "  \n",
        "  def __init__(self, legs, color):\n",
        "    self.legs = legs\n",
        "    self.color = color\n",
        "\n",
        "  def bark(self):\n",
        "    bark = \"bark \" * 2\n",
        "    return bark\n",
        "\n",
        "if __name__ == \"__main__\":\n",
        "    dog = Dog(4, \"brown\")\n",
        "    bark = dog.bark()\n",
        "    print(bark)"
      ],
      "execution_count": 4,
      "outputs": [
        {
          "output_type": "stream",
          "text": [
            "bark bark \n"
          ],
          "name": "stdout"
        }
      ]
    },
    {
      "cell_type": "code",
      "metadata": {
        "id": "oedgVyzEL5IG",
        "colab_type": "code",
        "colab": {}
      },
      "source": [
        ""
      ],
      "execution_count": 0,
      "outputs": []
    }
  ]
}