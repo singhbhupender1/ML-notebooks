{
  "nbformat": 4,
  "nbformat_minor": 0,
  "metadata": {
    "colab": {
      "name": "Image data channel formats.ipynb",
      "provenance": [],
      "include_colab_link": true
    },
    "kernelspec": {
      "name": "python3",
      "display_name": "Python 3"
    }
  },
  "cells": [
    {
      "cell_type": "markdown",
      "metadata": {
        "id": "view-in-github",
        "colab_type": "text"
      },
      "source": [
        "<a href=\"https://colab.research.google.com/github/singhbhupender1/ML-notebooks/blob/master/Image_data_channel_formats.ipynb\" target=\"_parent\"><img src=\"https://colab.research.google.com/assets/colab-badge.svg\" alt=\"Open In Colab\"/></a>"
      ]
    },
    {
      "cell_type": "markdown",
      "metadata": {
        "id": "3I8MHGcluOrK",
        "colab_type": "text"
      },
      "source": [
        "##Images as 3D Arrays"
      ]
    },
    {
      "cell_type": "markdown",
      "metadata": {
        "id": "7yMnzHgW4I0d",
        "colab_type": "text"
      },
      "source": [
        "**Typically, the image format has one dimension for rows (height), one for columns (width) and one for channels.**\n",
        "\n",
        "**If the image is black and white (grayscale), the channels dimension may not be explicitly present, e.g. there is one unsigned integer pixel value for each (row, column) coordinate in the image.**\n",
        "\n",
        "**Colored images typically have three channels, for the pixel value at the (row, column) coordinate for the red, green, and blue components.**\n",
        "\n",
        "**Deep learning neural networks require that image data be provided as three-dimensional arrays.**"
      ]
    },
    {
      "cell_type": "markdown",
      "metadata": {
        "id": "L56Dch5-4JoK",
        "colab_type": "text"
      },
      "source": [
        "**There are two ways to represent the image data as a three dimensional array. The first involves having the channels as the last or third dimension in the array. This is called “channels last“. The second involves having the channels as the first dimension in the array, called “channels first“.**\n",
        "\n",
        "**Channels *Last*. Image data is represented in a three-dimensional array where the last channel represents the color channels, e.g. [rows][cols][channels].**\n",
        "\n",
        "**Channels *First*. Image data is represented in a three-dimensional array where the first channel represents the color channels, e.g. [channels][rows][cols].**"
      ]
    },
    {
      "cell_type": "markdown",
      "metadata": {
        "id": "7IaF3CnV8d-Q",
        "colab_type": "text"
      },
      "source": [
        "##Manipulating Image Channels"
      ]
    },
    {
      "cell_type": "markdown",
      "metadata": {
        "id": "MmvE5HSc81Mp",
        "colab_type": "text"
      },
      "source": [
        "**You may need to change or manipulate the image channels or channel ordering.**\n",
        "\n",
        "**This can be achieved easily using the NumPy python library.**"
      ]
    },
    {
      "cell_type": "markdown",
      "metadata": {
        "id": "xD7WsCbA89ux",
        "colab_type": "text"
      },
      "source": [
        "##How to Add a Channel to a Grayscale Image"
      ]
    },
    {
      "cell_type": "markdown",
      "metadata": {
        "id": "gTD8nCHH9D0T",
        "colab_type": "text"
      },
      "source": [
        "**Grayscale images are loaded as a two-dimensional array.**\n",
        "\n",
        "**Before they can be used for modeling, you may have to add an explicit channel dimension to the image. This does not add new data; instead, it changes the array data structure to have an additional third axis with one dimension to hold the grayscale pixel values.**"
      ]
    },
    {
      "cell_type": "markdown",
      "metadata": {
        "id": "NorHGTX59lCa",
        "colab_type": "text"
      },
      "source": [
        "**For example, a grayscale image with the dimensions [rows][cols] can be changed to [rows][cols][channels] or [channels][rows][cols] where the new [channels] axis has one dimension.**"
      ]
    },
    {
      "cell_type": "markdown",
      "metadata": {
        "id": "jjuaocoU9tUf",
        "colab_type": "text"
      },
      "source": [
        "**This can be achieved using the *expand_dims*() NumPy function. The “axis” argument allows you to specify where the new dimension will be added to the first, e.g. first for channels first or last for channels last.**"
      ]
    },
    {
      "cell_type": "code",
      "metadata": {
        "id": "PO1h7w3lq5-K",
        "colab_type": "code",
        "colab": {
          "base_uri": "https://localhost:8080/",
          "height": 70
        },
        "outputId": "ac86373d-95b0-41c4-8f4c-847de9218405"
      },
      "source": [
        "!pip install pillow"
      ],
      "execution_count": 1,
      "outputs": [
        {
          "output_type": "stream",
          "text": [
            "Requirement already satisfied: pillow in /usr/local/lib/python3.6/dist-packages (4.3.0)\n",
            "Requirement already satisfied: olefile in /usr/local/lib/python3.6/dist-packages (from pillow) (0.46)\n"
          ],
          "name": "stdout"
        }
      ]
    },
    {
      "cell_type": "code",
      "metadata": {
        "id": "8Jj0I6wc8pQE",
        "colab_type": "code",
        "colab": {
          "base_uri": "https://localhost:8080/",
          "height": 67
        },
        "outputId": "949ecd61-e1de-401a-fe7c-b4eb175b7cd0"
      },
      "source": [
        "#example of expanding dimensions\n",
        "from numpy import expand_dims\n",
        "from numpy import asarray\n",
        "from PIL import Image\n",
        "from urllib.request import urlopen\n",
        "#load the image\n",
        "url = 'https://3qeqpr26caki16dnhd19sv6by6v-wpengine.netdna-ssl.com/wp-content/uploads/2019/01/penguin_arade.jpg'\n",
        "img = Image.open('/content/penguin_arade.jpg')\n",
        "#convert the image to grayscale\n",
        "img = img.convert(mode='L')\n",
        "#convert to numpy array\n",
        "data = asarray(img)\n",
        "print(data.shape)\n",
        "#add channels first\n",
        "data_first = expand_dims(data, axis=0)\n",
        "print(data_first.shape)\n",
        "#add channels last\n",
        "data_last = expand_dims(data, axis=2)\n",
        "print(data_last.shape)"
      ],
      "execution_count": 5,
      "outputs": [
        {
          "output_type": "stream",
          "text": [
            "(424, 640)\n",
            "(1, 424, 640)\n",
            "(424, 640, 1)\n"
          ],
          "name": "stdout"
        }
      ]
    },
    {
      "cell_type": "markdown",
      "metadata": {
        "id": "W0ITCkvoNFsR",
        "colab_type": "text"
      },
      "source": [
        "**Another popular alternative to expanding the dimensions of an array is to use the reshape() NumPy function and specify a tuple with the new shape; for example:**"
      ]
    },
    {
      "cell_type": "markdown",
      "metadata": {
        "id": "j-NKvfI9NNn3",
        "colab_type": "text"
      },
      "source": [
        "\n",
        "\n",
        "```\n",
        "data = data.reshape((424, 640, 1))\n",
        "```\n",
        "\n"
      ]
    },
    {
      "cell_type": "markdown",
      "metadata": {
        "id": "AW3nb8VMRThB",
        "colab_type": "text"
      },
      "source": [
        "##How to Change Image Channel Ordering"
      ]
    },
    {
      "cell_type": "markdown",
      "metadata": {
        "id": "0C7G7GoYRgWx",
        "colab_type": "text"
      },
      "source": [
        "**After a color image is loaded as a three-dimensional array, the channel ordering can be changed.**\n",
        "\n",
        "**This can be achieved using the *moveaxis*() NumPy function. It allows you to specify the index of the source axis and the destination axis.**\n",
        "\n",
        "**This function can be used to change an array in channel last format such, as [rows][cols][channels] to channels first format, such as [channels][rows][cols], or the reverse.**"
      ]
    },
    {
      "cell_type": "code",
      "metadata": {
        "id": "gHzEZ21M_WCg",
        "colab_type": "code",
        "colab": {
          "base_uri": "https://localhost:8080/",
          "height": 67
        },
        "outputId": "59a81b78-f579-418e-9f25-0181342213af"
      },
      "source": [
        "#change image from channels last to channels first format\n",
        "from numpy import moveaxis\n",
        "from numpy import asarray\n",
        "from PIL import Image\n",
        "#load the color image\n",
        "img = Image.open('/content/penguin_arade.jpg')\n",
        "#convert to numpy array\n",
        "data = asarray(img)\n",
        "print(data.shape)\n",
        "#change channels last to channels first format\n",
        "data = moveaxis(data, 2, 0)\n",
        "print(data.shape)\n",
        "#change channels first to channls last format\n",
        "data = moveaxis(data, 0, 2)\n",
        "print(data.shape)"
      ],
      "execution_count": 7,
      "outputs": [
        {
          "output_type": "stream",
          "text": [
            "(424, 640, 3)\n",
            "(3, 424, 640)\n",
            "(424, 640, 3)\n"
          ],
          "name": "stdout"
        }
      ]
    },
    {
      "cell_type": "markdown",
      "metadata": {
        "id": "kX7nY3n7WICg",
        "colab_type": "text"
      },
      "source": [
        "**The moveaxis() function is then used to move the channels axis from position 2 to position 0 and the result is confirmed showing channels first format (3, 424, 640). This is then reversed, moving the channels in position 0 to position 2 again.**"
      ]
    },
    {
      "cell_type": "markdown",
      "metadata": {
        "id": "f_511_5TWOBa",
        "colab_type": "text"
      },
      "source": [
        "##Keras Channel Ordering"
      ]
    },
    {
      "cell_type": "markdown",
      "metadata": {
        "id": "PbarspqhWczo",
        "colab_type": "text"
      },
      "source": [
        "**Keras wraps a number of mathematical libraries, and each has a preferred channel ordering. The three main libraries that Keras may wrap and their preferred channel ordering are listed below:**\n",
        "\n",
        "**TensorFlow: Channels last order.**\n",
        "\n",
        "**Theano: Channels first order.**\n",
        "\n",
        "**CNTK: Channels last order.**"
      ]
    },
    {
      "cell_type": "markdown",
      "metadata": {
        "id": "ofRvWe2GWwPR",
        "colab_type": "text"
      },
      "source": [
        "##Default Channel Ordering"
      ]
    },
    {
      "cell_type": "markdown",
      "metadata": {
        "id": "yc1ZqDQmW24F",
        "colab_type": "text"
      },
      "source": [
        "**The library and preferred channel ordering are listed in the Keras configuration file, stored in your home directory under ~/.keras/keras.json.**\n",
        "\n",
        "**The preferred channel ordering is stored in the “image_data_format” configuration setting and can be set as either “channels_last” or “channels_first“.**"
      ]
    },
    {
      "cell_type": "markdown",
      "metadata": {
        "id": "kveo1Phdbd7A",
        "colab_type": "text"
      },
      "source": [
        "\n",
        "\n",
        "```\n",
        "\n",
        "{\n",
        "    \"image_data_format\": \"channels_last\",\n",
        "    \"backend\": \"tensorflow\",\n",
        "    \"epsilon\": 1e-07,\n",
        "    \"floatx\": \"float32\"\n",
        "}\n",
        "```\n",
        "\n"
      ]
    },
    {
      "cell_type": "markdown",
      "metadata": {
        "id": "HRGVkIvZbxNx",
        "colab_type": "text"
      },
      "source": [
        "**Based on your preferred channel ordering, you will have to prepare your image data to match the preferred ordering.**\n",
        "\n",
        "**Specifically, this will include tasks such as:**\n",
        "\n",
        "**Resizing or expanding the dimensions of any training, validation, and test data to meet the expectation.**\n",
        "\n",
        "**Specifying the expected input shape of samples when defining models (e.g. input_shape=(28, 28, 1)).**"
      ]
    },
    {
      "cell_type": "markdown",
      "metadata": {
        "id": "ZdDNMfv1jJMc",
        "colab_type": "text"
      },
      "source": [
        "##Model-Specific Channel Ordering"
      ]
    },
    {
      "cell_type": "markdown",
      "metadata": {
        "id": "qaWtQ7UjjXYc",
        "colab_type": "text"
      },
      "source": [
        "**In addition, those neural network layers that are designed to work with images, such as Conv2D, also provide an argument called “data_format” that allows you to specify the channel ordering**"
      ]
    },
    {
      "cell_type": "markdown",
      "metadata": {
        "id": "Q240_m8TjzwI",
        "colab_type": "text"
      },
      "source": [
        "\n",
        "\n",
        "```\n",
        "model.add(Conv2D(..., data_format='channels_first'))\n",
        "```\n",
        "\n"
      ]
    },
    {
      "cell_type": "markdown",
      "metadata": {
        "id": "gyJoCOcmjhQR",
        "colab_type": "text"
      },
      "source": [
        "**By default, this will use the preferred ordering specified in the “image_data_format” value of the Keras configuration file. Nevertheless, you can change the channel order for a given model, and in turn, the datasets and input shape would also have to be changed to use the new channel ordering for the model.**"
      ]
    },
    {
      "cell_type": "markdown",
      "metadata": {
        "id": "YWDZayGbjl0r",
        "colab_type": "text"
      },
      "source": [
        "##Query Channel Ordering\n"
      ]
    },
    {
      "cell_type": "markdown",
      "metadata": {
        "id": "hAZU9sN-j-Nm",
        "colab_type": "text"
      },
      "source": [
        "**You can confirm your current preferred channel ordering by printing the result of the image_data_format() function. The example below demonstrates.**"
      ]
    },
    {
      "cell_type": "markdown",
      "metadata": {
        "id": "Ur5lZRCQkFeI",
        "colab_type": "text"
      },
      "source": [
        "\n",
        "\n",
        "```\n",
        "# show preferred channel order\n",
        "from keras import backend\n",
        "print(backend.image_data_format())\n",
        "```\n",
        "\n"
      ]
    },
    {
      "cell_type": "markdown",
      "metadata": {
        "id": "geGYmfMekQL0",
        "colab_type": "text"
      },
      "source": [
        "#Force Channel Ordering"
      ]
    },
    {
      "cell_type": "markdown",
      "metadata": {
        "id": "EDfLIuO_kY8H",
        "colab_type": "text"
      },
      "source": [
        "** the channel ordering can be forced for a specific program.**\n",
        "\n",
        "**This can be achieved by calling the *set_image_data_format*() function on the Keras backend to either *‘channels_first‘* (theano) for channel-first ordering, or ‘channels_last‘ (tensorflow) for channel-last ordering.**\n",
        "\n",
        "**This can be useful if you want a program or model to operate consistently regardless of Keras default channel ordering configuration.**"
      ]
    },
    {
      "cell_type": "code",
      "metadata": {
        "id": "ruwz8UmLWxqm",
        "colab_type": "code",
        "colab": {
          "base_uri": "https://localhost:8080/",
          "height": 50
        },
        "outputId": "78776989-18b4-4b94-c862-e8c71300454a"
      },
      "source": [
        "#force a channel ordering\n",
        "from keras import backend\n",
        "#force channels-first ordering\n",
        "backend.set_image_data_format('channels_first')\n",
        "print(backend.image_data_format())\n",
        "#force channels-last ordering\n",
        "backend.set_image_data_format('channels_last')\n",
        "print(backend.image_data_format())"
      ],
      "execution_count": 9,
      "outputs": [
        {
          "output_type": "stream",
          "text": [
            "channels_first\n",
            "channels_last\n"
          ],
          "name": "stdout"
        }
      ]
    },
    {
      "cell_type": "code",
      "metadata": {
        "id": "cJUiz1qKlTp0",
        "colab_type": "code",
        "colab": {}
      },
      "source": [
        ""
      ],
      "execution_count": 0,
      "outputs": []
    }
  ]
}