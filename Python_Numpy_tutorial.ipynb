{
  "nbformat": 4,
  "nbformat_minor": 0,
  "metadata": {
    "colab": {
      "name": "Python Numpy tutorial.ipynb",
      "provenance": [],
      "authorship_tag": "ABX9TyMz6KzVpFt27L2UFXckuSUh",
      "include_colab_link": true
    },
    "kernelspec": {
      "name": "python3",
      "display_name": "Python 3"
    }
  },
  "cells": [
    {
      "cell_type": "markdown",
      "metadata": {
        "id": "view-in-github",
        "colab_type": "text"
      },
      "source": [
        "<a href=\"https://colab.research.google.com/github/singhbhupender1/ML-notebooks/blob/master/Python_Numpy_tutorial.ipynb\" target=\"_parent\"><img src=\"https://colab.research.google.com/assets/colab-badge.svg\" alt=\"Open In Colab\"/></a>"
      ]
    },
    {
      "cell_type": "code",
      "metadata": {
        "id": "-MzTVXRWkFsM",
        "colab_type": "code",
        "colab": {
          "base_uri": "https://localhost:8080/",
          "height": 34
        },
        "outputId": "2e9322a3-5372-4afd-a090-0fb384c17284"
      },
      "source": [
        "!python --version"
      ],
      "execution_count": 1,
      "outputs": [
        {
          "output_type": "stream",
          "text": [
            "Python 3.6.9\n"
          ],
          "name": "stdout"
        }
      ]
    },
    {
      "cell_type": "markdown",
      "metadata": {
        "id": "E6ylr5aRkaAa",
        "colab_type": "text"
      },
      "source": [
        "#Basic data types"
      ]
    },
    {
      "cell_type": "code",
      "metadata": {
        "id": "nEdDJP_RkQ0J",
        "colab_type": "code",
        "colab": {
          "base_uri": "https://localhost:8080/",
          "height": 151
        },
        "outputId": "38619d63-97dd-4cdd-9479-b6533767cac4"
      },
      "source": [
        "x =3 \n",
        "print(type(x)) #print the the data type\n",
        "print(x) #prints the value\n",
        "print(x +1) #prints the addition\n",
        "print(x - 1) # prints the subtraction\n",
        "print(x * 2) #prints the multiplication\n",
        "print(x ** 2) #prints the exponential\n",
        "x += 1 \n",
        "print(x) #prints the updated value after adding 1 to x\n",
        "x *= 2\n",
        "print(x) #the updated value of x after multiplying 2\n"
      ],
      "execution_count": 2,
      "outputs": [
        {
          "output_type": "stream",
          "text": [
            "<class 'int'>\n",
            "3\n",
            "4\n",
            "2\n",
            "6\n",
            "9\n",
            "4\n",
            "8\n"
          ],
          "name": "stdout"
        }
      ]
    },
    {
      "cell_type": "markdown",
      "metadata": {
        "id": "1J2iAPUdlazZ",
        "colab_type": "text"
      },
      "source": [
        "**Booleans**"
      ]
    },
    {
      "cell_type": "code",
      "metadata": {
        "id": "gcmkXA4qlQRD",
        "colab_type": "code",
        "colab": {
          "base_uri": "https://localhost:8080/",
          "height": 101
        },
        "outputId": "e0d42e98-21fb-4de1-ef0c-81c734f135a4"
      },
      "source": [
        "t = True\n",
        "f = False\n",
        "print(type(t)) # prints class type of t\n",
        "print(t and f) #logical 'and' of t and f\n",
        "print(t or f) #logical 'or' of t and f\n",
        "print(not t) #logical opposite of t\n",
        "print(t != f) #logical XOR or if the condition is true or not"
      ],
      "execution_count": 3,
      "outputs": [
        {
          "output_type": "stream",
          "text": [
            "<class 'bool'>\n",
            "False\n",
            "True\n",
            "False\n",
            "True\n"
          ],
          "name": "stdout"
        }
      ]
    },
    {
      "cell_type": "markdown",
      "metadata": {
        "id": "QjNEILsqmNz3",
        "colab_type": "text"
      },
      "source": [
        "**Strings**"
      ]
    },
    {
      "cell_type": "code",
      "metadata": {
        "id": "yX-uDvPXmGSy",
        "colab_type": "code",
        "colab": {
          "base_uri": "https://localhost:8080/",
          "height": 101
        },
        "outputId": "fe2eb27f-b504-4329-c779-87ed48c03378"
      },
      "source": [
        "hello = 'hello'\n",
        "world = 'world'\n",
        "print(hello) #prints value the value hello holds\n",
        "print(len(hello)) #prints the lenth of string\n",
        "hw = hello +  ' ' + world\n",
        "print(hw)\n",
        "hw12 = '%s %s %d' % (hello, world, 12) #sprintf style string formatting\n",
        "print(hw12)\n",
        "print(type(hello))"
      ],
      "execution_count": 4,
      "outputs": [
        {
          "output_type": "stream",
          "text": [
            "hello\n",
            "5\n",
            "hello world\n",
            "hello world 12\n",
            "<class 'str'>\n"
          ],
          "name": "stdout"
        }
      ]
    },
    {
      "cell_type": "code",
      "metadata": {
        "id": "vswK2ptMm6jW",
        "colab_type": "code",
        "colab": {
          "base_uri": "https://localhost:8080/",
          "height": 118
        },
        "outputId": "52f5637c-4086-48ef-d9b6-73aee444bbf4"
      },
      "source": [
        "s= 'hello'\n",
        "print(s.capitalize())\n",
        "print(s.upper())\n",
        "print(s.rjust(7)) #right justifies with space padding with the value given\n",
        "print(s.center(7)) #center justification with spacing on both sides\n",
        "print(s.replace('l', ('ello'))) # replaces instaces of the substring with the given string\n",
        "print(' world '.strip()) #strip leading and trailing whitspaces"
      ],
      "execution_count": 6,
      "outputs": [
        {
          "output_type": "stream",
          "text": [
            "Hello\n",
            "HELLO\n",
            "  hello\n",
            " hello \n",
            "heelloelloo\n",
            "world\n"
          ],
          "name": "stdout"
        }
      ]
    },
    {
      "cell_type": "markdown",
      "metadata": {
        "id": "6ZB8Psc9nzsh",
        "colab_type": "text"
      },
      "source": [
        "##containers"
      ]
    },
    {
      "cell_type": "markdown",
      "metadata": {
        "id": "m7xAr7cFn2Gt",
        "colab_type": "text"
      },
      "source": [
        "**Lists**\n",
        "**A list is the Python equivalent of an array, but is resizeable and can contain elements of different types:**"
      ]
    },
    {
      "cell_type": "code",
      "metadata": {
        "id": "QYHu7xJJnqtB",
        "colab_type": "code",
        "colab": {
          "base_uri": "https://localhost:8080/",
          "height": 134
        },
        "outputId": "9cd0edd0-2ac1-4e6f-fe11-05a8f2a22978"
      },
      "source": [
        "nums  = list(range(5)) #creates a list of intergers\n",
        "print(nums) #prints value in the list\n",
        "print(nums[2:4]) #prints a slice of values from 2 to 4(exlusive)\n",
        "print(nums[2:]) #prints value from index 2 to the end\n",
        "print(nums[:2]) #prints value from start till 2(exclusive)\n",
        "print(nums[:]) #prints slice of whole list\n",
        "print(nums[:-1]) #indexing from the start towars hte last\n",
        "nums[2:4] = [8,9] #assign new value ot a slice\n",
        "print(nums)"
      ],
      "execution_count": 8,
      "outputs": [
        {
          "output_type": "stream",
          "text": [
            "[0, 1, 2, 3, 4]\n",
            "[2, 3]\n",
            "[2, 3, 4]\n",
            "[0, 1]\n",
            "[0, 1, 2, 3, 4]\n",
            "[0, 1, 2, 3]\n",
            "[0, 1, 8, 9, 4]\n"
          ],
          "name": "stdout"
        }
      ]
    },
    {
      "cell_type": "markdown",
      "metadata": {
        "id": "T-wGR0Omp5Mz",
        "colab_type": "text"
      },
      "source": [
        "**Loops**"
      ]
    },
    {
      "cell_type": "code",
      "metadata": {
        "id": "kiamr6Ippy9u",
        "colab_type": "code",
        "colab": {
          "base_uri": "https://localhost:8080/",
          "height": 67
        },
        "outputId": "8b089bba-79ce-4b08-8fa1-173f34782571"
      },
      "source": [
        "animals = ['cats', 'dog', 'monkey']\n",
        "for animal in animals:\n",
        "  print(animal)"
      ],
      "execution_count": 9,
      "outputs": [
        {
          "output_type": "stream",
          "text": [
            "cats\n",
            "dog\n",
            "monkey\n"
          ],
          "name": "stdout"
        }
      ]
    },
    {
      "cell_type": "markdown",
      "metadata": {
        "id": "miZjFcAiqMVd",
        "colab_type": "text"
      },
      "source": [
        "**If you want access to the index of each element within the body of a loop, use the built-in enumerate function:**"
      ]
    },
    {
      "cell_type": "code",
      "metadata": {
        "id": "scLgSyVEqIcw",
        "colab_type": "code",
        "colab": {
          "base_uri": "https://localhost:8080/",
          "height": 67
        },
        "outputId": "8e2edb59-a003-433e-a6db-865ba9887f25"
      },
      "source": [
        "animals = ['cats', 'dog', 'monkey']\n",
        "for idx, animal in enumerate(animals):\n",
        "  print('#%d, %s' % (idx + 1, animal))\n"
      ],
      "execution_count": 11,
      "outputs": [
        {
          "output_type": "stream",
          "text": [
            "#1, cats\n",
            "#2, dog\n",
            "#3, monkey\n"
          ],
          "name": "stdout"
        }
      ]
    },
    {
      "cell_type": "markdown",
      "metadata": {
        "id": "RXENP5T1qv3I",
        "colab_type": "text"
      },
      "source": [
        "**List comprehensions: When programming, frequently we want to transform one type of data into another. As a simple example, consider the following code that computes square numbers:**"
      ]
    },
    {
      "cell_type": "code",
      "metadata": {
        "id": "hTDjIla1qo6z",
        "colab_type": "code",
        "colab": {
          "base_uri": "https://localhost:8080/",
          "height": 34
        },
        "outputId": "4d61076c-08e9-41ef-fb20-3a0fad1bc888"
      },
      "source": [
        "nums = [0, 1, 2, 3, 4]\n",
        "squares = []\n",
        "for x in nums:\n",
        "  squares.append(x ** 2)\n",
        "print(squares)"
      ],
      "execution_count": 12,
      "outputs": [
        {
          "output_type": "stream",
          "text": [
            "[0, 1, 4, 9, 16]\n"
          ],
          "name": "stdout"
        }
      ]
    },
    {
      "cell_type": "markdown",
      "metadata": {
        "id": "z7gXOklxreBd",
        "colab_type": "text"
      },
      "source": [
        "**You can make this code simpler using a list comprehension:**"
      ]
    },
    {
      "cell_type": "code",
      "metadata": {
        "id": "MZXj5V8fraxj",
        "colab_type": "code",
        "colab": {
          "base_uri": "https://localhost:8080/",
          "height": 34
        },
        "outputId": "a2d0ac7a-fb02-4d60-a289-9a658c390c08"
      },
      "source": [
        "nums = [0, 1 ,2, 3, 4]\n",
        "sqaures = [x ** 2 for x in nums]\n",
        "print(sqaures)\n"
      ],
      "execution_count": 13,
      "outputs": [
        {
          "output_type": "stream",
          "text": [
            "[0, 1, 4, 9, 16]\n"
          ],
          "name": "stdout"
        }
      ]
    },
    {
      "cell_type": "markdown",
      "metadata": {
        "id": "_G0-IT2DrxXR",
        "colab_type": "text"
      },
      "source": [
        "**List comprehensions can also contain conditions:**"
      ]
    },
    {
      "cell_type": "code",
      "metadata": {
        "id": "WMoKonHGrt_B",
        "colab_type": "code",
        "colab": {
          "base_uri": "https://localhost:8080/",
          "height": 34
        },
        "outputId": "42aea672-b960-4f74-b979-a54979be30ca"
      },
      "source": [
        "nums = [0, 1, 2, 3, 4]\n",
        "even_squares = [x ** 2  for x in nums if x % 2 == 0]\n",
        "print(even_squares)"
      ],
      "execution_count": 15,
      "outputs": [
        {
          "output_type": "stream",
          "text": [
            "[0, 4, 16]\n"
          ],
          "name": "stdout"
        }
      ]
    },
    {
      "cell_type": "markdown",
      "metadata": {
        "id": "mXYkWH1ZsGti",
        "colab_type": "text"
      },
      "source": [
        "##Dictionaries\n",
        "**A dictionary stores (key, value) pairs, similar to a Map in Java or an object in Javascript. You can use it like this:**"
      ]
    },
    {
      "cell_type": "code",
      "metadata": {
        "id": "g4hmiIdVsBS1",
        "colab_type": "code",
        "colab": {
          "base_uri": "https://localhost:8080/",
          "height": 118
        },
        "outputId": "80df0a9f-3221-40c9-d3d2-3c606287561a"
      },
      "source": [
        "d = {'cat': 'cute', 'dog' : 'furry'}\n",
        "print(d['cat']) #prints value of the key\n",
        "print('cat' in d) #checks if dictionary has key or not\n",
        "d['fish'] = 'wet' #add new ket value pair in dic\n",
        "print(d['fish'])\n",
        "print(d.get('monkey', 'N/A')) #get an element with a default\n",
        "print(d.get('fish', 'N/A')) #gets default value\n",
        "del d['fish']\n",
        "print(d.get('fish', 'N/A')) #as the key is no longer there so prints 'N/A'"
      ],
      "execution_count": 17,
      "outputs": [
        {
          "output_type": "stream",
          "text": [
            "cute\n",
            "True\n",
            "wet\n",
            "N/A\n",
            "wet\n",
            "N/A\n"
          ],
          "name": "stdout"
        }
      ]
    },
    {
      "cell_type": "markdown",
      "metadata": {
        "id": "jTiMHswJtmxS",
        "colab_type": "text"
      },
      "source": [
        "**Loops: It is easy to iterate over the keys in a dictionary:**"
      ]
    },
    {
      "cell_type": "code",
      "metadata": {
        "id": "JokKsdR7skf9",
        "colab_type": "code",
        "colab": {
          "base_uri": "https://localhost:8080/",
          "height": 67
        },
        "outputId": "3ffefda7-fa66-461f-abc5-53074f9e105b"
      },
      "source": [
        "d = {'person' : 2, 'cat': 4, 'spider': 8}\n",
        "for animal in d:\n",
        "  legs = d[animal]\n",
        "  print('A %s has %d legs' % (animal, legs))"
      ],
      "execution_count": 20,
      "outputs": [
        {
          "output_type": "stream",
          "text": [
            "A person has 2 legs\n",
            "A cat has 4 legs\n",
            "A spider has 8 legs\n"
          ],
          "name": "stdout"
        }
      ]
    },
    {
      "cell_type": "markdown",
      "metadata": {
        "id": "K35yn9vguS1Z",
        "colab_type": "text"
      },
      "source": [
        "**If you want access to keys and their corresponding values, use the items method:**"
      ]
    },
    {
      "cell_type": "code",
      "metadata": {
        "id": "PI0xfz3SuKkb",
        "colab_type": "code",
        "colab": {
          "base_uri": "https://localhost:8080/",
          "height": 67
        },
        "outputId": "d2f71d30-5929-4598-c753-8d1dd1b0df08"
      },
      "source": [
        "d = {'person' : 2, 'cat': 4, 'spider': 8}\n",
        "for animals, legs in d.items():\n",
        "  print('A  %s has %d legs' % (animals, legs))"
      ],
      "execution_count": 24,
      "outputs": [
        {
          "output_type": "stream",
          "text": [
            "A  person has 2 legs\n",
            "A  cat has 4 legs\n",
            "A  spider has 8 legs\n"
          ],
          "name": "stdout"
        }
      ]
    },
    {
      "cell_type": "markdown",
      "metadata": {
        "id": "E6kaui8gwjNH",
        "colab_type": "text"
      },
      "source": [
        "**Dictionary comprehensions: These are similar to list comprehensions, but allow you to easily construct dictionaries. For example:**"
      ]
    },
    {
      "cell_type": "code",
      "metadata": {
        "id": "BdAwH9MzwVmN",
        "colab_type": "code",
        "colab": {
          "base_uri": "https://localhost:8080/",
          "height": 34
        },
        "outputId": "181db53f-a972-456d-8112-34681dcd7263"
      },
      "source": [
        "nums = [0, 1, 2 , 3, 4]\n",
        "even_num_to_square = {x: x ** 2 for x in nums if x % 2 ==0}\n",
        "print(even_num_to_square)"
      ],
      "execution_count": 27,
      "outputs": [
        {
          "output_type": "stream",
          "text": [
            "{0: 0, 2: 4, 4: 16}\n"
          ],
          "name": "stdout"
        }
      ]
    },
    {
      "cell_type": "markdown",
      "metadata": {
        "id": "X5UHm6kcxJsw",
        "colab_type": "text"
      },
      "source": [
        "##Sets\n",
        "**A set is an unordered collection of distinct elements. As a simple example, consider the following:**"
      ]
    },
    {
      "cell_type": "code",
      "metadata": {
        "id": "Q76SpQ9Jw7in",
        "colab_type": "code",
        "colab": {
          "base_uri": "https://localhost:8080/",
          "height": 118
        },
        "outputId": "fe873dfa-d424-401c-fe64-0e9863f8cfe0"
      },
      "source": [
        "animals = {'cat', 'dog'}\n",
        "print('cat' in animals) # checks if an element is in a set or not\n",
        "animals.add('fish')\n",
        "print('fish' in animals)\n",
        "print(len(animals)) #no of animals in a set\n",
        "print(animals.add('cat')) #adding an already present element does nothing\n",
        "animals.remove('cat') #removes an element\n",
        "print(len(animals))\n",
        "print(animals)\n"
      ],
      "execution_count": 28,
      "outputs": [
        {
          "output_type": "stream",
          "text": [
            "True\n",
            "True\n",
            "3\n",
            "None\n",
            "2\n",
            "{'dog', 'fish'}\n"
          ],
          "name": "stdout"
        }
      ]
    },
    {
      "cell_type": "markdown",
      "metadata": {
        "id": "GUuunfEhywbw",
        "colab_type": "text"
      },
      "source": [
        "**Loops: Iterating over a set has the same syntax as iterating over a list; however since sets are unordered, you cannot make assumptions about the order in which you visit the elements of the set:**"
      ]
    },
    {
      "cell_type": "code",
      "metadata": {
        "id": "hGQZI-Nbyofm",
        "colab_type": "code",
        "colab": {
          "base_uri": "https://localhost:8080/",
          "height": 67
        },
        "outputId": "b3a34e36-8389-4cbb-e6fd-70b9b95aea19"
      },
      "source": [
        "animals = {'cat', 'dog', 'fish'}\n",
        "for idx, animal in enumerate(animals):\n",
        "  print('#%d: %s' % (idx, animal))"
      ],
      "execution_count": 29,
      "outputs": [
        {
          "output_type": "stream",
          "text": [
            "#0: cat\n",
            "#1: dog\n",
            "#2: fish\n"
          ],
          "name": "stdout"
        }
      ]
    },
    {
      "cell_type": "markdown",
      "metadata": {
        "id": "c8ESspylzN74",
        "colab_type": "text"
      },
      "source": [
        "**Set comprehensions: Like lists and dictionaries, we can easily construct sets using set comprehensions:**"
      ]
    },
    {
      "cell_type": "code",
      "metadata": {
        "id": "JlVQqEKdzKGG",
        "colab_type": "code",
        "colab": {
          "base_uri": "https://localhost:8080/",
          "height": 34
        },
        "outputId": "b8bb88c0-ee9e-4ce6-8f48-661dd2abfd1a"
      },
      "source": [
        "from math import sqrt\n",
        "nums = {int(sqrt(x)) for x in range(30)}\n",
        "print(nums)"
      ],
      "execution_count": 30,
      "outputs": [
        {
          "output_type": "stream",
          "text": [
            "{0, 1, 2, 3, 4, 5}\n"
          ],
          "name": "stdout"
        }
      ]
    },
    {
      "cell_type": "markdown",
      "metadata": {
        "id": "E0lpX4ve0MA7",
        "colab_type": "text"
      },
      "source": [
        "##Tuples\n",
        "**A tuple is an (immutable) ordered list of values. A tuple is in many ways similar to a list; one of the most important differences is that tuples can be used as keys in dictionaries and as elements of sets, while lists cannot. Here is a trivial example:**"
      ]
    },
    {
      "cell_type": "code",
      "metadata": {
        "id": "SLvEOXCCzdnt",
        "colab_type": "code",
        "colab": {
          "base_uri": "https://localhost:8080/",
          "height": 67
        },
        "outputId": "5e48ec1d-bbbd-42a7-d301-a72009ddc7f6"
      },
      "source": [
        "d = {(x, x +1) : x for x in range(10)} #create a dic with tuple keys\n",
        "t = (5, 6) # create a tuple\n",
        "print(type(t)) \n",
        "print(d[t]) #access value of key in dic\n",
        "print(d[(1, 2)]) # access values with tuple of keys\n"
      ],
      "execution_count": 32,
      "outputs": [
        {
          "output_type": "stream",
          "text": [
            "<class 'tuple'>\n",
            "5\n",
            "1\n"
          ],
          "name": "stdout"
        }
      ]
    },
    {
      "cell_type": "markdown",
      "metadata": {
        "id": "9OFTdz501A0k",
        "colab_type": "text"
      },
      "source": [
        "##Function\n",
        "**Python functions are defined using the def keyword. For example:**"
      ]
    },
    {
      "cell_type": "code",
      "metadata": {
        "id": "8nJpgaL009PM",
        "colab_type": "code",
        "colab": {
          "base_uri": "https://localhost:8080/",
          "height": 67
        },
        "outputId": "ef14ada2-35db-4bff-a534-91ae1d7f30d1"
      },
      "source": [
        "def sign(x):\n",
        "  if x > 0:\n",
        "    return 'positive'\n",
        "  elif x < 0:\n",
        "    return 'negavtive'\n",
        "  else:\n",
        "    return 'zero'\n",
        "\n",
        "for x in [-1, 0, 1]:\n",
        "  print(sign(x))"
      ],
      "execution_count": 33,
      "outputs": [
        {
          "output_type": "stream",
          "text": [
            "negavtive\n",
            "zero\n",
            "positive\n"
          ],
          "name": "stdout"
        }
      ]
    },
    {
      "cell_type": "markdown",
      "metadata": {
        "id": "G0TmBwKZ2Kbz",
        "colab_type": "text"
      },
      "source": [
        "**We will often define functions to take optional keyword arguments, like this:**"
      ]
    },
    {
      "cell_type": "code",
      "metadata": {
        "id": "nu8ha3VW2DiD",
        "colab_type": "code",
        "colab": {
          "base_uri": "https://localhost:8080/",
          "height": 50
        },
        "outputId": "ead9c6f2-7ba4-4009-e57c-8e279c7ee61d"
      },
      "source": [
        "def hello(name, loud=False):\n",
        "  if loud:\n",
        "    print('Hello, %s!' % name.upper())\n",
        "  else:\n",
        "    print('Hello, %s!' %name)\n",
        "\n",
        "hello('bob')\n",
        "hello('bob', True)"
      ],
      "execution_count": 34,
      "outputs": [
        {
          "output_type": "stream",
          "text": [
            "Hello, bob!\n",
            "Hello, BOB!\n"
          ],
          "name": "stdout"
        }
      ]
    },
    {
      "cell_type": "markdown",
      "metadata": {
        "id": "oYnmbgmi2tb-",
        "colab_type": "text"
      },
      "source": [
        "##Classes"
      ]
    },
    {
      "cell_type": "code",
      "metadata": {
        "id": "1lLrAYtS2oq1",
        "colab_type": "code",
        "colab": {
          "base_uri": "https://localhost:8080/",
          "height": 50
        },
        "outputId": "64648fc1-4204-4a16-fafd-34737d0eb616"
      },
      "source": [
        "class Greeter(object):\n",
        "  #constructor\n",
        "  def __init__(self, name):\n",
        "    self.name = name #create an instance variable\n",
        "\n",
        "  #instance method\n",
        "  def greet(self, loud=False):\n",
        "    if loud:\n",
        "      print('Hello, %s!' % self.name.upper())\n",
        "    else:\n",
        "      print('Hello, %s!' % self.name)\n",
        "\n",
        "g = Greeter('Fred') #  construct an instance of the class\n",
        "g.greet() #call an instanc method\n",
        "g.greet(True)"
      ],
      "execution_count": 38,
      "outputs": [
        {
          "output_type": "stream",
          "text": [
            "Hello, Fred!\n",
            "Hello, FRED!\n"
          ],
          "name": "stdout"
        }
      ]
    },
    {
      "cell_type": "markdown",
      "metadata": {
        "id": "b62fwgRe4kOQ",
        "colab_type": "text"
      },
      "source": [
        "##Numpy\n",
        "**Numpy is the core library for scientific computing in Python. It provides a high-performance multidimensional array object, and tools for working with these arrays. If you are already familiar with MATLAB, you might find this tutorial useful to get started with Numpy.**"
      ]
    },
    {
      "cell_type": "markdown",
      "metadata": {
        "id": "v1GV1iCW4tLv",
        "colab_type": "text"
      },
      "source": [
        "**Arrays**\n",
        "\n",
        "**A numpy array is a grid of values, all of the same type, and is indexed by a tuple of nonnegative integers. The number of dimensions is the rank of the array; the shape of an array is a tuple of integers giving the size of the array along each dimension.**\n",
        "\n",
        "**We can initialize numpy arrays from nested Python lists, and access elements using square brackets:**"
      ]
    },
    {
      "cell_type": "code",
      "metadata": {
        "id": "N116ZAhI3zM8",
        "colab_type": "code",
        "colab": {
          "base_uri": "https://localhost:8080/",
          "height": 118
        },
        "outputId": "63e9dc32-48ec-406e-846b-196d824641e4"
      },
      "source": [
        "import numpy as np\n",
        "a = np.array([1, 2, 3]) ## create a rank 1 array\n",
        "print(type(a))\n",
        "print(a.shape) #prints shape of array\n",
        "print(a[0], a[2]) # access elemets of an array\n",
        "a[0] = 5 #change value of an element\n",
        "print(a)\n",
        "\n",
        "b = np.array([[1, 2, 3], [4, 5, 6]]) #create a rank 2 array\n",
        "print(b.shape)\n",
        "print(b[0, 0], b[0, 1], b[1, 0])"
      ],
      "execution_count": 39,
      "outputs": [
        {
          "output_type": "stream",
          "text": [
            "<class 'numpy.ndarray'>\n",
            "(3,)\n",
            "1 3\n",
            "[5 2 3]\n",
            "(2, 3)\n",
            "1 2 4\n"
          ],
          "name": "stdout"
        }
      ]
    },
    {
      "cell_type": "markdown",
      "metadata": {
        "id": "uTqwynhr6fzH",
        "colab_type": "text"
      },
      "source": [
        "**Numpy also provides many functions to create arrays:**"
      ]
    },
    {
      "cell_type": "code",
      "metadata": {
        "id": "Rn-4l91F6L6A",
        "colab_type": "code",
        "colab": {
          "base_uri": "https://localhost:8080/",
          "height": 168
        },
        "outputId": "6741da01-3fae-4248-a251-c3b89dd798c6"
      },
      "source": [
        "import numpy as np\n",
        "a = np.zeros((2, 2)) # create an array of all zeros\n",
        "print(a)\n",
        "\n",
        "b = np.ones((1, 2)) # create an arry of all ones\n",
        "print(b)\n",
        "\n",
        "c = np.full((2, 2), 7) #create an array of constant vlaues\n",
        "print(c)\n",
        "\n",
        "d = np.eye(2) #create a 2x2 indentity matrix\n",
        "print(d)\n",
        "\n",
        "e = np.random.random((2, 2)) # create an array filled with random values\n",
        "print(e)"
      ],
      "execution_count": 40,
      "outputs": [
        {
          "output_type": "stream",
          "text": [
            "[[0. 0.]\n",
            " [0. 0.]]\n",
            "[[1. 1.]]\n",
            "[[7 7]\n",
            " [7 7]]\n",
            "[[1. 0.]\n",
            " [0. 1.]]\n",
            "[[0.09049201 0.50905179]\n",
            " [0.17325186 0.55534183]]\n"
          ],
          "name": "stdout"
        }
      ]
    },
    {
      "cell_type": "markdown",
      "metadata": {
        "id": "eOpnkR2p7aty",
        "colab_type": "text"
      },
      "source": [
        "##Array indexing\n",
        "\n",
        "**Slicing: Similar to Python lists, numpy arrays can be sliced. Since arrays may be multidimensional, you must specify a slice for each dimension of the array:**"
      ]
    },
    {
      "cell_type": "code",
      "metadata": {
        "id": "ZOj-pvR87T3Q",
        "colab_type": "code",
        "colab": {
          "base_uri": "https://localhost:8080/",
          "height": 50
        },
        "outputId": "b10c46c2-f441-4a0f-92e0-5a69cda4ae9b"
      },
      "source": [
        "import numpy as np\n",
        "a = np.array([[1, 2, 3, 4], [5, 6, 7, 8], [9, 10, 11, 12]])\n",
        "b = a[:2, 1:3] #use slicing to pull out subarray consiting of first 2 rows and columns 1 and 2, b has shaep 2X2:\n",
        "\n",
        "#a slice of array is a view of the original data, so modifying it will modiy the orifinal data\n",
        "print(a[0, 1]) #first row and 2 columns\n",
        "b[0, 0] = 27 # it has same piece of data as a[0, 1]\n",
        "print(a[0, 1])"
      ],
      "execution_count": 41,
      "outputs": [
        {
          "output_type": "stream",
          "text": [
            "2\n",
            "27\n"
          ],
          "name": "stdout"
        }
      ]
    },
    {
      "cell_type": "markdown",
      "metadata": {
        "id": "37UOT5t39YNT",
        "colab_type": "text"
      },
      "source": [
        "**You can also mix integer indexing with slice indexing. However, doing so will yield an array of lower rank than the original array.**"
      ]
    },
    {
      "cell_type": "code",
      "metadata": {
        "id": "ahSS4QGu9H2y",
        "colab_type": "code",
        "colab": {
          "base_uri": "https://localhost:8080/",
          "height": 118
        },
        "outputId": "ca9b293a-b794-4b1f-b51d-3fa6ad78d2f1"
      },
      "source": [
        "import numpy as np\n",
        "a = np.array([[1, 2, 3, 4], [5, 6, 7, 8], [9, 10, 11, 12]])\n",
        "#using only sices yields an array of same rank as the original array\n",
        "row_r1 = a[1, :] #rank 1 view of the second row of a\n",
        "row_r2 = a[1:2, :] #rank 2 view of second row of a\n",
        "print(row_r1, row_r1.shape)\n",
        "print(row_r2, row_r2.shape)\n",
        "\n",
        "#we can make same disctinctions when accessing colums of an array:\n",
        "col_r1 = a[:, 1] #rank 1 view of the sencond column  of array\n",
        "col_r2 = a[:, 1:2] #rank 2 view of second column of array\n",
        "print(col_r1, col_r1.shape)\n",
        "print(col_r2, col_r2.shape)"
      ],
      "execution_count": 43,
      "outputs": [
        {
          "output_type": "stream",
          "text": [
            "[5 6 7 8] (4,)\n",
            "[[5 6 7 8]] (1, 4)\n",
            "[ 2  6 10] (3,)\n",
            "[[ 2]\n",
            " [ 6]\n",
            " [10]] (3, 1)\n"
          ],
          "name": "stdout"
        }
      ]
    },
    {
      "cell_type": "markdown",
      "metadata": {
        "id": "4lK9EGF1DCef",
        "colab_type": "text"
      },
      "source": [
        "**Integer array indexing: When you index into numpy arrays using slicing, the resulting array view will always be a subarray of the original array. In contrast, integer array indexing allows you to construct arbitrary arrays using the data from another array. Here is an example:**"
      ]
    },
    {
      "cell_type": "code",
      "metadata": {
        "id": "y5DVW3eYCZWu",
        "colab_type": "code",
        "colab": {
          "base_uri": "https://localhost:8080/",
          "height": 84
        },
        "outputId": "c320404d-a1ab-48eb-b12b-e121f56f7dbf"
      },
      "source": [
        "import numpy as np\n",
        "a = np.array([[1, 2], [3, 4], [5, 6]])\n",
        "#example of integer array indexing\n",
        "#the resulting array wil have shape(3,)\n",
        "print(a[[0, 1, 2], [0, 1, 0]])\n",
        "\n",
        "#the above example of integer array indexing is equivalent ot this:\n",
        "print(np.array([a[0, 0], a[1, 1] , a[2, 0]]))\n",
        "\n",
        "#when using integer array indexing, you can reuse the same\n",
        "#element from the source array\n",
        "print(a[[0, 0], [1, 1]])\n",
        "\n",
        "#equivalent to the previosu integer array indexing example\n",
        "print(np.array([a[0, 1], a[0, 1]]))"
      ],
      "execution_count": 45,
      "outputs": [
        {
          "output_type": "stream",
          "text": [
            "[1 4 5]\n",
            "[1 4 5]\n",
            "[2 2]\n",
            "[2 2]\n"
          ],
          "name": "stdout"
        }
      ]
    },
    {
      "cell_type": "markdown",
      "metadata": {
        "id": "M6RmDgsHFwpN",
        "colab_type": "text"
      },
      "source": [
        "**One useful trick with integer array indexing is selecting or mutating one element from each row of a matrix:**"
      ]
    },
    {
      "cell_type": "code",
      "metadata": {
        "id": "Qf5rTlCGFGor",
        "colab_type": "code",
        "colab": {
          "base_uri": "https://localhost:8080/",
          "height": 168
        },
        "outputId": "babf7c15-5632-47fb-ca81-34b69c2ef19d"
      },
      "source": [
        "import numpy as np\n",
        "a = np.array([[1, 2, 3], [4, 5, 6], [7, 8, 9], [10, 11, 12]])\n",
        "print(a)\n",
        "\n",
        "#create an array of indices\n",
        "b = np.array([0 , 2, 0, 1])\n",
        "#select one element from each row of 'a' using the indices of 'b'\n",
        "print(a[np.arange(4), b])\n",
        "\n",
        "#mutate one element from each row of a using the indices in b\n",
        "a[np.arange(4), b] += 10\n",
        "\n",
        "print(a)"
      ],
      "execution_count": 46,
      "outputs": [
        {
          "output_type": "stream",
          "text": [
            "[[ 1  2  3]\n",
            " [ 4  5  6]\n",
            " [ 7  8  9]\n",
            " [10 11 12]]\n",
            "[ 1  6  7 11]\n",
            "[[11  2  3]\n",
            " [ 4  5 16]\n",
            " [17  8  9]\n",
            " [10 21 12]]\n"
          ],
          "name": "stdout"
        }
      ]
    },
    {
      "cell_type": "markdown",
      "metadata": {
        "id": "eq3QYsAJH_V_",
        "colab_type": "text"
      },
      "source": [
        "##Datatypes\n",
        "\n",
        "**Every numpy array is a grid of elements of the same type. Numpy provides a large set of numeric datatypes that you can use to construct arrays. Numpy tries to guess a datatype when you create an array, but functions that construct arrays usually also include an optional argument to explicitly specify the datatype. Here is an example:**"
      ]
    },
    {
      "cell_type": "code",
      "metadata": {
        "id": "uU2StTRTIAUk",
        "colab_type": "code",
        "colab": {
          "base_uri": "https://localhost:8080/",
          "height": 67
        },
        "outputId": "fde1038e-706a-4398-bb3d-79bd71d5ba2c"
      },
      "source": [
        "import numpy as np\n",
        "\n",
        "x  = np.array([1, 2]) #lets numpy choose the dataytype\n",
        "print(x.dtype)\n",
        "\n",
        "x = np.array([1.0, 2.0])\n",
        "print(x.dtype)\n",
        "\n",
        "x= np.array([1, 2], dtype=np.int64) #force a particular datatype\n",
        "print(x.dtype)"
      ],
      "execution_count": 49,
      "outputs": [
        {
          "output_type": "stream",
          "text": [
            "int64\n",
            "float64\n",
            "int64\n"
          ],
          "name": "stdout"
        }
      ]
    },
    {
      "cell_type": "markdown",
      "metadata": {
        "id": "5QzDEXFEJPDu",
        "colab_type": "text"
      },
      "source": [
        "##Array math\n",
        "\n",
        "**Basic mathematical functions operate elementwise on arrays, and are available both as operator overloads and as functions in the numpy module:**"
      ]
    },
    {
      "cell_type": "code",
      "metadata": {
        "id": "RjSn1xlAIy2h",
        "colab_type": "code",
        "colab": {
          "base_uri": "https://localhost:8080/",
          "height": 319
        },
        "outputId": "1c2128bf-db21-4200-9078-61332498191b"
      },
      "source": [
        "x = np.array([[1, 2], [3, 4]], dtype=np.float64)\n",
        "y = np.array([[5, 6], [7, 8]], dtype=np.float64)\n",
        "\n",
        "#element wise sum; both produce the array\n",
        "print(x + y)\n",
        "print(np.add(x, y))\n",
        "\n",
        "#element wise difference \n",
        "print(x - y)\n",
        "print(np.subtract(x, y))\n",
        "\n",
        "#element wise product\n",
        "print(x * y)\n",
        "print(np.multiply(x, y))\n",
        "\n",
        "#element wise divison\n",
        "print(x / y)\n",
        "print(np.divide(x, y))\n",
        "#elementwise square root\n",
        "print(np.sqrt(x))"
      ],
      "execution_count": 51,
      "outputs": [
        {
          "output_type": "stream",
          "text": [
            "[[ 6.  8.]\n",
            " [10. 12.]]\n",
            "[[ 6.  8.]\n",
            " [10. 12.]]\n",
            "[[-4. -4.]\n",
            " [-4. -4.]]\n",
            "[[-4. -4.]\n",
            " [-4. -4.]]\n",
            "[[ 5. 12.]\n",
            " [21. 32.]]\n",
            "[[ 5. 12.]\n",
            " [21. 32.]]\n",
            "[[0.2        0.33333333]\n",
            " [0.42857143 0.5       ]]\n",
            "[[0.2        0.33333333]\n",
            " [0.42857143 0.5       ]]\n",
            "[[1.         1.41421356]\n",
            " [1.73205081 2.        ]]\n"
          ],
          "name": "stdout"
        }
      ]
    },
    {
      "cell_type": "markdown",
      "metadata": {
        "id": "Y2P6jV_rNSX8",
        "colab_type": "text"
      },
      "source": [
        "**use the dot function to compute inner products of vectors, to multiply a vector by a matrix, and to multiply matrices. dot is available both as a function in the numpy module and as an instance method of array objects:**"
      ]
    },
    {
      "cell_type": "code",
      "metadata": {
        "id": "502gGJBcM1E1",
        "colab_type": "code",
        "colab": {
          "base_uri": "https://localhost:8080/",
          "height": 151
        },
        "outputId": "cc1d2ccd-32e3-4071-b152-b0364de7c60e"
      },
      "source": [
        "import numpy as np\n",
        "x = np.array([[1, 2], [3, 4]])\n",
        "y = np.array([[5, 6], [7, 8]])\n",
        "\n",
        "v= np.array([9, 10])\n",
        "w = np.array([11, 12])\n",
        "\n",
        " #inner product of vectors; both produce 219\n",
        "print(v.dot(w))\n",
        "print(np.dot(v, w))\n",
        "\n",
        "#matrix/ vector product; both produce rank 1 array\n",
        "print(x.dot(v))\n",
        "print(np.dot(x, v))\n",
        "\n",
        "#matrix/ matrix product; both produce rank 2 array\n",
        "print(x.dot(y))\n",
        "print(np.dot(x, y))"
      ],
      "execution_count": 53,
      "outputs": [
        {
          "output_type": "stream",
          "text": [
            "219\n",
            "219\n",
            "[29 67]\n",
            "[29 67]\n",
            "[[19 22]\n",
            " [43 50]]\n",
            "[[19 22]\n",
            " [43 50]]\n"
          ],
          "name": "stdout"
        }
      ]
    },
    {
      "cell_type": "markdown",
      "metadata": {
        "id": "eburBB3jOwQK",
        "colab_type": "text"
      },
      "source": [
        "**Numpy provides many useful functions for performing computations on arrays; one of the most useful is sum:**"
      ]
    },
    {
      "cell_type": "code",
      "metadata": {
        "id": "ZBkzL8yXOG3Z",
        "colab_type": "code",
        "colab": {
          "base_uri": "https://localhost:8080/",
          "height": 67
        },
        "outputId": "1db64be6-bd8b-4a48-9162-cdc784475346"
      },
      "source": [
        "import numpy as np\n",
        "\n",
        "x = np.array([[1, 2], [3, 4]])\n",
        "\n",
        "print(np.sum(x))\n",
        "print(np.sum(x, axis=0)) #compute sum of each column\n",
        "print(np.sum(x, axis=1)) #compute sum of each row"
      ],
      "execution_count": 54,
      "outputs": [
        {
          "output_type": "stream",
          "text": [
            "10\n",
            "[4 6]\n",
            "[3 7]\n"
          ],
          "name": "stdout"
        }
      ]
    },
    {
      "cell_type": "markdown",
      "metadata": {
        "id": "36jzSzceQ_2Y",
        "colab_type": "text"
      },
      "source": [
        "**Apart from computing mathematical functions using arrays, we frequently need to reshape or otherwise manipulate data in arrays. The simplest example of this type of operation is transposing a matrix; to transpose a matrix, simply use the T attribute of an array object:**"
      ]
    },
    {
      "cell_type": "code",
      "metadata": {
        "id": "dqvlkRERPJtH",
        "colab_type": "code",
        "colab": {
          "base_uri": "https://localhost:8080/",
          "height": 84
        },
        "outputId": "4d70c532-3704-4c82-ec5b-7bffdf3a47d1"
      },
      "source": [
        "import numpy as np\n",
        "x = np.array([[1, 2], [3, 4]])\n",
        "print(x)\n",
        "print(x.T)\n",
        "\n"
      ],
      "execution_count": 55,
      "outputs": [
        {
          "output_type": "stream",
          "text": [
            "[[1 2]\n",
            " [3 4]]\n",
            "[[1 3]\n",
            " [2 4]]\n"
          ],
          "name": "stdout"
        }
      ]
    },
    {
      "cell_type": "markdown",
      "metadata": {
        "id": "LDh-nMk5RYEg",
        "colab_type": "text"
      },
      "source": [
        "##Broadcasting\n",
        "\n",
        "**Broadcasting is a powerful mechanism that allows numpy to work with arrays of different shapes when performing arithmetic operations. Frequently we have a smaller array and a larger array, and we want to use the smaller array multiple times to perform some operation on the larger array.**\n",
        "\n",
        "**For example, suppose that we want to add a constant vector to each row of a matrix. We could do it like this:**"
      ]
    },
    {
      "cell_type": "code",
      "metadata": {
        "id": "NAbes2Q0RQK3",
        "colab_type": "code",
        "colab": {
          "base_uri": "https://localhost:8080/",
          "height": 84
        },
        "outputId": "c9d3137a-1144-4182-c632-2484f8f9b017"
      },
      "source": [
        "import numpy as np\n",
        "#adding the vector v to each row of the matrix x,\n",
        "x = np.array([[1, 2, 3], [4, 5, 6], [7, 8, 9], [10 ,11, 12]])\n",
        "v= np.array([1, 0, 1])\n",
        "y= np.empty_like(x) #create empty matrix with same shape as x\n",
        "\n",
        "#add the vector v to each row of the matrix x with an explicit loop\n",
        "for i in range(4):\n",
        "  y[i, :] = x[i, :] + v\n",
        "\n",
        "print(y)"
      ],
      "execution_count": 58,
      "outputs": [
        {
          "output_type": "stream",
          "text": [
            "[[ 2  2  4]\n",
            " [ 5  5  7]\n",
            " [ 8  8 10]\n",
            " [11 11 13]]\n"
          ],
          "name": "stdout"
        }
      ]
    },
    {
      "cell_type": "markdown",
      "metadata": {
        "id": "SEDwFqifUKCp",
        "colab_type": "text"
      },
      "source": [
        "**broadcasting allows us to perform this computation without actually creating multiple copies of v. Consider this version, using broadcasting:**"
      ]
    },
    {
      "cell_type": "code",
      "metadata": {
        "id": "TzbfuGqDTSLy",
        "colab_type": "code",
        "colab": {
          "base_uri": "https://localhost:8080/",
          "height": 84
        },
        "outputId": "93ab114c-8132-4053-ff6b-6366d46b011a"
      },
      "source": [
        "import numpy as np\n",
        "x = np.array([[1, 2, 3], [4, 5, 6], [7, 8, 9], [10, 11, 12]])\n",
        "v = np. array([1, 0 ,1])\n",
        "y = x + v #add v to each row of x using broadcasting\n",
        "print(y)"
      ],
      "execution_count": 59,
      "outputs": [
        {
          "output_type": "stream",
          "text": [
            "[[ 2  2  4]\n",
            " [ 5  5  7]\n",
            " [ 8  8 10]\n",
            " [11 11 13]]\n"
          ],
          "name": "stdout"
        }
      ]
    },
    {
      "cell_type": "markdown",
      "metadata": {
        "id": "tcvD-kLPUxw2",
        "colab_type": "text"
      },
      "source": [
        "**The line y = x + v works even though x has shape (4, 3) and v has shape (3,) due to broadcasting; this line works as if v actually had shape (4, 3), where each row was a copy of v, and the sum was performed elementwise.**\n",
        "\n",
        "**Broadcasting two arrays together follows these rules:**\n",
        "\n",
        "**If the arrays do not have the same rank, prepend the shape of the lower rank array with 1s until both shapes have the same length.**\n",
        "\n",
        "**The two arrays are said to be compatible in a dimension if they have the same size in the dimension, or if one of the arrays has size 1 in that dimension.**\n",
        "\n",
        "**The arrays can be broadcast together if they are compatible in all dimensions.**\n",
        "\n",
        "**After broadcasting, each array behaves as if it had shape equal to the elementwise maximum of shapes of the two input arrays.**\n",
        "\n",
        "**In any dimension where one array had size 1 and the other array had size greater than 1, the first array behaves as if it were copied along that dimension**"
      ]
    },
    {
      "cell_type": "code",
      "metadata": {
        "id": "6ZlQuGjSUosv",
        "colab_type": "code",
        "colab": {}
      },
      "source": [
        "import numpy as np\n",
        "v = np.array([1, 2, 3])\n",
        "w = np.array([4, 5])\n",
        "#to compute an outer product, we first reshape v to a column\n",
        "#vector of shape(3, 1); we can broadast it against w to yield\n",
        "#an output of shape (3, 2), which is the outer prodcut of v and w\n",
        "\n",
        "print(np.reshape(v, (3, 1) * w))\n",
        "#add a vector to each row of a matrix\n",
        "x = np.array([[1, 2, 3], [4, 5, 6]])\n",
        "print(x + v)\n",
        "\n"
      ],
      "execution_count": 0,
      "outputs": []
    }
  ]
}