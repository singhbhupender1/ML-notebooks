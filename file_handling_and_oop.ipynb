{
  "nbformat": 4,
  "nbformat_minor": 0,
  "metadata": {
    "colab": {
      "name": "file handling and oop.ipynb",
      "provenance": [],
      "authorship_tag": "ABX9TyNJylk/PAj/5ADVwI/nGd2C",
      "include_colab_link": true
    },
    "kernelspec": {
      "name": "python3",
      "display_name": "Python 3"
    }
  },
  "cells": [
    {
      "cell_type": "markdown",
      "metadata": {
        "id": "view-in-github",
        "colab_type": "text"
      },
      "source": [
        "<a href=\"https://colab.research.google.com/github/singhbhupender1/ML-notebooks/blob/master/file_handling_and_oop.ipynb\" target=\"_parent\"><img src=\"https://colab.research.google.com/assets/colab-badge.svg\" alt=\"Open In Colab\"/></a>"
      ]
    },
    {
      "cell_type": "markdown",
      "metadata": {
        "id": "ff4MNeDs7Iij",
        "colab_type": "text"
      },
      "source": [
        "#writing a text file in python"
      ]
    },
    {
      "cell_type": "code",
      "metadata": {
        "id": "fMiVLxk_2Umi",
        "colab_type": "code",
        "colab": {}
      },
      "source": [
        "file = open(\"testfile.txt\", 'w')\n",
        "file.write(\"Hello world\")\n",
        "file.write(\"this is our new text file\")\n",
        "file.write(\"and this is another lien\")\n",
        "file.write(\"why? because we can\")\n",
        "file.close()"
      ],
      "execution_count": 0,
      "outputs": []
    },
    {
      "cell_type": "code",
      "metadata": {
        "id": "PSIjj0oe4eR3",
        "colab_type": "code",
        "colab": {
          "base_uri": "https://localhost:8080/",
          "height": 34
        },
        "outputId": "c7849c59-c0d9-4854-95e9-64c6379b4544"
      },
      "source": [
        "!cat testfile.txt"
      ],
      "execution_count": 2,
      "outputs": [
        {
          "output_type": "stream",
          "text": [
            "Hello worldthis is our new text fileand this is another lienwhy? because we can"
          ],
          "name": "stdout"
        }
      ]
    },
    {
      "cell_type": "markdown",
      "metadata": {
        "id": "_M-ULiSH7D-P",
        "colab_type": "text"
      },
      "source": [
        "#reading a text file in python\n",
        "\n"
      ]
    },
    {
      "cell_type": "code",
      "metadata": {
        "id": "rxBBm0R75YGa",
        "colab_type": "code",
        "colab": {
          "base_uri": "https://localhost:8080/",
          "height": 34
        },
        "outputId": "f9af605f-ee1a-43fd-fb61-e2144515f439"
      },
      "source": [
        "file = open(\"testfile.txt\", 'r')\n",
        "print(file.read())"
      ],
      "execution_count": 4,
      "outputs": [
        {
          "output_type": "stream",
          "text": [
            "Hello worldthis is our new text fileand this is another lienwhy? because we can\n"
          ],
          "name": "stdout"
        }
      ]
    },
    {
      "cell_type": "code",
      "metadata": {
        "id": "e9thlTmt6bD-",
        "colab_type": "code",
        "colab": {}
      },
      "source": [
        "file.close()"
      ],
      "execution_count": 0,
      "outputs": []
    },
    {
      "cell_type": "markdown",
      "metadata": {
        "id": "_dIauDUp7RFb",
        "colab_type": "text"
      },
      "source": [
        "this time we specify the number of characters to process"
      ]
    },
    {
      "cell_type": "code",
      "metadata": {
        "id": "eq0Y84_g6u3F",
        "colab_type": "code",
        "colab": {
          "base_uri": "https://localhost:8080/",
          "height": 34
        },
        "outputId": "987580cc-0ec9-44f8-8dfb-99d114b81315"
      },
      "source": [
        "file = open('testfile.txt', 'r')\n",
        "print(file.read(5))\n",
        "file.close()"
      ],
      "execution_count": 13,
      "outputs": [
        {
          "output_type": "stream",
          "text": [
            "Hello\n"
          ],
          "name": "stdout"
        }
      ]
    },
    {
      "cell_type": "markdown",
      "metadata": {
        "id": "phfUOB2Y7kBf",
        "colab_type": "text"
      },
      "source": [
        "If you want to read a file line by line – as opposed to pulling the content of the entire file at once – then you use the readline() function. "
      ]
    },
    {
      "cell_type": "code",
      "metadata": {
        "id": "rN-YYSzS7WzZ",
        "colab_type": "code",
        "colab": {
          "base_uri": "https://localhost:8080/",
          "height": 34
        },
        "outputId": "1cc16ecd-cd4f-40e2-c44f-0c2b8bc21941"
      },
      "source": [
        "file = open('testfile.txt', 'r')\n",
        "print(file.readline(3))\n",
        "file.close()"
      ],
      "execution_count": 14,
      "outputs": [
        {
          "output_type": "stream",
          "text": [
            "Hel\n"
          ],
          "name": "stdout"
        }
      ]
    },
    {
      "cell_type": "code",
      "metadata": {
        "id": "8pycYBpF7tS5",
        "colab_type": "code",
        "colab": {
          "base_uri": "https://localhost:8080/",
          "height": 54
        },
        "outputId": "33c7cce4-f9d2-4984-bb45-1231a0f96083"
      },
      "source": [
        "file = open('testfile.txt', 'r')\n",
        "print(file.readlines())\n",
        "file.close()"
      ],
      "execution_count": 16,
      "outputs": [
        {
          "output_type": "stream",
          "text": [
            "['Hello worldthis is our new text fileand this is another lienwhy? because we can']\n"
          ],
          "name": "stdout"
        }
      ]
    },
    {
      "cell_type": "markdown",
      "metadata": {
        "id": "JHcHNC_c8agf",
        "colab_type": "text"
      },
      "source": [
        "#Looping over a file object\n",
        "\n"
      ]
    },
    {
      "cell_type": "code",
      "metadata": {
        "id": "xHiXQIPP8HyH",
        "colab_type": "code",
        "colab": {
          "base_uri": "https://localhost:8080/",
          "height": 34
        },
        "outputId": "aac8167c-2ace-4a33-e4da-2a3a6a770df0"
      },
      "source": [
        "file = open('testfile.txt', 'r')\n",
        "for line in file:\n",
        "  print(line)"
      ],
      "execution_count": 17,
      "outputs": [
        {
          "output_type": "stream",
          "text": [
            "Hello worldthis is our new text fileand this is another lienwhy? because we can\n"
          ],
          "name": "stdout"
        }
      ]
    },
    {
      "cell_type": "markdown",
      "metadata": {
        "id": "ubhIscZv9pUq",
        "colab_type": "text"
      },
      "source": [
        "#to append to a file"
      ]
    },
    {
      "cell_type": "code",
      "metadata": {
        "id": "i7Dv3fGa823_",
        "colab_type": "code",
        "colab": {}
      },
      "source": [
        "fh = open('testfile.txt', 'a')\n",
        "fh.write('this is a great append line')\n",
        "fh.close()\n"
      ],
      "execution_count": 0,
      "outputs": []
    },
    {
      "cell_type": "markdown",
      "metadata": {
        "id": "_MZVTyPT-BT1",
        "colab_type": "text"
      },
      "source": [
        "#With Statement\n",
        "One bonus of using this method is that any files opened will be closed automatically after you are done. This leaves less to worry about during cleanup. "
      ]
    },
    {
      "cell_type": "code",
      "metadata": {
        "id": "0bAUN_lD905D",
        "colab_type": "code",
        "colab": {
          "base_uri": "https://localhost:8080/",
          "height": 54
        },
        "outputId": "b9f89156-d5bd-435d-bcc7-e1c4e4a6a736"
      },
      "source": [
        "with open('testfile.txt') as file:\n",
        "  data = file.read()\n",
        "  print(data)"
      ],
      "execution_count": 19,
      "outputs": [
        {
          "output_type": "stream",
          "text": [
            "Hello worldthis is our new text fileand this is another lienwhy? because we canthis is a great append line\n"
          ],
          "name": "stdout"
        }
      ]
    },
    {
      "cell_type": "code",
      "metadata": {
        "id": "bIYLW_Eh_NnK",
        "colab_type": "code",
        "colab": {
          "base_uri": "https://localhost:8080/",
          "height": 54
        },
        "outputId": "374ef6aa-5537-4c88-f0f7-7810aef264fb"
      },
      "source": [
        "with open('testfile.txt') as file:\n",
        "  for line in file:\n",
        "    print(line)"
      ],
      "execution_count": 22,
      "outputs": [
        {
          "output_type": "stream",
          "text": [
            "Hello worldthis is our new text fileand this is another lienwhy? because we canthis is a great append line\n"
          ],
          "name": "stdout"
        }
      ]
    },
    {
      "cell_type": "code",
      "metadata": {
        "id": "JrrUiu9g_Ypv",
        "colab_type": "code",
        "colab": {
          "base_uri": "https://localhost:8080/",
          "height": 54
        },
        "outputId": "ccc25eb6-ef00-4ee2-972f-8930579a8a96"
      },
      "source": [
        "with open('testfile.txt') as f:\n",
        "  data = f.readlines()\n",
        "\n",
        "  for line in data:\n",
        "    words = line.split()\n",
        "    print(words)"
      ],
      "execution_count": 29,
      "outputs": [
        {
          "output_type": "stream",
          "text": [
            "['Hello', 'worldthis', 'is', 'our', 'new', 'text', 'fileand', 'this', 'is', 'another', 'lienwhy?', 'because', 'we', 'canthis', 'is', 'a', 'great', 'append', 'line']\n"
          ],
          "name": "stdout"
        }
      ]
    },
    {
      "cell_type": "code",
      "metadata": {
        "id": "Usld2r8O_9b0",
        "colab_type": "code",
        "colab": {}
      },
      "source": [
        "new_file = open('nufile.txt', mode = 'w', encoding='utf-8')\n",
        "new_file.write(\"Writing to a new file\\n\")\n",
        "new_file.write(\"Writing to a new file\\n\")\n",
        "new_file.write(\"Writing to a new file\\n\")\n",
        "new_file.close()"
      ],
      "execution_count": 0,
      "outputs": []
    },
    {
      "cell_type": "code",
      "metadata": {
        "id": "sLMNU5lkBOnh",
        "colab_type": "code",
        "colab": {
          "base_uri": "https://localhost:8080/",
          "height": 420
        },
        "outputId": "8398749d-a161-42d1-d023-8554d809445a"
      },
      "source": [
        "fruits = ['orange\\n', 'apple\\n', 'banana\\n']\n",
        "new_file = open('nufile.txt', mode='a+', encoding='utf-8')\n",
        "new_file.writelines(fruits)\n",
        "new_file.seek(0)\n",
        "for line in new_file:\n",
        "  print(line)\n",
        "new_file.close()"
      ],
      "execution_count": 34,
      "outputs": [
        {
          "output_type": "stream",
          "text": [
            "Writing to a new file\n",
            "\n",
            "Writing to a new file\n",
            "\n",
            "Writing to a new file\n",
            "\n",
            "orange\n",
            "\n",
            "apple\n",
            "\n",
            "banana\n",
            "\n",
            "orange\n",
            "\n",
            "apple\n",
            "\n",
            "banana\n",
            "\n",
            "orange\n",
            "\n",
            "apple\n",
            "\n",
            "banana\n",
            "\n"
          ],
          "name": "stdout"
        }
      ]
    },
    {
      "cell_type": "code",
      "metadata": {
        "id": "W8NBD-UfCRMI",
        "colab_type": "code",
        "colab": {
          "base_uri": "https://localhost:8080/",
          "height": 168
        },
        "outputId": "ac6eda13-8178-4e63-baf8-7b6761df548f"
      },
      "source": [
        "!cat nufile.txt"
      ],
      "execution_count": 33,
      "outputs": [
        {
          "output_type": "stream",
          "text": [
            "Writing to a new file\n",
            "Writing to a new file\n",
            "Writing to a new file\n",
            "orange\n",
            "apple\n",
            "banana\n",
            "orange\n",
            "apple\n",
            "banana\n"
          ],
          "name": "stdout"
        }
      ]
    },
    {
      "cell_type": "code",
      "metadata": {
        "id": "7K9HQizWCdOm",
        "colab_type": "code",
        "colab": {
          "base_uri": "https://localhost:8080/",
          "height": 34
        },
        "outputId": "951b3767-d288-4994-8d62-c48896e1a3f3"
      },
      "source": [
        "import json\n",
        "my_data=[\"Hafsa Jabeen\",\"Reading and writing files in python\",78546]\n",
        "json.dumps(my_data)"
      ],
      "execution_count": 36,
      "outputs": [
        {
          "output_type": "execute_result",
          "data": {
            "text/plain": [
              "'[\"Hafsa Jabeen\", \"Reading and writing files in python\", 78546]'"
            ]
          },
          "metadata": {
            "tags": []
          },
          "execution_count": 36
        }
      ]
    },
    {
      "cell_type": "markdown",
      "metadata": {
        "id": "lb-IeZRuE5f_",
        "colab_type": "text"
      },
      "source": [
        "To write the JSON in a file, you can use the .dump() method:"
      ]
    },
    {
      "cell_type": "code",
      "metadata": {
        "id": "ra4iG85YD-7S",
        "colab_type": "code",
        "colab": {}
      },
      "source": [
        "with open('jsonfiel.json', 'w') as f:\n",
        "  json.dump(my_data, f)\n",
        "f.close()"
      ],
      "execution_count": 0,
      "outputs": []
    },
    {
      "cell_type": "markdown",
      "metadata": {
        "id": "GYvF3BZgGmud",
        "colab_type": "text"
      },
      "source": [
        "If a JSON file is opened for reading, you can decode it with load(file) as follows:"
      ]
    },
    {
      "cell_type": "code",
      "metadata": {
        "id": "bp09YrO2FDp1",
        "colab_type": "code",
        "colab": {
          "base_uri": "https://localhost:8080/",
          "height": 34
        },
        "outputId": "4c7d5fac-0fd2-4bac-9622-b42b9347cc48"
      },
      "source": [
        "with open('jsonfiel.json', 'r') as f:\n",
        "  jsondata = json.load(f)\n",
        "  print(jsondata)\n",
        "\n",
        "f.close()"
      ],
      "execution_count": 39,
      "outputs": [
        {
          "output_type": "stream",
          "text": [
            "['Hafsa Jabeen', 'Reading and writing files in python', 78546]\n"
          ],
          "name": "stdout"
        }
      ]
    },
    {
      "cell_type": "code",
      "metadata": {
        "id": "ddioIrjAGtB_",
        "colab_type": "code",
        "colab": {}
      },
      "source": [
        "#os.makedirs() create a new folder\n",
        "#os.listdir() list the contents of a folder\n",
        "#os.getcwd() show current working directory\n",
        "#os.path.getsize() show file size in bytes of afile passed in parameter\n",
        "#os.path.isfile() is passed parmeter a file?\n",
        "#os.path.isdir() is passed parameter a folder?\n",
        "#os.chdir change directory/dolder\n",
        "#os.rename(current, new) rename afile\n",
        "#os.remove delete a file\n"
      ],
      "execution_count": 0,
      "outputs": []
    },
    {
      "cell_type": "code",
      "metadata": {
        "id": "szKu2n4JNDYo",
        "colab_type": "code",
        "colab": {
          "base_uri": "https://localhost:8080/",
          "height": 34
        },
        "outputId": "31286b2f-6807-4b1c-c9a1-148b806fa9f0"
      },
      "source": [
        "import os\n",
        "os.getcwd()"
      ],
      "execution_count": 40,
      "outputs": [
        {
          "output_type": "execute_result",
          "data": {
            "text/plain": [
              "'/content'"
            ]
          },
          "metadata": {
            "tags": []
          },
          "execution_count": 40
        }
      ]
    },
    {
      "cell_type": "code",
      "metadata": {
        "id": "Ie01mxWrNHsJ",
        "colab_type": "code",
        "colab": {}
      },
      "source": [
        "os.makedirs('\\test_folder')"
      ],
      "execution_count": 0,
      "outputs": []
    },
    {
      "cell_type": "markdown",
      "metadata": {
        "id": "l8Uc5LcpT3mB",
        "colab_type": "text"
      },
      "source": [
        "#OOP in python\n"
      ]
    },
    {
      "cell_type": "code",
      "metadata": {
        "id": "8yHFwdRRNO9i",
        "colab_type": "code",
        "colab": {}
      },
      "source": [
        "class Dog:\n",
        "  def __init__(self, name, age):\n",
        "    self.name = name\n",
        "    self.age = age"
      ],
      "execution_count": 0,
      "outputs": []
    },
    {
      "cell_type": "code",
      "metadata": {
        "id": "iLa_NdnNUCMS",
        "colab_type": "code",
        "colab": {}
      },
      "source": [
        "ozzy = Dog('lucy', 3)"
      ],
      "execution_count": 0,
      "outputs": []
    },
    {
      "cell_type": "markdown",
      "metadata": {
        "id": "RmSSAStTUNUu",
        "colab_type": "text"
      },
      "source": [
        "To access an object's attributes in Python, you can use the dot notation. This is done by typing the name of the object, followed by a dot and the attribute's name"
      ]
    },
    {
      "cell_type": "code",
      "metadata": {
        "id": "q1mJzHOIUJpK",
        "colab_type": "code",
        "colab": {
          "base_uri": "https://localhost:8080/",
          "height": 34
        },
        "outputId": "b332c503-2c1e-4a8c-dc56-ec7b326b908b"
      },
      "source": [
        "print(ozzy.name)"
      ],
      "execution_count": 44,
      "outputs": [
        {
          "output_type": "stream",
          "text": [
            "lucy\n"
          ],
          "name": "stdout"
        }
      ]
    },
    {
      "cell_type": "markdown",
      "metadata": {
        "id": "QXX2eFFeUfMK",
        "colab_type": "text"
      },
      "source": [
        "Define methods in a class\n",
        "Now that you have aDog class, it does have a name and age which you can keep track of, but it doesn't actually do anything. This is where instance methods come in. You can rewrite the class to now include a bark() method. Notice how the def keyword is used again, as well as the self argument."
      ]
    },
    {
      "cell_type": "code",
      "metadata": {
        "id": "JLr6VwwCUUZ8",
        "colab_type": "code",
        "colab": {}
      },
      "source": [
        "class Dog:\n",
        "  def __init__(self, name, age):\n",
        "    self.name = name\n",
        "    self.age = age\n",
        "\n",
        "  def bark(self):\n",
        "    print(\"bark bark!\")"
      ],
      "execution_count": 0,
      "outputs": []
    },
    {
      "cell_type": "markdown",
      "metadata": {
        "id": "Trj0F8qsU9V3",
        "colab_type": "text"
      },
      "source": [
        "The bark method can now be called using the dot notation, after instantiating a new ozzy object.\n",
        "Notice the parentheses (curly brackets) in .bark(). These are always used when calling a method. They're empty in this case, since the bark() method does not take any arguments."
      ]
    },
    {
      "cell_type": "code",
      "metadata": {
        "id": "cvdxuFOAUxUO",
        "colab_type": "code",
        "colab": {
          "base_uri": "https://localhost:8080/",
          "height": 34
        },
        "outputId": "20c43f66-be14-427b-e4bd-db47f78c7500"
      },
      "source": [
        "ozzy = Dog('rambo', 10)\n",
        "ozzy.bark()"
      ],
      "execution_count": 47,
      "outputs": [
        {
          "output_type": "stream",
          "text": [
            "bark bark!\n"
          ],
          "name": "stdout"
        }
      ]
    },
    {
      "cell_type": "markdown",
      "metadata": {
        "id": "kCMLVwh-VddD",
        "colab_type": "text"
      },
      "source": [
        "Recall how you printed ozzy earlier? The code below now implements this functionality in the Dog class, with the doginfo() method. You then instantiate some objects with different properties, and call the method on them."
      ]
    },
    {
      "cell_type": "code",
      "metadata": {
        "id": "UhKYbY7GU0UA",
        "colab_type": "code",
        "colab": {}
      },
      "source": [
        "class Dog:\n",
        "  def __init__(self, name, age):\n",
        "    self.name = name\n",
        "    self.age = age\n",
        "\n",
        "  def bark(self):\n",
        "    print(\"bark bark!\")\n",
        "\n",
        "  def doginfo(self):\n",
        "    print(self.name + ' is ' + str(self.age) + ' year old!')\n",
        "  "
      ],
      "execution_count": 0,
      "outputs": []
    },
    {
      "cell_type": "code",
      "metadata": {
        "id": "WMn64pp7VvXT",
        "colab_type": "code",
        "colab": {
          "base_uri": "https://localhost:8080/",
          "height": 34
        },
        "outputId": "38d4325f-41d5-408b-a1ac-2468a313eb1d"
      },
      "source": [
        "ozzy = Dog('pup', 3)\n",
        "ozzy.doginfo()"
      ],
      "execution_count": 54,
      "outputs": [
        {
          "output_type": "stream",
          "text": [
            "pup is 3 year old!\n"
          ],
          "name": "stdout"
        }
      ]
    },
    {
      "cell_type": "code",
      "metadata": {
        "id": "92CCWLAdVzW2",
        "colab_type": "code",
        "colab": {}
      },
      "source": [
        "ozzy.age = 5"
      ],
      "execution_count": 0,
      "outputs": []
    },
    {
      "cell_type": "code",
      "metadata": {
        "id": "Dde_GBgOWIxq",
        "colab_type": "code",
        "colab": {
          "base_uri": "https://localhost:8080/",
          "height": 34
        },
        "outputId": "83ae4d13-e774-404d-9ca0-7dd7032194d9"
      },
      "source": [
        "ozzy.doginfo()"
      ],
      "execution_count": 58,
      "outputs": [
        {
          "output_type": "stream",
          "text": [
            "pup is 5 year old!\n"
          ],
          "name": "stdout"
        }
      ]
    },
    {
      "cell_type": "markdown",
      "metadata": {
        "id": "zKih2cLQWYaK",
        "colab_type": "text"
      },
      "source": [
        "#Passing arguments to methods\n",
        "\n",
        "Take a look at the setBuddy() method below. It takes self, as per usual, and buddy as arguments. In this case, buddy will be another Dog object. Set the self.buddy attribute to buddy, and the buddy.buddy attribute to self. This means that the relationship is reciprocal; you are your buddy's buddy. In this case, Filou will be Ozzy's buddy, which means that Ozzy automatically becomes Filou's buddy."
      ]
    },
    {
      "cell_type": "code",
      "metadata": {
        "id": "MRc6hlPjWK4F",
        "colab_type": "code",
        "colab": {}
      },
      "source": [
        "class Dog:\n",
        "  def __init__(self, name, age):\n",
        "    self.name = name\n",
        "    self.age = age\n",
        "\n",
        "  def bark(self):\n",
        "    print(\"bark bark!\")\n",
        "\n",
        "  def doginfo(self):\n",
        "    print(self.name + ' is ' + str(self.age) + ' year old!')\n",
        "\n",
        "  def birthday(self):\n",
        "    self.age += 1\n",
        "\n",
        "  def setBuddy(self, buddy):\n",
        "    self.buddy = buddy\n",
        "    buddy.buddy = self"
      ],
      "execution_count": 0,
      "outputs": []
    },
    {
      "cell_type": "markdown",
      "metadata": {
        "id": "eP2dAnEiXnfh",
        "colab_type": "text"
      },
      "source": [
        "You can now call the method with the dot notation, and pass it another Dog object. In this case, Ozzy's buddy will be Filou:"
      ]
    },
    {
      "cell_type": "code",
      "metadata": {
        "id": "o4xyXQf6Xk5U",
        "colab_type": "code",
        "colab": {}
      },
      "source": [
        "ozzy = Dog('Ozzy', 2)\n",
        "filou = Dog('Filou', 8)\n",
        "\n",
        "ozzy.setBuddy(filou)"
      ],
      "execution_count": 0,
      "outputs": []
    },
    {
      "cell_type": "markdown",
      "metadata": {
        "id": "JP7ie39xX-5A",
        "colab_type": "text"
      },
      "source": [
        "f you now want to get some information about Ozzy's buddy, you can use the dot notation twice:. First, to refer to Ozzy's buddy, and a second time to refer to its attribute.\n"
      ]
    },
    {
      "cell_type": "code",
      "metadata": {
        "id": "VPow4ZDXX5wT",
        "colab_type": "code",
        "colab": {
          "base_uri": "https://localhost:8080/",
          "height": 50
        },
        "outputId": "2f2ad5cb-265a-441b-973c-b62f001936b3"
      },
      "source": [
        "print(ozzy.buddy.name)\n",
        "print(ozzy.buddy.age)"
      ],
      "execution_count": 62,
      "outputs": [
        {
          "output_type": "stream",
          "text": [
            "Filou\n",
            "8\n"
          ],
          "name": "stdout"
        }
      ]
    },
    {
      "cell_type": "code",
      "metadata": {
        "id": "tBHkAr7sZb3r",
        "colab_type": "code",
        "colab": {
          "base_uri": "https://localhost:8080/",
          "height": 34
        },
        "outputId": "b993adb2-1738-488e-c7f1-63b01fe79c05"
      },
      "source": [
        "print(filou.buddy.age)"
      ],
      "execution_count": 63,
      "outputs": [
        {
          "output_type": "stream",
          "text": [
            "2\n"
          ],
          "name": "stdout"
        }
      ]
    },
    {
      "cell_type": "markdown",
      "metadata": {
        "id": "VDp3BRimZj62",
        "colab_type": "text"
      },
      "source": [
        "The buddy's methods can also be called. The self argument that gets passed to doginfo() is now ozzy.buddy, which is filou."
      ]
    },
    {
      "cell_type": "code",
      "metadata": {
        "id": "52SdDqmuZfvd",
        "colab_type": "code",
        "colab": {
          "base_uri": "https://localhost:8080/",
          "height": 34
        },
        "outputId": "dec595f9-36c6-4c6c-c21e-1b108ff368d1"
      },
      "source": [
        "ozzy.buddy.doginfo()"
      ],
      "execution_count": 64,
      "outputs": [
        {
          "output_type": "stream",
          "text": [
            "Filou is 8 year old!\n"
          ],
          "name": "stdout"
        }
      ]
    },
    {
      "cell_type": "code",
      "metadata": {
        "id": "RDHeBIfsbEtD",
        "colab_type": "code",
        "colab": {
          "base_uri": "https://localhost:8080/",
          "height": 34
        },
        "outputId": "0dd11ce3-a2a8-4696-e1b2-4f565950e763"
      },
      "source": [
        "list_numbers = [3, 1, 2, 3, 3, 4, 5, 6, 3, 7, 8, 9, 10]\n",
        "g = (i for i, n in enumerate(list_numbers) if n == 3)#generatefuction}|\n",
        "print(\"generate store values, the first value here is:\", next(g), \"the next value is \", next(g))"
      ],
      "execution_count": 67,
      "outputs": [
        {
          "output_type": "stream",
          "text": [
            "generate store values, the first value here is: 0 the next value is  3\n"
          ],
          "name": "stdout"
        }
      ]
    },
    {
      "cell_type": "code",
      "metadata": {
        "id": "23QQNSnlrWfc",
        "colab_type": "code",
        "colab": {}
      },
      "source": [
        ""
      ],
      "execution_count": 0,
      "outputs": []
    }
  ]
}