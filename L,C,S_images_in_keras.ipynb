{
  "nbformat": 4,
  "nbformat_minor": 0,
  "metadata": {
    "colab": {
      "name": "L,C,S images in keras.ipynb",
      "provenance": [],
      "include_colab_link": true
    },
    "kernelspec": {
      "name": "python3",
      "display_name": "Python 3"
    },
    "accelerator": "GPU"
  },
  "cells": [
    {
      "cell_type": "markdown",
      "metadata": {
        "id": "view-in-github",
        "colab_type": "text"
      },
      "source": [
        "<a href=\"https://colab.research.google.com/github/singhbhupender1/ML-notebooks/blob/master/L%2CC%2CS_images_in_keras.ipynb\" target=\"_parent\"><img src=\"https://colab.research.google.com/assets/colab-badge.svg\" alt=\"Open In Colab\"/></a>"
      ]
    },
    {
      "cell_type": "markdown",
      "metadata": {
        "id": "blKSsbjBb5Ss",
        "colab_type": "text"
      },
      "source": [
        "##How to load an Image with Keras"
      ]
    },
    {
      "cell_type": "markdown",
      "metadata": {
        "id": "gMe-GQ2fcAmS",
        "colab_type": "text"
      },
      "source": [
        "**Keras provides the load_img() function for loading an image from file as a PIL image object.**"
      ]
    },
    {
      "cell_type": "code",
      "metadata": {
        "id": "07PUDdXLZVL0",
        "colab_type": "code",
        "colab": {
          "base_uri": "https://localhost:8080/",
          "height": 84
        },
        "outputId": "1719b9fa-9cb8-48cb-f916-69ba1048e1ac"
      },
      "source": [
        "#example of loading an image with Keras API\n",
        "from keras.preprocessing.image import load_img\n",
        "from urllib.request import urlopen\n",
        "#load the image\n",
        "url = 'https://3qeqpr26caki16dnhd19sv6by6v-wpengine.netdna-ssl.com/wp-content/uploads/2019/01/bondi_beach.jpg'\n",
        "img = load_img(urlopen(url))\n",
        "#report details about the image\n",
        "print(type(img))\n",
        "print(img.format)\n",
        "print(img.mode)\n",
        "print(img.size)\n",
        "#show the image\n",
        "img.show()"
      ],
      "execution_count": 2,
      "outputs": [
        {
          "output_type": "stream",
          "text": [
            "<class 'PIL.JpegImagePlugin.JpegImageFile'>\n",
            "JPEG\n",
            "RGB\n",
            "(640, 427)\n"
          ],
          "name": "stdout"
        }
      ]
    },
    {
      "cell_type": "markdown",
      "metadata": {
        "id": "hDyzVTrDkAPA",
        "colab_type": "text"
      },
      "source": [
        "**The load_img() function provides additional arguments that may be useful when loading the image, such as ‘grayscale‘ that allows the image to be loaded in grayscale (defaults to False), ‘color_mode‘ that allows the image mode or channel format to be specified (defaults to rgb), and ‘target_size‘ that allows a tuple of (height, width) to be specified, resizing the image automatically after being loaded.**"
      ]
    },
    {
      "cell_type": "markdown",
      "metadata": {
        "id": "cDl3N29Oke70",
        "colab_type": "text"
      },
      "source": [
        "##How to Convert an Image With Keras"
      ]
    },
    {
      "cell_type": "markdown",
      "metadata": {
        "id": "xx_tySHWkkb8",
        "colab_type": "text"
      },
      "source": [
        "**Keras provides the img_to_array() function for converting a loaded image in PIL format into a NumPy array for use with deep learning models.**"
      ]
    },
    {
      "cell_type": "markdown",
      "metadata": {
        "id": "dKHj26Ipl8P3",
        "colab_type": "text"
      },
      "source": [
        "**The API also provides the array_to_img() function that can be used for converting a NumPy array of pixel data into a PIL image. This can be useful if the pixel data is modified while the image is in array format and can then be saved or viewed.**"
      ]
    },
    {
      "cell_type": "code",
      "metadata": {
        "id": "YAfFIUBIcMwu",
        "colab_type": "code",
        "colab": {
          "base_uri": "https://localhost:8080/",
          "height": 84
        },
        "outputId": "20536b7f-596e-44c4-f98f-2083bce793b3"
      },
      "source": [
        "#example of converting an image with the Keras API\n",
        "from keras.preprocessing.image import load_img\n",
        "from keras.preprocessing.image import img_to_array\n",
        "from keras.preprocessing.image import array_to_img\n",
        "from urllib.request import urlopen\n",
        "#load the image\n",
        "url = 'https://3qeqpr26caki16dnhd19sv6by6v-wpengine.netdna-ssl.com/wp-content/uploads/2019/01/bondi_beach.jpg'\n",
        "img = load_img(urlopen(url))\n",
        "print(type(img))\n",
        "#convert to numpy array\n",
        "img_array = img_to_array(img)\n",
        "print(img_array.dtype)\n",
        "print(img_array.shape)\n",
        "#convert back to image\n",
        "img_pil = array_to_img(img_array)\n",
        "print(type(img_pil))\n"
      ],
      "execution_count": 6,
      "outputs": [
        {
          "output_type": "stream",
          "text": [
            "<class 'PIL.JpegImagePlugin.JpegImageFile'>\n",
            "float32\n",
            "(427, 640, 3)\n",
            "<class 'PIL.Image.Image'>\n"
          ],
          "name": "stdout"
        }
      ]
    },
    {
      "cell_type": "markdown",
      "metadata": {
        "id": "x0JMD_FcnOyH",
        "colab_type": "text"
      },
      "source": [
        "##How to Save Image With Keras"
      ]
    },
    {
      "cell_type": "markdown",
      "metadata": {
        "id": "p3CB1yTRnbUt",
        "colab_type": "text"
      },
      "source": [
        "**The Keras API also provides the save_img() function to save an image to file.\n",
        "The function takes the path to save the image, and the image data in NumPy array format. The file format is inferred from the filename, but can also be specified via the ‘file_format‘ argument.\n",
        "This can be useful if you have manipulated image pixel data, such as scaling, and wish to save the image for later use.**"
      ]
    },
    {
      "cell_type": "code",
      "metadata": {
        "id": "IXME9tF6mJNK",
        "colab_type": "code",
        "colab": {
          "base_uri": "https://localhost:8080/",
          "height": 138
        },
        "outputId": "38e0999f-cb3b-409d-e635-aa5b473fecd2"
      },
      "source": [
        "#example of saving an image with the Keras API\n",
        "from keras.preprocessing.image import load_img\n",
        "from keras.preprocessing.image import save_img\n",
        "from keras.preprocessing.image import img_to_array\n",
        "from urllib.request import urlopen\n",
        "#load image in greyscale\n",
        "url = 'https://3qeqpr26caki16dnhd19sv6by6v-wpengine.netdna-ssl.com/wp-content/uploads/2019/01/bondi_beach.jpg'\n",
        "img = load_img(urlopen(url), grayscale=True, target_size=(150, 150))\n",
        "#convert image to numpy array\n",
        "img_array = img_to_array(img)\n",
        "#save th image with a new filename\n",
        "save_img('bondi_beach_greyscale.jpg', img_array)\n",
        "img = load_img('bondi_beach_greyscale.jpg')\n",
        "print(type(img))\n",
        "print(img.format)\n",
        "print(img.mode)\n",
        "print(img.size)\n",
        "img.show()"
      ],
      "execution_count": 8,
      "outputs": [
        {
          "output_type": "stream",
          "text": [
            "<class 'PIL.Image.Image'>\n",
            "None\n",
            "RGB\n",
            "(150, 150)\n"
          ],
          "name": "stdout"
        },
        {
          "output_type": "stream",
          "text": [
            "/usr/local/lib/python3.6/dist-packages/keras_preprocessing/image/utils.py:104: UserWarning: grayscale is deprecated. Please use color_mode = \"grayscale\"\n",
            "  warnings.warn('grayscale is deprecated. Please use '\n"
          ],
          "name": "stderr"
        }
      ]
    },
    {
      "cell_type": "code",
      "metadata": {
        "id": "U-I86xy1pyrx",
        "colab_type": "code",
        "colab": {}
      },
      "source": [
        ""
      ],
      "execution_count": 0,
      "outputs": []
    }
  ]
}